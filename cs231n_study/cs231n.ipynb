{
 "cells": [
  {
   "cell_type": "code",
   "execution_count": null,
   "metadata": {},
   "outputs": [],
   "source": [
    "# This is an example of training a 5-layers network with 50 units in each hidden layer.\n",
    "# You need to adjust the following things:\n",
    "#   - the number of layers\n",
    "#   - the number of hidden units\n",
    "#   - learning rate\n",
    "#   - lambda_reg\n",
    "#   - weight scale\n",
    "#   - batch_size\n",
    "#   - num_epoch\n",
    "#   - ......\n",
    "#  Revise this example for training your model.\n",
    "from __future__ import print_function\n",
    "import numpy as np\n",
    "import matplotlib.pyplot as plt\n",
    "\n",
    "from data_utils import get_CIFAR10_data\n",
    "from fcnet import FullyConnectedNet\n",
    "from solver import Solver\n",
    "\n",
    "# get_ipython().magic(u'matplotlib inline')\n",
    "plt.rcParams['figure.figsize'] = (10.0, 8.0)\n",
    "plt.rcParams['image.interpolation'] = 'nearest'\n",
    "plt.rcParams['image.cmap'] = 'gray'\n",
    "\n",
    "# load data\n",
    "data = get_CIFAR10_data()"
   ]
  },
  {
   "cell_type": "code",
   "execution_count": null,
   "metadata": {},
   "outputs": [],
   "source": [
    "def get_model(hidden_dims, input_dims, num_classes, lambda_reg, weight_scle):\n",
    "\n",
    "    # model\n",
    "    model = FullyConnectedNet(hidden_dims=hidden_dims,\n",
    "                              input_dims=input_dims,\n",
    "                              num_classes=num_classes,\n",
    "                              lambda_reg=lambda_reg,\n",
    "                              weight_scale=weight_scale,\n",
    "                              dtype=np.float64)\n",
    "    \n",
    "    return model"
   ]
  },
  {
   "cell_type": "code",
   "execution_count": null,
   "metadata": {},
   "outputs": [],
   "source": [
    "# set up parameters for a model\n",
    "h1, h2, h3, h4 = 100, 100, 100, 100\n",
    "hidden_dims = [h1, h2, h3, h4]\n",
    "# hidden_dims = [h1]\n",
    "input_dims = 3*32*32\n",
    "# h1 = 50\n",
    "# hidden_dims = [h1]\n",
    "num_classes = 10\n",
    "lambda_reg = 0.0\n",
    "# weight_scale = 1e-5\n",
    "# weight_scale = 1e-2\n",
    "weight_scale = 2.461858e-02"
   ]
  },
  {
   "cell_type": "code",
   "execution_count": null,
   "metadata": {},
   "outputs": [],
   "source": [
    "# set up parameters for training\n",
    "update_rule='sgd'\n",
    "learning_rate = 3.113669e-04\n",
    "# learning_rate = 1e-3\n",
    "batch_size=25\n",
    "num_epochs=20\n",
    "print_every=10\n",
    "\n",
    "# solver\n",
    "solver = Solver(model,\n",
    "                data,\n",
    "                update_rule='sgd',\n",
    "                batch_size=25,\n",
    "                num_epochs=20,\n",
    "                print_every=1000,\n",
    "                optim_config={\n",
    "                  'learning_rate': learning_rate,\n",
    "                })\n",
    "\n",
    "# train\n",
    "solver.train()\n",
    "\n",
    "# plot\n",
    "plt.subplot(2, 1, 1)\n",
    "plt.title('Training loss')\n",
    "plt.plot(solver.loss_history, 'o')\n",
    "plt.xlabel('Iteration')\n",
    "plt.subplot(2, 1, 2)\n",
    "plt.title('Accuracy')\n",
    "plt.plot(solver.train_acc_history, '-o', label='train')\n",
    "plt.plot(solver.val_acc_history, '-o', label='val')\n",
    "plt.plot([0.5] * len(solver.val_acc_history), 'k--')\n",
    "plt.xlabel('Epoch')\n",
    "plt.legend(loc='lower right')\n",
    "plt.gcf().set_size_inches(15, 12)\n",
    "plt.show()"
   ]
  }
 ],
 "metadata": {
  "kernelspec": {
   "display_name": "Python 3",
   "language": "python",
   "name": "python3"
  },
  "language_info": {
   "codemirror_mode": {
    "name": "ipython",
    "version": 3
   },
   "file_extension": ".py",
   "mimetype": "text/x-python",
   "name": "python",
   "nbconvert_exporter": "python",
   "pygments_lexer": "ipython3",
   "version": "3.5.4"
  }
 },
 "nbformat": 4,
 "nbformat_minor": 2
}
