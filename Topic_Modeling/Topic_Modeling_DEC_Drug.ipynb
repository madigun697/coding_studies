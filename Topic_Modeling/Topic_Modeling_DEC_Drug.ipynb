{
 "cells": [
  {
   "cell_type": "markdown",
   "metadata": {},
   "source": [
    "# Topic Modeling using DEC(Deep Embedded Clustering)\n",
    "\n",
    "### References\n",
    "\n",
    "* Data: Drug Dataset (400EA)\n",
    "* Preprocess: https://towardsdatascience.com/topic-modeling-and-latent-dirichlet-allocation-in-python-9bf156893c24\n",
    "* DEC: https://github.com/Tony607/Keras_Deep_Clustering/blob/master/Keras-DEC.ipynb"
   ]
  },
  {
   "cell_type": "code",
   "execution_count": 49,
   "metadata": {},
   "outputs": [],
   "source": [
    "from keras.datasets import mnist\n",
    "import numpy as np\n",
    "\n",
    "from keras.models import Model\n",
    "from keras import backend as K\n",
    "from keras import layers\n",
    "from keras.layers import Input, Dense, Conv2D, MaxPooling2D, UpSampling2D, Flatten, Reshape, Conv2DTranspose\n",
    "from keras.models import Model\n",
    "from keras.engine.topology import Layer, InputSpec\n",
    "\n",
    "from sklearn.cluster import KMeans\n",
    "from keras.datasets import mnist\n",
    "from sklearn import metrics\n",
    "\n",
    "np.random.seed(10)"
   ]
  },
  {
   "cell_type": "code",
   "execution_count": 50,
   "metadata": {},
   "outputs": [],
   "source": [
    "def autoencoderConv2D_1(input_shape=(28, 28, 1), filters=[32, 64, 128, 10]):\n",
    "    input_img = Input(shape=input_shape)\n",
    "    if input_shape[0] % 8 == 0:\n",
    "        pad3 = 'same'\n",
    "    else:\n",
    "        pad3 = 'valid'\n",
    "    x = Conv2D(filters[0], 5, strides=2, padding='same', activation='relu', name='conv1', input_shape=input_shape)(input_img)\n",
    "\n",
    "    x = Conv2D(filters[1], 5, strides=2, padding='same', activation='relu', name='conv2')(x)\n",
    "\n",
    "    x = Conv2D(filters[2], 3, strides=2, padding=pad3, activation='relu', name='conv3')(x)\n",
    "\n",
    "    x = Flatten()(x)\n",
    "    encoded = Dense(units=filters[3], name='embedding')(x)\n",
    "    x = Dense(units=filters[2]*int(input_shape[0]/8)*int(input_shape[0]/8), activation='relu')(encoded)\n",
    "\n",
    "    x = Reshape((int(input_shape[0]/8), int(input_shape[0]/8), filters[2]))(x)\n",
    "    x = Conv2DTranspose(filters[1], 3, strides=2, padding=pad3, activation='relu', name='deconv3')(x)\n",
    "\n",
    "    x = Conv2DTranspose(filters[0], 5, strides=2, padding='same', activation='relu', name='deconv2')(x)\n",
    "\n",
    "    decoded = Conv2DTranspose(input_shape[2], 5, strides=2, padding='same', name='deconv1')(x)\n",
    "    return Model(inputs=input_img, outputs=decoded, name='AE'), Model(inputs=input_img, outputs=encoded, name='encoder')"
   ]
  },
  {
   "cell_type": "code",
   "execution_count": 51,
   "metadata": {},
   "outputs": [],
   "source": [
    "class ClusteringLayer(Layer):\n",
    "    \"\"\"\n",
    "    Clustering layer converts input sample (feature) to soft label, i.e. a vector that represents the probability of the\n",
    "    sample belonging to each cluster. The probability is calculated with student's t-distribution.\n",
    "\n",
    "    # Example\n",
    "    ```\n",
    "        model.add(ClusteringLayer(n_clusters=10))\n",
    "    ```\n",
    "    # Arguments\n",
    "        n_clusters: number of clusters.\n",
    "        weights: list of Numpy array with shape `(n_clusters, n_features)` witch represents the initial cluster centers.\n",
    "        alpha: degrees of freedom parameter in Student's t-distribution. Default to 1.0.\n",
    "    # Input shape\n",
    "        2D tensor with shape: `(n_samples, n_features)`.\n",
    "    # Output shape\n",
    "        2D tensor with shape: `(n_samples, n_clusters)`.\n",
    "    \"\"\"\n",
    "\n",
    "    def __init__(self, n_clusters, weights=None, alpha=1.0, **kwargs):\n",
    "        if 'input_shape' not in kwargs and 'input_dim' in kwargs:\n",
    "            kwargs['input_shape'] = (kwargs.pop('input_dim'),)\n",
    "        super(ClusteringLayer, self).__init__(**kwargs)\n",
    "        self.n_clusters = n_clusters\n",
    "        self.alpha = alpha\n",
    "        self.initial_weights = weights\n",
    "        self.input_spec = InputSpec(ndim=2)\n",
    "\n",
    "    def build(self, input_shape):\n",
    "        assert len(input_shape) == 2\n",
    "        input_dim = input_shape[1]\n",
    "        self.input_spec = InputSpec(dtype=K.floatx(), shape=(None, input_dim))\n",
    "        self.clusters = self.add_weight((self.n_clusters, input_dim), initializer='glorot_uniform', name='clusters')\n",
    "        if self.initial_weights is not None:\n",
    "            self.set_weights(self.initial_weights)\n",
    "            del self.initial_weights\n",
    "        self.built = True\n",
    "\n",
    "    def call(self, inputs, **kwargs):\n",
    "        \"\"\" student t-distribution, as same as used in t-SNE algorithm.\n",
    "         Measure the similarity between embedded point z_i and centroid µ_j.\n",
    "                 q_ij = 1/(1+dist(x_i, µ_j)^2), then normalize it.\n",
    "                 q_ij can be interpreted as the probability of assigning sample i to cluster j.\n",
    "                 (i.e., a soft assignment)\n",
    "        Arguments:\n",
    "            inputs: the variable containing data, shape=(n_samples, n_features)\n",
    "        Return:\n",
    "            q: student's t-distribution, or soft labels for each sample. shape=(n_samples, n_clusters)\n",
    "        \"\"\"\n",
    "        q = 1.0 / (1.0 + (K.sum(K.square(K.expand_dims(inputs, axis=1) - self.clusters), axis=2) / self.alpha))\n",
    "        q **= (self.alpha + 1.0) / 2.0\n",
    "        q = K.transpose(K.transpose(q) / K.sum(q, axis=1)) # Make sure each sample's 10 values add up to 1.\n",
    "        return q\n",
    "\n",
    "    def compute_output_shape(self, input_shape):\n",
    "        assert input_shape and len(input_shape) == 2\n",
    "        return input_shape[0], self.n_clusters\n",
    "\n",
    "    def get_config(self):\n",
    "        config = {'n_clusters': self.n_clusters}\n",
    "        base_config = super(ClusteringLayer, self).get_config()\n",
    "        return dict(list(base_config.items()) + list(config.items()))"
   ]
  },
  {
   "cell_type": "code",
   "execution_count": 52,
   "metadata": {},
   "outputs": [],
   "source": [
    "def autoencoder(dims, act='relu', init='glorot_uniform'):\n",
    "    \"\"\"\n",
    "    Fully connected auto-encoder model, symmetric.\n",
    "    Arguments:\n",
    "        dims: list of number of units in each layer of encoder. dims[0] is input dim, dims[-1] is units in hidden layer.\n",
    "            The decoder is symmetric with encoder. So number of layers of the auto-encoder is 2*len(dims)-1\n",
    "        act: activation, not applied to Input, Hidden and Output layers\n",
    "    return:\n",
    "        (ae_model, encoder_model), Model of autoencoder and model of encoder\n",
    "    \"\"\"\n",
    "    n_stacks = len(dims) - 1\n",
    "    # input\n",
    "    input_img = Input(shape=(dims[0],), name='input')\n",
    "    x = input_img\n",
    "    # internal layers in encoder\n",
    "    for i in range(n_stacks-1):\n",
    "        x = Dense(dims[i + 1], activation=act, kernel_initializer=init, name='encoder_%d' % i)(x)\n",
    "\n",
    "    # hidden layer\n",
    "    encoded = Dense(dims[-1], kernel_initializer=init, name='encoder_%d' % (n_stacks - 1))(x)  # hidden layer, features are extracted from here\n",
    "\n",
    "    x = encoded\n",
    "    # internal layers in decoder\n",
    "    for i in range(n_stacks-1, 0, -1):\n",
    "        x = Dense(dims[i], activation=act, kernel_initializer=init, name='decoder_%d' % i)(x)\n",
    "\n",
    "    # output\n",
    "    x = Dense(dims[0], kernel_initializer=init, name='decoder_0')(x)\n",
    "    decoded = x\n",
    "    return Model(inputs=input_img, outputs=decoded, name='AE'), Model(inputs=input_img, outputs=encoded, name='encoder')"
   ]
  },
  {
   "cell_type": "code",
   "execution_count": 53,
   "metadata": {},
   "outputs": [],
   "source": [
    "# computing an auxiliary target distribution\n",
    "def target_distribution(q):\n",
    "    weight = q ** 2 / q.sum(0)\n",
    "    return (weight.T / weight.sum(1)).T"
   ]
  },
  {
   "cell_type": "markdown",
   "metadata": {},
   "source": [
    "----"
   ]
  },
  {
   "cell_type": "markdown",
   "metadata": {
    "colab_type": "text",
    "id": "2_GA1U3fAECz"
   },
   "source": [
    "### Preprocessing"
   ]
  },
  {
   "cell_type": "code",
   "execution_count": 6,
   "metadata": {
    "colab": {},
    "colab_type": "code",
    "id": "Ut-GgvMmTiG6"
   },
   "outputs": [],
   "source": [
    "import pandas as pd\n",
    "\n",
    "pd.set_option('display.max_colwidth', 999)\n",
    "drug_data = pd.read_csv('./mallet_top_sen.tsv', sep='\\t')"
   ]
  },
  {
   "cell_type": "code",
   "execution_count": 7,
   "metadata": {
    "colab": {
     "base_uri": "https://localhost:8080/",
     "height": 197
    },
    "colab_type": "code",
    "executionInfo": {
     "elapsed": 1239,
     "status": "ok",
     "timestamp": 1541566038639,
     "user": {
      "displayName": "유주형",
      "photoUrl": "https://lh5.googleusercontent.com/-fg1dF67RQts/AAAAAAAAAAI/AAAAAAAAeAQ/W4wNdGVPToE/s64/photo.jpg",
      "userId": "03494144523560780027"
     },
     "user_tz": -540
    },
    "id": "B6iJDggyXxMH",
    "outputId": "5391d2f4-6a96-4566-c58e-925f7375d47a"
   },
   "outputs": [
    {
     "data": {
      "text/html": [
       "<div>\n",
       "<style scoped>\n",
       "    .dataframe tbody tr th:only-of-type {\n",
       "        vertical-align: middle;\n",
       "    }\n",
       "\n",
       "    .dataframe tbody tr th {\n",
       "        vertical-align: top;\n",
       "    }\n",
       "\n",
       "    .dataframe thead th {\n",
       "        text-align: right;\n",
       "    }\n",
       "</style>\n",
       "<table border=\"1\" class=\"dataframe\">\n",
       "  <thead>\n",
       "    <tr style=\"text-align: right;\">\n",
       "      <th></th>\n",
       "      <th>Unnamed: 0</th>\n",
       "      <th>id</th>\n",
       "      <th>Topic_Num</th>\n",
       "      <th>Topic_Perc_Contribu</th>\n",
       "      <th>Topic_Keywords</th>\n",
       "      <th>Origin_Text</th>\n",
       "      <th>Text</th>\n",
       "    </tr>\n",
       "  </thead>\n",
       "  <tbody>\n",
       "    <tr>\n",
       "      <th>0</th>\n",
       "      <td>0</td>\n",
       "      <td>44029</td>\n",
       "      <td>0.0</td>\n",
       "      <td>0.2935</td>\n",
       "      <td>analysi, multivari, regress, variabl, model, predictor, cardiac, time, univari, heart</td>\n",
       "      <td>Hazard Ratio  (and 95% Confidence Intervals)  in Univariate and Multivariate Analysis of Predictors of Major Cardiac Events  (Cardiac Death or Worsening of Heart Failure Leading to Heart Transplantation)</td>\n",
       "      <td>['hazard', 'ratio', 'confid', 'interv', 'univari', 'multivari', 'analysi', 'predictor', 'major', 'cardiac', 'event', 'cardiac', 'death', 'worsen', 'heart', 'failur', 'lead', 'heart', 'transplant']</td>\n",
       "    </tr>\n",
       "    <tr>\n",
       "      <th>1</th>\n",
       "      <td>1</td>\n",
       "      <td>23344</td>\n",
       "      <td>0.0</td>\n",
       "      <td>0.2836</td>\n",
       "      <td>analysi, multivari, regress, variabl, model, predictor, cardiac, time, univari, heart</td>\n",
       "      <td>Left Ventricular and Right Ventricular Ejection Fractions, Left Ventricular and Right Ventricular Mean Phases, Left-to-Right Mean Phase Difference  (L-RMP)  and Phase Standard Deviations for Both Ventricles in 30 Cases of Left Sided WPW legend</td>\n",
       "      <td>['leav', 'ventricular', 'right', 'ventricular', 'eject', 'fraction', 'leav', 'ventricular', 'right', 'ventricular', 'mean', 'phase', 'leav', 'right', 'mean', 'phase', 'differ', 'rmp', 'phase', 'standard', 'deviat', 'ventricl', 'case', 'leav', 'side', 'wpw']</td>\n",
       "    </tr>\n",
       "    <tr>\n",
       "      <th>2</th>\n",
       "      <td>2</td>\n",
       "      <td>41163</td>\n",
       "      <td>0.0</td>\n",
       "      <td>0.2817</td>\n",
       "      <td>analysi, multivari, regress, variabl, model, predictor, cardiac, time, univari, heart</td>\n",
       "      <td>Partial Regression Coefficients  (All Subjects, n = 262)  for Forward Stepwise Linear Regression for Dependent Variables Augmentation Pressure and Augmentation Index    legend</td>\n",
       "      <td>['partial', 'regress', 'coeffici', 'subject', 'forward', 'stepwis', 'linear', 'regress', 'depend', 'variabl', 'augment', 'pressur', 'augment', 'index']</td>\n",
       "    </tr>\n",
       "    <tr>\n",
       "      <th>3</th>\n",
       "      <td>3</td>\n",
       "      <td>23343</td>\n",
       "      <td>0.0</td>\n",
       "      <td>0.2797</td>\n",
       "      <td>analysi, multivari, regress, variabl, model, predictor, cardiac, time, univari, heart</td>\n",
       "      <td>Left Ventricular  (LVEF)  and Right Ventricular  (RVEF)  Ejection Fractions, Left Ventricular  (LVMP)  and Right Ventricular  (RVMP)  Mean Phases, Left-to-Right Mean Phase Difference  (L-RMP)  and Phase Standard Deviations  (LVPSD and RVPSD)  for Both Ventricles in 14 Cases of Right Sided WPW legend</td>\n",
       "      <td>['leav', 'ventricular', 'lvef', 'right', 'ventricular', 'rvef', 'eject', 'fraction', 'leav', 'ventricular', 'lvmp', 'right', 'ventricular', 'rvmp', 'mean', 'phase', 'leav', 'right', 'mean', 'phase', 'differ', 'rmp', 'phase', 'standard', 'deviat', 'lvpsd', 'rvpsd', 'ventricl', 'case', 'right', 'side', 'wpw']</td>\n",
       "    </tr>\n",
       "    <tr>\n",
       "      <th>4</th>\n",
       "      <td>4</td>\n",
       "      <td>24968</td>\n",
       "      <td>0.0</td>\n",
       "      <td>0.2782</td>\n",
       "      <td>analysi, multivari, regress, variabl, model, predictor, cardiac, time, univari, heart</td>\n",
       "      <td>Predictors of Mortality by Multivariable Analysis: Variables Are Shown in the Order They Entered a Stepwise Cox Regression Model</td>\n",
       "      <td>['predictor', 'mortal', 'multivari', 'analysi', 'variabl', 'show', 'order', 'enter', 'stepwis', 'cox', 'regress', 'model']</td>\n",
       "    </tr>\n",
       "  </tbody>\n",
       "</table>\n",
       "</div>"
      ],
      "text/plain": [
       "   Unnamed: 0     id  Topic_Num  Topic_Perc_Contribu  \\\n",
       "0           0  44029        0.0               0.2935   \n",
       "1           1  23344        0.0               0.2836   \n",
       "2           2  41163        0.0               0.2817   \n",
       "3           3  23343        0.0               0.2797   \n",
       "4           4  24968        0.0               0.2782   \n",
       "\n",
       "                                                                          Topic_Keywords  \\\n",
       "0  analysi, multivari, regress, variabl, model, predictor, cardiac, time, univari, heart   \n",
       "1  analysi, multivari, regress, variabl, model, predictor, cardiac, time, univari, heart   \n",
       "2  analysi, multivari, regress, variabl, model, predictor, cardiac, time, univari, heart   \n",
       "3  analysi, multivari, regress, variabl, model, predictor, cardiac, time, univari, heart   \n",
       "4  analysi, multivari, regress, variabl, model, predictor, cardiac, time, univari, heart   \n",
       "\n",
       "                                                                                                                                                                                                                                                                                                    Origin_Text  \\\n",
       "0                                                                                                   Hazard Ratio  (and 95% Confidence Intervals)  in Univariate and Multivariate Analysis of Predictors of Major Cardiac Events  (Cardiac Death or Worsening of Heart Failure Leading to Heart Transplantation)   \n",
       "1                                                           Left Ventricular and Right Ventricular Ejection Fractions, Left Ventricular and Right Ventricular Mean Phases, Left-to-Right Mean Phase Difference  (L-RMP)  and Phase Standard Deviations for Both Ventricles in 30 Cases of Left Sided WPW legend   \n",
       "2                                                                                                                               Partial Regression Coefficients  (All Subjects, n = 262)  for Forward Stepwise Linear Regression for Dependent Variables Augmentation Pressure and Augmentation Index    legend   \n",
       "3  Left Ventricular  (LVEF)  and Right Ventricular  (RVEF)  Ejection Fractions, Left Ventricular  (LVMP)  and Right Ventricular  (RVMP)  Mean Phases, Left-to-Right Mean Phase Difference  (L-RMP)  and Phase Standard Deviations  (LVPSD and RVPSD)  for Both Ventricles in 14 Cases of Right Sided WPW legend   \n",
       "4                                                                                                                                                                              Predictors of Mortality by Multivariable Analysis: Variables Are Shown in the Order They Entered a Stepwise Cox Regression Model   \n",
       "\n",
       "                                                                                                                                                                                                                                                                                                                   Text  \n",
       "0                                                                                                                  ['hazard', 'ratio', 'confid', 'interv', 'univari', 'multivari', 'analysi', 'predictor', 'major', 'cardiac', 'event', 'cardiac', 'death', 'worsen', 'heart', 'failur', 'lead', 'heart', 'transplant']  \n",
       "1                                                     ['leav', 'ventricular', 'right', 'ventricular', 'eject', 'fraction', 'leav', 'ventricular', 'right', 'ventricular', 'mean', 'phase', 'leav', 'right', 'mean', 'phase', 'differ', 'rmp', 'phase', 'standard', 'deviat', 'ventricl', 'case', 'leav', 'side', 'wpw']  \n",
       "2                                                                                                                                                               ['partial', 'regress', 'coeffici', 'subject', 'forward', 'stepwis', 'linear', 'regress', 'depend', 'variabl', 'augment', 'pressur', 'augment', 'index']  \n",
       "3  ['leav', 'ventricular', 'lvef', 'right', 'ventricular', 'rvef', 'eject', 'fraction', 'leav', 'ventricular', 'lvmp', 'right', 'ventricular', 'rvmp', 'mean', 'phase', 'leav', 'right', 'mean', 'phase', 'differ', 'rmp', 'phase', 'standard', 'deviat', 'lvpsd', 'rvpsd', 'ventricl', 'case', 'right', 'side', 'wpw']  \n",
       "4                                                                                                                                                                                            ['predictor', 'mortal', 'multivari', 'analysi', 'variabl', 'show', 'order', 'enter', 'stepwis', 'cox', 'regress', 'model']  "
      ]
     },
     "execution_count": 7,
     "metadata": {},
     "output_type": "execute_result"
    }
   ],
   "source": [
    "drug_data.head()"
   ]
  },
  {
   "cell_type": "code",
   "execution_count": 54,
   "metadata": {
    "colab": {
     "base_uri": "https://localhost:8080/",
     "height": 197
    },
    "colab_type": "code",
    "executionInfo": {
     "elapsed": 1256,
     "status": "ok",
     "timestamp": 1541566040044,
     "user": {
      "displayName": "유주형",
      "photoUrl": "https://lh5.googleusercontent.com/-fg1dF67RQts/AAAAAAAAAAI/AAAAAAAAeAQ/W4wNdGVPToE/s64/photo.jpg",
      "userId": "03494144523560780027"
     },
     "user_tz": -540
    },
    "id": "aFIUgkTfZ2Jl",
    "outputId": "a537fb6a-b4a6-4a96-be3e-c4676af07360"
   },
   "outputs": [
    {
     "name": "stderr",
     "output_type": "stream",
     "text": [
      "/Users/gracelee/.pyenv/versions/for_jupyter/lib/python3.5/site-packages/ipykernel_launcher.py:2: SettingWithCopyWarning: \n",
      "A value is trying to be set on a copy of a slice from a DataFrame.\n",
      "Try using .loc[row_indexer,col_indexer] = value instead\n",
      "\n",
      "See the caveats in the documentation: http://pandas.pydata.org/pandas-docs/stable/indexing.html#indexing-view-versus-copy\n",
      "  \n"
     ]
    },
    {
     "data": {
      "text/html": [
       "<div>\n",
       "<style scoped>\n",
       "    .dataframe tbody tr th:only-of-type {\n",
       "        vertical-align: middle;\n",
       "    }\n",
       "\n",
       "    .dataframe tbody tr th {\n",
       "        vertical-align: top;\n",
       "    }\n",
       "\n",
       "    .dataframe thead th {\n",
       "        text-align: right;\n",
       "    }\n",
       "</style>\n",
       "<table border=\"1\" class=\"dataframe\">\n",
       "  <thead>\n",
       "    <tr style=\"text-align: right;\">\n",
       "      <th></th>\n",
       "      <th>Origin_Text</th>\n",
       "      <th>index</th>\n",
       "    </tr>\n",
       "  </thead>\n",
       "  <tbody>\n",
       "    <tr>\n",
       "      <th>0</th>\n",
       "      <td>Hazard Ratio  (and 95% Confidence Intervals)  in Univariate and Multivariate Analysis of Predictors of Major Cardiac Events  (Cardiac Death or Worsening of Heart Failure Leading to Heart Transplantation)</td>\n",
       "      <td>0</td>\n",
       "    </tr>\n",
       "    <tr>\n",
       "      <th>1</th>\n",
       "      <td>Left Ventricular and Right Ventricular Ejection Fractions, Left Ventricular and Right Ventricular Mean Phases, Left-to-Right Mean Phase Difference  (L-RMP)  and Phase Standard Deviations for Both Ventricles in 30 Cases of Left Sided WPW legend</td>\n",
       "      <td>1</td>\n",
       "    </tr>\n",
       "    <tr>\n",
       "      <th>2</th>\n",
       "      <td>Partial Regression Coefficients  (All Subjects, n = 262)  for Forward Stepwise Linear Regression for Dependent Variables Augmentation Pressure and Augmentation Index    legend</td>\n",
       "      <td>2</td>\n",
       "    </tr>\n",
       "    <tr>\n",
       "      <th>3</th>\n",
       "      <td>Left Ventricular  (LVEF)  and Right Ventricular  (RVEF)  Ejection Fractions, Left Ventricular  (LVMP)  and Right Ventricular  (RVMP)  Mean Phases, Left-to-Right Mean Phase Difference  (L-RMP)  and Phase Standard Deviations  (LVPSD and RVPSD)  for Both Ventricles in 14 Cases of Right Sided WPW legend</td>\n",
       "      <td>3</td>\n",
       "    </tr>\n",
       "    <tr>\n",
       "      <th>4</th>\n",
       "      <td>Predictors of Mortality by Multivariable Analysis: Variables Are Shown in the Order They Entered a Stepwise Cox Regression Model</td>\n",
       "      <td>4</td>\n",
       "    </tr>\n",
       "  </tbody>\n",
       "</table>\n",
       "</div>"
      ],
      "text/plain": [
       "                                                                                                                                                                                                                                                                                                    Origin_Text  \\\n",
       "0                                                                                                   Hazard Ratio  (and 95% Confidence Intervals)  in Univariate and Multivariate Analysis of Predictors of Major Cardiac Events  (Cardiac Death or Worsening of Heart Failure Leading to Heart Transplantation)   \n",
       "1                                                           Left Ventricular and Right Ventricular Ejection Fractions, Left Ventricular and Right Ventricular Mean Phases, Left-to-Right Mean Phase Difference  (L-RMP)  and Phase Standard Deviations for Both Ventricles in 30 Cases of Left Sided WPW legend   \n",
       "2                                                                                                                               Partial Regression Coefficients  (All Subjects, n = 262)  for Forward Stepwise Linear Regression for Dependent Variables Augmentation Pressure and Augmentation Index    legend   \n",
       "3  Left Ventricular  (LVEF)  and Right Ventricular  (RVEF)  Ejection Fractions, Left Ventricular  (LVMP)  and Right Ventricular  (RVMP)  Mean Phases, Left-to-Right Mean Phase Difference  (L-RMP)  and Phase Standard Deviations  (LVPSD and RVPSD)  for Both Ventricles in 14 Cases of Right Sided WPW legend   \n",
       "4                                                                                                                                                                              Predictors of Mortality by Multivariable Analysis: Variables Are Shown in the Order They Entered a Stepwise Cox Regression Model   \n",
       "\n",
       "   index  \n",
       "0      0  \n",
       "1      1  \n",
       "2      2  \n",
       "3      3  \n",
       "4      4  "
      ]
     },
     "execution_count": 54,
     "metadata": {},
     "output_type": "execute_result"
    }
   ],
   "source": [
    "data_text = drug_data[['Origin_Text']]\n",
    "data_text['index'] = drug_data[['Unnamed: 0']]\n",
    "documents = data_text\n",
    "documents.head()"
   ]
  },
  {
   "cell_type": "code",
   "execution_count": 55,
   "metadata": {
    "colab": {
     "base_uri": "https://localhost:8080/",
     "height": 70
    },
    "colab_type": "code",
    "executionInfo": {
     "elapsed": 810,
     "status": "ok",
     "timestamp": 1541566041043,
     "user": {
      "displayName": "유주형",
      "photoUrl": "https://lh5.googleusercontent.com/-fg1dF67RQts/AAAAAAAAAAI/AAAAAAAAeAQ/W4wNdGVPToE/s64/photo.jpg",
      "userId": "03494144523560780027"
     },
     "user_tz": -540
    },
    "id": "EuX1F67TYXFc",
    "outputId": "c2c74f56-a6fb-466b-bb63-28a117cb62d9"
   },
   "outputs": [
    {
     "name": "stdout",
     "output_type": "stream",
     "text": [
      "[nltk_data] Downloading package wordnet to\n",
      "[nltk_data]     /Users/gracelee/nltk_data...\n",
      "[nltk_data]   Package wordnet is already up-to-date!\n"
     ]
    },
    {
     "data": {
      "text/plain": [
       "True"
      ]
     },
     "execution_count": 55,
     "metadata": {},
     "output_type": "execute_result"
    }
   ],
   "source": [
    "import gensim\n",
    "from gensim.utils import simple_preprocess\n",
    "from gensim.parsing.preprocessing import STOPWORDS\n",
    "from nltk.stem import WordNetLemmatizer, SnowballStemmer\n",
    "from nltk.stem.porter import *\n",
    "\n",
    "import numpy as np\n",
    "np.random.seed(2018)\n",
    "\n",
    "import nltk\n",
    "nltk.download('wordnet')"
   ]
  },
  {
   "cell_type": "code",
   "execution_count": 56,
   "metadata": {
    "colab": {},
    "colab_type": "code",
    "id": "1V0FdvKJZezi"
   },
   "outputs": [],
   "source": [
    "def lemmatize_stemming(text):\n",
    "    stemmer = SnowballStemmer('english')\n",
    "    return stemmer.stem(WordNetLemmatizer().lemmatize(text, pos='v'))\n",
    "\n",
    "def preprocess(text):\n",
    "    result = []\n",
    "    for token in gensim.utils.simple_preprocess(text):\n",
    "        if token not in gensim.parsing.preprocessing.STOPWORDS and len(token) > 3:\n",
    "            result.append(lemmatize_stemming(token))\n",
    "    return result"
   ]
  },
  {
   "cell_type": "code",
   "execution_count": 57,
   "metadata": {
    "colab": {
     "base_uri": "https://localhost:8080/",
     "height": 212
    },
    "colab_type": "code",
    "executionInfo": {
     "elapsed": 164587,
     "status": "ok",
     "timestamp": 1541566208089,
     "user": {
      "displayName": "유주형",
      "photoUrl": "https://lh5.googleusercontent.com/-fg1dF67RQts/AAAAAAAAAAI/AAAAAAAAeAQ/W4wNdGVPToE/s64/photo.jpg",
      "userId": "03494144523560780027"
     },
     "user_tz": -540
    },
    "id": "EGbICJX5aIMg",
    "outputId": "f32a035a-c555-4056-86ea-c971f2e07337"
   },
   "outputs": [
    {
     "name": "stdout",
     "output_type": "stream",
     "text": [
      "CPU times: user 605 ms, sys: 2.23 ms, total: 607 ms\n",
      "Wall time: 609 ms\n"
     ]
    },
    {
     "data": {
      "text/plain": [
       "0                                                                                        [hazard, ratio, confid, interv, univari, multivari, analysi, predictor, major, cardiac, event, cardiac, death, worsen, heart, failur, lead, heart, transplant]\n",
       "1                                           [leav, ventricular, right, ventricular, eject, fraction, leav, ventricular, right, ventricular, mean, phase, leav, right, mean, phase, differ, phase, standard, deviat, ventricl, case, leav, side, legend]\n",
       "2                                                                                                                   [partial, regress, coeffici, subject, forward, stepwis, linear, regress, depend, variabl, augment, pressur, augment, index, legend]\n",
       "3    [leav, ventricular, lvef, right, ventricular, rvef, eject, fraction, leav, ventricular, lvmp, right, ventricular, rvmp, mean, phase, leav, right, mean, phase, differ, phase, standard, deviat, lvpsd, rvpsd, ventricl, case, right, side, legend]\n",
       "4                                                                                                                                                         [predictor, mortal, multivari, analysi, variabl, show, order, enter, stepwis, regress, model]\n",
       "5                                                                [logist, regress, model, post, transplant, predictor, normal, leav, ventricular, eject, fraction, lvef, post, transplant, period, refer, group, group, lvef, post, transplant, period]\n",
       "6                                                                                                        [result, surviv, analysi, proport, hazard, model, combin, point, cardiac, mortal, urgent, heart, transplant, readmiss, congest, heart, failur]\n",
       "7                                                                                                    [impact, normal, versus, reduc, leav, ventricular, eject, fraction, mortal, congest, heart, failur, case, result, proport, hazard, regress, model]\n",
       "8                                                                                               [descript, leav, ventricular, eject, fraction, lvef, differ, time, period, time, transplant, evalu, wait, list, transplant, follow, kidney, transplant]\n",
       "9                                                                                                                                                              [univari, regress, analysi, proport, hazard, analysi, predictor, cardiac, death, legend]\n",
       "Name: Origin_Text, dtype: object"
      ]
     },
     "execution_count": 57,
     "metadata": {},
     "output_type": "execute_result"
    }
   ],
   "source": [
    "%time processed_docs = documents['Origin_Text'].map(preprocess)\n",
    "processed_docs[:10]"
   ]
  },
  {
   "cell_type": "code",
   "execution_count": 58,
   "metadata": {},
   "outputs": [],
   "source": [
    "### TSNE모델에는 transform 메소드가 없고 fit_transform만 있음\n",
    "# library import\n",
    "import pandas as pd\n",
    "import numpy as np\n",
    "import matplotlib.pyplot as plt\n",
    "from sklearn.manifold import TSNE\n",
    "\n",
    "np.random.seed(2018)"
   ]
  },
  {
   "cell_type": "code",
   "execution_count": 59,
   "metadata": {},
   "outputs": [
    {
     "data": {
      "text/plain": [
       "list"
      ]
     },
     "execution_count": 59,
     "metadata": {},
     "output_type": "execute_result"
    }
   ],
   "source": [
    "type(documents['Origin_Text'].values.tolist())"
   ]
  },
  {
   "cell_type": "code",
   "execution_count": 60,
   "metadata": {},
   "outputs": [
    {
     "name": "stdout",
     "output_type": "stream",
     "text": [
      "CPU times: user 25.7 ms, sys: 1.46 ms, total: 27.2 ms\n",
      "Wall time: 26.3 ms\n",
      "CPU times: user 23.5 ms, sys: 492 µs, total: 24 ms\n",
      "Wall time: 23.7 ms\n",
      "CPU times: user 16.5 s, sys: 1.22 s, total: 17.7 s\n",
      "Wall time: 17.6 s\n"
     ]
    }
   ],
   "source": [
    "from sklearn.feature_extraction.text import CountVectorizer\n",
    "vect = CountVectorizer()\n",
    "%time vect.fit([' '.join(d) for d in processed_docs])\n",
    "%time tsne_data = vect.transform([' '.join(d) for d in processed_docs]).toarray()\n",
    "%time tsne_result = TSNE(learning_rate=300, init='pca').fit_transform(np.array(tsne_data))"
   ]
  },
  {
   "cell_type": "code",
   "execution_count": 61,
   "metadata": {},
   "outputs": [
    {
     "data": {
      "text/plain": [
       "array([[0, 0, 0, ..., 0, 0, 0],\n",
       "       [0, 0, 0, ..., 0, 0, 0],\n",
       "       [0, 0, 0, ..., 0, 0, 0],\n",
       "       ...,\n",
       "       [0, 0, 0, ..., 0, 0, 0],\n",
       "       [0, 0, 0, ..., 0, 0, 0],\n",
       "       [0, 0, 0, ..., 0, 0, 0]])"
      ]
     },
     "execution_count": 61,
     "metadata": {},
     "output_type": "execute_result"
    }
   ],
   "source": [
    "tsne_data[:10]"
   ]
  },
  {
   "cell_type": "code",
   "execution_count": 62,
   "metadata": {},
   "outputs": [
    {
     "data": {
      "text/plain": [
       "(400, 1240)"
      ]
     },
     "execution_count": 62,
     "metadata": {},
     "output_type": "execute_result"
    }
   ],
   "source": [
    "tsne_data.shape"
   ]
  },
  {
   "cell_type": "markdown",
   "metadata": {},
   "source": [
    "----"
   ]
  },
  {
   "cell_type": "markdown",
   "metadata": {},
   "source": [
    "## Fuuly Connected DEC"
   ]
  },
  {
   "cell_type": "markdown",
   "metadata": {},
   "source": [
    "### Load Dataset"
   ]
  },
  {
   "cell_type": "code",
   "execution_count": 17,
   "metadata": {},
   "outputs": [],
   "source": [
    "from keras.initializers import VarianceScaling\n",
    "from keras.optimizers import SGD"
   ]
  },
  {
   "cell_type": "code",
   "execution_count": 18,
   "metadata": {},
   "outputs": [],
   "source": [
    "max_count = max([np.max(tsne_data[i]) for i in tsne_data]) * 1.\n",
    "x = np.divide(tsne_data, max_count)\n",
    "n_clusters = 8"
   ]
  },
  {
   "cell_type": "markdown",
   "metadata": {},
   "source": [
    "### Create Fully Connection Model"
   ]
  },
  {
   "cell_type": "code",
   "execution_count": 19,
   "metadata": {},
   "outputs": [],
   "source": [
    "dims = [x.shape[-1], 500, 500, 2000, 10]\n",
    "init = VarianceScaling(scale=1. / 3., mode='fan_in', distribution='uniform')\n",
    "pretrain_optimizer = SGD(lr=1, momentum=0.9)\n",
    "pretrain_epochs = 300\n",
    "batch_size = 256"
   ]
  },
  {
   "cell_type": "code",
   "execution_count": 20,
   "metadata": {},
   "outputs": [],
   "source": [
    "autoencoder, encoder = autoencoder(dims, init=init)\n",
    "clustering_layer = ClusteringLayer(n_clusters, name='clustering')(encoder.output)\n",
    "model = Model(inputs=encoder.input, outputs=[clustering_layer, autoencoder.output])"
   ]
  },
  {
   "cell_type": "code",
   "execution_count": 21,
   "metadata": {},
   "outputs": [
    {
     "name": "stdout",
     "output_type": "stream",
     "text": [
      "__________________________________________________________________________________________________\n",
      "Layer (type)                    Output Shape         Param #     Connected to                     \n",
      "==================================================================================================\n",
      "input (InputLayer)              (None, 1240)         0                                            \n",
      "__________________________________________________________________________________________________\n",
      "encoder_0 (Dense)               (None, 500)          620500      input[0][0]                      \n",
      "__________________________________________________________________________________________________\n",
      "encoder_1 (Dense)               (None, 500)          250500      encoder_0[0][0]                  \n",
      "__________________________________________________________________________________________________\n",
      "encoder_2 (Dense)               (None, 2000)         1002000     encoder_1[0][0]                  \n",
      "__________________________________________________________________________________________________\n",
      "encoder_3 (Dense)               (None, 10)           20010       encoder_2[0][0]                  \n",
      "__________________________________________________________________________________________________\n",
      "decoder_3 (Dense)               (None, 2000)         22000       encoder_3[0][0]                  \n",
      "__________________________________________________________________________________________________\n",
      "decoder_2 (Dense)               (None, 500)          1000500     decoder_3[0][0]                  \n",
      "__________________________________________________________________________________________________\n",
      "decoder_1 (Dense)               (None, 500)          250500      decoder_2[0][0]                  \n",
      "__________________________________________________________________________________________________\n",
      "clustering (ClusteringLayer)    (None, 8)            80          encoder_3[0][0]                  \n",
      "__________________________________________________________________________________________________\n",
      "decoder_0 (Dense)               (None, 1240)         621240      decoder_1[0][0]                  \n",
      "==================================================================================================\n",
      "Total params: 3,787,330\n",
      "Trainable params: 3,787,330\n",
      "Non-trainable params: 0\n",
      "__________________________________________________________________________________________________\n"
     ]
    }
   ],
   "source": [
    "model.summary()"
   ]
  },
  {
   "cell_type": "markdown",
   "metadata": {},
   "source": [
    "### Train Model"
   ]
  },
  {
   "cell_type": "code",
   "execution_count": 27,
   "metadata": {},
   "outputs": [
    {
     "name": "stdout",
     "output_type": "stream",
     "text": [
      "Epoch 1/300\n",
      "400/400 [==============================] - 1s 3ms/step - loss: 9.8193e-04\n",
      "Epoch 2/300\n",
      "400/400 [==============================] - 1s 2ms/step - loss: 9.8146e-04\n",
      "Epoch 3/300\n",
      "400/400 [==============================] - 1s 2ms/step - loss: 9.8063e-04\n",
      "Epoch 4/300\n",
      "400/400 [==============================] - 1s 1ms/step - loss: 9.7948e-04\n",
      "Epoch 5/300\n",
      "400/400 [==============================] - 1s 2ms/step - loss: 9.7808e-04\n",
      "Epoch 6/300\n",
      "400/400 [==============================] - 1s 2ms/step - loss: 9.7658e-04\n",
      "Epoch 7/300\n",
      "400/400 [==============================] - 1s 1ms/step - loss: 9.7493e-04\n",
      "Epoch 8/300\n",
      "400/400 [==============================] - 1s 1ms/step - loss: 9.7324e-04\n",
      "Epoch 9/300\n",
      "400/400 [==============================] - 1s 2ms/step - loss: 9.7153e-04\n",
      "Epoch 10/300\n",
      "400/400 [==============================] - 1s 1ms/step - loss: 9.6990e-04\n",
      "Epoch 11/300\n",
      "400/400 [==============================] - 1s 1ms/step - loss: 9.6828e-04\n",
      "Epoch 12/300\n",
      "400/400 [==============================] - 1s 2ms/step - loss: 9.6669e-04\n",
      "Epoch 13/300\n",
      "400/400 [==============================] - 1s 2ms/step - loss: 9.6521e-04\n",
      "Epoch 14/300\n",
      "400/400 [==============================] - 1s 2ms/step - loss: 9.6380e-04\n",
      "Epoch 15/300\n",
      "400/400 [==============================] - 1s 2ms/step - loss: 9.6249e-04\n",
      "Epoch 16/300\n",
      "400/400 [==============================] - 1s 2ms/step - loss: 9.6125e-04\n",
      "Epoch 17/300\n",
      "400/400 [==============================] - 1s 2ms/step - loss: 9.6010e-04\n",
      "Epoch 18/300\n",
      "400/400 [==============================] - 1s 1ms/step - loss: 9.5899e-04\n",
      "Epoch 19/300\n",
      "400/400 [==============================] - 1s 1ms/step - loss: 9.5802e-04\n",
      "Epoch 20/300\n",
      "400/400 [==============================] - 1s 2ms/step - loss: 9.5709e-04\n",
      "Epoch 21/300\n",
      "400/400 [==============================] - 1s 1ms/step - loss: 9.5623e-04\n",
      "Epoch 22/300\n",
      "400/400 [==============================] - 1s 2ms/step - loss: 9.5544e-04\n",
      "Epoch 23/300\n",
      "400/400 [==============================] - 1s 2ms/step - loss: 9.5472e-04\n",
      "Epoch 24/300\n",
      "400/400 [==============================] - 1s 1ms/step - loss: 9.5405e-04\n",
      "Epoch 25/300\n",
      "400/400 [==============================] - 1s 2ms/step - loss: 9.5343e-04\n",
      "Epoch 26/300\n",
      "400/400 [==============================] - 1s 2ms/step - loss: 9.5286e-04\n",
      "Epoch 27/300\n",
      "400/400 [==============================] - 1s 1ms/step - loss: 9.5234e-04\n",
      "Epoch 28/300\n",
      "400/400 [==============================] - 1s 2ms/step - loss: 9.5184e-04\n",
      "Epoch 29/300\n",
      "400/400 [==============================] - 1s 2ms/step - loss: 9.5141e-04\n",
      "Epoch 30/300\n",
      "400/400 [==============================] - 1s 1ms/step - loss: 9.5100e-04\n",
      "Epoch 31/300\n",
      "400/400 [==============================] - 1s 2ms/step - loss: 9.5062e-04\n",
      "Epoch 32/300\n",
      "400/400 [==============================] - 1s 2ms/step - loss: 9.5029e-04\n",
      "Epoch 33/300\n",
      "400/400 [==============================] - 1s 2ms/step - loss: 9.4996e-04\n",
      "Epoch 34/300\n",
      "400/400 [==============================] - 1s 2ms/step - loss: 9.4968e-04\n",
      "Epoch 35/300\n",
      "400/400 [==============================] - 1s 2ms/step - loss: 9.4940e-04\n",
      "Epoch 36/300\n",
      "400/400 [==============================] - 1s 1ms/step - loss: 9.4916e-04\n",
      "Epoch 37/300\n",
      "400/400 [==============================] - 1s 1ms/step - loss: 9.4893e-04\n",
      "Epoch 38/300\n",
      "400/400 [==============================] - 1s 1ms/step - loss: 9.4872e-04\n",
      "Epoch 39/300\n",
      "400/400 [==============================] - 1s 2ms/step - loss: 9.4852e-04\n",
      "Epoch 40/300\n",
      "400/400 [==============================] - 1s 2ms/step - loss: 9.4835e-04\n",
      "Epoch 41/300\n",
      "400/400 [==============================] - 1s 2ms/step - loss: 9.4818e-04\n",
      "Epoch 42/300\n",
      "400/400 [==============================] - 1s 2ms/step - loss: 9.4803e-04\n",
      "Epoch 43/300\n",
      "400/400 [==============================] - 1s 1ms/step - loss: 9.4789e-04\n",
      "Epoch 44/300\n",
      "400/400 [==============================] - 1s 1ms/step - loss: 9.4776e-04\n",
      "Epoch 45/300\n",
      "400/400 [==============================] - 1s 2ms/step - loss: 9.4764e-04\n",
      "Epoch 46/300\n",
      "400/400 [==============================] - 1s 1ms/step - loss: 9.4753e-04\n",
      "Epoch 47/300\n",
      "400/400 [==============================] - 1s 2ms/step - loss: 9.4743e-04\n",
      "Epoch 48/300\n",
      "400/400 [==============================] - 1s 2ms/step - loss: 9.4733e-04\n",
      "Epoch 49/300\n",
      "400/400 [==============================] - 1s 2ms/step - loss: 9.4725e-04\n",
      "Epoch 50/300\n",
      "400/400 [==============================] - 1s 2ms/step - loss: 9.4716e-04\n",
      "Epoch 51/300\n",
      "400/400 [==============================] - 1s 2ms/step - loss: 9.4709e-04\n",
      "Epoch 52/300\n",
      "400/400 [==============================] - 1s 2ms/step - loss: 9.4702e-04\n",
      "Epoch 53/300\n",
      "400/400 [==============================] - 1s 2ms/step - loss: 9.4695e-04\n",
      "Epoch 54/300\n",
      "400/400 [==============================] - 1s 1ms/step - loss: 9.4690e-04\n",
      "Epoch 55/300\n",
      "400/400 [==============================] - 1s 2ms/step - loss: 9.4684e-04\n",
      "Epoch 56/300\n",
      "400/400 [==============================] - 1s 2ms/step - loss: 9.4678e-04\n",
      "Epoch 57/300\n",
      "400/400 [==============================] - 1s 1ms/step - loss: 9.4674e-04\n",
      "Epoch 58/300\n",
      "400/400 [==============================] - 1s 2ms/step - loss: 9.4669e-04\n",
      "Epoch 59/300\n",
      "400/400 [==============================] - 1s 2ms/step - loss: 9.4665e-04\n",
      "Epoch 60/300\n",
      "400/400 [==============================] - 1s 2ms/step - loss: 9.4661e-04\n",
      "Epoch 61/300\n",
      "400/400 [==============================] - 1s 1ms/step - loss: 9.4658e-04\n",
      "Epoch 62/300\n",
      "400/400 [==============================] - 1s 2ms/step - loss: 9.4655e-04\n",
      "Epoch 63/300\n",
      "400/400 [==============================] - 1s 2ms/step - loss: 9.4652e-04\n",
      "Epoch 64/300\n",
      "400/400 [==============================] - 1s 2ms/step - loss: 9.4649e-04\n",
      "Epoch 65/300\n",
      "400/400 [==============================] - 1s 2ms/step - loss: 9.4647e-04\n",
      "Epoch 66/300\n",
      "400/400 [==============================] - 1s 2ms/step - loss: 9.4644e-04\n",
      "Epoch 67/300\n",
      "400/400 [==============================] - 1s 2ms/step - loss: 9.4642e-04\n",
      "Epoch 68/300\n",
      "400/400 [==============================] - 1s 2ms/step - loss: 9.4640e-04\n",
      "Epoch 69/300\n",
      "400/400 [==============================] - 1s 2ms/step - loss: 9.4638e-04\n",
      "Epoch 70/300\n",
      "400/400 [==============================] - 1s 1ms/step - loss: 9.4636e-04\n",
      "Epoch 71/300\n",
      "400/400 [==============================] - 1s 1ms/step - loss: 9.4634e-04\n",
      "Epoch 72/300\n",
      "400/400 [==============================] - 1s 2ms/step - loss: 9.4633e-04\n",
      "Epoch 73/300\n",
      "400/400 [==============================] - 1s 2ms/step - loss: 9.4632e-04\n",
      "Epoch 74/300\n",
      "400/400 [==============================] - 1s 2ms/step - loss: 9.4630e-04\n",
      "Epoch 75/300\n",
      "400/400 [==============================] - 1s 2ms/step - loss: 9.4629e-04\n",
      "Epoch 76/300\n",
      "400/400 [==============================] - 1s 2ms/step - loss: 9.4628e-04\n",
      "Epoch 77/300\n",
      "400/400 [==============================] - 1s 1ms/step - loss: 9.4627e-04\n",
      "Epoch 78/300\n",
      "400/400 [==============================] - 1s 2ms/step - loss: 9.4626e-04\n",
      "Epoch 79/300\n",
      "400/400 [==============================] - 1s 1ms/step - loss: 9.4625e-04\n",
      "Epoch 80/300\n",
      "400/400 [==============================] - 1s 2ms/step - loss: 9.4624e-04\n",
      "Epoch 81/300\n",
      "400/400 [==============================] - 1s 1ms/step - loss: 9.4623e-04\n",
      "Epoch 82/300\n",
      "400/400 [==============================] - 1s 2ms/step - loss: 9.4623e-04\n",
      "Epoch 83/300\n",
      "400/400 [==============================] - 1s 2ms/step - loss: 9.4622e-04\n",
      "Epoch 84/300\n",
      "400/400 [==============================] - 1s 1ms/step - loss: 9.4621e-04\n",
      "Epoch 85/300\n",
      "400/400 [==============================] - 1s 2ms/step - loss: 9.4621e-04\n",
      "Epoch 86/300\n",
      "400/400 [==============================] - 1s 2ms/step - loss: 9.4620e-04\n",
      "Epoch 87/300\n",
      "400/400 [==============================] - 1s 1ms/step - loss: 9.4620e-04\n",
      "Epoch 88/300\n",
      "400/400 [==============================] - 1s 2ms/step - loss: 9.4619e-04\n",
      "Epoch 89/300\n",
      "400/400 [==============================] - 1s 2ms/step - loss: 9.4619e-04\n",
      "Epoch 90/300\n",
      "400/400 [==============================] - 1s 2ms/step - loss: 9.4618e-04\n",
      "Epoch 91/300\n",
      "400/400 [==============================] - 1s 1ms/step - loss: 9.4618e-04\n",
      "Epoch 92/300\n",
      "400/400 [==============================] - 1s 2ms/step - loss: 9.4617e-04\n",
      "Epoch 93/300\n",
      "400/400 [==============================] - 1s 1ms/step - loss: 9.4617e-04\n",
      "Epoch 94/300\n",
      "400/400 [==============================] - 1s 2ms/step - loss: 9.4617e-04\n",
      "Epoch 95/300\n",
      "400/400 [==============================] - 1s 2ms/step - loss: 9.4616e-04\n",
      "Epoch 96/300\n",
      "400/400 [==============================] - 1s 2ms/step - loss: 9.4616e-04\n",
      "Epoch 97/300\n",
      "400/400 [==============================] - 1s 2ms/step - loss: 9.4616e-04\n",
      "Epoch 98/300\n",
      "400/400 [==============================] - 1s 2ms/step - loss: 9.4615e-04\n",
      "Epoch 99/300\n",
      "400/400 [==============================] - 1s 2ms/step - loss: 9.4615e-04\n",
      "Epoch 100/300\n",
      "400/400 [==============================] - 1s 2ms/step - loss: 9.4615e-04\n",
      "Epoch 101/300\n",
      "400/400 [==============================] - 1s 2ms/step - loss: 9.4615e-04\n",
      "Epoch 102/300\n",
      "400/400 [==============================] - 1s 2ms/step - loss: 9.4615e-04\n",
      "Epoch 103/300\n",
      "400/400 [==============================] - 1s 2ms/step - loss: 9.4615e-04\n",
      "Epoch 104/300\n",
      "400/400 [==============================] - 1s 1ms/step - loss: 9.4615e-04\n",
      "Epoch 105/300\n",
      "400/400 [==============================] - 1s 2ms/step - loss: 9.4614e-04\n",
      "Epoch 106/300\n",
      "400/400 [==============================] - 1s 1ms/step - loss: 9.4614e-04\n",
      "Epoch 107/300\n",
      "400/400 [==============================] - 1s 2ms/step - loss: 9.4614e-04\n",
      "Epoch 108/300\n",
      "400/400 [==============================] - 1s 2ms/step - loss: 9.4614e-04\n",
      "Epoch 109/300\n",
      "400/400 [==============================] - 1s 1ms/step - loss: 9.4614e-04\n",
      "Epoch 110/300\n",
      "400/400 [==============================] - 1s 2ms/step - loss: 9.4614e-04\n",
      "Epoch 111/300\n",
      "400/400 [==============================] - 1s 2ms/step - loss: 9.4614e-04\n",
      "Epoch 112/300\n",
      "400/400 [==============================] - 1s 2ms/step - loss: 9.4614e-04\n",
      "Epoch 113/300\n",
      "400/400 [==============================] - 1s 2ms/step - loss: 9.4613e-04\n",
      "Epoch 114/300\n",
      "400/400 [==============================] - 1s 2ms/step - loss: 9.4613e-04\n",
      "Epoch 115/300\n",
      "400/400 [==============================] - 1s 2ms/step - loss: 9.4613e-04\n",
      "Epoch 116/300\n",
      "400/400 [==============================] - 1s 1ms/step - loss: 9.4613e-04\n",
      "Epoch 117/300\n",
      "400/400 [==============================] - 1s 2ms/step - loss: 9.4613e-04\n",
      "Epoch 118/300\n",
      "400/400 [==============================] - 1s 2ms/step - loss: 9.4613e-04\n",
      "Epoch 119/300\n",
      "400/400 [==============================] - 1s 2ms/step - loss: 9.4613e-04\n",
      "Epoch 120/300\n",
      "400/400 [==============================] - 1s 1ms/step - loss: 9.4613e-04\n",
      "Epoch 121/300\n",
      "400/400 [==============================] - 1s 2ms/step - loss: 9.4613e-04\n",
      "Epoch 122/300\n",
      "400/400 [==============================] - 1s 1ms/step - loss: 9.4613e-04\n",
      "Epoch 123/300\n",
      "400/400 [==============================] - 1s 2ms/step - loss: 9.4613e-04\n",
      "Epoch 124/300\n",
      "400/400 [==============================] - 1s 2ms/step - loss: 9.4613e-04\n",
      "Epoch 125/300\n",
      "400/400 [==============================] - 1s 1ms/step - loss: 9.4612e-04\n",
      "Epoch 126/300\n",
      "400/400 [==============================] - 1s 2ms/step - loss: 9.4612e-04\n",
      "Epoch 127/300\n",
      "400/400 [==============================] - 1s 2ms/step - loss: 9.4613e-04\n",
      "Epoch 128/300\n",
      "400/400 [==============================] - 1s 2ms/step - loss: 9.4612e-04\n",
      "Epoch 129/300\n",
      "400/400 [==============================] - 1s 2ms/step - loss: 9.4612e-04\n",
      "Epoch 130/300\n",
      "400/400 [==============================] - 1s 2ms/step - loss: 9.4612e-04\n",
      "Epoch 131/300\n",
      "400/400 [==============================] - 1s 2ms/step - loss: 9.4612e-04\n",
      "Epoch 132/300\n",
      "400/400 [==============================] - 1s 2ms/step - loss: 9.4612e-04\n",
      "Epoch 133/300\n",
      "400/400 [==============================] - 1s 1ms/step - loss: 9.4612e-04\n",
      "Epoch 134/300\n",
      "400/400 [==============================] - 1s 2ms/step - loss: 9.4612e-04\n",
      "Epoch 135/300\n",
      "400/400 [==============================] - 1s 2ms/step - loss: 9.4612e-04\n",
      "Epoch 136/300\n",
      "400/400 [==============================] - 1s 1ms/step - loss: 9.4612e-04\n",
      "Epoch 137/300\n",
      "400/400 [==============================] - 1s 2ms/step - loss: 9.4612e-04\n",
      "Epoch 138/300\n",
      "400/400 [==============================] - 1s 2ms/step - loss: 9.4612e-04\n",
      "Epoch 139/300\n",
      "400/400 [==============================] - 1s 2ms/step - loss: 9.4612e-04\n",
      "Epoch 140/300\n",
      "400/400 [==============================] - 1s 2ms/step - loss: 9.4612e-04\n",
      "Epoch 141/300\n",
      "400/400 [==============================] - 1s 2ms/step - loss: 9.4612e-04\n",
      "Epoch 142/300\n",
      "400/400 [==============================] - 1s 2ms/step - loss: 9.4612e-04\n",
      "Epoch 143/300\n",
      "400/400 [==============================] - 1s 2ms/step - loss: 9.4612e-04\n",
      "Epoch 144/300\n",
      "400/400 [==============================] - 1s 2ms/step - loss: 9.4612e-04\n",
      "Epoch 145/300\n",
      "400/400 [==============================] - 1s 2ms/step - loss: 9.4611e-04\n",
      "Epoch 146/300\n",
      "400/400 [==============================] - 1s 2ms/step - loss: 9.4611e-04\n",
      "Epoch 147/300\n",
      "400/400 [==============================] - 1s 1ms/step - loss: 9.4611e-04\n",
      "Epoch 148/300\n",
      "400/400 [==============================] - 1s 2ms/step - loss: 9.4611e-04\n",
      "Epoch 149/300\n",
      "400/400 [==============================] - 1s 2ms/step - loss: 9.4611e-04\n",
      "Epoch 150/300\n",
      "400/400 [==============================] - 1s 1ms/step - loss: 9.4611e-04\n",
      "Epoch 151/300\n",
      "400/400 [==============================] - 1s 2ms/step - loss: 9.4611e-04\n",
      "Epoch 152/300\n",
      "400/400 [==============================] - 1s 2ms/step - loss: 9.4611e-04\n",
      "Epoch 153/300\n",
      "400/400 [==============================] - 1s 2ms/step - loss: 9.4611e-04\n",
      "Epoch 154/300\n",
      "400/400 [==============================] - 1s 2ms/step - loss: 9.4611e-04\n",
      "Epoch 155/300\n",
      "400/400 [==============================] - 1s 1ms/step - loss: 9.4611e-04\n",
      "Epoch 156/300\n",
      "400/400 [==============================] - 1s 2ms/step - loss: 9.4611e-04\n",
      "Epoch 157/300\n",
      "400/400 [==============================] - 1s 1ms/step - loss: 9.4611e-04\n",
      "Epoch 158/300\n",
      "400/400 [==============================] - 1s 2ms/step - loss: 9.4611e-04\n",
      "Epoch 159/300\n",
      "400/400 [==============================] - 1s 1ms/step - loss: 9.4611e-04\n",
      "Epoch 160/300\n",
      "400/400 [==============================] - 1s 2ms/step - loss: 9.4611e-04\n",
      "Epoch 161/300\n",
      "400/400 [==============================] - 1s 2ms/step - loss: 9.4611e-04\n",
      "Epoch 162/300\n",
      "400/400 [==============================] - 1s 2ms/step - loss: 9.4611e-04\n",
      "Epoch 163/300\n",
      "400/400 [==============================] - 1s 1ms/step - loss: 9.4611e-04\n",
      "Epoch 164/300\n",
      "400/400 [==============================] - 1s 2ms/step - loss: 9.4611e-04\n",
      "Epoch 165/300\n",
      "400/400 [==============================] - 1s 2ms/step - loss: 9.4610e-04\n",
      "Epoch 166/300\n",
      "400/400 [==============================] - 1s 1ms/step - loss: 9.4611e-04\n",
      "Epoch 167/300\n",
      "400/400 [==============================] - 1s 2ms/step - loss: 9.4610e-04\n",
      "Epoch 168/300\n",
      "400/400 [==============================] - 1s 2ms/step - loss: 9.4611e-04\n",
      "Epoch 169/300\n",
      "400/400 [==============================] - 1s 2ms/step - loss: 9.4610e-04\n",
      "Epoch 170/300\n",
      "400/400 [==============================] - 1s 1ms/step - loss: 9.4610e-04\n",
      "Epoch 171/300\n",
      "400/400 [==============================] - 1s 2ms/step - loss: 9.4610e-04\n",
      "Epoch 172/300\n",
      "400/400 [==============================] - 1s 1ms/step - loss: 9.4610e-04\n",
      "Epoch 173/300\n",
      "400/400 [==============================] - 1s 1ms/step - loss: 9.4610e-04\n",
      "Epoch 174/300\n",
      "400/400 [==============================] - 1s 2ms/step - loss: 9.4610e-04\n",
      "Epoch 175/300\n",
      "400/400 [==============================] - 1s 2ms/step - loss: 9.4610e-04\n",
      "Epoch 176/300\n",
      "400/400 [==============================] - 1s 2ms/step - loss: 9.4610e-04\n",
      "Epoch 177/300\n",
      "400/400 [==============================] - 1s 1ms/step - loss: 9.4610e-04\n",
      "Epoch 178/300\n",
      "400/400 [==============================] - 1s 2ms/step - loss: 9.4610e-04\n",
      "Epoch 179/300\n",
      "400/400 [==============================] - 1s 1ms/step - loss: 9.4610e-04\n",
      "Epoch 180/300\n",
      "400/400 [==============================] - 1s 1ms/step - loss: 9.4610e-04\n",
      "Epoch 181/300\n",
      "400/400 [==============================] - 1s 1ms/step - loss: 9.4610e-04\n",
      "Epoch 182/300\n",
      "400/400 [==============================] - 1s 1ms/step - loss: 9.4610e-04\n",
      "Epoch 183/300\n",
      "400/400 [==============================] - 1s 1ms/step - loss: 9.4610e-04\n",
      "Epoch 184/300\n",
      "400/400 [==============================] - 1s 2ms/step - loss: 9.4610e-04\n",
      "Epoch 185/300\n",
      "400/400 [==============================] - 1s 2ms/step - loss: 9.4610e-04\n",
      "Epoch 186/300\n",
      "400/400 [==============================] - 1s 2ms/step - loss: 9.4610e-04\n",
      "Epoch 187/300\n",
      "400/400 [==============================] - 1s 2ms/step - loss: 9.4610e-04\n",
      "Epoch 188/300\n",
      "400/400 [==============================] - 1s 2ms/step - loss: 9.4610e-04\n",
      "Epoch 189/300\n",
      "400/400 [==============================] - 1s 2ms/step - loss: 9.4610e-04\n",
      "Epoch 190/300\n",
      "400/400 [==============================] - 1s 2ms/step - loss: 9.4610e-04\n",
      "Epoch 191/300\n",
      "400/400 [==============================] - 1s 2ms/step - loss: 9.4610e-04\n",
      "Epoch 192/300\n",
      "400/400 [==============================] - 1s 1ms/step - loss: 9.4610e-04\n",
      "Epoch 193/300\n",
      "400/400 [==============================] - 1s 2ms/step - loss: 9.4610e-04\n",
      "Epoch 194/300\n",
      "400/400 [==============================] - 1s 2ms/step - loss: 9.4610e-04\n",
      "Epoch 195/300\n",
      "400/400 [==============================] - 1s 1ms/step - loss: 9.4609e-04\n",
      "Epoch 196/300\n",
      "400/400 [==============================] - 1s 1ms/step - loss: 9.4609e-04\n",
      "Epoch 197/300\n",
      "400/400 [==============================] - 1s 2ms/step - loss: 9.4609e-04\n",
      "Epoch 198/300\n",
      "400/400 [==============================] - 1s 2ms/step - loss: 9.4609e-04\n",
      "Epoch 199/300\n",
      "400/400 [==============================] - 1s 1ms/step - loss: 9.4609e-04\n",
      "Epoch 200/300\n",
      "400/400 [==============================] - 1s 1ms/step - loss: 9.4609e-04\n",
      "Epoch 201/300\n",
      "400/400 [==============================] - 1s 2ms/step - loss: 9.4609e-04\n",
      "Epoch 202/300\n",
      "400/400 [==============================] - 1s 2ms/step - loss: 9.4609e-04\n",
      "Epoch 203/300\n",
      "400/400 [==============================] - 1s 2ms/step - loss: 9.4609e-04\n",
      "Epoch 204/300\n",
      "400/400 [==============================] - 1s 2ms/step - loss: 9.4609e-04\n",
      "Epoch 205/300\n",
      "400/400 [==============================] - 1s 1ms/step - loss: 9.4609e-04\n",
      "Epoch 206/300\n",
      "400/400 [==============================] - 1s 1ms/step - loss: 9.4609e-04\n",
      "Epoch 207/300\n",
      "400/400 [==============================] - 1s 2ms/step - loss: 9.4609e-04\n",
      "Epoch 208/300\n",
      "400/400 [==============================] - 1s 2ms/step - loss: 9.4609e-04\n",
      "Epoch 209/300\n",
      "400/400 [==============================] - 1s 1ms/step - loss: 9.4609e-04\n",
      "Epoch 210/300\n",
      "400/400 [==============================] - 1s 2ms/step - loss: 9.4609e-04\n",
      "Epoch 211/300\n",
      "400/400 [==============================] - 1s 1ms/step - loss: 9.4609e-04\n",
      "Epoch 212/300\n",
      "400/400 [==============================] - 1s 1ms/step - loss: 9.4609e-04\n",
      "Epoch 213/300\n",
      "400/400 [==============================] - 1s 2ms/step - loss: 9.4609e-04\n",
      "Epoch 214/300\n",
      "400/400 [==============================] - 1s 2ms/step - loss: 9.4609e-04\n",
      "Epoch 215/300\n",
      "400/400 [==============================] - 1s 1ms/step - loss: 9.4608e-04\n",
      "Epoch 216/300\n",
      "400/400 [==============================] - 1s 2ms/step - loss: 9.4608e-04\n",
      "Epoch 217/300\n",
      "400/400 [==============================] - 1s 2ms/step - loss: 9.4608e-04\n",
      "Epoch 218/300\n",
      "400/400 [==============================] - 1s 2ms/step - loss: 9.4608e-04\n",
      "Epoch 219/300\n",
      "400/400 [==============================] - 1s 1ms/step - loss: 9.4608e-04\n",
      "Epoch 220/300\n",
      "400/400 [==============================] - 1s 1ms/step - loss: 9.4608e-04\n",
      "Epoch 221/300\n",
      "400/400 [==============================] - 1s 2ms/step - loss: 9.4608e-04\n",
      "Epoch 222/300\n",
      "400/400 [==============================] - 1s 2ms/step - loss: 9.4608e-04\n",
      "Epoch 223/300\n",
      "400/400 [==============================] - 1s 2ms/step - loss: 9.4608e-04\n",
      "Epoch 224/300\n",
      "400/400 [==============================] - 1s 1ms/step - loss: 9.4608e-04\n",
      "Epoch 225/300\n",
      "400/400 [==============================] - 1s 1ms/step - loss: 9.4608e-04\n",
      "Epoch 226/300\n",
      "400/400 [==============================] - 1s 2ms/step - loss: 9.4608e-04\n",
      "Epoch 227/300\n",
      "400/400 [==============================] - 1s 2ms/step - loss: 9.4608e-04\n",
      "Epoch 228/300\n",
      "400/400 [==============================] - 1s 2ms/step - loss: 9.4608e-04\n",
      "Epoch 229/300\n",
      "400/400 [==============================] - 1s 1ms/step - loss: 9.4608e-04\n",
      "Epoch 230/300\n",
      "400/400 [==============================] - 1s 2ms/step - loss: 9.4608e-04\n",
      "Epoch 231/300\n",
      "400/400 [==============================] - 1s 2ms/step - loss: 9.4608e-04\n",
      "Epoch 232/300\n",
      "400/400 [==============================] - 1s 2ms/step - loss: 9.4608e-04\n",
      "Epoch 233/300\n",
      "400/400 [==============================] - 1s 2ms/step - loss: 9.4608e-04\n",
      "Epoch 234/300\n",
      "400/400 [==============================] - 1s 2ms/step - loss: 9.4608e-04\n",
      "Epoch 235/300\n",
      "400/400 [==============================] - 1s 2ms/step - loss: 9.4608e-04\n",
      "Epoch 236/300\n",
      "400/400 [==============================] - 1s 2ms/step - loss: 9.4608e-04\n",
      "Epoch 237/300\n",
      "400/400 [==============================] - 1s 2ms/step - loss: 9.4608e-04\n",
      "Epoch 238/300\n",
      "400/400 [==============================] - 1s 1ms/step - loss: 9.4608e-04\n",
      "Epoch 239/300\n",
      "400/400 [==============================] - 1s 1ms/step - loss: 9.4607e-04\n",
      "Epoch 240/300\n",
      "400/400 [==============================] - 1s 1ms/step - loss: 9.4608e-04\n",
      "Epoch 241/300\n",
      "400/400 [==============================] - 1s 2ms/step - loss: 9.4607e-04\n",
      "Epoch 242/300\n",
      "400/400 [==============================] - 1s 2ms/step - loss: 9.4607e-04\n",
      "Epoch 243/300\n",
      "400/400 [==============================] - 1s 1ms/step - loss: 9.4607e-04\n",
      "Epoch 244/300\n",
      "400/400 [==============================] - 1s 2ms/step - loss: 9.4607e-04\n",
      "Epoch 245/300\n",
      "400/400 [==============================] - 1s 2ms/step - loss: 9.4607e-04\n",
      "Epoch 246/300\n",
      "400/400 [==============================] - 1s 1ms/step - loss: 9.4607e-04\n",
      "Epoch 247/300\n",
      "400/400 [==============================] - 1s 2ms/step - loss: 9.4607e-04\n",
      "Epoch 248/300\n",
      "400/400 [==============================] - 1s 2ms/step - loss: 9.4607e-04\n",
      "Epoch 249/300\n",
      "400/400 [==============================] - 1s 1ms/step - loss: 9.4607e-04\n",
      "Epoch 250/300\n",
      "400/400 [==============================] - 1s 1ms/step - loss: 9.4607e-04\n",
      "Epoch 251/300\n",
      "400/400 [==============================] - 1s 2ms/step - loss: 9.4607e-04\n",
      "Epoch 252/300\n",
      "400/400 [==============================] - 1s 2ms/step - loss: 9.4607e-04\n",
      "Epoch 253/300\n",
      "400/400 [==============================] - 1s 2ms/step - loss: 9.4607e-04\n",
      "Epoch 254/300\n",
      "400/400 [==============================] - 1s 2ms/step - loss: 9.4607e-04\n",
      "Epoch 255/300\n",
      "400/400 [==============================] - 1s 1ms/step - loss: 9.4607e-04\n",
      "Epoch 256/300\n",
      "400/400 [==============================] - 1s 1ms/step - loss: 9.4607e-04\n",
      "Epoch 257/300\n",
      "400/400 [==============================] - 1s 2ms/step - loss: 9.4607e-04\n",
      "Epoch 258/300\n",
      "400/400 [==============================] - 1s 2ms/step - loss: 9.4607e-04\n",
      "Epoch 259/300\n",
      "400/400 [==============================] - 1s 2ms/step - loss: 9.4607e-04\n",
      "Epoch 260/300\n",
      "400/400 [==============================] - 1s 2ms/step - loss: 9.4607e-04\n",
      "Epoch 261/300\n",
      "400/400 [==============================] - 1s 2ms/step - loss: 9.4607e-04\n",
      "Epoch 262/300\n",
      "400/400 [==============================] - 1s 2ms/step - loss: 9.4606e-04\n",
      "Epoch 263/300\n",
      "400/400 [==============================] - 1s 2ms/step - loss: 9.4606e-04\n",
      "Epoch 264/300\n",
      "400/400 [==============================] - 1s 2ms/step - loss: 9.4606e-04\n",
      "Epoch 265/300\n",
      "400/400 [==============================] - 1s 2ms/step - loss: 9.4606e-04\n",
      "Epoch 266/300\n",
      "400/400 [==============================] - 1s 2ms/step - loss: 9.4606e-04\n",
      "Epoch 267/300\n",
      "400/400 [==============================] - 1s 2ms/step - loss: 9.4606e-04\n",
      "Epoch 268/300\n",
      "400/400 [==============================] - 1s 2ms/step - loss: 9.4606e-04\n",
      "Epoch 269/300\n",
      "400/400 [==============================] - 1s 2ms/step - loss: 9.4606e-04\n",
      "Epoch 270/300\n",
      "400/400 [==============================] - 1s 2ms/step - loss: 9.4606e-04\n",
      "Epoch 271/300\n",
      "400/400 [==============================] - 1s 2ms/step - loss: 9.4606e-04\n",
      "Epoch 272/300\n",
      "400/400 [==============================] - 1s 2ms/step - loss: 9.4606e-04\n",
      "Epoch 273/300\n",
      "400/400 [==============================] - 1s 2ms/step - loss: 9.4606e-04\n",
      "Epoch 274/300\n",
      "400/400 [==============================] - 1s 2ms/step - loss: 9.4606e-04\n",
      "Epoch 275/300\n",
      "400/400 [==============================] - 1s 2ms/step - loss: 9.4606e-04\n",
      "Epoch 276/300\n",
      "400/400 [==============================] - 1s 2ms/step - loss: 9.4606e-04\n",
      "Epoch 277/300\n",
      "400/400 [==============================] - 1s 2ms/step - loss: 9.4606e-04\n",
      "Epoch 278/300\n",
      "400/400 [==============================] - 1s 2ms/step - loss: 9.4606e-04\n",
      "Epoch 279/300\n",
      "400/400 [==============================] - 1s 2ms/step - loss: 9.4606e-04\n",
      "Epoch 280/300\n",
      "400/400 [==============================] - 1s 2ms/step - loss: 9.4606e-04\n",
      "Epoch 281/300\n",
      "400/400 [==============================] - 1s 2ms/step - loss: 9.4606e-04\n",
      "Epoch 282/300\n",
      "400/400 [==============================] - 1s 2ms/step - loss: 9.4606e-04\n",
      "Epoch 283/300\n",
      "400/400 [==============================] - 1s 2ms/step - loss: 9.4606e-04\n",
      "Epoch 284/300\n",
      "400/400 [==============================] - 1s 2ms/step - loss: 9.4605e-04\n",
      "Epoch 285/300\n",
      "400/400 [==============================] - 1s 2ms/step - loss: 9.4606e-04\n",
      "Epoch 286/300\n",
      "400/400 [==============================] - 1s 2ms/step - loss: 9.4605e-04\n",
      "Epoch 287/300\n",
      "400/400 [==============================] - 1s 2ms/step - loss: 9.4605e-04\n",
      "Epoch 288/300\n",
      "400/400 [==============================] - 1s 2ms/step - loss: 9.4605e-04\n",
      "Epoch 289/300\n",
      "400/400 [==============================] - 1s 2ms/step - loss: 9.4605e-04\n",
      "Epoch 290/300\n",
      "400/400 [==============================] - 1s 2ms/step - loss: 9.4605e-04\n",
      "Epoch 291/300\n",
      "400/400 [==============================] - 1s 2ms/step - loss: 9.4605e-04\n",
      "Epoch 292/300\n",
      "400/400 [==============================] - 1s 2ms/step - loss: 9.4605e-04\n",
      "Epoch 293/300\n",
      "400/400 [==============================] - 1s 2ms/step - loss: 9.4605e-04\n",
      "Epoch 294/300\n",
      "400/400 [==============================] - 1s 2ms/step - loss: 9.4605e-04\n",
      "Epoch 295/300\n",
      "400/400 [==============================] - 1s 2ms/step - loss: 9.4605e-04\n",
      "Epoch 296/300\n",
      "400/400 [==============================] - 1s 2ms/step - loss: 9.4605e-04\n",
      "Epoch 297/300\n",
      "400/400 [==============================] - 1s 2ms/step - loss: 9.4605e-04\n",
      "Epoch 298/300\n",
      "400/400 [==============================] - 1s 2ms/step - loss: 9.4605e-04\n",
      "Epoch 299/300\n",
      "400/400 [==============================] - 1s 2ms/step - loss: 9.4605e-04\n",
      "Epoch 300/300\n",
      "400/400 [==============================] - 1s 2ms/step - loss: 9.4605e-04\n",
      "CPU times: user 5min 6s, sys: 34.3 s, total: 5min 41s\n",
      "Wall time: 3min 3s\n"
     ]
    }
   ],
   "source": [
    "autoencoder.compile(optimizer=pretrain_optimizer, loss='mse')\n",
    "%time autoencoder.fit(x, x, batch_size=batch_size, epochs=pretrain_epochs) #, callbacks=cb)\n",
    "autoencoder.save_weights('./drug_ae_weights.h5')"
   ]
  },
  {
   "cell_type": "markdown",
   "metadata": {},
   "source": [
    "#### Train Time in Colab w/ GPU\n",
    "* CPU times: user 2min 9s, sys: 4.39 s, total: 2min 14s\n",
    "* Wall time: 1min 13s"
   ]
  },
  {
   "cell_type": "code",
   "execution_count": 28,
   "metadata": {},
   "outputs": [],
   "source": [
    "autoencoder.load_weights('./drug_ae_weights.h5')"
   ]
  },
  {
   "cell_type": "markdown",
   "metadata": {},
   "source": [
    "### Initialize cluster centers using k-means"
   ]
  },
  {
   "cell_type": "code",
   "execution_count": 29,
   "metadata": {},
   "outputs": [],
   "source": [
    "kmeans = KMeans(n_clusters=n_clusters, n_init=20)\n",
    "y_pred = kmeans.fit_predict(encoder.predict(x))\n",
    "model.get_layer(name='clustering').set_weights([kmeans.cluster_centers_])\n",
    "y_pred_last = np.copy(y_pred)"
   ]
  },
  {
   "cell_type": "markdown",
   "metadata": {},
   "source": [
    "### Deep Clustering Train"
   ]
  },
  {
   "cell_type": "code",
   "execution_count": 30,
   "metadata": {},
   "outputs": [],
   "source": [
    "loss = 0\n",
    "index = 0\n",
    "maxiter = 8000\n",
    "update_interval = 140\n",
    "index_array = np.arange(x.shape[0])\n",
    "\n",
    "tol = 0.001 # tolerance threshold to stop training"
   ]
  },
  {
   "cell_type": "code",
   "execution_count": 31,
   "metadata": {},
   "outputs": [],
   "source": [
    "model.compile(loss=['kld', 'mse'], loss_weights=[0.1, 1], optimizer=pretrain_optimizer)"
   ]
  },
  {
   "cell_type": "code",
   "execution_count": 32,
   "metadata": {},
   "outputs": [],
   "source": [
    "y = None"
   ]
  },
  {
   "cell_type": "code",
   "execution_count": 33,
   "metadata": {},
   "outputs": [],
   "source": [
    "# for ite in range(int(maxiter)):\n",
    "#     if ite % update_interval == 0:\n",
    "#         q, _  = model.predict(x, verbose=0)\n",
    "#         p = target_distribution(q)  # update the auxiliary target distribution p\n",
    "\n",
    "#         # evaluate the clustering performance\n",
    "#         y_pred = q.argmax(1)\n",
    "#         if y is not None:\n",
    "#             acc = np.round(metrics.accuracy_score(y, y_pred), 5)\n",
    "#             nmi = np.round(metrics.normalized_mutual_info_score(y, y_pred), 5)\n",
    "#             ari = np.round(metrics.adjusted_rand_score(y, y_pred), 5)\n",
    "#             loss = np.round(loss, 5)\n",
    "#             print('Iter %d: acc = %.5f, nmi = %.5f, ari = %.5f' % (ite, acc, nmi, ari), ' ; loss=', loss)\n",
    "\n",
    "#         # check stop criterion\n",
    "#         delta_label = np.sum(y_pred != y_pred_last).astype(np.float32) / y_pred.shape[0]\n",
    "#         y_pred_last = np.copy(y_pred)\n",
    "#         if ite > 0 and delta_label < tol:\n",
    "#             print('delta_label ', delta_label, '< tol ', tol)\n",
    "#             print('Reached tolerance threshold. Stopping training.')\n",
    "#             break\n",
    "#     idx = index_array[index * batch_size: min((index+1) * batch_size, x.shape[0])]\n",
    "#     loss = model.train_on_batch(x=x[idx], y=[p[idx], x[idx]])\n",
    "#     index = index + 1 if (index + 1) * batch_size <= x.shape[0] else 0\n",
    "\n",
    "# model.save_weights('./b_DEC_model_final.h5')"
   ]
  },
  {
   "cell_type": "code",
   "execution_count": 34,
   "metadata": {},
   "outputs": [],
   "source": [
    "model.load_weights('./drug_DEC_model_final.h5')"
   ]
  },
  {
   "cell_type": "markdown",
   "metadata": {},
   "source": [
    "### Evaluation"
   ]
  },
  {
   "cell_type": "markdown",
   "metadata": {},
   "source": [
    "#### Compare with LDA Results"
   ]
  },
  {
   "cell_type": "code",
   "execution_count": 40,
   "metadata": {},
   "outputs": [],
   "source": [
    "lda_result = pd.read_csv('./lda.tsv', sep='\\t')\n",
    "y_lda = lda_result.topic.values"
   ]
  },
  {
   "cell_type": "code",
   "execution_count": 41,
   "metadata": {},
   "outputs": [],
   "source": [
    "# Eval.\n",
    "q, _ = model.predict(x, verbose=0)\n",
    "p = target_distribution(q)  # update the auxiliary target distribution p\n",
    "\n",
    "# evaluate the clustering performance\n",
    "y_pred = q.argmax(1)\n",
    "if y is not None:\n",
    "    acc = np.round(metrics.accuracy_score(y_lda, y_pred), 5)\n",
    "    nmi = np.round(metrics.normalized_mutual_info_score(y_lda, y_pred), 5)\n",
    "    ari = np.round(metrics.adjusted_rand_score(y_lda, y_pred), 5)\n",
    "    loss = np.round(loss, 5)\n",
    "    print('Acc = %.5f, nmi = %.5f, ari = %.5f' % (acc, nmi, ari), ' ; loss=', loss)"
   ]
  },
  {
   "cell_type": "code",
   "execution_count": 43,
   "metadata": {},
   "outputs": [
    {
     "data": {
      "text/plain": [
       "Text(0.5, 54.5, 'Clustering label')"
      ]
     },
     "execution_count": 43,
     "metadata": {},
     "output_type": "execute_result"
    },
    {
     "data": {
      "image/png": "[encoded data removed]",
      "text/plain": [
       "<Figure size 864x792 with 2 Axes>"
      ]
     },
     "metadata": {},
     "output_type": "display_data"
    }
   ],
   "source": [
    "import seaborn as sns\n",
    "import matplotlib.pyplot as plt\n",
    "sns.set(font_scale=3)\n",
    "confusion_matrix = metrics.confusion_matrix(y_lda, y_pred)\n",
    "\n",
    "plt.figure(figsize=(12, 11))\n",
    "sns.heatmap(confusion_matrix, annot=True, fmt=\"d\", annot_kws={\"size\": 20});\n",
    "plt.title(\"Confusion matrix\", fontsize=30)\n",
    "plt.ylabel('True label', fontsize=25)\n",
    "plt.xlabel('Clustering label', fontsize=25)"
   ]
  },
  {
   "cell_type": "markdown",
   "metadata": {},
   "source": [
    "#### Compare with K-Means Results"
   ]
  },
  {
   "cell_type": "code",
   "execution_count": 44,
   "metadata": {},
   "outputs": [],
   "source": [
    "km_result = pd.read_csv('./km.tsv', sep='\\t')\n",
    "y_km = km_result.topic.values"
   ]
  },
  {
   "cell_type": "code",
   "execution_count": 45,
   "metadata": {},
   "outputs": [],
   "source": [
    "# Eval.\n",
    "q, _ = model.predict(x, verbose=0)\n",
    "p = target_distribution(q)  # update the auxiliary target distribution p\n",
    "\n",
    "# evaluate the clustering performance\n",
    "y_pred = q.argmax(1)\n",
    "if y is not None:\n",
    "    acc = np.round(metrics.accuracy_score(y_km, y_pred), 5)\n",
    "    nmi = np.round(metrics.normalized_mutual_info_score(y_km, y_pred), 5)\n",
    "    ari = np.round(metrics.adjusted_rand_score(y_km, y_pred), 5)\n",
    "    loss = np.round(loss, 5)\n",
    "    print('Acc = %.5f, nmi = %.5f, ari = %.5f' % (acc, nmi, ari), ' ; loss=', loss)"
   ]
  },
  {
   "cell_type": "code",
   "execution_count": 46,
   "metadata": {},
   "outputs": [
    {
     "data": {
      "text/plain": [
       "Text(0.5, 54.5, 'Clustering label')"
      ]
     },
     "execution_count": 46,
     "metadata": {},
     "output_type": "execute_result"
    },
    {
     "data": {
      "image/png": "[encoded data removed]",
      "text/plain": [
       "<Figure size 864x792 with 2 Axes>"
      ]
     },
     "metadata": {},
     "output_type": "display_data"
    }
   ],
   "source": [
    "import seaborn as sns\n",
    "import matplotlib.pyplot as plt\n",
    "sns.set(font_scale=3)\n",
    "confusion_matrix = metrics.confusion_matrix(y_km, y_pred)\n",
    "\n",
    "plt.figure(figsize=(12, 11))\n",
    "sns.heatmap(confusion_matrix, annot=True, fmt=\"d\", annot_kws={\"size\": 20});\n",
    "plt.title(\"Confusion matrix\", fontsize=30)\n",
    "plt.ylabel('True label', fontsize=25)\n",
    "plt.xlabel('Clustering label', fontsize=25)"
   ]
  },
  {
   "cell_type": "markdown",
   "metadata": {},
   "source": [
    "----"
   ]
  },
  {
   "cell_type": "markdown",
   "metadata": {},
   "source": [
    "### Visualization"
   ]
  },
  {
   "cell_type": "markdown",
   "metadata": {},
   "source": [
    "#### 1. HBAR Chart"
   ]
  },
  {
   "cell_type": "code",
   "execution_count": 73,
   "metadata": {},
   "outputs": [],
   "source": [
    "import numpy as np\n",
    "\n",
    "doc_lengths = np.asarray(tsne_data.sum(axis=1)).reshape(-1)\n",
    "term_frequency = np.asarray(tsne_data.sum(axis=0)).reshape(-1)"
   ]
  },
  {
   "cell_type": "code",
   "execution_count": 75,
   "metadata": {},
   "outputs": [],
   "source": [
    "docwords = list(processed_docs.apply(lambda x: len(x)).values)\n",
    "vocab = list(set(np.sum(processed_docs.values)))"
   ]
  },
  {
   "cell_type": "code",
   "execution_count": 84,
   "metadata": {},
   "outputs": [
    {
     "name": "stderr",
     "output_type": "stream",
     "text": [
      "/workspace/_private_kyle/Topic_Modeling/kmeans_to_pyLDAvis/proportion.py:104: RuntimeWarning: invalid value encountered in true_divide\n",
      "  term_proportion = weighted_centers / weighted_center_sum\n",
      "/workspace/_private_kyle/Topic_Modeling/kmeans_to_pyLDAvis/proportion.py:99: RuntimeWarning: invalid value encountered in true_divide\n",
      "  l1_normalize = lambda x:x/x.sum()\n",
      "/workspace/_private_kyle/Topic_Modeling/kmeans_to_pyLDAvis/proportion.py:136: RuntimeWarning: invalid value encountered in greater\n",
      "  indices = np.where(p_prop > 0)[0]\n",
      "/workspace/_private_kyle/Topic_Modeling/kmeans_to_pyLDAvis/proportion.py:71: RuntimeWarning: invalid value encountered in true_divide\n",
      "  term_proportion = weighted_centers / weighted_centers.sum(axis=0)\n"
     ]
    }
   ],
   "source": [
    "from kmeans_to_pyLDAvis import kmeans_to_prepared_data\n",
    "\n",
    "vis_data = kmeans_to_prepared_data(\n",
    "    tsne_data,\n",
    "    vocab,\n",
    "    np.zeros((8, 1240)),\n",
    "    y_pred,\n",
    "    n_printed_words = 10,\n",
    "    radius = 5\n",
    ")"
   ]
  },
  {
   "cell_type": "code",
   "execution_count": 86,
   "metadata": {},
   "outputs": [
    {
     "data": {
      "text/html": [
       "<div>\n",
       "<style scoped>\n",
       "    .dataframe tbody tr th:only-of-type {\n",
       "        vertical-align: middle;\n",
       "    }\n",
       "\n",
       "    .dataframe tbody tr th {\n",
       "        vertical-align: top;\n",
       "    }\n",
       "\n",
       "    .dataframe thead th {\n",
       "        text-align: right;\n",
       "    }\n",
       "</style>\n",
       "<table border=\"1\" class=\"dataframe\">\n",
       "  <thead>\n",
       "    <tr style=\"text-align: right;\">\n",
       "      <th></th>\n",
       "      <th>term</th>\n",
       "      <th>Category</th>\n",
       "      <th>Freq</th>\n",
       "      <th>Term</th>\n",
       "      <th>Total</th>\n",
       "      <th>loglift</th>\n",
       "      <th>logprob</th>\n",
       "    </tr>\n",
       "  </thead>\n",
       "  <tbody>\n",
       "    <tr>\n",
       "      <th>0</th>\n",
       "      <td>781</td>\n",
       "      <td>Default</td>\n",
       "      <td>0.99</td>\n",
       "      <td>preval</td>\n",
       "      <td>127</td>\n",
       "      <td>25.000000</td>\n",
       "      <td>25.000000</td>\n",
       "    </tr>\n",
       "    <tr>\n",
       "      <th>1</th>\n",
       "      <td>381</td>\n",
       "      <td>Default</td>\n",
       "      <td>0.99</td>\n",
       "      <td>random</td>\n",
       "      <td>82</td>\n",
       "      <td>19.685039</td>\n",
       "      <td>19.685039</td>\n",
       "    </tr>\n",
       "    <tr>\n",
       "      <th>2</th>\n",
       "      <td>1148</td>\n",
       "      <td>Default</td>\n",
       "      <td>0.99</td>\n",
       "      <td>dysfunct</td>\n",
       "      <td>71</td>\n",
       "      <td>18.385827</td>\n",
       "      <td>18.385827</td>\n",
       "    </tr>\n",
       "    <tr>\n",
       "      <th>3</th>\n",
       "      <td>26</td>\n",
       "      <td>Default</td>\n",
       "      <td>0.99</td>\n",
       "      <td>compris</td>\n",
       "      <td>70</td>\n",
       "      <td>18.267717</td>\n",
       "      <td>18.267717</td>\n",
       "    </tr>\n",
       "    <tr>\n",
       "      <th>4</th>\n",
       "      <td>1233</td>\n",
       "      <td>Default</td>\n",
       "      <td>0.99</td>\n",
       "      <td>intracoronari</td>\n",
       "      <td>62</td>\n",
       "      <td>17.322835</td>\n",
       "      <td>17.322835</td>\n",
       "    </tr>\n",
       "  </tbody>\n",
       "</table>\n",
       "</div>"
      ],
      "text/plain": [
       "   term Category  Freq           Term  Total    loglift    logprob\n",
       "0   781  Default  0.99         preval    127  25.000000  25.000000\n",
       "1   381  Default  0.99         random     82  19.685039  19.685039\n",
       "2  1148  Default  0.99       dysfunct     71  18.385827  18.385827\n",
       "3    26  Default  0.99        compris     70  18.267717  18.267717\n",
       "4  1233  Default  0.99  intracoronari     62  17.322835  17.322835"
      ]
     },
     "execution_count": 86,
     "metadata": {},
     "output_type": "execute_result"
    }
   ],
   "source": [
    "vis_data.topic_info.head()"
   ]
  },
  {
   "cell_type": "code",
   "execution_count": 87,
   "metadata": {},
   "outputs": [],
   "source": [
    "import json\n",
    "\n",
    "hbar_json = {}\n",
    "hbar_json['labels'] = vis_data.topic_info.Category.unique().tolist()\n",
    "hbar_json['max_width'] = vis_data.topic_info[vis_data.topic_info.Category != 'Default'][['Total']].max()[0]\n",
    "for l in vis_data.topic_info.Category.unique().tolist():\n",
    "    tmp_df = vis_data.topic_info[vis_data.topic_info.Category == l].sort_values(['Category', 'Freq'], ascending=[True, False]).groupby('Category').head()\n",
    "    sub_json = {}\n",
    "\n",
    "    hbar_json[l] = list(tmp_df[['Term', 'Freq', 'Total']].sort_values('Freq', ascending=False).reset_index().to_dict('index').values())\n",
    "    \n",
    "f = open('./dec/hbar_data.json', 'w')\n",
    "f.write(json.dumps(hbar_json, indent=4))\n",
    "f.close()"
   ]
  },
  {
   "cell_type": "markdown",
   "metadata": {},
   "source": [
    "#### 2. Scatter Chart"
   ]
  },
  {
   "cell_type": "code",
   "execution_count": 63,
   "metadata": {},
   "outputs": [
    {
     "name": "stderr",
     "output_type": "stream",
     "text": [
      "/Users/gracelee/.pyenv/versions/for_jupyter/lib/python3.5/site-packages/ipykernel_launcher.py:3: SettingWithCopyWarning: \n",
      "A value is trying to be set on a copy of a slice from a DataFrame.\n",
      "Try using .loc[row_indexer,col_indexer] = value instead\n",
      "\n",
      "See the caveats in the documentation: http://pandas.pydata.org/pandas-docs/stable/indexing.html#indexing-view-versus-copy\n",
      "  This is separate from the ipykernel package so we can avoid doing imports until\n"
     ]
    },
    {
     "data": {
      "text/html": [
       "<div>\n",
       "<style scoped>\n",
       "    .dataframe tbody tr th:only-of-type {\n",
       "        vertical-align: middle;\n",
       "    }\n",
       "\n",
       "    .dataframe tbody tr th {\n",
       "        vertical-align: top;\n",
       "    }\n",
       "\n",
       "    .dataframe thead th {\n",
       "        text-align: right;\n",
       "    }\n",
       "</style>\n",
       "<table border=\"1\" class=\"dataframe\">\n",
       "  <thead>\n",
       "    <tr style=\"text-align: right;\">\n",
       "      <th></th>\n",
       "      <th>id</th>\n",
       "      <th>document</th>\n",
       "      <th>topic</th>\n",
       "      <th>plot_x</th>\n",
       "      <th>plot_y</th>\n",
       "    </tr>\n",
       "  </thead>\n",
       "  <tbody>\n",
       "    <tr>\n",
       "      <th>0</th>\n",
       "      <td>0</td>\n",
       "      <td>Hazard Ratio  (and 95% Confidence Intervals)  in Univariate and Multivariate Analysis of Predictors of Major Cardiac Events  (Cardiac Death or Worsening of Heart Failure Leading to Heart Transplantation)</td>\n",
       "      <td>4</td>\n",
       "      <td>9.664474</td>\n",
       "      <td>8.992035</td>\n",
       "    </tr>\n",
       "    <tr>\n",
       "      <th>1</th>\n",
       "      <td>1</td>\n",
       "      <td>Left Ventricular and Right Ventricular Ejection Fractions, Left Ventricular and Right Ventricular Mean Phases, Left-to-Right Mean Phase Difference  (L-RMP)  and Phase Standard Deviations for Both Ventricles in 30 Cases of Left Sided WPW legend</td>\n",
       "      <td>7</td>\n",
       "      <td>23.601093</td>\n",
       "      <td>-15.201797</td>\n",
       "    </tr>\n",
       "    <tr>\n",
       "      <th>2</th>\n",
       "      <td>2</td>\n",
       "      <td>Partial Regression Coefficients  (All Subjects, n = 262)  for Forward Stepwise Linear Regression for Dependent Variables Augmentation Pressure and Augmentation Index    legend</td>\n",
       "      <td>7</td>\n",
       "      <td>11.646137</td>\n",
       "      <td>0.977639</td>\n",
       "    </tr>\n",
       "    <tr>\n",
       "      <th>3</th>\n",
       "      <td>3</td>\n",
       "      <td>Left Ventricular  (LVEF)  and Right Ventricular  (RVEF)  Ejection Fractions, Left Ventricular  (LVMP)  and Right Ventricular  (RVMP)  Mean Phases, Left-to-Right Mean Phase Difference  (L-RMP)  and Phase Standard Deviations  (LVPSD and RVPSD)  for Both Ventricles in 14 Cases of Right Sided WPW legend</td>\n",
       "      <td>7</td>\n",
       "      <td>23.601820</td>\n",
       "      <td>-15.202716</td>\n",
       "    </tr>\n",
       "    <tr>\n",
       "      <th>4</th>\n",
       "      <td>4</td>\n",
       "      <td>Predictors of Mortality by Multivariable Analysis: Variables Are Shown in the Order They Entered a Stepwise Cox Regression Model</td>\n",
       "      <td>7</td>\n",
       "      <td>8.242556</td>\n",
       "      <td>3.281180</td>\n",
       "    </tr>\n",
       "  </tbody>\n",
       "</table>\n",
       "</div>"
      ],
      "text/plain": [
       "   id  \\\n",
       "0   0   \n",
       "1   1   \n",
       "2   2   \n",
       "3   3   \n",
       "4   4   \n",
       "\n",
       "                                                                                                                                                                                                                                                                                                       document  \\\n",
       "0                                                                                                   Hazard Ratio  (and 95% Confidence Intervals)  in Univariate and Multivariate Analysis of Predictors of Major Cardiac Events  (Cardiac Death or Worsening of Heart Failure Leading to Heart Transplantation)   \n",
       "1                                                           Left Ventricular and Right Ventricular Ejection Fractions, Left Ventricular and Right Ventricular Mean Phases, Left-to-Right Mean Phase Difference  (L-RMP)  and Phase Standard Deviations for Both Ventricles in 30 Cases of Left Sided WPW legend   \n",
       "2                                                                                                                               Partial Regression Coefficients  (All Subjects, n = 262)  for Forward Stepwise Linear Regression for Dependent Variables Augmentation Pressure and Augmentation Index    legend   \n",
       "3  Left Ventricular  (LVEF)  and Right Ventricular  (RVEF)  Ejection Fractions, Left Ventricular  (LVMP)  and Right Ventricular  (RVMP)  Mean Phases, Left-to-Right Mean Phase Difference  (L-RMP)  and Phase Standard Deviations  (LVPSD and RVPSD)  for Both Ventricles in 14 Cases of Right Sided WPW legend   \n",
       "4                                                                                                                                                                              Predictors of Mortality by Multivariable Analysis: Variables Are Shown in the Order They Entered a Stepwise Cox Regression Model   \n",
       "\n",
       "   topic     plot_x     plot_y  \n",
       "0      4   9.664474   8.992035  \n",
       "1      7  23.601093 -15.201797  \n",
       "2      7  11.646137   0.977639  \n",
       "3      7  23.601820 -15.202716  \n",
       "4      7   8.242556   3.281180  "
      ]
     },
     "execution_count": 63,
     "metadata": {},
     "output_type": "execute_result"
    }
   ],
   "source": [
    "doc_result = documents[['index', 'Origin_Text']]\n",
    "doc_result.columns = ['id', 'document']\n",
    "doc_result['topic'] = y_pred\n",
    "doc_result = pd.merge(doc_result, pd.DataFrame(tsne_result, columns=['plot_x', 'plot_y']), left_index=True, right_index=True)\n",
    "\n",
    "doc_result.head()"
   ]
  },
  {
   "cell_type": "code",
   "execution_count": 66,
   "metadata": {},
   "outputs": [],
   "source": [
    "scatter_json = list(doc_result[['id', 'plot_x', 'plot_y', 'topic']].to_dict('index').values())\n",
    "\n",
    "f = open('./dec/scatter_data.json', 'w')\n",
    "f.write(json.dumps(scatter_json, indent=4))\n",
    "f.close()"
   ]
  },
  {
   "cell_type": "markdown",
   "metadata": {},
   "source": [
    "#### 3. Table"
   ]
  },
  {
   "cell_type": "code",
   "execution_count": 67,
   "metadata": {},
   "outputs": [],
   "source": [
    "doc_result.to_csv('dec.tsv', sep='\\t', index_label=False)"
   ]
  },
  {
   "cell_type": "code",
   "execution_count": null,
   "metadata": {},
   "outputs": [],
   "source": []
  }
 ],
 "metadata": {
  "kernelspec": {
   "display_name": "Python 3",
   "language": "python",
   "name": "python3"
  },
  "language_info": {
   "codemirror_mode": {
    "name": "ipython",
    "version": 3
   },
   "file_extension": ".py",
   "mimetype": "text/x-python",
   "name": "python",
   "nbconvert_exporter": "python",
   "pygments_lexer": "ipython3",
   "version": "3.5.4"
  }
 },
 "nbformat": 4,
 "nbformat_minor": 2
}
