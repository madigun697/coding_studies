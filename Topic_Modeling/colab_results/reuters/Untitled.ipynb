{
 "cells": [
  {
   "cell_type": "code",
   "execution_count": 1,
   "metadata": {},
   "outputs": [],
   "source": [
    "import pandas as pd"
   ]
  },
  {
   "cell_type": "code",
   "execution_count": 3,
   "metadata": {},
   "outputs": [],
   "source": [
    "df = pd.read_csv('./reuter21578.tsv', sep='\\t')"
   ]
  },
  {
   "cell_type": "code",
   "execution_count": 6,
   "metadata": {},
   "outputs": [
    {
     "data": {
      "text/plain": [
       "10377"
      ]
     },
     "execution_count": 6,
     "metadata": {},
     "output_type": "execute_result"
    }
   ],
   "source": [
    "len(df)"
   ]
  },
  {
   "cell_type": "code",
   "execution_count": 7,
   "metadata": {},
   "outputs": [
    {
     "data": {
      "text/html": [
       "<div>\n",
       "<style scoped>\n",
       "    .dataframe tbody tr th:only-of-type {\n",
       "        vertical-align: middle;\n",
       "    }\n",
       "\n",
       "    .dataframe tbody tr th {\n",
       "        vertical-align: top;\n",
       "    }\n",
       "\n",
       "    .dataframe thead th {\n",
       "        text-align: right;\n",
       "    }\n",
       "</style>\n",
       "<table border=\"1\" class=\"dataframe\">\n",
       "  <thead>\n",
       "    <tr style=\"text-align: right;\">\n",
       "      <th></th>\n",
       "      <th>Unnamed: 0</th>\n",
       "      <th>text</th>\n",
       "      <th>topics</th>\n",
       "      <th>new_topic</th>\n",
       "    </tr>\n",
       "  </thead>\n",
       "  <tbody>\n",
       "    <tr>\n",
       "      <th>0</th>\n",
       "      <td>0</td>\n",
       "      <td>Showers continued throughout the week in the B...</td>\n",
       "      <td>cocoa</td>\n",
       "      <td>Commodity</td>\n",
       "    </tr>\n",
       "    <tr>\n",
       "      <th>1</th>\n",
       "      <td>1</td>\n",
       "      <td>The U.S. Agriculture Department reported the f...</td>\n",
       "      <td>grain</td>\n",
       "      <td>Commodity</td>\n",
       "    </tr>\n",
       "    <tr>\n",
       "      <th>2</th>\n",
       "      <td>2</td>\n",
       "      <td>Argentine grain board figures show crop regist...</td>\n",
       "      <td>veg-oil</td>\n",
       "      <td>Commodity</td>\n",
       "    </tr>\n",
       "    <tr>\n",
       "      <th>3</th>\n",
       "      <td>3</td>\n",
       "      <td>Champion Products Inc said its board of direct...</td>\n",
       "      <td>earn</td>\n",
       "      <td>Corporate</td>\n",
       "    </tr>\n",
       "    <tr>\n",
       "      <th>4</th>\n",
       "      <td>4</td>\n",
       "      <td>Computer Terminal Systems Inc said it has comp...</td>\n",
       "      <td>acq</td>\n",
       "      <td>Corporate</td>\n",
       "    </tr>\n",
       "  </tbody>\n",
       "</table>\n",
       "</div>"
      ],
      "text/plain": [
       "   Unnamed: 0                                               text   topics  \\\n",
       "0           0  Showers continued throughout the week in the B...    cocoa   \n",
       "1           1  The U.S. Agriculture Department reported the f...    grain   \n",
       "2           2  Argentine grain board figures show crop regist...  veg-oil   \n",
       "3           3  Champion Products Inc said its board of direct...     earn   \n",
       "4           4  Computer Terminal Systems Inc said it has comp...      acq   \n",
       "\n",
       "   new_topic  \n",
       "0  Commodity  \n",
       "1  Commodity  \n",
       "2  Commodity  \n",
       "3  Corporate  \n",
       "4  Corporate  "
      ]
     },
     "execution_count": 7,
     "metadata": {},
     "output_type": "execute_result"
    }
   ],
   "source": [
    "df.head()"
   ]
  },
  {
   "cell_type": "code",
   "execution_count": 8,
   "metadata": {},
   "outputs": [
    {
     "data": {
      "text/plain": [
       "array(['Commodity', 'Corporate', 'Economic', 'Subject', 'Energy',\n",
       "       'Currency'], dtype=object)"
      ]
     },
     "execution_count": 8,
     "metadata": {},
     "output_type": "execute_result"
    }
   ],
   "source": [
    "df.new_topic.unique()"
   ]
  },
  {
   "cell_type": "code",
   "execution_count": 9,
   "metadata": {},
   "outputs": [
    {
     "data": {
      "text/plain": [
       "array(['cocoa', 'grain', 'veg-oil', 'earn', 'acq', 'wheat', 'copper',\n",
       "       'housing', 'coffee', 'sugar', 'trade', 'reserves', 'ship',\n",
       "       'money-supply', 'cotton', 'carcass', 'crude', 'nat-gas', 'cpi',\n",
       "       'money-fx', 'interest', 'gnp', 'soybean', 'meal-feed', 'alum',\n",
       "       'tea', 'oilseed', 'gold', 'tin', 'strategic-metal', 'livestock',\n",
       "       'retail', 'ipi', 'iron-steel', 'rubber', 'propane', 'heat', 'jobs',\n",
       "       'lei', 'bop', 'zinc', 'orange', 'pet-chem', 'gas', 'silver', 'wpi',\n",
       "       'fishmeal', 'hog', 'dlr', 'lumber', 'tapioca', 'instal-debt',\n",
       "       'lead', 'potato', 'l-cattle', 'rice', 'nickel', 'inventories',\n",
       "       'cpu', 'corn', 'fuel', 'jet', 'income', 'rand', 'platinum',\n",
       "       'saudriyal', 'nzdlr', 'palm-oil', 'coconut', 'rapeseed', 'stg',\n",
       "       'groundnut', 'wool', 'austdlr', 'soy-meal', 'plywood', 'barley',\n",
       "       'yen', 'f-cattle', 'hk', 'naphtha'], dtype=object)"
      ]
     },
     "execution_count": 9,
     "metadata": {},
     "output_type": "execute_result"
    }
   ],
   "source": [
    "df.topics.unique()"
   ]
  },
  {
   "cell_type": "code",
   "execution_count": null,
   "metadata": {},
   "outputs": [],
   "source": []
  }
 ],
 "metadata": {
  "kernelspec": {
   "display_name": "Python 3",
   "language": "python",
   "name": "python3"
  },
  "language_info": {
   "codemirror_mode": {
    "name": "ipython",
    "version": 3
   },
   "file_extension": ".py",
   "mimetype": "text/x-python",
   "name": "python",
   "nbconvert_exporter": "python",
   "pygments_lexer": "ipython3",
   "version": "3.5.4"
  }
 },
 "nbformat": 4,
 "nbformat_minor": 2
}
