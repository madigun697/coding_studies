{
 "cells": [
  {
   "cell_type": "markdown",
   "metadata": {
    "colab_type": "text",
    "id": "5TsKdaZaYb6S"
   },
   "source": [
    "# Topic Modeling using K-Means\n",
    "\n",
    "### References\n",
    "\n",
    "* Data: Drug Dataset (400EA)\n",
    "* Preprocess: https://towardsdatascience.com/topic-modeling-and-latent-dirichlet-allocation-in-python-9bf156893c24\n",
    "* K-Means: https://lovit.github.io/nlp/2018/09/27/pyldavis_kmeans/#topic=0&lambda=1&term="
   ]
  },
  {
   "cell_type": "markdown",
   "metadata": {
    "colab_type": "text",
    "id": "aBHXrVXj9rsK"
   },
   "source": [
    "### Load Raw Data"
   ]
  },
  {
   "cell_type": "code",
   "execution_count": 1,
   "metadata": {
    "colab": {},
    "colab_type": "code",
    "id": "Ut-GgvMmTiG6"
   },
   "outputs": [],
   "source": [
    "import pandas as pd\n",
    "\n",
    "pd.set_option('display.max_colwidth', 999)\n",
    "news_data = pd.read_csv('./mallet_top_sen.tsv', sep='\\t')"
   ]
  },
  {
   "cell_type": "code",
   "execution_count": 2,
   "metadata": {
    "colab": {
     "base_uri": "https://localhost:8080/",
     "height": 197
    },
    "colab_type": "code",
    "executionInfo": {
     "elapsed": 1239,
     "status": "ok",
     "timestamp": 1541566038639,
     "user": {
      "displayName": "유주형",
      "photoUrl": "https://lh5.googleusercontent.com/-fg1dF67RQts/AAAAAAAAAAI/AAAAAAAAeAQ/W4wNdGVPToE/s64/photo.jpg",
      "userId": "03494144523560780027"
     },
     "user_tz": -540
    },
    "id": "B6iJDggyXxMH",
    "outputId": "5391d2f4-6a96-4566-c58e-925f7375d47a"
   },
   "outputs": [
    {
     "data": {
      "text/html": [
       "<div>\n",
       "<style scoped>\n",
       "    .dataframe tbody tr th:only-of-type {\n",
       "        vertical-align: middle;\n",
       "    }\n",
       "\n",
       "    .dataframe tbody tr th {\n",
       "        vertical-align: top;\n",
       "    }\n",
       "\n",
       "    .dataframe thead th {\n",
       "        text-align: right;\n",
       "    }\n",
       "</style>\n",
       "<table border=\"1\" class=\"dataframe\">\n",
       "  <thead>\n",
       "    <tr style=\"text-align: right;\">\n",
       "      <th></th>\n",
       "      <th>Unnamed: 0</th>\n",
       "      <th>id</th>\n",
       "      <th>Topic_Num</th>\n",
       "      <th>Topic_Perc_Contribu</th>\n",
       "      <th>Topic_Keywords</th>\n",
       "      <th>Origin_Text</th>\n",
       "      <th>Text</th>\n",
       "    </tr>\n",
       "  </thead>\n",
       "  <tbody>\n",
       "    <tr>\n",
       "      <th>0</th>\n",
       "      <td>0</td>\n",
       "      <td>44029</td>\n",
       "      <td>0.0</td>\n",
       "      <td>0.2935</td>\n",
       "      <td>analysi, multivari, regress, variabl, model, predictor, cardiac, time, univari, heart</td>\n",
       "      <td>Hazard Ratio  (and 95% Confidence Intervals)  in Univariate and Multivariate Analysis of Predictors of Major Cardiac Events  (Cardiac Death or Worsening of Heart Failure Leading to Heart Transplantation)</td>\n",
       "      <td>['hazard', 'ratio', 'confid', 'interv', 'univari', 'multivari', 'analysi', 'predictor', 'major', 'cardiac', 'event', 'cardiac', 'death', 'worsen', 'heart', 'failur', 'lead', 'heart', 'transplant']</td>\n",
       "    </tr>\n",
       "    <tr>\n",
       "      <th>1</th>\n",
       "      <td>1</td>\n",
       "      <td>23344</td>\n",
       "      <td>0.0</td>\n",
       "      <td>0.2836</td>\n",
       "      <td>analysi, multivari, regress, variabl, model, predictor, cardiac, time, univari, heart</td>\n",
       "      <td>Left Ventricular and Right Ventricular Ejection Fractions, Left Ventricular and Right Ventricular Mean Phases, Left-to-Right Mean Phase Difference  (L-RMP)  and Phase Standard Deviations for Both Ventricles in 30 Cases of Left Sided WPW legend</td>\n",
       "      <td>['leav', 'ventricular', 'right', 'ventricular', 'eject', 'fraction', 'leav', 'ventricular', 'right', 'ventricular', 'mean', 'phase', 'leav', 'right', 'mean', 'phase', 'differ', 'rmp', 'phase', 'standard', 'deviat', 'ventricl', 'case', 'leav', 'side', 'wpw']</td>\n",
       "    </tr>\n",
       "    <tr>\n",
       "      <th>2</th>\n",
       "      <td>2</td>\n",
       "      <td>41163</td>\n",
       "      <td>0.0</td>\n",
       "      <td>0.2817</td>\n",
       "      <td>analysi, multivari, regress, variabl, model, predictor, cardiac, time, univari, heart</td>\n",
       "      <td>Partial Regression Coefficients  (All Subjects, n = 262)  for Forward Stepwise Linear Regression for Dependent Variables Augmentation Pressure and Augmentation Index    legend</td>\n",
       "      <td>['partial', 'regress', 'coeffici', 'subject', 'forward', 'stepwis', 'linear', 'regress', 'depend', 'variabl', 'augment', 'pressur', 'augment', 'index']</td>\n",
       "    </tr>\n",
       "    <tr>\n",
       "      <th>3</th>\n",
       "      <td>3</td>\n",
       "      <td>23343</td>\n",
       "      <td>0.0</td>\n",
       "      <td>0.2797</td>\n",
       "      <td>analysi, multivari, regress, variabl, model, predictor, cardiac, time, univari, heart</td>\n",
       "      <td>Left Ventricular  (LVEF)  and Right Ventricular  (RVEF)  Ejection Fractions, Left Ventricular  (LVMP)  and Right Ventricular  (RVMP)  Mean Phases, Left-to-Right Mean Phase Difference  (L-RMP)  and Phase Standard Deviations  (LVPSD and RVPSD)  for Both Ventricles in 14 Cases of Right Sided WPW legend</td>\n",
       "      <td>['leav', 'ventricular', 'lvef', 'right', 'ventricular', 'rvef', 'eject', 'fraction', 'leav', 'ventricular', 'lvmp', 'right', 'ventricular', 'rvmp', 'mean', 'phase', 'leav', 'right', 'mean', 'phase', 'differ', 'rmp', 'phase', 'standard', 'deviat', 'lvpsd', 'rvpsd', 'ventricl', 'case', 'right', 'side', 'wpw']</td>\n",
       "    </tr>\n",
       "    <tr>\n",
       "      <th>4</th>\n",
       "      <td>4</td>\n",
       "      <td>24968</td>\n",
       "      <td>0.0</td>\n",
       "      <td>0.2782</td>\n",
       "      <td>analysi, multivari, regress, variabl, model, predictor, cardiac, time, univari, heart</td>\n",
       "      <td>Predictors of Mortality by Multivariable Analysis: Variables Are Shown in the Order They Entered a Stepwise Cox Regression Model</td>\n",
       "      <td>['predictor', 'mortal', 'multivari', 'analysi', 'variabl', 'show', 'order', 'enter', 'stepwis', 'cox', 'regress', 'model']</td>\n",
       "    </tr>\n",
       "  </tbody>\n",
       "</table>\n",
       "</div>"
      ],
      "text/plain": [
       "   Unnamed: 0     id  Topic_Num  Topic_Perc_Contribu  \\\n",
       "0           0  44029        0.0               0.2935   \n",
       "1           1  23344        0.0               0.2836   \n",
       "2           2  41163        0.0               0.2817   \n",
       "3           3  23343        0.0               0.2797   \n",
       "4           4  24968        0.0               0.2782   \n",
       "\n",
       "                                                                          Topic_Keywords  \\\n",
       "0  analysi, multivari, regress, variabl, model, predictor, cardiac, time, univari, heart   \n",
       "1  analysi, multivari, regress, variabl, model, predictor, cardiac, time, univari, heart   \n",
       "2  analysi, multivari, regress, variabl, model, predictor, cardiac, time, univari, heart   \n",
       "3  analysi, multivari, regress, variabl, model, predictor, cardiac, time, univari, heart   \n",
       "4  analysi, multivari, regress, variabl, model, predictor, cardiac, time, univari, heart   \n",
       "\n",
       "                                                                                                                                                                                                                                                                                                    Origin_Text  \\\n",
       "0                                                                                                   Hazard Ratio  (and 95% Confidence Intervals)  in Univariate and Multivariate Analysis of Predictors of Major Cardiac Events  (Cardiac Death or Worsening of Heart Failure Leading to Heart Transplantation)   \n",
       "1                                                           Left Ventricular and Right Ventricular Ejection Fractions, Left Ventricular and Right Ventricular Mean Phases, Left-to-Right Mean Phase Difference  (L-RMP)  and Phase Standard Deviations for Both Ventricles in 30 Cases of Left Sided WPW legend   \n",
       "2                                                                                                                               Partial Regression Coefficients  (All Subjects, n = 262)  for Forward Stepwise Linear Regression for Dependent Variables Augmentation Pressure and Augmentation Index    legend   \n",
       "3  Left Ventricular  (LVEF)  and Right Ventricular  (RVEF)  Ejection Fractions, Left Ventricular  (LVMP)  and Right Ventricular  (RVMP)  Mean Phases, Left-to-Right Mean Phase Difference  (L-RMP)  and Phase Standard Deviations  (LVPSD and RVPSD)  for Both Ventricles in 14 Cases of Right Sided WPW legend   \n",
       "4                                                                                                                                                                              Predictors of Mortality by Multivariable Analysis: Variables Are Shown in the Order They Entered a Stepwise Cox Regression Model   \n",
       "\n",
       "                                                                                                                                                                                                                                                                                                                   Text  \n",
       "0                                                                                                                  ['hazard', 'ratio', 'confid', 'interv', 'univari', 'multivari', 'analysi', 'predictor', 'major', 'cardiac', 'event', 'cardiac', 'death', 'worsen', 'heart', 'failur', 'lead', 'heart', 'transplant']  \n",
       "1                                                     ['leav', 'ventricular', 'right', 'ventricular', 'eject', 'fraction', 'leav', 'ventricular', 'right', 'ventricular', 'mean', 'phase', 'leav', 'right', 'mean', 'phase', 'differ', 'rmp', 'phase', 'standard', 'deviat', 'ventricl', 'case', 'leav', 'side', 'wpw']  \n",
       "2                                                                                                                                                               ['partial', 'regress', 'coeffici', 'subject', 'forward', 'stepwis', 'linear', 'regress', 'depend', 'variabl', 'augment', 'pressur', 'augment', 'index']  \n",
       "3  ['leav', 'ventricular', 'lvef', 'right', 'ventricular', 'rvef', 'eject', 'fraction', 'leav', 'ventricular', 'lvmp', 'right', 'ventricular', 'rvmp', 'mean', 'phase', 'leav', 'right', 'mean', 'phase', 'differ', 'rmp', 'phase', 'standard', 'deviat', 'lvpsd', 'rvpsd', 'ventricl', 'case', 'right', 'side', 'wpw']  \n",
       "4                                                                                                                                                                                            ['predictor', 'mortal', 'multivari', 'analysi', 'variabl', 'show', 'order', 'enter', 'stepwis', 'cox', 'regress', 'model']  "
      ]
     },
     "execution_count": 2,
     "metadata": {},
     "output_type": "execute_result"
    }
   ],
   "source": [
    "news_data.head()"
   ]
  },
  {
   "cell_type": "markdown",
   "metadata": {
    "colab_type": "text",
    "id": "ePl8Ln9b_8NV"
   },
   "source": [
    "#### Extract target data"
   ]
  },
  {
   "cell_type": "code",
   "execution_count": 3,
   "metadata": {
    "colab": {
     "base_uri": "https://localhost:8080/",
     "height": 197
    },
    "colab_type": "code",
    "executionInfo": {
     "elapsed": 1256,
     "status": "ok",
     "timestamp": 1541566040044,
     "user": {
      "displayName": "유주형",
      "photoUrl": "https://lh5.googleusercontent.com/-fg1dF67RQts/AAAAAAAAAAI/AAAAAAAAeAQ/W4wNdGVPToE/s64/photo.jpg",
      "userId": "03494144523560780027"
     },
     "user_tz": -540
    },
    "id": "aFIUgkTfZ2Jl",
    "outputId": "a537fb6a-b4a6-4a96-be3e-c4676af07360"
   },
   "outputs": [
    {
     "name": "stderr",
     "output_type": "stream",
     "text": [
      "/Users/gracelee/.pyenv/versions/for_jupyter/lib/python3.5/site-packages/ipykernel_launcher.py:2: SettingWithCopyWarning: \n",
      "A value is trying to be set on a copy of a slice from a DataFrame.\n",
      "Try using .loc[row_indexer,col_indexer] = value instead\n",
      "\n",
      "See the caveats in the documentation: http://pandas.pydata.org/pandas-docs/stable/indexing.html#indexing-view-versus-copy\n",
      "  \n"
     ]
    },
    {
     "data": {
      "text/html": [
       "<div>\n",
       "<style scoped>\n",
       "    .dataframe tbody tr th:only-of-type {\n",
       "        vertical-align: middle;\n",
       "    }\n",
       "\n",
       "    .dataframe tbody tr th {\n",
       "        vertical-align: top;\n",
       "    }\n",
       "\n",
       "    .dataframe thead th {\n",
       "        text-align: right;\n",
       "    }\n",
       "</style>\n",
       "<table border=\"1\" class=\"dataframe\">\n",
       "  <thead>\n",
       "    <tr style=\"text-align: right;\">\n",
       "      <th></th>\n",
       "      <th>Origin_Text</th>\n",
       "      <th>index</th>\n",
       "    </tr>\n",
       "  </thead>\n",
       "  <tbody>\n",
       "    <tr>\n",
       "      <th>0</th>\n",
       "      <td>Hazard Ratio  (and 95% Confidence Intervals)  in Univariate and Multivariate Analysis of Predictors of Major Cardiac Events  (Cardiac Death or Worsening of Heart Failure Leading to Heart Transplantation)</td>\n",
       "      <td>0</td>\n",
       "    </tr>\n",
       "    <tr>\n",
       "      <th>1</th>\n",
       "      <td>Left Ventricular and Right Ventricular Ejection Fractions, Left Ventricular and Right Ventricular Mean Phases, Left-to-Right Mean Phase Difference  (L-RMP)  and Phase Standard Deviations for Both Ventricles in 30 Cases of Left Sided WPW legend</td>\n",
       "      <td>1</td>\n",
       "    </tr>\n",
       "    <tr>\n",
       "      <th>2</th>\n",
       "      <td>Partial Regression Coefficients  (All Subjects, n = 262)  for Forward Stepwise Linear Regression for Dependent Variables Augmentation Pressure and Augmentation Index    legend</td>\n",
       "      <td>2</td>\n",
       "    </tr>\n",
       "    <tr>\n",
       "      <th>3</th>\n",
       "      <td>Left Ventricular  (LVEF)  and Right Ventricular  (RVEF)  Ejection Fractions, Left Ventricular  (LVMP)  and Right Ventricular  (RVMP)  Mean Phases, Left-to-Right Mean Phase Difference  (L-RMP)  and Phase Standard Deviations  (LVPSD and RVPSD)  for Both Ventricles in 14 Cases of Right Sided WPW legend</td>\n",
       "      <td>3</td>\n",
       "    </tr>\n",
       "    <tr>\n",
       "      <th>4</th>\n",
       "      <td>Predictors of Mortality by Multivariable Analysis: Variables Are Shown in the Order They Entered a Stepwise Cox Regression Model</td>\n",
       "      <td>4</td>\n",
       "    </tr>\n",
       "  </tbody>\n",
       "</table>\n",
       "</div>"
      ],
      "text/plain": [
       "                                                                                                                                                                                                                                                                                                    Origin_Text  \\\n",
       "0                                                                                                   Hazard Ratio  (and 95% Confidence Intervals)  in Univariate and Multivariate Analysis of Predictors of Major Cardiac Events  (Cardiac Death or Worsening of Heart Failure Leading to Heart Transplantation)   \n",
       "1                                                           Left Ventricular and Right Ventricular Ejection Fractions, Left Ventricular and Right Ventricular Mean Phases, Left-to-Right Mean Phase Difference  (L-RMP)  and Phase Standard Deviations for Both Ventricles in 30 Cases of Left Sided WPW legend   \n",
       "2                                                                                                                               Partial Regression Coefficients  (All Subjects, n = 262)  for Forward Stepwise Linear Regression for Dependent Variables Augmentation Pressure and Augmentation Index    legend   \n",
       "3  Left Ventricular  (LVEF)  and Right Ventricular  (RVEF)  Ejection Fractions, Left Ventricular  (LVMP)  and Right Ventricular  (RVMP)  Mean Phases, Left-to-Right Mean Phase Difference  (L-RMP)  and Phase Standard Deviations  (LVPSD and RVPSD)  for Both Ventricles in 14 Cases of Right Sided WPW legend   \n",
       "4                                                                                                                                                                              Predictors of Mortality by Multivariable Analysis: Variables Are Shown in the Order They Entered a Stepwise Cox Regression Model   \n",
       "\n",
       "   index  \n",
       "0      0  \n",
       "1      1  \n",
       "2      2  \n",
       "3      3  \n",
       "4      4  "
      ]
     },
     "execution_count": 3,
     "metadata": {},
     "output_type": "execute_result"
    }
   ],
   "source": [
    "data_text = news_data[['Origin_Text']]\n",
    "data_text['index'] = news_data[['Unnamed: 0']]\n",
    "documents = data_text\n",
    "documents.head()"
   ]
  },
  {
   "cell_type": "markdown",
   "metadata": {},
   "source": [
    "----"
   ]
  },
  {
   "cell_type": "markdown",
   "metadata": {
    "colab_type": "text",
    "id": "2_GA1U3fAECz"
   },
   "source": [
    "### Preprocessing\n",
    "\n",
    "* Import Libraries"
   ]
  },
  {
   "cell_type": "code",
   "execution_count": 4,
   "metadata": {},
   "outputs": [
    {
     "name": "stdout",
     "output_type": "stream",
     "text": [
      "Requirement already satisfied: gensim in /Users/gracelee/.pyenv/versions/3.5.4/envs/for_jupyter/lib/python3.5/site-packages\n",
      "Requirement already satisfied: six>=1.5.0 in /Users/gracelee/.pyenv/versions/3.5.4/envs/for_jupyter/lib/python3.5/site-packages (from gensim)\n",
      "Requirement already satisfied: smart-open>=1.2.1 in /Users/gracelee/.pyenv/versions/3.5.4/envs/for_jupyter/lib/python3.5/site-packages (from gensim)\n",
      "Requirement already satisfied: scipy>=0.18.1 in /Users/gracelee/.pyenv/versions/3.5.4/envs/for_jupyter/lib/python3.5/site-packages (from gensim)\n",
      "Requirement already satisfied: numpy>=1.11.3 in /Users/gracelee/.pyenv/versions/3.5.4/envs/for_jupyter/lib/python3.5/site-packages (from gensim)\n",
      "Requirement already satisfied: requests in /Users/gracelee/.pyenv/versions/3.5.4/envs/for_jupyter/lib/python3.5/site-packages (from smart-open>=1.2.1->gensim)\n",
      "Requirement already satisfied: bz2file in /Users/gracelee/.pyenv/versions/3.5.4/envs/for_jupyter/lib/python3.5/site-packages (from smart-open>=1.2.1->gensim)\n",
      "Requirement already satisfied: boto3 in /Users/gracelee/.pyenv/versions/3.5.4/envs/for_jupyter/lib/python3.5/site-packages (from smart-open>=1.2.1->gensim)\n",
      "Requirement already satisfied: boto>=2.32 in /Users/gracelee/.pyenv/versions/3.5.4/envs/for_jupyter/lib/python3.5/site-packages (from smart-open>=1.2.1->gensim)\n",
      "Requirement already satisfied: chardet<3.1.0,>=3.0.2 in /Users/gracelee/.pyenv/versions/3.5.4/envs/for_jupyter/lib/python3.5/site-packages (from requests->smart-open>=1.2.1->gensim)\n",
      "Requirement already satisfied: idna<2.8,>=2.5 in /Users/gracelee/.pyenv/versions/3.5.4/envs/for_jupyter/lib/python3.5/site-packages (from requests->smart-open>=1.2.1->gensim)\n",
      "Requirement already satisfied: urllib3<1.24,>=1.21.1 in /Users/gracelee/.pyenv/versions/3.5.4/envs/for_jupyter/lib/python3.5/site-packages (from requests->smart-open>=1.2.1->gensim)\n",
      "Requirement already satisfied: certifi>=2017.4.17 in /Users/gracelee/.pyenv/versions/3.5.4/envs/for_jupyter/lib/python3.5/site-packages (from requests->smart-open>=1.2.1->gensim)\n",
      "Requirement already satisfied: jmespath<1.0.0,>=0.7.1 in /Users/gracelee/.pyenv/versions/3.5.4/envs/for_jupyter/lib/python3.5/site-packages (from boto3->smart-open>=1.2.1->gensim)\n",
      "Requirement already satisfied: botocore<1.13.0,>=1.12.45 in /Users/gracelee/.pyenv/versions/3.5.4/envs/for_jupyter/lib/python3.5/site-packages (from boto3->smart-open>=1.2.1->gensim)\n",
      "Requirement already satisfied: s3transfer<0.2.0,>=0.1.10 in /Users/gracelee/.pyenv/versions/3.5.4/envs/for_jupyter/lib/python3.5/site-packages (from boto3->smart-open>=1.2.1->gensim)\n",
      "Requirement already satisfied: python-dateutil<3.0.0,>=2.1; python_version >= \"2.7\" in /Users/gracelee/.pyenv/versions/3.5.4/envs/for_jupyter/lib/python3.5/site-packages (from botocore<1.13.0,>=1.12.45->boto3->smart-open>=1.2.1->gensim)\n",
      "Requirement already satisfied: docutils>=0.10 in /Users/gracelee/.pyenv/versions/3.5.4/envs/for_jupyter/lib/python3.5/site-packages (from botocore<1.13.0,>=1.12.45->boto3->smart-open>=1.2.1->gensim)\n",
      "\u001b[33mYou are using pip version 9.0.1, however version 18.1 is available.\n",
      "You should consider upgrading via the 'pip install --upgrade pip' command.\u001b[0m\n"
     ]
    }
   ],
   "source": [
    "!pip install --trusted-host pypi.org --trusted-host files.pythonhosted.org gensim"
   ]
  },
  {
   "cell_type": "code",
   "execution_count": 5,
   "metadata": {},
   "outputs": [
    {
     "name": "stdout",
     "output_type": "stream",
     "text": [
      "Requirement already satisfied: nltk in /Users/gracelee/.pyenv/versions/3.5.4/envs/for_jupyter/lib/python3.5/site-packages\n",
      "Requirement already satisfied: six in /Users/gracelee/.pyenv/versions/3.5.4/envs/for_jupyter/lib/python3.5/site-packages (from nltk)\n",
      "\u001b[33mYou are using pip version 9.0.1, however version 18.1 is available.\n",
      "You should consider upgrading via the 'pip install --upgrade pip' command.\u001b[0m\n"
     ]
    }
   ],
   "source": [
    "!pip install --trusted-host pypi.org --trusted-host files.pythonhosted.org nltk"
   ]
  },
  {
   "cell_type": "code",
   "execution_count": 6,
   "metadata": {
    "colab": {
     "base_uri": "https://localhost:8080/",
     "height": 70
    },
    "colab_type": "code",
    "executionInfo": {
     "elapsed": 810,
     "status": "ok",
     "timestamp": 1541566041043,
     "user": {
      "displayName": "유주형",
      "photoUrl": "https://lh5.googleusercontent.com/-fg1dF67RQts/AAAAAAAAAAI/AAAAAAAAeAQ/W4wNdGVPToE/s64/photo.jpg",
      "userId": "03494144523560780027"
     },
     "user_tz": -540
    },
    "id": "EuX1F67TYXFc",
    "outputId": "c2c74f56-a6fb-466b-bb63-28a117cb62d9"
   },
   "outputs": [
    {
     "name": "stdout",
     "output_type": "stream",
     "text": [
      "[nltk_data] Downloading package wordnet to\n",
      "[nltk_data]     /Users/gracelee/nltk_data...\n",
      "[nltk_data]   Package wordnet is already up-to-date!\n"
     ]
    },
    {
     "data": {
      "text/plain": [
       "True"
      ]
     },
     "execution_count": 6,
     "metadata": {},
     "output_type": "execute_result"
    }
   ],
   "source": [
    "import gensim\n",
    "from gensim.utils import simple_preprocess\n",
    "from gensim.parsing.preprocessing import STOPWORDS\n",
    "from nltk.stem import WordNetLemmatizer, SnowballStemmer\n",
    "from nltk.stem.porter import *\n",
    "\n",
    "import numpy as np\n",
    "np.random.seed(2018)\n",
    "\n",
    "import nltk\n",
    "nltk.download('wordnet')"
   ]
  },
  {
   "cell_type": "markdown",
   "metadata": {
    "colab_type": "text",
    "id": "LO8jzrS7AIrp"
   },
   "source": [
    "* Preprocess\n",
    " 1. simple_preprocess: Split Text by whitespace\n",
    " 2. STOPWORDS: Remove stopwords\n",
    " 3. lemmatize_stemming\n",
    " \n",
    "* lemmatize_stemming\n",
    " - Lemmatizing & Stemming Replace word with original form\n",
    " - Lemmatizing consider whether the word exist in the real world\n",
    " - pos means a position of the word\n",
    " - https://m.blog.naver.com/PostView.nhn?blogId=vangarang&logNo=220963244354&proxyReferer=https%3A%2F%2Fwww.google.com%2F"
   ]
  },
  {
   "cell_type": "code",
   "execution_count": 7,
   "metadata": {
    "colab": {},
    "colab_type": "code",
    "id": "1V0FdvKJZezi"
   },
   "outputs": [],
   "source": [
    "def lemmatize_stemming(text):\n",
    "    stemmer = SnowballStemmer('english')\n",
    "    return stemmer.stem(WordNetLemmatizer().lemmatize(text, pos='v'))\n",
    "\n",
    "def preprocess(text):\n",
    "    result = []\n",
    "    for token in gensim.utils.simple_preprocess(text):\n",
    "        if token not in gensim.parsing.preprocessing.STOPWORDS and len(token) > 3:\n",
    "            result.append(lemmatize_stemming(token))\n",
    "    return result"
   ]
  },
  {
   "cell_type": "markdown",
   "metadata": {
    "colab_type": "text",
    "id": "0xJK8DKBJvSq"
   },
   "source": [
    "* Test"
   ]
  },
  {
   "cell_type": "code",
   "execution_count": 8,
   "metadata": {
    "colab": {
     "base_uri": "https://localhost:8080/",
     "height": 123
    },
    "colab_type": "code",
    "executionInfo": {
     "elapsed": 792,
     "status": "ok",
     "timestamp": 1541566043352,
     "user": {
      "displayName": "유주형",
      "photoUrl": "https://lh5.googleusercontent.com/-fg1dF67RQts/AAAAAAAAAAI/AAAAAAAAeAQ/W4wNdGVPToE/s64/photo.jpg",
      "userId": "03494144523560780027"
     },
     "user_tz": -540
    },
    "id": "AkEpG_ey86-3",
    "outputId": "f4f392d1-d5b0-436e-db0b-2fee33d68ba3"
   },
   "outputs": [
    {
     "name": "stdout",
     "output_type": "stream",
     "text": [
      "original document: \n",
      "['Treatment', 'efficacy', 'at', 'week', '36', 'for', 'the', 'modified', 'intention-to-treat', 'population', 'in', 'the', 'open-label', 'period', 'and', 'at', 'week', '88', 'for', 'the', 'modified', 'intention-to-treat', 'subpopulations', 'in', 'the', 'double-blind', 'period']\n",
      "\n",
      "\n",
      " tokenized and lemmatized document: \n",
      "['treatment', 'efficaci', 'week', 'modifi', 'intent', 'treat', 'popul', 'open', 'label', 'period', 'week', 'modifi', 'intent', 'treat', 'subpopul', 'doubl', 'blind', 'period']\n"
     ]
    }
   ],
   "source": [
    "doc_sample = documents[documents['index'] == 100].values[0][0]\n",
    "print('original document: ')\n",
    "\n",
    "words = []\n",
    "for word in doc_sample.split(' '):\n",
    "    words.append(word)\n",
    "print(words)\n",
    "\n",
    "print('\\n\\n tokenized and lemmatized document: ')\n",
    "print(preprocess(doc_sample))"
   ]
  },
  {
   "cell_type": "markdown",
   "metadata": {
    "colab_type": "text",
    "id": "go6me5u-TzlG"
   },
   "source": [
    "* Run"
   ]
  },
  {
   "cell_type": "code",
   "execution_count": 9,
   "metadata": {
    "colab": {
     "base_uri": "https://localhost:8080/",
     "height": 212
    },
    "colab_type": "code",
    "executionInfo": {
     "elapsed": 164587,
     "status": "ok",
     "timestamp": 1541566208089,
     "user": {
      "displayName": "유주형",
      "photoUrl": "https://lh5.googleusercontent.com/-fg1dF67RQts/AAAAAAAAAAI/AAAAAAAAeAQ/W4wNdGVPToE/s64/photo.jpg",
      "userId": "03494144523560780027"
     },
     "user_tz": -540
    },
    "id": "EGbICJX5aIMg",
    "outputId": "f32a035a-c555-4056-86ea-c971f2e07337"
   },
   "outputs": [
    {
     "name": "stdout",
     "output_type": "stream",
     "text": [
      "CPU times: user 618 ms, sys: 3.17 ms, total: 621 ms\n",
      "Wall time: 948 ms\n"
     ]
    },
    {
     "data": {
      "text/plain": [
       "0                                                                                        [hazard, ratio, confid, interv, univari, multivari, analysi, predictor, major, cardiac, event, cardiac, death, worsen, heart, failur, lead, heart, transplant]\n",
       "1                                           [leav, ventricular, right, ventricular, eject, fraction, leav, ventricular, right, ventricular, mean, phase, leav, right, mean, phase, differ, phase, standard, deviat, ventricl, case, leav, side, legend]\n",
       "2                                                                                                                   [partial, regress, coeffici, subject, forward, stepwis, linear, regress, depend, variabl, augment, pressur, augment, index, legend]\n",
       "3    [leav, ventricular, lvef, right, ventricular, rvef, eject, fraction, leav, ventricular, lvmp, right, ventricular, rvmp, mean, phase, leav, right, mean, phase, differ, phase, standard, deviat, lvpsd, rvpsd, ventricl, case, right, side, legend]\n",
       "4                                                                                                                                                         [predictor, mortal, multivari, analysi, variabl, show, order, enter, stepwis, regress, model]\n",
       "5                                                                [logist, regress, model, post, transplant, predictor, normal, leav, ventricular, eject, fraction, lvef, post, transplant, period, refer, group, group, lvef, post, transplant, period]\n",
       "6                                                                                                        [result, surviv, analysi, proport, hazard, model, combin, point, cardiac, mortal, urgent, heart, transplant, readmiss, congest, heart, failur]\n",
       "7                                                                                                    [impact, normal, versus, reduc, leav, ventricular, eject, fraction, mortal, congest, heart, failur, case, result, proport, hazard, regress, model]\n",
       "8                                                                                               [descript, leav, ventricular, eject, fraction, lvef, differ, time, period, time, transplant, evalu, wait, list, transplant, follow, kidney, transplant]\n",
       "9                                                                                                                                                              [univari, regress, analysi, proport, hazard, analysi, predictor, cardiac, death, legend]\n",
       "Name: Origin_Text, dtype: object"
      ]
     },
     "execution_count": 9,
     "metadata": {},
     "output_type": "execute_result"
    }
   ],
   "source": [
    "%time processed_docs = documents['Origin_Text'].map(preprocess)\n",
    "processed_docs[:10]"
   ]
  },
  {
   "cell_type": "markdown",
   "metadata": {},
   "source": [
    "----"
   ]
  },
  {
   "cell_type": "markdown",
   "metadata": {},
   "source": [
    "### T-SNE"
   ]
  },
  {
   "cell_type": "markdown",
   "metadata": {},
   "source": [
    "* https://datascienceschool.net/view-notebook/3e7aadbf88ed4f0d87a76f9ddc925d69/\n",
    "* https://lumiamitie.github.io/r/python/tsne-for-r-py/"
   ]
  },
  {
   "cell_type": "code",
   "execution_count": 10,
   "metadata": {},
   "outputs": [],
   "source": [
    "### TSNE모델에는 transform 메소드가 없고 fit_transform만 있음\n",
    "# library import\n",
    "import pandas as pd\n",
    "import numpy as np\n",
    "import matplotlib.pyplot as plt\n",
    "from sklearn.manifold import TSNE\n",
    "\n",
    "np.random.seed(2018)"
   ]
  },
  {
   "cell_type": "code",
   "execution_count": 11,
   "metadata": {},
   "outputs": [
    {
     "data": {
      "text/plain": [
       "list"
      ]
     },
     "execution_count": 11,
     "metadata": {},
     "output_type": "execute_result"
    }
   ],
   "source": [
    "type(documents['Origin_Text'].values.tolist())"
   ]
  },
  {
   "cell_type": "code",
   "execution_count": 12,
   "metadata": {},
   "outputs": [
    {
     "name": "stdout",
     "output_type": "stream",
     "text": [
      "CPU times: user 26.5 ms, sys: 1.78 ms, total: 28.3 ms\n",
      "Wall time: 39.1 ms\n",
      "CPU times: user 20.7 ms, sys: 2.94 ms, total: 23.6 ms\n",
      "Wall time: 28.6 ms\n"
     ]
    }
   ],
   "source": [
    "from sklearn.feature_extraction.text import CountVectorizer\n",
    "vect = CountVectorizer()\n",
    "%time vect.fit([' '.join(d) for d in processed_docs])\n",
    "%time tsne_data = vect.transform([' '.join(d) for d in processed_docs]).toarray()"
   ]
  },
  {
   "cell_type": "code",
   "execution_count": 13,
   "metadata": {},
   "outputs": [
    {
     "name": "stdout",
     "output_type": "stream",
     "text": [
      "CPU times: user 16.6 s, sys: 924 ms, total: 17.5 s\n",
      "Wall time: 26.8 s\n"
     ]
    }
   ],
   "source": [
    "%time tsne_result = TSNE(learning_rate=300, init='pca').fit_transform(np.array(tsne_data))"
   ]
  },
  {
   "cell_type": "code",
   "execution_count": 14,
   "metadata": {},
   "outputs": [
    {
     "data": {
      "text/plain": [
       "array([[  9.664474  ,   8.992035  ],\n",
       "       [ 23.601093  , -15.2017975 ],\n",
       "       [ 11.646137  ,   0.97763896],\n",
       "       [ 23.60182   , -15.202716  ],\n",
       "       [  8.242556  ,   3.2811804 ],\n",
       "       [ 13.225922  ,  -0.97631407],\n",
       "       [  5.6147494 ,   8.802479  ],\n",
       "       [  4.419053  ,   8.055964  ],\n",
       "       [ 12.462818  ,  -1.2678202 ],\n",
       "       [  9.879312  ,   5.7678313 ]], dtype=float32)"
      ]
     },
     "execution_count": 14,
     "metadata": {},
     "output_type": "execute_result"
    }
   ],
   "source": [
    "tsne_result[:10]"
   ]
  },
  {
   "cell_type": "markdown",
   "metadata": {},
   "source": [
    "----"
   ]
  },
  {
   "cell_type": "markdown",
   "metadata": {},
   "source": [
    "### K-Means"
   ]
  },
  {
   "cell_type": "code",
   "execution_count": 15,
   "metadata": {},
   "outputs": [],
   "source": [
    "from sklearn.feature_extraction.text import CountVectorizer\n",
    "from sklearn.preprocessing import normalize\n",
    "from sklearn.cluster import KMeans"
   ]
  },
  {
   "cell_type": "code",
   "execution_count": 16,
   "metadata": {},
   "outputs": [],
   "source": [
    "docs = list(documents.Origin_Text.values)\n",
    "\n",
    "# # vectorizing\n",
    "# vectorizer = CountVectorizer()\n",
    "# X = vectorizer.fit_transform(docs)\n",
    "\n",
    "# # L2 normalizing\n",
    "# X = normalize(X, norm='l2')"
   ]
  },
  {
   "cell_type": "code",
   "execution_count": 17,
   "metadata": {},
   "outputs": [],
   "source": [
    "X = normalize(tsne_data, norm='l2')"
   ]
  },
  {
   "cell_type": "code",
   "execution_count": 18,
   "metadata": {},
   "outputs": [],
   "source": [
    "kmeans_model = KMeans(n_clusters=8, init=\"random\", max_iter=30000).fit(X)"
   ]
  },
  {
   "cell_type": "code",
   "execution_count": 19,
   "metadata": {},
   "outputs": [],
   "source": [
    "# trained labels and cluster centers\n",
    "labels = kmeans_model.labels_\n",
    "centers = kmeans_model.cluster_centers_"
   ]
  },
  {
   "cell_type": "code",
   "execution_count": 38,
   "metadata": {},
   "outputs": [
    {
     "data": {
      "text/plain": [
       "array([ 2.60208521e-18, -2.16840434e-19,  1.30104261e-18, ...,\n",
       "        6.50521303e-19,  8.67361738e-19, -6.50521303e-19])"
      ]
     },
     "execution_count": 38,
     "metadata": {},
     "output_type": "execute_result"
    }
   ],
   "source": [
    "centers[0]"
   ]
  },
  {
   "cell_type": "code",
   "execution_count": 20,
   "metadata": {},
   "outputs": [
    {
     "name": "stdout",
     "output_type": "stream",
     "text": [
      "0 83\n",
      "1 47\n",
      "2 32\n",
      "3 62\n",
      "4 55\n",
      "5 17\n",
      "6 55\n",
      "7 49\n"
     ]
    }
   ],
   "source": [
    "for i in range(8):\n",
    "    print(i, np.sum(labels == i))"
   ]
  },
  {
   "cell_type": "markdown",
   "metadata": {},
   "source": [
    "----"
   ]
  },
  {
   "cell_type": "markdown",
   "metadata": {},
   "source": [
    "### K-Means 결과를 LDAvis로 시각화\n",
    "* https://lovit.github.io/nlp/2018/09/27/pyldavis_kmeans/#topic=0&lambda=1&term="
   ]
  },
  {
   "cell_type": "markdown",
   "metadata": {},
   "source": [
    "* topic_term_dists\n",
    "* doc_topic_dists\n",
    "* doc_lengths\n",
    "* vocab\n",
    "* term_frequency"
   ]
  },
  {
   "cell_type": "code",
   "execution_count": 21,
   "metadata": {},
   "outputs": [
    {
     "data": {
      "text/plain": [
       "1240"
      ]
     },
     "execution_count": 21,
     "metadata": {},
     "output_type": "execute_result"
    }
   ],
   "source": [
    "len(centers[1])"
   ]
  },
  {
   "cell_type": "code",
   "execution_count": 22,
   "metadata": {},
   "outputs": [],
   "source": [
    "import numpy as np\n",
    "\n",
    "doc_lengths = np.asarray(X.sum(axis=1)).reshape(-1)\n",
    "term_frequency = np.asarray(X.sum(axis=0)).reshape(-1)"
   ]
  },
  {
   "cell_type": "code",
   "execution_count": 23,
   "metadata": {},
   "outputs": [],
   "source": [
    "docwords = list(processed_docs.apply(lambda x: len(x)).values)\n",
    "vocab = list(set(np.sum(processed_docs.values)))"
   ]
  },
  {
   "cell_type": "code",
   "execution_count": 24,
   "metadata": {},
   "outputs": [],
   "source": [
    "from kmeans_to_pyLDAvis import kmeans_to_prepared_data\n",
    "\n",
    "vis_data = kmeans_to_prepared_data(\n",
    "    X,\n",
    "    vocab,\n",
    "    centers,\n",
    "    labels,\n",
    "    n_printed_words = 10,\n",
    "    radius = 5\n",
    ")"
   ]
  },
  {
   "cell_type": "markdown",
   "metadata": {},
   "source": [
    "----"
   ]
  },
  {
   "cell_type": "markdown",
   "metadata": {},
   "source": [
    "### Visualization\n",
    "\n",
    "#### 1. HBar Chart"
   ]
  },
  {
   "cell_type": "code",
   "execution_count": 25,
   "metadata": {},
   "outputs": [],
   "source": [
    "import json\n",
    "\n",
    "hbar_json = {}\n",
    "hbar_json['labels'] = vis_data.topic_info.Category.unique().tolist()\n",
    "hbar_json['max_width'] = vis_data.topic_info[vis_data.topic_info.Category != 'Default'][['Total']].max()[0]\n",
    "for l in vis_data.topic_info.Category.unique().tolist():\n",
    "    tmp_df = vis_data.topic_info[vis_data.topic_info.Category == l].sort_values(['Category', 'Freq'], ascending=[True, False]).groupby('Category').head()\n",
    "    sub_json = {}\n",
    "\n",
    "    hbar_json[l] = list(tmp_df[['Term', 'Freq', 'Total']].sort_values('Freq', ascending=False).reset_index().to_dict('index').values())\n",
    "    \n",
    "f = open('./Visualization/res/km/hbar_data.json', 'w')\n",
    "f.write(json.dumps(hbar_json, indent=4))\n",
    "f.close()"
   ]
  },
  {
   "cell_type": "markdown",
   "metadata": {},
   "source": [
    "#### 2. Scatter Chart"
   ]
  },
  {
   "cell_type": "code",
   "execution_count": 26,
   "metadata": {},
   "outputs": [
    {
     "name": "stderr",
     "output_type": "stream",
     "text": [
      "/Users/gracelee/.pyenv/versions/for_jupyter/lib/python3.5/site-packages/ipykernel_launcher.py:3: SettingWithCopyWarning: \n",
      "A value is trying to be set on a copy of a slice from a DataFrame.\n",
      "Try using .loc[row_indexer,col_indexer] = value instead\n",
      "\n",
      "See the caveats in the documentation: http://pandas.pydata.org/pandas-docs/stable/indexing.html#indexing-view-versus-copy\n",
      "  This is separate from the ipykernel package so we can avoid doing imports until\n"
     ]
    },
    {
     "data": {
      "text/html": [
       "<div>\n",
       "<style scoped>\n",
       "    .dataframe tbody tr th:only-of-type {\n",
       "        vertical-align: middle;\n",
       "    }\n",
       "\n",
       "    .dataframe tbody tr th {\n",
       "        vertical-align: top;\n",
       "    }\n",
       "\n",
       "    .dataframe thead th {\n",
       "        text-align: right;\n",
       "    }\n",
       "</style>\n",
       "<table border=\"1\" class=\"dataframe\">\n",
       "  <thead>\n",
       "    <tr style=\"text-align: right;\">\n",
       "      <th></th>\n",
       "      <th>id</th>\n",
       "      <th>document</th>\n",
       "      <th>topic</th>\n",
       "      <th>plot_x</th>\n",
       "      <th>plot_y</th>\n",
       "    </tr>\n",
       "  </thead>\n",
       "  <tbody>\n",
       "    <tr>\n",
       "      <th>0</th>\n",
       "      <td>0</td>\n",
       "      <td>Hazard Ratio  (and 95% Confidence Intervals)  in Univariate and Multivariate Analysis of Predictors of Major Cardiac Events  (Cardiac Death or Worsening of Heart Failure Leading to Heart Transplantation)</td>\n",
       "      <td>7</td>\n",
       "      <td>9.664474</td>\n",
       "      <td>8.992035</td>\n",
       "    </tr>\n",
       "    <tr>\n",
       "      <th>1</th>\n",
       "      <td>1</td>\n",
       "      <td>Left Ventricular and Right Ventricular Ejection Fractions, Left Ventricular and Right Ventricular Mean Phases, Left-to-Right Mean Phase Difference  (L-RMP)  and Phase Standard Deviations for Both Ventricles in 30 Cases of Left Sided WPW legend</td>\n",
       "      <td>3</td>\n",
       "      <td>23.601093</td>\n",
       "      <td>-15.201797</td>\n",
       "    </tr>\n",
       "    <tr>\n",
       "      <th>2</th>\n",
       "      <td>2</td>\n",
       "      <td>Partial Regression Coefficients  (All Subjects, n = 262)  for Forward Stepwise Linear Regression for Dependent Variables Augmentation Pressure and Augmentation Index    legend</td>\n",
       "      <td>7</td>\n",
       "      <td>11.646137</td>\n",
       "      <td>0.977639</td>\n",
       "    </tr>\n",
       "    <tr>\n",
       "      <th>3</th>\n",
       "      <td>3</td>\n",
       "      <td>Left Ventricular  (LVEF)  and Right Ventricular  (RVEF)  Ejection Fractions, Left Ventricular  (LVMP)  and Right Ventricular  (RVMP)  Mean Phases, Left-to-Right Mean Phase Difference  (L-RMP)  and Phase Standard Deviations  (LVPSD and RVPSD)  for Both Ventricles in 14 Cases of Right Sided WPW legend</td>\n",
       "      <td>3</td>\n",
       "      <td>23.601820</td>\n",
       "      <td>-15.202716</td>\n",
       "    </tr>\n",
       "    <tr>\n",
       "      <th>4</th>\n",
       "      <td>4</td>\n",
       "      <td>Predictors of Mortality by Multivariable Analysis: Variables Are Shown in the Order They Entered a Stepwise Cox Regression Model</td>\n",
       "      <td>7</td>\n",
       "      <td>8.242556</td>\n",
       "      <td>3.281180</td>\n",
       "    </tr>\n",
       "  </tbody>\n",
       "</table>\n",
       "</div>"
      ],
      "text/plain": [
       "   id  \\\n",
       "0   0   \n",
       "1   1   \n",
       "2   2   \n",
       "3   3   \n",
       "4   4   \n",
       "\n",
       "                                                                                                                                                                                                                                                                                                       document  \\\n",
       "0                                                                                                   Hazard Ratio  (and 95% Confidence Intervals)  in Univariate and Multivariate Analysis of Predictors of Major Cardiac Events  (Cardiac Death or Worsening of Heart Failure Leading to Heart Transplantation)   \n",
       "1                                                           Left Ventricular and Right Ventricular Ejection Fractions, Left Ventricular and Right Ventricular Mean Phases, Left-to-Right Mean Phase Difference  (L-RMP)  and Phase Standard Deviations for Both Ventricles in 30 Cases of Left Sided WPW legend   \n",
       "2                                                                                                                               Partial Regression Coefficients  (All Subjects, n = 262)  for Forward Stepwise Linear Regression for Dependent Variables Augmentation Pressure and Augmentation Index    legend   \n",
       "3  Left Ventricular  (LVEF)  and Right Ventricular  (RVEF)  Ejection Fractions, Left Ventricular  (LVMP)  and Right Ventricular  (RVMP)  Mean Phases, Left-to-Right Mean Phase Difference  (L-RMP)  and Phase Standard Deviations  (LVPSD and RVPSD)  for Both Ventricles in 14 Cases of Right Sided WPW legend   \n",
       "4                                                                                                                                                                              Predictors of Mortality by Multivariable Analysis: Variables Are Shown in the Order They Entered a Stepwise Cox Regression Model   \n",
       "\n",
       "   topic     plot_x     plot_y  \n",
       "0      7   9.664474   8.992035  \n",
       "1      3  23.601093 -15.201797  \n",
       "2      7  11.646137   0.977639  \n",
       "3      3  23.601820 -15.202716  \n",
       "4      7   8.242556   3.281180  "
      ]
     },
     "execution_count": 26,
     "metadata": {},
     "output_type": "execute_result"
    }
   ],
   "source": [
    "doc_result = documents[['index', 'Origin_Text']]\n",
    "doc_result.columns = ['id', 'document']\n",
    "doc_result['topic'] = kmeans_model.labels_\n",
    "doc_result = pd.merge(doc_result, pd.DataFrame(tsne_result, columns=['plot_x', 'plot_y']), left_index=True, right_index=True)\n",
    "\n",
    "doc_result.head()"
   ]
  },
  {
   "cell_type": "code",
   "execution_count": 27,
   "metadata": {},
   "outputs": [],
   "source": [
    "scatter_json = list(doc_result[['id', 'plot_x', 'plot_y', 'topic']].to_dict('index').values())\n",
    "\n",
    "f = open('./Visualization/res/km/scatter_data.json', 'w')\n",
    "f.write(json.dumps(scatter_json, indent=4))\n",
    "f.close()"
   ]
  },
  {
   "cell_type": "markdown",
   "metadata": {},
   "source": [
    "#### 3. Table"
   ]
  },
  {
   "cell_type": "code",
   "execution_count": 28,
   "metadata": {},
   "outputs": [],
   "source": [
    "import collections\n",
    "\n",
    "doc_result['topic_word'] = processed_docs\n",
    "doc_result['words_count'] = doc_result.topic_word.apply(lambda x : len(x))\n",
    "\n",
    "topic_words = {}\n",
    "for i in doc_result.topic.unique():\n",
    "    topic_words[i] = sorted({k: '%.2f' % (dict(collections.Counter(np.sum(doc_result[doc_result.topic == i].topic_word.values)))[k] / doc_result[doc_result.topic == i].words_count.sum() * 100) \\\n",
    "    for k in dict(collections.Counter(np.sum(doc_result[doc_result.topic == i].topic_word.values)))}.items(), key=lambda kv: kv[1], reverse=True)[:10]\n",
    "    \n",
    "doc_result.topic_word = doc_result.apply(lambda x: topic_words[x.topic], axis=1)"
   ]
  },
  {
   "cell_type": "code",
   "execution_count": 29,
   "metadata": {},
   "outputs": [],
   "source": [
    "doc_result.to_csv('./data_output/km.tsv', sep='\\t', index_label=False)"
   ]
  },
  {
   "cell_type": "code",
   "execution_count": 30,
   "metadata": {},
   "outputs": [
    {
     "data": {
      "text/html": [
       "<div>\n",
       "<style scoped>\n",
       "    .dataframe tbody tr th:only-of-type {\n",
       "        vertical-align: middle;\n",
       "    }\n",
       "\n",
       "    .dataframe tbody tr th {\n",
       "        vertical-align: top;\n",
       "    }\n",
       "\n",
       "    .dataframe thead th {\n",
       "        text-align: right;\n",
       "    }\n",
       "</style>\n",
       "<table border=\"1\" class=\"dataframe\">\n",
       "  <thead>\n",
       "    <tr style=\"text-align: right;\">\n",
       "      <th></th>\n",
       "      <th>topic</th>\n",
       "      <th>topic_word</th>\n",
       "    </tr>\n",
       "  </thead>\n",
       "  <tbody>\n",
       "    <tr>\n",
       "      <th>0</th>\n",
       "      <td>7</td>\n",
       "      <td>[(regress, 4.34), (model, 3.90), (analysi, 3.90), (multivari, 3.32), (hazard, 2.89), (variabl, 2.89), (proport, 2.75), (predictor, 2.31), (cardiac, 2.17), (mortal, 2.02)]</td>\n",
       "    </tr>\n",
       "    <tr>\n",
       "      <th>1</th>\n",
       "      <td>3</td>\n",
       "      <td>[(coronari, 4.33), (valu, 1.96), (sensit, 1.55), (arteri, 1.55), (wall, 1.44), (ventricular, 1.44), (legend, 1.44), (leav, 1.34), (detect, 1.34), (angiographi, 1.34)]</td>\n",
       "    </tr>\n",
       "    <tr>\n",
       "      <th>25</th>\n",
       "      <td>0</td>\n",
       "      <td>[(vaccin, 1.82), (efficaci, 1.57), (accord, 1.41), (intervent, 1.16), (cohort, 1.16), (sever, 0.91), (area, 0.91), (respons, 0.91), (level, 0.91), (liter, 0.83)]</td>\n",
       "    </tr>\n",
       "    <tr>\n",
       "      <th>37</th>\n",
       "      <td>6</td>\n",
       "      <td>[(patient, 8.09), (hospit, 2.52), (myocardi, 1.99), (infarct, 1.99), (outcom, 1.86), (acut, 1.72), (legend, 1.72), (random, 1.46), (clinic, 1.46), (complic, 1.33)]</td>\n",
       "    </tr>\n",
       "    <tr>\n",
       "      <th>52</th>\n",
       "      <td>5</td>\n",
       "      <td>[(countri, 5.26), (health, 5.26), (modern, 5.26), (child, 4.45), (method, 4.45), (develop, 4.05), (matern, 3.64), (assist, 3.24), (newborn, 3.24), (offici, 3.24)]</td>\n",
       "    </tr>\n",
       "    <tr>\n",
       "      <th>83</th>\n",
       "      <td>4</td>\n",
       "      <td>[(year, 5.81), (death, 3.91), (caus, 3.24), (cancer, 2.91), (standardis, 2.57), (rat, 2.35), (relat, 2.12), (ratio, 2.01), (adjust, 2.01), (mortal, 1.90)]</td>\n",
       "    </tr>\n",
       "    <tr>\n",
       "      <th>101</th>\n",
       "      <td>1</td>\n",
       "      <td>[(treatment, 9.70), (grade, 4.68), (patient, 4.68), (popul, 4.01), (emerg, 3.68), (safeti, 3.68), (group, 3.51), (relat, 2.68), (occur, 2.34), (studi, 2.17)]</td>\n",
       "    </tr>\n",
       "    <tr>\n",
       "      <th>350</th>\n",
       "      <td>2</td>\n",
       "      <td>[(risk, 9.64), (score, 6.73), (stroke, 5.61), (factor, 3.59), (patient, 3.14), (vasc, 3.14), (ischaem, 2.69), (associ, 1.79), (relat, 1.57), (aphasia, 1.35)]</td>\n",
       "    </tr>\n",
       "  </tbody>\n",
       "</table>\n",
       "</div>"
      ],
      "text/plain": [
       "     topic  \\\n",
       "0        7   \n",
       "1        3   \n",
       "25       0   \n",
       "37       6   \n",
       "52       5   \n",
       "83       4   \n",
       "101      1   \n",
       "350      2   \n",
       "\n",
       "                                                                                                                                                                     topic_word  \n",
       "0    [(regress, 4.34), (model, 3.90), (analysi, 3.90), (multivari, 3.32), (hazard, 2.89), (variabl, 2.89), (proport, 2.75), (predictor, 2.31), (cardiac, 2.17), (mortal, 2.02)]  \n",
       "1        [(coronari, 4.33), (valu, 1.96), (sensit, 1.55), (arteri, 1.55), (wall, 1.44), (ventricular, 1.44), (legend, 1.44), (leav, 1.34), (detect, 1.34), (angiographi, 1.34)]  \n",
       "25            [(vaccin, 1.82), (efficaci, 1.57), (accord, 1.41), (intervent, 1.16), (cohort, 1.16), (sever, 0.91), (area, 0.91), (respons, 0.91), (level, 0.91), (liter, 0.83)]  \n",
       "37          [(patient, 8.09), (hospit, 2.52), (myocardi, 1.99), (infarct, 1.99), (outcom, 1.86), (acut, 1.72), (legend, 1.72), (random, 1.46), (clinic, 1.46), (complic, 1.33)]  \n",
       "52           [(countri, 5.26), (health, 5.26), (modern, 5.26), (child, 4.45), (method, 4.45), (develop, 4.05), (matern, 3.64), (assist, 3.24), (newborn, 3.24), (offici, 3.24)]  \n",
       "83                   [(year, 5.81), (death, 3.91), (caus, 3.24), (cancer, 2.91), (standardis, 2.57), (rat, 2.35), (relat, 2.12), (ratio, 2.01), (adjust, 2.01), (mortal, 1.90)]  \n",
       "101               [(treatment, 9.70), (grade, 4.68), (patient, 4.68), (popul, 4.01), (emerg, 3.68), (safeti, 3.68), (group, 3.51), (relat, 2.68), (occur, 2.34), (studi, 2.17)]  \n",
       "350               [(risk, 9.64), (score, 6.73), (stroke, 5.61), (factor, 3.59), (patient, 3.14), (vasc, 3.14), (ischaem, 2.69), (associ, 1.79), (relat, 1.57), (aphasia, 1.35)]  "
      ]
     },
     "execution_count": 30,
     "metadata": {},
     "output_type": "execute_result"
    }
   ],
   "source": [
    "doc_result.groupby('topic').head(1)[['topic', 'topic_word']]"
   ]
  },
  {
   "cell_type": "code",
   "execution_count": 31,
   "metadata": {},
   "outputs": [
    {
     "data": {
      "text/html": [
       "<div>\n",
       "<style scoped>\n",
       "    .dataframe tbody tr th:only-of-type {\n",
       "        vertical-align: middle;\n",
       "    }\n",
       "\n",
       "    .dataframe tbody tr th {\n",
       "        vertical-align: top;\n",
       "    }\n",
       "\n",
       "    .dataframe thead th {\n",
       "        text-align: right;\n",
       "    }\n",
       "</style>\n",
       "<table border=\"1\" class=\"dataframe\">\n",
       "  <thead>\n",
       "    <tr style=\"text-align: right;\">\n",
       "      <th></th>\n",
       "      <th>id</th>\n",
       "    </tr>\n",
       "    <tr>\n",
       "      <th>topic</th>\n",
       "      <th></th>\n",
       "    </tr>\n",
       "  </thead>\n",
       "  <tbody>\n",
       "    <tr>\n",
       "      <th>0</th>\n",
       "      <td>[25, 50, 51, 53, 54, 60, 63, 65, 66, 69, 75, 76, 78, 79, 80, 82, 85, 86, 88, 89, 90, 92, 93, 94, 95, 97, 98, 99, 100, 115, 140, 156, 163, 174, 177, 187, 250, 251, 252, 253, 256, 257, 258, 259, 260, 263, 265, 266, 267, 269, 271, 273, 279, 280, 281, 282, 283, 284, 286, 287, 289, 291, 293, 294, 295, 297, 298, 299, 301, 302, 318, 340, 346, 366, 371, 376, 377, 379, 385, 386, 388, 391, 394]</td>\n",
       "    </tr>\n",
       "    <tr>\n",
       "      <th>1</th>\n",
       "      <td>[101, 102, 103, 104, 105, 106, 107, 108, 109, 110, 111, 112, 113, 114, 116, 117, 118, 119, 120, 121, 122, 123, 124, 125, 126, 127, 129, 130, 131, 132, 133, 134, 135, 136, 137, 138, 139, 141, 142, 143, 144, 145, 146, 147, 148, 149, 186]</td>\n",
       "    </tr>\n",
       "    <tr>\n",
       "      <th>2</th>\n",
       "      <td>[350, 351, 352, 353, 354, 355, 356, 357, 358, 359, 360, 361, 362, 363, 364, 365, 368, 369, 370, 373, 374, 378, 380, 382, 384, 387, 390, 392, 393, 395, 398, 399]</td>\n",
       "    </tr>\n",
       "    <tr>\n",
       "      <th>3</th>\n",
       "      <td>[1, 3, 8, 10, 14, 31, 35, 36, 154, 155, 161, 254, 255, 262, 264, 268, 272, 274, 276, 278, 288, 290, 300, 303, 304, 305, 306, 307, 308, 310, 313, 314, 315, 316, 317, 319, 320, 322, 323, 324, 325, 326, 327, 328, 329, 331, 332, 333, 334, 335, 336, 337, 338, 339, 341, 342, 343, 344, 345, 347, 348, 349]</td>\n",
       "    </tr>\n",
       "    <tr>\n",
       "      <th>4</th>\n",
       "      <td>[83, 87, 91, 96, 195, 200, 201, 202, 203, 204, 205, 206, 207, 208, 209, 210, 211, 212, 213, 214, 215, 216, 217, 218, 219, 221, 222, 223, 224, 225, 226, 227, 228, 229, 230, 231, 232, 233, 234, 235, 236, 237, 238, 239, 240, 241, 242, 243, 244, 245, 246, 247, 248, 249, 275]</td>\n",
       "    </tr>\n",
       "    <tr>\n",
       "      <th>5</th>\n",
       "      <td>[52, 55, 56, 57, 58, 59, 62, 64, 67, 70, 71, 72, 73, 74, 77, 81, 84]</td>\n",
       "    </tr>\n",
       "    <tr>\n",
       "      <th>6</th>\n",
       "      <td>[37, 68, 128, 150, 151, 152, 153, 157, 158, 159, 160, 162, 164, 165, 166, 167, 168, 169, 170, 171, 172, 173, 175, 176, 178, 179, 180, 181, 182, 183, 184, 185, 188, 189, 190, 191, 192, 193, 194, 196, 197, 198, 199, 261, 270, 277, 285, 292, 296, 309, 330, 375, 383, 396, 397]</td>\n",
       "    </tr>\n",
       "    <tr>\n",
       "      <th>7</th>\n",
       "      <td>[0, 2, 4, 5, 6, 7, 9, 11, 12, 13, 15, 16, 17, 18, 19, 20, 21, 22, 23, 24, 26, 27, 28, 29, 30, 32, 33, 34, 38, 39, 40, 41, 42, 43, 44, 45, 46, 47, 48, 49, 61, 220, 311, 312, 321, 367, 372, 381, 389]</td>\n",
       "    </tr>\n",
       "  </tbody>\n",
       "</table>\n",
       "</div>"
      ],
      "text/plain": [
       "                                                                                                                                                                                                                                                                                                                                                                                                        id\n",
       "topic                                                                                                                                                                                                                                                                                                                                                                                                     \n",
       "0      [25, 50, 51, 53, 54, 60, 63, 65, 66, 69, 75, 76, 78, 79, 80, 82, 85, 86, 88, 89, 90, 92, 93, 94, 95, 97, 98, 99, 100, 115, 140, 156, 163, 174, 177, 187, 250, 251, 252, 253, 256, 257, 258, 259, 260, 263, 265, 266, 267, 269, 271, 273, 279, 280, 281, 282, 283, 284, 286, 287, 289, 291, 293, 294, 295, 297, 298, 299, 301, 302, 318, 340, 346, 366, 371, 376, 377, 379, 385, 386, 388, 391, 394]\n",
       "1                                                                                                                                                              [101, 102, 103, 104, 105, 106, 107, 108, 109, 110, 111, 112, 113, 114, 116, 117, 118, 119, 120, 121, 122, 123, 124, 125, 126, 127, 129, 130, 131, 132, 133, 134, 135, 136, 137, 138, 139, 141, 142, 143, 144, 145, 146, 147, 148, 149, 186]\n",
       "2                                                                                                                                                                                                                                         [350, 351, 352, 353, 354, 355, 356, 357, 358, 359, 360, 361, 362, 363, 364, 365, 368, 369, 370, 373, 374, 378, 380, 382, 384, 387, 390, 392, 393, 395, 398, 399]\n",
       "3                                                                                              [1, 3, 8, 10, 14, 31, 35, 36, 154, 155, 161, 254, 255, 262, 264, 268, 272, 274, 276, 278, 288, 290, 300, 303, 304, 305, 306, 307, 308, 310, 313, 314, 315, 316, 317, 319, 320, 322, 323, 324, 325, 326, 327, 328, 329, 331, 332, 333, 334, 335, 336, 337, 338, 339, 341, 342, 343, 344, 345, 347, 348, 349]\n",
       "4                                                                                                                          [83, 87, 91, 96, 195, 200, 201, 202, 203, 204, 205, 206, 207, 208, 209, 210, 211, 212, 213, 214, 215, 216, 217, 218, 219, 221, 222, 223, 224, 225, 226, 227, 228, 229, 230, 231, 232, 233, 234, 235, 236, 237, 238, 239, 240, 241, 242, 243, 244, 245, 246, 247, 248, 249, 275]\n",
       "5                                                                                                                                                                                                                                                                                                                                     [52, 55, 56, 57, 58, 59, 62, 64, 67, 70, 71, 72, 73, 74, 77, 81, 84]\n",
       "6                                                                                                                        [37, 68, 128, 150, 151, 152, 153, 157, 158, 159, 160, 162, 164, 165, 166, 167, 168, 169, 170, 171, 172, 173, 175, 176, 178, 179, 180, 181, 182, 183, 184, 185, 188, 189, 190, 191, 192, 193, 194, 196, 197, 198, 199, 261, 270, 277, 285, 292, 296, 309, 330, 375, 383, 396, 397]\n",
       "7                                                                                                                                                                                                    [0, 2, 4, 5, 6, 7, 9, 11, 12, 13, 15, 16, 17, 18, 19, 20, 21, 22, 23, 24, 26, 27, 28, 29, 30, 32, 33, 34, 38, 39, 40, 41, 42, 43, 44, 45, 46, 47, 48, 49, 61, 220, 311, 312, 321, 367, 372, 381, 389]"
      ]
     },
     "execution_count": 31,
     "metadata": {},
     "output_type": "execute_result"
    }
   ],
   "source": [
    "doc_result.groupby('topic').agg({'id': 'unique'})"
   ]
  },
  {
   "cell_type": "code",
   "execution_count": null,
   "metadata": {},
   "outputs": [],
   "source": []
  }
 ],
 "metadata": {
  "kernelspec": {
   "display_name": "Python 3",
   "language": "python",
   "name": "python3"
  },
  "language_info": {
   "codemirror_mode": {
    "name": "ipython",
    "version": 3
   },
   "file_extension": ".py",
   "mimetype": "text/x-python",
   "name": "python",
   "nbconvert_exporter": "python",
   "pygments_lexer": "ipython3",
   "version": "3.5.4"
  }
 },
 "nbformat": 4,
 "nbformat_minor": 2
}
