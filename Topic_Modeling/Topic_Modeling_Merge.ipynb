{
 "cells": [
  {
   "cell_type": "markdown",
   "metadata": {},
   "source": [
    "http://brandonrose.org/clustering#Tf-idf-and-document-similarity"
   ]
  },
  {
   "cell_type": "code",
   "execution_count": 12,
   "metadata": {},
   "outputs": [],
   "source": [
    "import pandas as pd\n",
    "import numpy as np\n",
    "import collections\n",
    "import json"
   ]
  },
  {
   "cell_type": "code",
   "execution_count": 13,
   "metadata": {},
   "outputs": [],
   "source": [
    "lda_result = pd.read_csv('./lda.tsv', sep='\\t')\n",
    "km_result = pd.read_csv('./km.tsv', sep='\\t')"
   ]
  },
  {
   "cell_type": "code",
   "execution_count": 16,
   "metadata": {},
   "outputs": [],
   "source": [
    "# km_result = pd.DataFrame([0, 6, 0, 6, 6, 6, 6, 0, 0, 6, 0, 0, 0, 6, 0, 6, 6, 6, 6, 0, 0, 0,\n",
    "#        0, 0, 2, 6, 6, 0, 6, 6, 2, 0, 0, 0, 0, 6, 4, 2, 6, 7, 0, 6, 6, 0,\n",
    "#        5, 0, 6, 6, 6, 2, 3, 3, 3, 3, 3, 3, 3, 3, 3, 3, 3, 3, 3, 3, 3, 3,\n",
    "#        3, 0, 3, 3, 3, 3, 3, 3, 3, 3, 3, 0, 3, 3, 3, 3, 3, 3, 3, 3, 3, 3,\n",
    "#        3, 3, 3, 3, 3, 3, 3, 3, 3, 3, 3, 3, 1, 1, 1, 1, 1, 1, 1, 1, 1, 1,\n",
    "#        2, 1, 1, 1, 1, 1, 1, 1, 6, 1, 1, 1, 1, 1, 1, 1, 1, 1, 1, 1, 1, 1,\n",
    "#        1, 1, 1, 1, 1, 1, 1, 1, 1, 1, 1, 1, 1, 1, 1, 1, 2, 6, 2, 2, 2, 2,\n",
    "#        6, 2, 2, 2, 2, 2, 2, 2, 6, 2, 2, 2, 2, 2, 2, 2, 2, 2, 6, 2, 2, 2,\n",
    "#        2, 2, 6, 2, 6, 2, 2, 2, 2, 4, 2, 2, 6, 2, 2, 2, 6, 2, 2, 2, 2, 2,\n",
    "#        4, 2, 4, 4, 4, 4, 0, 7, 7, 7, 4, 4, 0, 2, 4, 0, 7, 7, 4, 7, 0, 4,\n",
    "#        4, 2, 4, 7, 0, 7, 0, 0, 0, 4, 4, 2, 7, 0, 4, 4, 4, 0, 0, 4, 4, 0,\n",
    "#        4, 0, 4, 4, 4, 4, 2, 4, 5, 6, 6, 6, 5, 5, 6, 5, 5, 5, 5, 5, 6, 5,\n",
    "#        6, 5, 7, 5, 6, 7, 5, 0, 0, 6, 6, 6, 6, 5, 5, 5, 0, 6, 6, 6, 6, 2,\n",
    "#        7, 7, 5, 5, 7, 5, 6, 2, 6, 6, 7, 0, 5, 7, 0, 0, 0, 0, 0, 0, 0, 0,\n",
    "#        0, 0, 0, 0, 0, 0, 0, 0, 0, 0, 0, 0, 0, 0, 0, 0, 6, 0, 0, 0, 0, 0,\n",
    "#        0, 0, 0, 0, 0, 0, 0, 0, 0, 0, 0, 0, 0, 0, 0, 0, 0, 0, 0, 0, 0, 0,\n",
    "#        4, 0, 0, 0, 4, 4, 7, 7, 0, 7, 7, 2, 7, 7, 7, 2, 7, 7, 2, 7, 7, 2,\n",
    "#        7, 7, 7, 7, 7, 7, 7, 7, 0, 7, 7, 2, 7, 7, 7, 6, 7, 2, 7, 7, 7, 7,\n",
    "#        7, 7, 7, 7], columns=['topic']).reset_index()\n",
    "# km_result.columns = ['id', 'topic']"
   ]
  },
  {
   "cell_type": "code",
   "execution_count": 14,
   "metadata": {},
   "outputs": [],
   "source": [
    "def intersect(a, b):\n",
    "    return len(list(set(a) & set(b)))"
   ]
  },
  {
   "cell_type": "code",
   "execution_count": 15,
   "metadata": {},
   "outputs": [],
   "source": [
    "lda_docs_by_topic = lda_result.groupby('topic').agg({'id': 'unique'})\n",
    "km_docs_by_topic = km_result.groupby('topic').agg({'id': 'unique'})"
   ]
  },
  {
   "cell_type": "code",
   "execution_count": 16,
   "metadata": {},
   "outputs": [
    {
     "data": {
      "text/html": [
       "<div>\n",
       "<style scoped>\n",
       "    .dataframe tbody tr th:only-of-type {\n",
       "        vertical-align: middle;\n",
       "    }\n",
       "\n",
       "    .dataframe tbody tr th {\n",
       "        vertical-align: top;\n",
       "    }\n",
       "\n",
       "    .dataframe thead th {\n",
       "        text-align: right;\n",
       "    }\n",
       "</style>\n",
       "<table border=\"1\" class=\"dataframe\">\n",
       "  <thead>\n",
       "    <tr style=\"text-align: right;\">\n",
       "      <th></th>\n",
       "      <th>id</th>\n",
       "    </tr>\n",
       "    <tr>\n",
       "      <th>topic</th>\n",
       "      <th></th>\n",
       "    </tr>\n",
       "  </thead>\n",
       "  <tbody>\n",
       "    <tr>\n",
       "      <th>0</th>\n",
       "      <td>[0, 1, 2, 3, 4, 5, 6, 7, 8, 9, 10, 11, 12, 13,...</td>\n",
       "    </tr>\n",
       "    <tr>\n",
       "      <th>1</th>\n",
       "      <td>[50, 52, 53, 54, 55, 60, 62, 64, 65, 68, 70, 7...</td>\n",
       "    </tr>\n",
       "    <tr>\n",
       "      <th>2</th>\n",
       "      <td>[51, 56, 57, 58, 59, 61, 63, 67, 73, 74, 84, 2...</td>\n",
       "    </tr>\n",
       "    <tr>\n",
       "      <th>3</th>\n",
       "      <td>[69, 163, 251, 256, 280, 282, 283, 289, 296, 2...</td>\n",
       "    </tr>\n",
       "    <tr>\n",
       "      <th>4</th>\n",
       "      <td>[195, 201, 202, 207, 209, 210, 211, 214, 216, ...</td>\n",
       "    </tr>\n",
       "  </tbody>\n",
       "</table>\n",
       "</div>"
      ],
      "text/plain": [
       "                                                      id\n",
       "topic                                                   \n",
       "0      [0, 1, 2, 3, 4, 5, 6, 7, 8, 9, 10, 11, 12, 13,...\n",
       "1      [50, 52, 53, 54, 55, 60, 62, 64, 65, 68, 70, 7...\n",
       "2      [51, 56, 57, 58, 59, 61, 63, 67, 73, 74, 84, 2...\n",
       "3      [69, 163, 251, 256, 280, 282, 283, 289, 296, 2...\n",
       "4      [195, 201, 202, 207, 209, 210, 211, 214, 216, ..."
      ]
     },
     "execution_count": 16,
     "metadata": {},
     "output_type": "execute_result"
    }
   ],
   "source": [
    "lda_docs_by_topic.head()"
   ]
  },
  {
   "cell_type": "code",
   "execution_count": 17,
   "metadata": {},
   "outputs": [
    {
     "data": {
      "text/html": [
       "<div>\n",
       "<style scoped>\n",
       "    .dataframe tbody tr th:only-of-type {\n",
       "        vertical-align: middle;\n",
       "    }\n",
       "\n",
       "    .dataframe tbody tr th {\n",
       "        vertical-align: top;\n",
       "    }\n",
       "\n",
       "    .dataframe thead th {\n",
       "        text-align: right;\n",
       "    }\n",
       "</style>\n",
       "<table border=\"1\" class=\"dataframe\">\n",
       "  <thead>\n",
       "    <tr style=\"text-align: right;\">\n",
       "      <th></th>\n",
       "      <th>id</th>\n",
       "    </tr>\n",
       "    <tr>\n",
       "      <th>topic</th>\n",
       "      <th></th>\n",
       "    </tr>\n",
       "  </thead>\n",
       "  <tbody>\n",
       "    <tr>\n",
       "      <th>0</th>\n",
       "      <td>[25, 50, 51, 53, 54, 60, 63, 65, 66, 69, 75, 7...</td>\n",
       "    </tr>\n",
       "    <tr>\n",
       "      <th>1</th>\n",
       "      <td>[101, 102, 103, 104, 105, 106, 107, 108, 109, ...</td>\n",
       "    </tr>\n",
       "    <tr>\n",
       "      <th>2</th>\n",
       "      <td>[350, 351, 352, 353, 354, 355, 356, 357, 358, ...</td>\n",
       "    </tr>\n",
       "    <tr>\n",
       "      <th>3</th>\n",
       "      <td>[1, 3, 8, 10, 14, 31, 35, 36, 154, 155, 161, 2...</td>\n",
       "    </tr>\n",
       "    <tr>\n",
       "      <th>4</th>\n",
       "      <td>[83, 87, 91, 96, 195, 200, 201, 202, 203, 204,...</td>\n",
       "    </tr>\n",
       "  </tbody>\n",
       "</table>\n",
       "</div>"
      ],
      "text/plain": [
       "                                                      id\n",
       "topic                                                   \n",
       "0      [25, 50, 51, 53, 54, 60, 63, 65, 66, 69, 75, 7...\n",
       "1      [101, 102, 103, 104, 105, 106, 107, 108, 109, ...\n",
       "2      [350, 351, 352, 353, 354, 355, 356, 357, 358, ...\n",
       "3      [1, 3, 8, 10, 14, 31, 35, 36, 154, 155, 161, 2...\n",
       "4      [83, 87, 91, 96, 195, 200, 201, 202, 203, 204,..."
      ]
     },
     "execution_count": 17,
     "metadata": {},
     "output_type": "execute_result"
    }
   ],
   "source": [
    "km_docs_by_topic.head()"
   ]
  },
  {
   "cell_type": "code",
   "execution_count": 18,
   "metadata": {},
   "outputs": [],
   "source": [
    "lda_km_topic_map = {} # key: km, value: lda"
   ]
  },
  {
   "cell_type": "code",
   "execution_count": 19,
   "metadata": {},
   "outputs": [
    {
     "name": "stdout",
     "output_type": "stream",
     "text": [
      "KM topic1\n",
      "[4, 18, 4, 16, 9, 6, 17, 9]\n",
      "LAD topic2\n",
      "KM topic2\n",
      "[0, 0, 0, 0, 0, 0, 46, 1]\n",
      "LAD topic7\n",
      "KM topic3\n",
      "[0, 0, 0, 32, 0, 0, 0, 0]\n",
      "LAD topic4\n",
      "KM topic4\n",
      "[16, 1, 0, 0, 0, 41, 1, 3]\n",
      "LAD topic6\n",
      "KM topic5\n",
      "[1, 4, 19, 0, 30, 0, 0, 1]\n",
      "LAD topic5\n",
      "KM topic6\n",
      "[0, 9, 8, 0, 0, 0, 0, 0]\n",
      "LAD topic2\n",
      "KM topic7\n",
      "[3, 1, 1, 4, 0, 6, 1, 39]\n",
      "LAD topic8\n",
      "KM topic8\n",
      "[41, 0, 1, 4, 0, 0, 0, 3]\n",
      "LAD topic1\n"
     ]
    }
   ],
   "source": [
    "for i in range(8):\n",
    "    lda_km_topic_map[i] = np.argmax([intersect(km_docs_by_topic.iloc[i].values[0], lda_docs_by_topic.iloc[j].values[0]) for j in range(8)])\n",
    "    print('KM topic' + str(i+1))\n",
    "    print([intersect(km_docs_by_topic.iloc[i].values[0], lda_docs_by_topic.iloc[j].values[0]) for j in range(8)])\n",
    "    print('LAD topic' + str(np.argmax([intersect(km_docs_by_topic.iloc[i].values[0], lda_docs_by_topic.iloc[j].values[0]) for j in range(8)]) + 1))"
   ]
  },
  {
   "cell_type": "code",
   "execution_count": 21,
   "metadata": {},
   "outputs": [
    {
     "name": "stdout",
     "output_type": "stream",
     "text": [
      "LDA topic 1 = K-Means topic 0\n",
      "LDA topic 6 = K-Means topic 1\n",
      "LDA topic 3 = K-Means topic 2\n",
      "LDA topic 5 = K-Means topic 3\n",
      "LDA topic 4 = K-Means topic 4\n",
      "LDA topic 1 = K-Means topic 5\n",
      "LDA topic 7 = K-Means topic 6\n",
      "LDA topic 0 = K-Means topic 7\n"
     ]
    }
   ],
   "source": [
    "for k in lda_km_topic_map:\n",
    "    print('LDA topic %d = K-Means topic %d' % (lda_km_topic_map[k], k))"
   ]
  },
  {
   "cell_type": "code",
   "execution_count": 24,
   "metadata": {},
   "outputs": [],
   "source": [
    "merged_result = pd.merge(lda_result[['id', 'document', 'topic']], km_result[['id', 'topic']], on='id', suffixes=('_lda', '_km'))\n",
    "merged_result.topic_km = merged_result.topic_km.apply(lambda x: lda_km_topic_map[x])"
   ]
  },
  {
   "cell_type": "code",
   "execution_count": 25,
   "metadata": {},
   "outputs": [
    {
     "data": {
      "text/html": [
       "<div>\n",
       "<style scoped>\n",
       "    .dataframe tbody tr th:only-of-type {\n",
       "        vertical-align: middle;\n",
       "    }\n",
       "\n",
       "    .dataframe tbody tr th {\n",
       "        vertical-align: top;\n",
       "    }\n",
       "\n",
       "    .dataframe thead th {\n",
       "        text-align: right;\n",
       "    }\n",
       "</style>\n",
       "<table border=\"1\" class=\"dataframe\">\n",
       "  <thead>\n",
       "    <tr style=\"text-align: right;\">\n",
       "      <th></th>\n",
       "      <th>id</th>\n",
       "      <th>document</th>\n",
       "      <th>topic_lda</th>\n",
       "      <th>topic_km</th>\n",
       "    </tr>\n",
       "  </thead>\n",
       "  <tbody>\n",
       "    <tr>\n",
       "      <th>0</th>\n",
       "      <td>0</td>\n",
       "      <td>Hazard Ratio  (and 95% Confidence Intervals)  ...</td>\n",
       "      <td>0</td>\n",
       "      <td>0</td>\n",
       "    </tr>\n",
       "    <tr>\n",
       "      <th>1</th>\n",
       "      <td>1</td>\n",
       "      <td>Left Ventricular and Right Ventricular Ejectio...</td>\n",
       "      <td>0</td>\n",
       "      <td>5</td>\n",
       "    </tr>\n",
       "    <tr>\n",
       "      <th>2</th>\n",
       "      <td>2</td>\n",
       "      <td>Partial Regression Coefficients  (All Subjects...</td>\n",
       "      <td>0</td>\n",
       "      <td>0</td>\n",
       "    </tr>\n",
       "    <tr>\n",
       "      <th>3</th>\n",
       "      <td>3</td>\n",
       "      <td>Left Ventricular  (LVEF)  and Right Ventricula...</td>\n",
       "      <td>0</td>\n",
       "      <td>5</td>\n",
       "    </tr>\n",
       "    <tr>\n",
       "      <th>4</th>\n",
       "      <td>4</td>\n",
       "      <td>Predictors of Mortality by Multivariable Analy...</td>\n",
       "      <td>0</td>\n",
       "      <td>0</td>\n",
       "    </tr>\n",
       "  </tbody>\n",
       "</table>\n",
       "</div>"
      ],
      "text/plain": [
       "   id                                           document  topic_lda  topic_km\n",
       "0   0  Hazard Ratio  (and 95% Confidence Intervals)  ...          0         0\n",
       "1   1  Left Ventricular and Right Ventricular Ejectio...          0         5\n",
       "2   2  Partial Regression Coefficients  (All Subjects...          0         0\n",
       "3   3  Left Ventricular  (LVEF)  and Right Ventricula...          0         5\n",
       "4   4  Predictors of Mortality by Multivariable Analy...          0         0"
      ]
     },
     "execution_count": 25,
     "metadata": {},
     "output_type": "execute_result"
    }
   ],
   "source": [
    "merged_result.head()"
   ]
  },
  {
   "cell_type": "code",
   "execution_count": 26,
   "metadata": {},
   "outputs": [],
   "source": [
    "json_data = collections.OrderedDict()\n",
    "json_data['rows'] = merged_result[['document', 'topic_lda', 'topic_km']].to_dict(orient='records')\n",
    "jsonp = json.loads(json.dumps(json_data, ensure_ascii=False, indent='\\t').replace('`', ''))"
   ]
  },
  {
   "cell_type": "code",
   "execution_count": 27,
   "metadata": {},
   "outputs": [],
   "source": [
    "f = open('./document_table.json', 'w')\n",
    "f.write(json.dumps(json_data, ensure_ascii=False, indent='\\t').replace('`', ''))\n",
    "f.close()"
   ]
  },
  {
   "cell_type": "code",
   "execution_count": null,
   "metadata": {},
   "outputs": [],
   "source": []
  }
 ],
 "metadata": {
  "kernelspec": {
   "display_name": "Python 3",
   "language": "python",
   "name": "python3"
  },
  "language_info": {
   "codemirror_mode": {
    "name": "ipython",
    "version": 3
   },
   "file_extension": ".py",
   "mimetype": "text/x-python",
   "name": "python",
   "nbconvert_exporter": "python",
   "pygments_lexer": "ipython3",
   "version": "3.5.4"
  }
 },
 "nbformat": 4,
 "nbformat_minor": 2
}
