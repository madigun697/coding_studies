{
 "cells": [
  {
   "cell_type": "markdown",
   "metadata": {},
   "source": [
    "http://brandonrose.org/clustering#Tf-idf-and-document-similarity"
   ]
  },
  {
   "cell_type": "code",
   "execution_count": 2,
   "metadata": {},
   "outputs": [],
   "source": [
    "import pandas as pd\n",
    "import numpy as np\n",
    "import collections\n",
    "import json"
   ]
  },
  {
   "cell_type": "code",
   "execution_count": 3,
   "metadata": {},
   "outputs": [],
   "source": [
    "lda_result = pd.read_csv('./data_output/lda.tsv', sep='\\t')\n",
    "km_result = pd.read_csv('./data_output/km.tsv', sep='\\t')\n",
    "dec_result = pd.read_csv('./data_output/dec.tsv', sep='\\t')"
   ]
  },
  {
   "cell_type": "code",
   "execution_count": 4,
   "metadata": {},
   "outputs": [
    {
     "data": {
      "text/html": [
       "<div>\n",
       "<style scoped>\n",
       "    .dataframe tbody tr th:only-of-type {\n",
       "        vertical-align: middle;\n",
       "    }\n",
       "\n",
       "    .dataframe tbody tr th {\n",
       "        vertical-align: top;\n",
       "    }\n",
       "\n",
       "    .dataframe thead th {\n",
       "        text-align: right;\n",
       "    }\n",
       "</style>\n",
       "<table border=\"1\" class=\"dataframe\">\n",
       "  <thead>\n",
       "    <tr style=\"text-align: right;\">\n",
       "      <th></th>\n",
       "      <th>id</th>\n",
       "      <th>document</th>\n",
       "      <th>topic</th>\n",
       "      <th>topic_prob</th>\n",
       "      <th>topic_word</th>\n",
       "      <th>plot_x</th>\n",
       "      <th>plot_y</th>\n",
       "      <th>td_x</th>\n",
       "      <th>td_y</th>\n",
       "      <th>td_z</th>\n",
       "    </tr>\n",
       "  </thead>\n",
       "  <tbody>\n",
       "    <tr>\n",
       "      <th>0</th>\n",
       "      <td>0</td>\n",
       "      <td>Hazard Ratio  (and 95% Confidence Intervals)  ...</td>\n",
       "      <td>0</td>\n",
       "      <td>16</td>\n",
       "      <td>regress(33),model(31),hazard(24),ventricular(2...</td>\n",
       "      <td>9.664474</td>\n",
       "      <td>8.992035</td>\n",
       "      <td>103.587460</td>\n",
       "      <td>72.253586</td>\n",
       "      <td>5.656330</td>\n",
       "    </tr>\n",
       "    <tr>\n",
       "      <th>1</th>\n",
       "      <td>1</td>\n",
       "      <td>Left Ventricular and Right Ventricular Ejectio...</td>\n",
       "      <td>0</td>\n",
       "      <td>25</td>\n",
       "      <td>regress(33),model(31),hazard(24),ventricular(2...</td>\n",
       "      <td>23.601093</td>\n",
       "      <td>-15.201798</td>\n",
       "      <td>31.781635</td>\n",
       "      <td>89.926690</td>\n",
       "      <td>-82.635830</td>\n",
       "    </tr>\n",
       "    <tr>\n",
       "      <th>2</th>\n",
       "      <td>2</td>\n",
       "      <td>Partial Regression Coefficients  (All Subjects...</td>\n",
       "      <td>0</td>\n",
       "      <td>12</td>\n",
       "      <td>regress(33),model(31),hazard(24),ventricular(2...</td>\n",
       "      <td>11.646137</td>\n",
       "      <td>0.977639</td>\n",
       "      <td>20.661259</td>\n",
       "      <td>124.873360</td>\n",
       "      <td>-45.061954</td>\n",
       "    </tr>\n",
       "    <tr>\n",
       "      <th>3</th>\n",
       "      <td>3</td>\n",
       "      <td>Left Ventricular  (LVEF)  and Right Ventricula...</td>\n",
       "      <td>0</td>\n",
       "      <td>31</td>\n",
       "      <td>regress(33),model(31),hazard(24),ventricular(2...</td>\n",
       "      <td>23.601820</td>\n",
       "      <td>-15.202716</td>\n",
       "      <td>24.231483</td>\n",
       "      <td>92.084380</td>\n",
       "      <td>-102.178580</td>\n",
       "    </tr>\n",
       "    <tr>\n",
       "      <th>4</th>\n",
       "      <td>4</td>\n",
       "      <td>Predictors of Mortality by Multivariable Analy...</td>\n",
       "      <td>0</td>\n",
       "      <td>11</td>\n",
       "      <td>regress(33),model(31),hazard(24),ventricular(2...</td>\n",
       "      <td>8.242556</td>\n",
       "      <td>3.281180</td>\n",
       "      <td>-146.370940</td>\n",
       "      <td>8.817643</td>\n",
       "      <td>-81.400190</td>\n",
       "    </tr>\n",
       "  </tbody>\n",
       "</table>\n",
       "</div>"
      ],
      "text/plain": [
       "   id                                           document  topic  topic_prob  \\\n",
       "0   0  Hazard Ratio  (and 95% Confidence Intervals)  ...      0          16   \n",
       "1   1  Left Ventricular and Right Ventricular Ejectio...      0          25   \n",
       "2   2  Partial Regression Coefficients  (All Subjects...      0          12   \n",
       "3   3  Left Ventricular  (LVEF)  and Right Ventricula...      0          31   \n",
       "4   4  Predictors of Mortality by Multivariable Analy...      0          11   \n",
       "\n",
       "                                          topic_word     plot_x     plot_y  \\\n",
       "0  regress(33),model(31),hazard(24),ventricular(2...   9.664474   8.992035   \n",
       "1  regress(33),model(31),hazard(24),ventricular(2...  23.601093 -15.201798   \n",
       "2  regress(33),model(31),hazard(24),ventricular(2...  11.646137   0.977639   \n",
       "3  regress(33),model(31),hazard(24),ventricular(2...  23.601820 -15.202716   \n",
       "4  regress(33),model(31),hazard(24),ventricular(2...   8.242556   3.281180   \n",
       "\n",
       "         td_x        td_y        td_z  \n",
       "0  103.587460   72.253586    5.656330  \n",
       "1   31.781635   89.926690  -82.635830  \n",
       "2   20.661259  124.873360  -45.061954  \n",
       "3   24.231483   92.084380 -102.178580  \n",
       "4 -146.370940    8.817643  -81.400190  "
      ]
     },
     "execution_count": 4,
     "metadata": {},
     "output_type": "execute_result"
    }
   ],
   "source": [
    "lda_result.head()"
   ]
  },
  {
   "cell_type": "code",
   "execution_count": 5,
   "metadata": {},
   "outputs": [
    {
     "data": {
      "text/html": [
       "<div>\n",
       "<style scoped>\n",
       "    .dataframe tbody tr th:only-of-type {\n",
       "        vertical-align: middle;\n",
       "    }\n",
       "\n",
       "    .dataframe tbody tr th {\n",
       "        vertical-align: top;\n",
       "    }\n",
       "\n",
       "    .dataframe thead th {\n",
       "        text-align: right;\n",
       "    }\n",
       "</style>\n",
       "<table border=\"1\" class=\"dataframe\">\n",
       "  <thead>\n",
       "    <tr style=\"text-align: right;\">\n",
       "      <th></th>\n",
       "      <th>id</th>\n",
       "      <th>document</th>\n",
       "      <th>topic</th>\n",
       "      <th>plot_x</th>\n",
       "      <th>plot_y</th>\n",
       "      <th>topic_word</th>\n",
       "      <th>words_count</th>\n",
       "    </tr>\n",
       "  </thead>\n",
       "  <tbody>\n",
       "    <tr>\n",
       "      <th>0</th>\n",
       "      <td>0</td>\n",
       "      <td>Hazard Ratio  (and 95% Confidence Intervals)  ...</td>\n",
       "      <td>7</td>\n",
       "      <td>9.664474</td>\n",
       "      <td>8.992035</td>\n",
       "      <td>[('regress', '4.34'), ('model', '3.90'), ('ana...</td>\n",
       "      <td>19</td>\n",
       "    </tr>\n",
       "    <tr>\n",
       "      <th>1</th>\n",
       "      <td>1</td>\n",
       "      <td>Left Ventricular and Right Ventricular Ejectio...</td>\n",
       "      <td>3</td>\n",
       "      <td>23.601093</td>\n",
       "      <td>-15.201798</td>\n",
       "      <td>[('coronari', '4.33'), ('valu', '1.96'), ('sen...</td>\n",
       "      <td>25</td>\n",
       "    </tr>\n",
       "    <tr>\n",
       "      <th>2</th>\n",
       "      <td>2</td>\n",
       "      <td>Partial Regression Coefficients  (All Subjects...</td>\n",
       "      <td>7</td>\n",
       "      <td>11.646137</td>\n",
       "      <td>0.977639</td>\n",
       "      <td>[('regress', '4.34'), ('model', '3.90'), ('ana...</td>\n",
       "      <td>15</td>\n",
       "    </tr>\n",
       "    <tr>\n",
       "      <th>3</th>\n",
       "      <td>3</td>\n",
       "      <td>Left Ventricular  (LVEF)  and Right Ventricula...</td>\n",
       "      <td>3</td>\n",
       "      <td>23.601820</td>\n",
       "      <td>-15.202716</td>\n",
       "      <td>[('coronari', '4.33'), ('valu', '1.96'), ('sen...</td>\n",
       "      <td>31</td>\n",
       "    </tr>\n",
       "    <tr>\n",
       "      <th>4</th>\n",
       "      <td>4</td>\n",
       "      <td>Predictors of Mortality by Multivariable Analy...</td>\n",
       "      <td>7</td>\n",
       "      <td>8.242556</td>\n",
       "      <td>3.281180</td>\n",
       "      <td>[('regress', '4.34'), ('model', '3.90'), ('ana...</td>\n",
       "      <td>11</td>\n",
       "    </tr>\n",
       "  </tbody>\n",
       "</table>\n",
       "</div>"
      ],
      "text/plain": [
       "   id                                           document  topic     plot_x  \\\n",
       "0   0  Hazard Ratio  (and 95% Confidence Intervals)  ...      7   9.664474   \n",
       "1   1  Left Ventricular and Right Ventricular Ejectio...      3  23.601093   \n",
       "2   2  Partial Regression Coefficients  (All Subjects...      7  11.646137   \n",
       "3   3  Left Ventricular  (LVEF)  and Right Ventricula...      3  23.601820   \n",
       "4   4  Predictors of Mortality by Multivariable Analy...      7   8.242556   \n",
       "\n",
       "      plot_y                                         topic_word  words_count  \n",
       "0   8.992035  [('regress', '4.34'), ('model', '3.90'), ('ana...           19  \n",
       "1 -15.201798  [('coronari', '4.33'), ('valu', '1.96'), ('sen...           25  \n",
       "2   0.977639  [('regress', '4.34'), ('model', '3.90'), ('ana...           15  \n",
       "3 -15.202716  [('coronari', '4.33'), ('valu', '1.96'), ('sen...           31  \n",
       "4   3.281180  [('regress', '4.34'), ('model', '3.90'), ('ana...           11  "
      ]
     },
     "execution_count": 5,
     "metadata": {},
     "output_type": "execute_result"
    }
   ],
   "source": [
    "km_result.head()"
   ]
  },
  {
   "cell_type": "code",
   "execution_count": 6,
   "metadata": {},
   "outputs": [
    {
     "data": {
      "text/html": [
       "<div>\n",
       "<style scoped>\n",
       "    .dataframe tbody tr th:only-of-type {\n",
       "        vertical-align: middle;\n",
       "    }\n",
       "\n",
       "    .dataframe tbody tr th {\n",
       "        vertical-align: top;\n",
       "    }\n",
       "\n",
       "    .dataframe thead th {\n",
       "        text-align: right;\n",
       "    }\n",
       "</style>\n",
       "<table border=\"1\" class=\"dataframe\">\n",
       "  <thead>\n",
       "    <tr style=\"text-align: right;\">\n",
       "      <th></th>\n",
       "      <th>id</th>\n",
       "      <th>document</th>\n",
       "      <th>topic</th>\n",
       "      <th>plot_x</th>\n",
       "      <th>plot_y</th>\n",
       "    </tr>\n",
       "  </thead>\n",
       "  <tbody>\n",
       "    <tr>\n",
       "      <th>0</th>\n",
       "      <td>0</td>\n",
       "      <td>Hazard Ratio  (and 95% Confidence Intervals)  ...</td>\n",
       "      <td>4</td>\n",
       "      <td>9.664474</td>\n",
       "      <td>8.992035</td>\n",
       "    </tr>\n",
       "    <tr>\n",
       "      <th>1</th>\n",
       "      <td>1</td>\n",
       "      <td>Left Ventricular and Right Ventricular Ejectio...</td>\n",
       "      <td>7</td>\n",
       "      <td>23.601093</td>\n",
       "      <td>-15.201798</td>\n",
       "    </tr>\n",
       "    <tr>\n",
       "      <th>2</th>\n",
       "      <td>2</td>\n",
       "      <td>Partial Regression Coefficients  (All Subjects...</td>\n",
       "      <td>7</td>\n",
       "      <td>11.646137</td>\n",
       "      <td>0.977639</td>\n",
       "    </tr>\n",
       "    <tr>\n",
       "      <th>3</th>\n",
       "      <td>3</td>\n",
       "      <td>Left Ventricular  (LVEF)  and Right Ventricula...</td>\n",
       "      <td>7</td>\n",
       "      <td>23.601820</td>\n",
       "      <td>-15.202716</td>\n",
       "    </tr>\n",
       "    <tr>\n",
       "      <th>4</th>\n",
       "      <td>4</td>\n",
       "      <td>Predictors of Mortality by Multivariable Analy...</td>\n",
       "      <td>7</td>\n",
       "      <td>8.242556</td>\n",
       "      <td>3.281180</td>\n",
       "    </tr>\n",
       "  </tbody>\n",
       "</table>\n",
       "</div>"
      ],
      "text/plain": [
       "   id                                           document  topic     plot_x  \\\n",
       "0   0  Hazard Ratio  (and 95% Confidence Intervals)  ...      4   9.664474   \n",
       "1   1  Left Ventricular and Right Ventricular Ejectio...      7  23.601093   \n",
       "2   2  Partial Regression Coefficients  (All Subjects...      7  11.646137   \n",
       "3   3  Left Ventricular  (LVEF)  and Right Ventricula...      7  23.601820   \n",
       "4   4  Predictors of Mortality by Multivariable Analy...      7   8.242556   \n",
       "\n",
       "      plot_y  \n",
       "0   8.992035  \n",
       "1 -15.201798  \n",
       "2   0.977639  \n",
       "3 -15.202716  \n",
       "4   3.281180  "
      ]
     },
     "execution_count": 6,
     "metadata": {},
     "output_type": "execute_result"
    }
   ],
   "source": [
    "dec_result.head()"
   ]
  },
  {
   "cell_type": "code",
   "execution_count": 3,
   "metadata": {},
   "outputs": [],
   "source": [
    "# km_result = pd.DataFrame([0, 6, 0, 6, 6, 6, 6, 0, 0, 6, 0, 0, 0, 6, 0, 6, 6, 6, 6, 0, 0, 0,\n",
    "#        0, 0, 2, 6, 6, 0, 6, 6, 2, 0, 0, 0, 0, 6, 4, 2, 6, 7, 0, 6, 6, 0,\n",
    "#        5, 0, 6, 6, 6, 2, 3, 3, 3, 3, 3, 3, 3, 3, 3, 3, 3, 3, 3, 3, 3, 3,\n",
    "#        3, 0, 3, 3, 3, 3, 3, 3, 3, 3, 3, 0, 3, 3, 3, 3, 3, 3, 3, 3, 3, 3,\n",
    "#        3, 3, 3, 3, 3, 3, 3, 3, 3, 3, 3, 3, 1, 1, 1, 1, 1, 1, 1, 1, 1, 1,\n",
    "#        2, 1, 1, 1, 1, 1, 1, 1, 6, 1, 1, 1, 1, 1, 1, 1, 1, 1, 1, 1, 1, 1,\n",
    "#        1, 1, 1, 1, 1, 1, 1, 1, 1, 1, 1, 1, 1, 1, 1, 1, 2, 6, 2, 2, 2, 2,\n",
    "#        6, 2, 2, 2, 2, 2, 2, 2, 6, 2, 2, 2, 2, 2, 2, 2, 2, 2, 6, 2, 2, 2,\n",
    "#        2, 2, 6, 2, 6, 2, 2, 2, 2, 4, 2, 2, 6, 2, 2, 2, 6, 2, 2, 2, 2, 2,\n",
    "#        4, 2, 4, 4, 4, 4, 0, 7, 7, 7, 4, 4, 0, 2, 4, 0, 7, 7, 4, 7, 0, 4,\n",
    "#        4, 2, 4, 7, 0, 7, 0, 0, 0, 4, 4, 2, 7, 0, 4, 4, 4, 0, 0, 4, 4, 0,\n",
    "#        4, 0, 4, 4, 4, 4, 2, 4, 5, 6, 6, 6, 5, 5, 6, 5, 5, 5, 5, 5, 6, 5,\n",
    "#        6, 5, 7, 5, 6, 7, 5, 0, 0, 6, 6, 6, 6, 5, 5, 5, 0, 6, 6, 6, 6, 2,\n",
    "#        7, 7, 5, 5, 7, 5, 6, 2, 6, 6, 7, 0, 5, 7, 0, 0, 0, 0, 0, 0, 0, 0,\n",
    "#        0, 0, 0, 0, 0, 0, 0, 0, 0, 0, 0, 0, 0, 0, 0, 0, 6, 0, 0, 0, 0, 0,\n",
    "#        0, 0, 0, 0, 0, 0, 0, 0, 0, 0, 0, 0, 0, 0, 0, 0, 0, 0, 0, 0, 0, 0,\n",
    "#        4, 0, 0, 0, 4, 4, 7, 7, 0, 7, 7, 2, 7, 7, 7, 2, 7, 7, 2, 7, 7, 2,\n",
    "#        7, 7, 7, 7, 7, 7, 7, 7, 0, 7, 7, 2, 7, 7, 7, 6, 7, 2, 7, 7, 7, 7,\n",
    "#        7, 7, 7, 7], columns=['topic']).reset_index()\n",
    "# km_result.columns = ['id', 'topic']"
   ]
  },
  {
   "cell_type": "code",
   "execution_count": 12,
   "metadata": {},
   "outputs": [],
   "source": [
    "def intersect(a, b):\n",
    "    return len(list(set(a) & set(b)))"
   ]
  },
  {
   "cell_type": "code",
   "execution_count": 7,
   "metadata": {},
   "outputs": [],
   "source": [
    "lda_docs_by_topic = lda_result.groupby('topic').agg({'id': 'unique'})\n",
    "km_docs_by_topic = km_result.groupby('topic').agg({'id': 'unique'})\n",
    "dec_docs_by_topic = dec_result.groupby('topic').agg({'id': 'unique'})"
   ]
  },
  {
   "cell_type": "code",
   "execution_count": 8,
   "metadata": {},
   "outputs": [
    {
     "data": {
      "text/html": [
       "<div>\n",
       "<style scoped>\n",
       "    .dataframe tbody tr th:only-of-type {\n",
       "        vertical-align: middle;\n",
       "    }\n",
       "\n",
       "    .dataframe tbody tr th {\n",
       "        vertical-align: top;\n",
       "    }\n",
       "\n",
       "    .dataframe thead th {\n",
       "        text-align: right;\n",
       "    }\n",
       "</style>\n",
       "<table border=\"1\" class=\"dataframe\">\n",
       "  <thead>\n",
       "    <tr style=\"text-align: right;\">\n",
       "      <th></th>\n",
       "      <th>id</th>\n",
       "    </tr>\n",
       "    <tr>\n",
       "      <th>topic</th>\n",
       "      <th></th>\n",
       "    </tr>\n",
       "  </thead>\n",
       "  <tbody>\n",
       "    <tr>\n",
       "      <th>0</th>\n",
       "      <td>[0, 1, 2, 3, 4, 5, 6, 7, 8, 9, 10, 11, 12, 13,...</td>\n",
       "    </tr>\n",
       "    <tr>\n",
       "      <th>1</th>\n",
       "      <td>[50, 52, 53, 54, 55, 60, 62, 64, 65, 68, 70, 7...</td>\n",
       "    </tr>\n",
       "    <tr>\n",
       "      <th>2</th>\n",
       "      <td>[51, 56, 57, 58, 59, 61, 63, 67, 73, 74, 84, 2...</td>\n",
       "    </tr>\n",
       "    <tr>\n",
       "      <th>3</th>\n",
       "      <td>[69, 163, 251, 256, 280, 282, 283, 289, 296, 2...</td>\n",
       "    </tr>\n",
       "    <tr>\n",
       "      <th>4</th>\n",
       "      <td>[195, 201, 202, 207, 209, 210, 211, 214, 216, ...</td>\n",
       "    </tr>\n",
       "  </tbody>\n",
       "</table>\n",
       "</div>"
      ],
      "text/plain": [
       "                                                      id\n",
       "topic                                                   \n",
       "0      [0, 1, 2, 3, 4, 5, 6, 7, 8, 9, 10, 11, 12, 13,...\n",
       "1      [50, 52, 53, 54, 55, 60, 62, 64, 65, 68, 70, 7...\n",
       "2      [51, 56, 57, 58, 59, 61, 63, 67, 73, 74, 84, 2...\n",
       "3      [69, 163, 251, 256, 280, 282, 283, 289, 296, 2...\n",
       "4      [195, 201, 202, 207, 209, 210, 211, 214, 216, ..."
      ]
     },
     "execution_count": 8,
     "metadata": {},
     "output_type": "execute_result"
    }
   ],
   "source": [
    "lda_docs_by_topic.head()"
   ]
  },
  {
   "cell_type": "code",
   "execution_count": 9,
   "metadata": {},
   "outputs": [
    {
     "data": {
      "text/html": [
       "<div>\n",
       "<style scoped>\n",
       "    .dataframe tbody tr th:only-of-type {\n",
       "        vertical-align: middle;\n",
       "    }\n",
       "\n",
       "    .dataframe tbody tr th {\n",
       "        vertical-align: top;\n",
       "    }\n",
       "\n",
       "    .dataframe thead th {\n",
       "        text-align: right;\n",
       "    }\n",
       "</style>\n",
       "<table border=\"1\" class=\"dataframe\">\n",
       "  <thead>\n",
       "    <tr style=\"text-align: right;\">\n",
       "      <th></th>\n",
       "      <th>id</th>\n",
       "    </tr>\n",
       "    <tr>\n",
       "      <th>topic</th>\n",
       "      <th></th>\n",
       "    </tr>\n",
       "  </thead>\n",
       "  <tbody>\n",
       "    <tr>\n",
       "      <th>0</th>\n",
       "      <td>[25, 50, 51, 53, 54, 60, 63, 65, 66, 69, 75, 7...</td>\n",
       "    </tr>\n",
       "    <tr>\n",
       "      <th>1</th>\n",
       "      <td>[101, 102, 103, 104, 105, 106, 107, 108, 109, ...</td>\n",
       "    </tr>\n",
       "    <tr>\n",
       "      <th>2</th>\n",
       "      <td>[350, 351, 352, 353, 354, 355, 356, 357, 358, ...</td>\n",
       "    </tr>\n",
       "    <tr>\n",
       "      <th>3</th>\n",
       "      <td>[1, 3, 8, 10, 14, 31, 35, 36, 154, 155, 161, 2...</td>\n",
       "    </tr>\n",
       "    <tr>\n",
       "      <th>4</th>\n",
       "      <td>[83, 87, 91, 96, 195, 200, 201, 202, 203, 204,...</td>\n",
       "    </tr>\n",
       "  </tbody>\n",
       "</table>\n",
       "</div>"
      ],
      "text/plain": [
       "                                                      id\n",
       "topic                                                   \n",
       "0      [25, 50, 51, 53, 54, 60, 63, 65, 66, 69, 75, 7...\n",
       "1      [101, 102, 103, 104, 105, 106, 107, 108, 109, ...\n",
       "2      [350, 351, 352, 353, 354, 355, 356, 357, 358, ...\n",
       "3      [1, 3, 8, 10, 14, 31, 35, 36, 154, 155, 161, 2...\n",
       "4      [83, 87, 91, 96, 195, 200, 201, 202, 203, 204,..."
      ]
     },
     "execution_count": 9,
     "metadata": {},
     "output_type": "execute_result"
    }
   ],
   "source": [
    "km_docs_by_topic.head()"
   ]
  },
  {
   "cell_type": "code",
   "execution_count": 10,
   "metadata": {},
   "outputs": [
    {
     "data": {
      "text/html": [
       "<div>\n",
       "<style scoped>\n",
       "    .dataframe tbody tr th:only-of-type {\n",
       "        vertical-align: middle;\n",
       "    }\n",
       "\n",
       "    .dataframe tbody tr th {\n",
       "        vertical-align: top;\n",
       "    }\n",
       "\n",
       "    .dataframe thead th {\n",
       "        text-align: right;\n",
       "    }\n",
       "</style>\n",
       "<table border=\"1\" class=\"dataframe\">\n",
       "  <thead>\n",
       "    <tr style=\"text-align: right;\">\n",
       "      <th></th>\n",
       "      <th>id</th>\n",
       "    </tr>\n",
       "    <tr>\n",
       "      <th>topic</th>\n",
       "      <th></th>\n",
       "    </tr>\n",
       "  </thead>\n",
       "  <tbody>\n",
       "    <tr>\n",
       "      <th>0</th>\n",
       "      <td>[63, 85, 105, 109, 112, 116, 118, 119, 135, 14...</td>\n",
       "    </tr>\n",
       "    <tr>\n",
       "      <th>1</th>\n",
       "      <td>[20, 101, 103, 106, 123, 124, 129, 131, 137, 1...</td>\n",
       "    </tr>\n",
       "    <tr>\n",
       "      <th>2</th>\n",
       "      <td>[120, 234, 350, 351, 352, 353, 354, 355, 356, ...</td>\n",
       "    </tr>\n",
       "    <tr>\n",
       "      <th>3</th>\n",
       "      <td>[44, 54, 59, 67, 74, 178, 187, 259, 267]</td>\n",
       "    </tr>\n",
       "    <tr>\n",
       "      <th>4</th>\n",
       "      <td>[0, 5, 6, 7, 8, 13, 15, 16, 17, 19, 22, 23, 27...</td>\n",
       "    </tr>\n",
       "  </tbody>\n",
       "</table>\n",
       "</div>"
      ],
      "text/plain": [
       "                                                      id\n",
       "topic                                                   \n",
       "0      [63, 85, 105, 109, 112, 116, 118, 119, 135, 14...\n",
       "1      [20, 101, 103, 106, 123, 124, 129, 131, 137, 1...\n",
       "2      [120, 234, 350, 351, 352, 353, 354, 355, 356, ...\n",
       "3               [44, 54, 59, 67, 74, 178, 187, 259, 267]\n",
       "4      [0, 5, 6, 7, 8, 13, 15, 16, 17, 19, 22, 23, 27..."
      ]
     },
     "execution_count": 10,
     "metadata": {},
     "output_type": "execute_result"
    }
   ],
   "source": [
    "dec_docs_by_topic.head()"
   ]
  },
  {
   "cell_type": "code",
   "execution_count": 20,
   "metadata": {},
   "outputs": [
    {
     "data": {
      "text/plain": [
       "[1, 4, 19, 0, 30]"
      ]
     },
     "execution_count": 20,
     "metadata": {},
     "output_type": "execute_result"
    }
   ],
   "source": [
    "[intersect(km_docs_by_topic.iloc[4].values[0], lda_docs_by_topic.iloc[j].values[0]) for j in range(5)]"
   ]
  },
  {
   "cell_type": "code",
   "execution_count": 9,
   "metadata": {},
   "outputs": [],
   "source": [
    "lda_km_topic_map = {i: [] for i in range(5)} # key: lda, value: km\n",
    "km_lda_topic_map = {i: [] for i in range(5)} # key: km, value: lda\n",
    "\n",
    "for i in range(5):\n",
    "    lda_topic = int(np.argmax([intersect(km_docs_by_topic.iloc[i].values[0], lda_docs_by_topic.iloc[j].values[0]) for j in range(5)]))\n",
    "    km_topic = i\n",
    "    lda_km_topic_map[lda_topic].append(km_topic)\n",
    "    km_lda_topic_map[km_topic].append(lda_topic)"
   ]
  },
  {
   "cell_type": "code",
   "execution_count": 10,
   "metadata": {},
   "outputs": [
    {
     "data": {
      "text/plain": [
       "({0: [7], 1: [0, 5], 2: [], 3: [2], 4: [4], 5: [3], 6: [1], 7: [6]},\n",
       " {0: [1], 1: [6], 2: [3], 3: [5], 4: [4], 5: [1], 6: [7], 7: [0]})"
      ]
     },
     "execution_count": 10,
     "metadata": {},
     "output_type": "execute_result"
    }
   ],
   "source": [
    "lda_km_topic_map, km_lda_topic_map"
   ]
  },
  {
   "cell_type": "code",
   "execution_count": 11,
   "metadata": {},
   "outputs": [],
   "source": [
    "lda_dec_topic_map = {i: [] for i in range(8)} # key: lda, value: km\n",
    "dec_lda_topic_map = {i: [] for i in range(8)} # key: km, value: lda\n",
    "\n",
    "for i in range(8):\n",
    "    lda_topic = int(np.argmax([intersect(dec_docs_by_topic.iloc[i].values[0], lda_docs_by_topic.iloc[j].values[0]) for j in range(8)]))\n",
    "    dec_topic = i\n",
    "    lda_dec_topic_map[lda_topic].append(dec_topic)\n",
    "    dec_lda_topic_map[dec_topic].append(lda_topic)"
   ]
  },
  {
   "cell_type": "code",
   "execution_count": 12,
   "metadata": {},
   "outputs": [
    {
     "data": {
      "text/plain": [
       "({0: [4], 1: [], 2: [], 3: [2], 4: [], 5: [7], 6: [0, 1, 5], 7: [3, 6]},\n",
       " {0: [6], 1: [6], 2: [3], 3: [7], 4: [0], 5: [6], 6: [7], 7: [5]})"
      ]
     },
     "execution_count": 12,
     "metadata": {},
     "output_type": "execute_result"
    }
   ],
   "source": [
    "lda_dec_topic_map, dec_lda_topic_map"
   ]
  },
  {
   "cell_type": "code",
   "execution_count": 13,
   "metadata": {},
   "outputs": [],
   "source": [
    "merged_result = pd.merge(lda_result[['id', 'document', 'topic']], km_result[['id', 'topic']], on='id', suffixes=('_lda', '_km'))\n",
    "merged_result = pd.merge(merged_result[['id', 'document', 'topic_lda', 'topic_km']], dec_result[['id', 'topic']], on='id')\n",
    "merged_result.columns = ['id', 'document', 'topic_lda', 'topic_km', 'topic_dec']"
   ]
  },
  {
   "cell_type": "code",
   "execution_count": 14,
   "metadata": {},
   "outputs": [
    {
     "data": {
      "text/html": [
       "<div>\n",
       "<style scoped>\n",
       "    .dataframe tbody tr th:only-of-type {\n",
       "        vertical-align: middle;\n",
       "    }\n",
       "\n",
       "    .dataframe tbody tr th {\n",
       "        vertical-align: top;\n",
       "    }\n",
       "\n",
       "    .dataframe thead th {\n",
       "        text-align: right;\n",
       "    }\n",
       "</style>\n",
       "<table border=\"1\" class=\"dataframe\">\n",
       "  <thead>\n",
       "    <tr style=\"text-align: right;\">\n",
       "      <th></th>\n",
       "      <th>id</th>\n",
       "      <th>document</th>\n",
       "      <th>topic_lda</th>\n",
       "      <th>topic_km</th>\n",
       "      <th>topic_dec</th>\n",
       "    </tr>\n",
       "  </thead>\n",
       "  <tbody>\n",
       "    <tr>\n",
       "      <th>0</th>\n",
       "      <td>0</td>\n",
       "      <td>Hazard Ratio  (and 95% Confidence Intervals)  ...</td>\n",
       "      <td>0</td>\n",
       "      <td>7</td>\n",
       "      <td>4</td>\n",
       "    </tr>\n",
       "    <tr>\n",
       "      <th>1</th>\n",
       "      <td>1</td>\n",
       "      <td>Left Ventricular and Right Ventricular Ejectio...</td>\n",
       "      <td>0</td>\n",
       "      <td>3</td>\n",
       "      <td>7</td>\n",
       "    </tr>\n",
       "    <tr>\n",
       "      <th>2</th>\n",
       "      <td>2</td>\n",
       "      <td>Partial Regression Coefficients  (All Subjects...</td>\n",
       "      <td>0</td>\n",
       "      <td>7</td>\n",
       "      <td>7</td>\n",
       "    </tr>\n",
       "    <tr>\n",
       "      <th>3</th>\n",
       "      <td>3</td>\n",
       "      <td>Left Ventricular  (LVEF)  and Right Ventricula...</td>\n",
       "      <td>0</td>\n",
       "      <td>3</td>\n",
       "      <td>7</td>\n",
       "    </tr>\n",
       "    <tr>\n",
       "      <th>4</th>\n",
       "      <td>4</td>\n",
       "      <td>Predictors of Mortality by Multivariable Analy...</td>\n",
       "      <td>0</td>\n",
       "      <td>7</td>\n",
       "      <td>7</td>\n",
       "    </tr>\n",
       "  </tbody>\n",
       "</table>\n",
       "</div>"
      ],
      "text/plain": [
       "   id                                           document  topic_lda  topic_km  \\\n",
       "0   0  Hazard Ratio  (and 95% Confidence Intervals)  ...          0         7   \n",
       "1   1  Left Ventricular and Right Ventricular Ejectio...          0         3   \n",
       "2   2  Partial Regression Coefficients  (All Subjects...          0         7   \n",
       "3   3  Left Ventricular  (LVEF)  and Right Ventricula...          0         3   \n",
       "4   4  Predictors of Mortality by Multivariable Analy...          0         7   \n",
       "\n",
       "   topic_dec  \n",
       "0          4  \n",
       "1          7  \n",
       "2          7  \n",
       "3          7  \n",
       "4          7  "
      ]
     },
     "execution_count": 14,
     "metadata": {},
     "output_type": "execute_result"
    }
   ],
   "source": [
    "merged_result.head()"
   ]
  },
  {
   "cell_type": "code",
   "execution_count": 15,
   "metadata": {},
   "outputs": [],
   "source": [
    "json_data = collections.OrderedDict()\n",
    "json_data['lda_km_topic_map'] = lda_km_topic_map\n",
    "json_data['km_lda_topic_map'] = km_lda_topic_map\n",
    "json_data['lda_dec_topic_map'] = lda_dec_topic_map\n",
    "json_data['dec_lda_topic_map'] = dec_lda_topic_map\n",
    "json_data['rows'] = merged_result[['document', 'topic_lda', 'topic_km', 'topic_dec']].to_dict(orient='records')\n",
    "jsonp = json.loads(json.dumps(json_data, ensure_ascii=False, indent='\\t').replace('`', ''))"
   ]
  },
  {
   "cell_type": "code",
   "execution_count": 16,
   "metadata": {},
   "outputs": [],
   "source": [
    "f = open('./Visualization/res/document_table.json', 'w')\n",
    "f.write(json.dumps(json_data, ensure_ascii=False, indent='\\t').replace('`', ''))\n",
    "f.close()"
   ]
  },
  {
   "cell_type": "code",
   "execution_count": null,
   "metadata": {},
   "outputs": [],
   "source": []
  }
 ],
 "metadata": {
  "kernelspec": {
   "display_name": "Python 3",
   "language": "python",
   "name": "python3"
  },
  "language_info": {
   "codemirror_mode": {
    "name": "ipython",
    "version": 3
   },
   "file_extension": ".py",
   "mimetype": "text/x-python",
   "name": "python",
   "nbconvert_exporter": "python",
   "pygments_lexer": "ipython3",
   "version": "3.5.4"
  }
 },
 "nbformat": 4,
 "nbformat_minor": 2
}
