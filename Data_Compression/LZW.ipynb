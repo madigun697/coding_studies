{
 "cells": [
  {
   "cell_type": "code",
   "execution_count": 2,
   "metadata": {},
   "outputs": [],
   "source": [
    "import sys"
   ]
  },
  {
   "cell_type": "code",
   "execution_count": 92,
   "metadata": {},
   "outputs": [],
   "source": [
    "class LZW:\n",
    "\n",
    "    def readfile(self, filename):\n",
    "        try:\n",
    "            f = open(filename, 'r')\n",
    "            data = f.readlines()\n",
    "            f.close()\n",
    "        except UnicodeDecodeError:\n",
    "            # 입력 스트림과 출력 스트림을 연다\n",
    "            input = open(filename, \"rt\", encoding=\"utf-16\")\n",
    "            data = ''\n",
    "\n",
    "            # 유니코드 데이터 조각들을 스트리밍한다\n",
    "            with input:\n",
    "                while True:\n",
    "                    # 데이터 조각을 읽고\n",
    "                    chunk = input.read(4096)\n",
    "                    if not chunk:\n",
    "                        break\n",
    "                    # 수직 탭을 삭제한다\n",
    "                    chunk = chunk.replace(\"\\u000B\", \"\")\n",
    "                    # 데이터 조각을 쓴다\n",
    "                    data += chunk\n",
    "\n",
    "        return data\n",
    "\n",
    "    def compress(self, origin_file, compressed_file):\n",
    "        import struct \n",
    "\n",
    "        data = ''.join(self.readfile(origin_file))\n",
    "        encoded_data = self.encoding(data)\n",
    "\n",
    "        binfile = open(compressed_file, 'wb')\n",
    "        for ch in encoded_data:\n",
    "            binfile.write(struct.pack('I', ch))\n",
    "        binfile.close()\n",
    "\n",
    "    def decompress(self, compressed_file, decompressed_file):\n",
    "        import struct \n",
    "        binfile = open(compressed_file, 'rb')\n",
    "        encoded_data = []\n",
    "\n",
    "        while True:\n",
    "            binary = binfile.read(4)\n",
    "            if len(binary) == 0: break\n",
    "            encoded_data.append(struct.unpack('I', binary)[0])\n",
    "        \n",
    "        decoded_data = self.decoding(encoded_data)\n",
    "\n",
    "        f = open(decompressed_file, 'w')\n",
    "        f.write(decoded_data)\n",
    "        f.close()\n",
    "\n",
    "    def encoding(self, data):\n",
    "        dictionary = {chr(i): i for i in range(256)}\n",
    "        result = []\n",
    "        wc = ''\n",
    "\n",
    "        for c in data:\n",
    "            wc += c\n",
    "            if wc not in dictionary:\n",
    "                result.append(dictionary[wc[:-1]])\n",
    "                dictionary[wc] = len(dictionary)\n",
    "                wc = c\n",
    "\n",
    "        if wc != '': result.append(dictionary[wc])\n",
    "\n",
    "        return result\n",
    "\n",
    "\n",
    "    def decoding(self, data):\n",
    "        dictionary = {i: chr(i) for i in range(256)}\n",
    "        result = w = dictionary[data.pop(0)]\n",
    "\n",
    "        for k in data:\n",
    "            entry = dictionary[k] if k in dictionary else w + w[0]\n",
    "            result += entry    \n",
    "            dictionary[len(dictionary)] = w + entry[0]\n",
    "            w = entry\n",
    "\n",
    "        return result"
   ]
  },
  {
   "cell_type": "code",
   "execution_count": 93,
   "metadata": {},
   "outputs": [],
   "source": [
    "lzw = LZW()\n",
    "lzw.compress('infile.txt', 'compress_lzw.lz')\n",
    "lzw.decompress('compress_lzw.lz', 'restore_lzw.txt')"
   ]
  },
  {
   "cell_type": "code",
   "execution_count": 94,
   "metadata": {},
   "outputs": [
    {
     "name": "stdout",
     "output_type": "stream",
     "text": [
      "File name: infile.txt, \n",
      "Origin file size: 1,555,051Byte, \n",
      "Compressed size: 1,201,920Byte, \n",
      "Compression ratio: 77.291356%\n"
     ]
    }
   ],
   "source": [
    "import os\n",
    "print('File name: infile.txt, \\nOrigin file size: %sByte, \\nCompressed size: %sByte, \\nCompression ratio: %f%%' % \n",
    "('{:,}'.format(os.path.getsize('./infile.txt')), '{:,}'.format(os.path.getsize('./compress_lzw.lz')), \n",
    " os.path.getsize('./compress_lzw.lz')/os.path.getsize('./infile.txt')*100))"
   ]
  },
  {
   "cell_type": "code",
   "execution_count": 41,
   "metadata": {},
   "outputs": [
    {
     "name": "stdout",
     "output_type": "stream",
     "text": [
      "ABBCBCABABCAABCAAB [66, 66, 67, 258, 256, 256, 67, 65, 262, 264, 66] ABBCBCABABCAABCAAB True\n",
      "--------\n",
      "BABAABRRRA [65, 256, 257, 82, 260, 65] BABAABRRRA True\n",
      "--------\n",
      "AAAAAAAAA [256, 257, 257] AAAAAAAAA True\n",
      "--------\n"
     ]
    }
   ],
   "source": [
    "data = ['ABBCBCABABCAABCAAB', 'BABAABRRRA', 'AAAAAAAAA']\n",
    "\n",
    "for origin_text in data:\n",
    "    lzw = LZW()\n",
    "    encoded_text = lzw.encoding(origin_text)\n",
    "    decoded_text = lzw.decoding(encoded_text)\n",
    "    print(origin_text, encoded_text, decoded_text, origin_text == decoded_text)\n",
    "    print('--------')"
   ]
  },
  {
   "cell_type": "code",
   "execution_count": 87,
   "metadata": {},
   "outputs": [
    {
     "name": "stdout",
     "output_type": "stream",
     "text": [
      "True\n"
     ]
    }
   ],
   "source": [
    "lzw = LZW()\n",
    "f = open('./infile.txt', 'r')\n",
    "origin_text = f.read()\n",
    "f.close()\n",
    "\n",
    "encoded_text = lzw.encoding(origin_text)\n",
    "decoded_text = lzw.decoding(encoded_text)\n",
    "print(origin_text == decoded_text)"
   ]
  },
  {
   "cell_type": "code",
   "execution_count": 89,
   "metadata": {},
   "outputs": [
    {
     "data": {
      "text/plain": [
       "300479"
      ]
     },
     "execution_count": 89,
     "metadata": {},
     "output_type": "execute_result"
    }
   ],
   "source": [
    "len(encoded_text)"
   ]
  },
  {
   "cell_type": "code",
   "execution_count": 51,
   "metadata": {},
   "outputs": [
    {
     "name": "stdout",
     "output_type": "stream",
     "text": [
      "Test 2byte\n",
      "File name: infile2.txt, \n",
      "Origin file size: 518Byte, \n",
      "Compressed size: 811Byte, \n",
      "Compression ratio: 156.563707%\n",
      "\n",
      "Test 3byte\n",
      "File name: infile3.txt, \n",
      "Origin file size: 2,452Byte, \n",
      "Compressed size: 3,065Byte, \n",
      "Compression ratio: 125.000000%\n",
      "\n"
     ]
    }
   ],
   "source": [
    "for i in range(2, 4):\n",
    "    lz78 = LZW()\n",
    "    lz78.compress('infile%d.txt' % i, 'compress%d.lz' % i)\n",
    "    lz78.decompress('compress%d.lz' % i, 'restore%d.txt' % i)\n",
    "    print('Test %dbyte' % i)\n",
    "    print('File name: infile%d.txt, \\nOrigin file size: %sByte, \\nCompressed size: %sByte, \\nCompression ratio: %f%%\\n' % \n",
    "          (i, '{:,}'.format(os.path.getsize('./infile%d.txt' % i)), '{:,}'.format(os.path.getsize('./compress%d.lz' % i)), \n",
    "           os.path.getsize('./compress%d.lz' % i)/os.path.getsize('./infile%d.txt' % i)*100))"
   ]
  },
  {
   "cell_type": "code",
   "execution_count": 86,
   "metadata": {},
   "outputs": [
    {
     "data": {
      "text/plain": [
       "(1024,)"
      ]
     },
     "execution_count": 86,
     "metadata": {},
     "output_type": "execute_result"
    }
   ],
   "source": [
    "struct.unpack('H', b'\\x00\\x04')"
   ]
  },
  {
   "cell_type": "code",
   "execution_count": null,
   "metadata": {},
   "outputs": [],
   "source": []
  }
 ],
 "metadata": {
  "kernelspec": {
   "display_name": "Python 3",
   "language": "python",
   "name": "python3"
  },
  "language_info": {
   "codemirror_mode": {
    "name": "ipython",
    "version": 3
   },
   "file_extension": ".py",
   "mimetype": "text/x-python",
   "name": "python",
   "nbconvert_exporter": "python",
   "pygments_lexer": "ipython3",
   "version": "3.5.4"
  }
 },
 "nbformat": 4,
 "nbformat_minor": 2
}
