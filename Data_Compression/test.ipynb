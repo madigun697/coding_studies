{
 "cells": [
  {
   "cell_type": "code",
   "execution_count": 97,
   "metadata": {},
   "outputs": [],
   "source": [
    "import os"
   ]
  },
  {
   "cell_type": "code",
   "execution_count": 109,
   "metadata": {},
   "outputs": [],
   "source": [
    "class LZ78_4byte:\n",
    "    \n",
    "    def compress(self, origin_file, compressed_file):\n",
    "        import struct \n",
    "        f = open(origin_file, 'r')\n",
    "        data = f.readlines()\n",
    "        f.close()\n",
    "\n",
    "        data = ''.join(data)\n",
    "        encoded_data = self.encoding(data)\n",
    "        \n",
    "        maxidx = max([t[0] for t in encoded_data])\n",
    "        \n",
    "        if maxidx < 255:\n",
    "            bintype = 'Bc'\n",
    "        elif maxidx < 65535:\n",
    "            bintype = 'Hc'\n",
    "        elif maxidx < 16777215:\n",
    "            bintype = '4byte'\n",
    "        else:\n",
    "            bintype = 'Ic'\n",
    "        \n",
    "        binfile = open(compressed_file, 'wb')\n",
    "        binfile.write(struct.pack('c', bintype[:1].encode()))\n",
    "        for idx, ch in encoded_data:\n",
    "            if len(ch) == 0:\n",
    "                break\n",
    "            if bintype == '4byte':\n",
    "                data = struct.pack('Ic', idx, ch.encode())\n",
    "                binfile.write(b''.join([data[0:3], data[4:]])) \n",
    "            else:\n",
    "                data = struct.pack(bintype, idx, ch.encode())\n",
    "                binfile.write(data) \n",
    "        binfile.close()\n",
    "        \n",
    "        return encoded_data\n",
    "        \n",
    "    def decompress(self, compressed_file, decompressed_file):\n",
    "        import struct \n",
    "        binfile = open(compressed_file, 'rb')\n",
    "        a = binfile.read(1)\n",
    "        bintype = struct.unpack('c', a)[0].decode()\n",
    "        encoded_data = []\n",
    "\n",
    "        while True:\n",
    "            if bintype == '4':\n",
    "                binary = binfile.read(struct.calcsize('Ic') - 1)\n",
    "                if binary == b'': break \n",
    "                encoded_data.append(struct.unpack('Ic', b''.join([binary[0:3], b'\\x00', binary[3:]])))\n",
    "            else:\n",
    "                binary = binfile.read(struct.calcsize('%sc' % bintype))\n",
    "                if binary == b'': break \n",
    "                encoded_data.append(struct.unpack('%sc' % bintype, binary))\n",
    "            \n",
    "        encoded_data = [(d[0], d[1].decode()) for d in encoded_data]\n",
    "        \n",
    "        decoded_data = self.decoding(encoded_data)\n",
    "        \n",
    "        f = open(decompressed_file, 'w')\n",
    "        f.write(decoded_data)\n",
    "        f.close()\n",
    "        \n",
    "    def encoding(self, data):\n",
    "        import collections\n",
    "        encode_dict = collections.OrderedDict()\n",
    "        out = []\n",
    "        out2 = []\n",
    "        key = ''\n",
    "        \n",
    "        for i, c in enumerate(data):\n",
    "            key += c\n",
    "            if key not in encode_dict:\n",
    "                out.append((encode_dict[key[:-1]] if len(key) > 1 else 0, c))\n",
    "                encode_dict[key] = len(encode_dict)+1\n",
    "                key = ''\n",
    "                \n",
    "        if key != '': out.append((encode_dict[key], ''))\n",
    "\n",
    "        return out, encode_dict\n",
    "    \n",
    "    def decoding(self, data):\n",
    "        d = []\n",
    "        p = ''\n",
    "\n",
    "        for (w, c) in data: d.append(c if w == 0 else d[w-1] + c)\n",
    "\n",
    "        return ''.join(d)"
   ]
  },
  {
   "cell_type": "code",
   "execution_count": 102,
   "metadata": {},
   "outputs": [],
   "source": [
    "lz78 = LZ78_4byte()\n",
    "ed = lz78.compress('infile.txt', 'compress.lz')\n",
    "lz78.decompress('compress.lz', 'restore.txt')"
   ]
  },
  {
   "cell_type": "code",
   "execution_count": 100,
   "metadata": {},
   "outputs": [
    {
     "name": "stdout",
     "output_type": "stream",
     "text": [
      "File name: infile.txt, \n",
      "Origin file size: 1,555,051Byte, \n",
      "Compressed size: 1,016,949Byte, \n",
      "Compression ratio: 65.396505%\n"
     ]
    }
   ],
   "source": [
    "print('File name: infile.txt, \\nOrigin file size: %sByte, \\nCompressed size: %sByte, \\nCompression ratio: %f%%' % \n",
    "('{:,}'.format(os.path.getsize('./infile.txt')), '{:,}'.format(os.path.getsize('./compress.lz')), \n",
    " os.path.getsize('./compress.lz')/os.path.getsize('./infile.txt')*100))"
   ]
  },
  {
   "cell_type": "code",
   "execution_count": 112,
   "metadata": {},
   "outputs": [
    {
     "name": "stdout",
     "output_type": "stream",
     "text": [
      "ABBCBCABABCAABCAAB [(0, 'A'), (0, 'B'), (2, 'C'), (3, 'A'), (2, 'A'), (4, 'A'), (6, 'B')] ABBCBCABABCAABCAAB True\n",
      "--------\n"
     ]
    }
   ],
   "source": [
    "data = ['ABBCBCABABCAABCAAB', 'BABAABRRRA', 'AAAAAAAAA']\n",
    "\n",
    "for origin_text in data[:1]:\n",
    "    lz78_ = LZ78_4byte()\n",
    "    encoded_text, edict = lz78_.encoding(origin_text)\n",
    "    decoded_text = lz78_.decoding(encoded_text)\n",
    "    print(origin_text, encoded_text, decoded_text, origin_text == decoded_text)\n",
    "    print('--------')"
   ]
  },
  {
   "cell_type": "code",
   "execution_count": 113,
   "metadata": {},
   "outputs": [
    {
     "data": {
      "text/plain": [
       "OrderedDict([('A', 1),\n",
       "             ('B', 2),\n",
       "             ('BC', 3),\n",
       "             ('BCA', 4),\n",
       "             ('BA', 5),\n",
       "             ('BCAA', 6),\n",
       "             ('BCAAB', 7)])"
      ]
     },
     "execution_count": 113,
     "metadata": {},
     "output_type": "execute_result"
    }
   ],
   "source": [
    "edict"
   ]
  },
  {
   "cell_type": "code",
   "execution_count": 114,
   "metadata": {},
   "outputs": [
    {
     "data": {
      "text/plain": [
       "[(0, 'A'), (0, 'B'), (2, 'C'), (3, 'A'), (2, 'A'), (4, 'A'), (6, 'B')]"
      ]
     },
     "execution_count": 114,
     "metadata": {},
     "output_type": "execute_result"
    }
   ],
   "source": [
    "encoded_text"
   ]
  },
  {
   "cell_type": "code",
   "execution_count": 131,
   "metadata": {},
   "outputs": [],
   "source": [
    "a = struct.pack('Ic', 100000, 'c'.encode())"
   ]
  },
  {
   "cell_type": "code",
   "execution_count": 147,
   "metadata": {},
   "outputs": [
    {
     "name": "stdout",
     "output_type": "stream",
     "text": [
      "160\n",
      "134\n",
      "1\n",
      "0\n",
      "99\n",
      "b'\\xa0\\x86\\x01\\x00c'\n"
     ]
    }
   ],
   "source": [
    "for b in a:\n",
    "    print(b)\n",
    "print(a)"
   ]
  },
  {
   "cell_type": "code",
   "execution_count": 145,
   "metadata": {},
   "outputs": [
    {
     "data": {
      "text/plain": [
       "100000"
      ]
     },
     "execution_count": 145,
     "metadata": {},
     "output_type": "execute_result"
    }
   ],
   "source": [
    "(256 ** 2) + (256 * 134) + 160"
   ]
  },
  {
   "cell_type": "code",
   "execution_count": null,
   "metadata": {},
   "outputs": [],
   "source": []
  }
 ],
 "metadata": {
  "kernelspec": {
   "display_name": "Python 3",
   "language": "python",
   "name": "python3"
  },
  "language_info": {
   "codemirror_mode": {
    "name": "ipython",
    "version": 3
   },
   "file_extension": ".py",
   "mimetype": "text/x-python",
   "name": "python",
   "nbconvert_exporter": "python",
   "pygments_lexer": "ipython3",
   "version": "3.5.4"
  }
 },
 "nbformat": 4,
 "nbformat_minor": 2
}
