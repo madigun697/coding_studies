{
 "cells": [
  {
   "cell_type": "code",
   "execution_count": 3,
   "metadata": {},
   "outputs": [],
   "source": [
    "import queue\n",
    "import pandas as pd\n",
    "pd.options.display.max_columns = 999"
   ]
  },
  {
   "cell_type": "code",
   "execution_count": 4,
   "metadata": {},
   "outputs": [],
   "source": [
    "def buildTree(arr, size):   \n",
    "    state = 1\n",
    "    \n",
    "    print('make trie structure for all pattern in array')\n",
    "    for i, word in enumerate(arr):\n",
    "        presentState = 0\n",
    "\n",
    "        for c in word:\n",
    "            ch = ord(c) - ord('a')\n",
    "            if gotoMat[presentState][ch] == -1:\n",
    "                gotoMat[presentState][ch] = state\n",
    "                state = state + 1\n",
    "            presentState = gotoMat[presentState][ch]\n",
    "\n",
    "        output[presentState] = output[presentState] | (1 << i)\n",
    "                \n",
    "    print('if ch is not directly connected to root')\n",
    "    for ch in range(MAXC):\n",
    "        if gotoMat[0][ch] == -1:\n",
    "            gotoMat[0][ch] = 0\n",
    "            \n",
    "    q = queue.Queue()\n",
    "    \n",
    "    print('node goes to previous state when fails')\n",
    "    for ch in range(MAXC):\n",
    "        if gotoMat[0][ch] != 0:\n",
    "            fail[gotoMat[0][ch]] = 0\n",
    "            q.put(gotoMat[0][ch])\n",
    "\n",
    "    print('start while')\n",
    "    while (q.qsize()):\n",
    "        state = q.get()\n",
    "        \n",
    "        for ch in range(MAXC):\n",
    "            if gotoMat[state][ch] != -1:\n",
    "                failure = fail[state]\n",
    "                while gotoMat[failure][ch] == -1:\n",
    "                    failure = fail[failure]\n",
    "                failure = gotoMat[failure][ch]\n",
    "                fail[gotoMat[state][ch]] = failure\n",
    "                output[gotoMat[state][ch]] = output[gotoMat[state][ch]] | output[failure]\n",
    "                q.put(gotoMat[state][ch])\n",
    "    print('end while')\n",
    "    print('------')\n",
    "    return state"
   ]
  },
  {
   "cell_type": "code",
   "execution_count": 5,
   "metadata": {},
   "outputs": [],
   "source": [
    "def getNextState(presentState, nextChar):\n",
    "    answer = presentState\n",
    "    ch = ord(nextChar) - ord('a')\n",
    "    \n",
    "    while gotoMat[answer][ch] == -1:\n",
    "        answer = fail[answer]\n",
    "    \n",
    "    return gotoMat[answer][ch]"
   ]
  },
  {
   "cell_type": "code",
   "execution_count": 9,
   "metadata": {},
   "outputs": [],
   "source": [
    "def patternSearch(arr, size, text):\n",
    "    buildTree(arr, size)\n",
    "    presentState = 0\n",
    "    \n",
    "    for i, t in enumerate(text):\n",
    "        presentState = getNextState(presentState, t)\n",
    "        if output[presentState] != 0:\n",
    "            for j in range(size+1):\n",
    "                if output[presentState] & (1 << j):\n",
    "                    print('Word %s appears from %s to %s' % (str(arr[j]), str(i - len(arr[j]) + 1), str(i)))"
   ]
  },
  {
   "cell_type": "code",
   "execution_count": 10,
   "metadata": {
    "scrolled": true
   },
   "outputs": [
    {
     "name": "stdout",
     "output_type": "stream",
     "text": [
      "make trie structure for all pattern in array\n",
      "if ch is not directly connected to root\n",
      "node goes to previous state when fails\n",
      "start while\n",
      "end while\n",
      "------\n",
      "Word there appears from 2 to 6\n",
      "Word any appears from 7 to 9\n",
      "Word answer appears from 10 to 15\n",
      "Word bye appears from 22 to 24\n",
      "------\n",
      "make trie structure for all pattern in array\n",
      "if ch is not directly connected to root\n",
      "node goes to previous state when fails\n",
      "start while\n",
      "end while\n",
      "------\n",
      "Word he appears from 0 to 1\n",
      "Word he appears from 3 to 4\n",
      "Word she appears from 2 to 4\n",
      "Word hers appears from 3 to 6\n",
      "Word he appears from 7 to 8\n",
      "Word she appears from 6 to 8\n",
      "Word hers appears from 7 to 10\n",
      "Word he appears from 11 to 12\n",
      "Word she appears from 10 to 12\n",
      "Word hers appears from 11 to 14\n",
      "Word he appears from 15 to 16\n",
      "Word she appears from 14 to 16\n",
      "Word his appears from 18 to 20\n"
     ]
    }
   ],
   "source": [
    "MAXS = 500\n",
    "MAXC = 26\n",
    "\n",
    "output = [0] * MAXS\n",
    "fail = [-1] * MAXS\n",
    "gotoMat = [[-1]*MAXC for _ in range(MAXS)]\n",
    "\n",
    "arr = ['their', 'there', 'answer', 'any', 'bye']\n",
    "k = len(arr)\n",
    "text = 'isthereanyanswerokgoodbye'\n",
    "patternSearch(arr, k, text)\n",
    "\n",
    "print('------')\n",
    "\n",
    "output = [0] * MAXS\n",
    "fail = [-1] * MAXS\n",
    "gotoMat = [[-1]*MAXC for _ in range(MAXS)]\n",
    "\n",
    "arr = ['he', 'she', 'hers', 'his']\n",
    "k = len(arr)\n",
    "# text = 'ahishers'\n",
    "text = 'heshershershersherhis'\n",
    "patternSearch(arr, k, text)"
   ]
  },
  {
   "cell_type": "markdown",
   "metadata": {},
   "source": [
    "#### References\n",
    "* https://www.tutorialspoint.com/Aho-Corasick-Algorithm\n",
    "* https://www.geeksforgeeks.org/aho-corasick-algorithm-pattern-searching/"
   ]
  },
  {
   "cell_type": "code",
   "execution_count": 12,
   "metadata": {},
   "outputs": [],
   "source": [
    "a = dict()"
   ]
  },
  {
   "cell_type": "code",
   "execution_count": 13,
   "metadata": {},
   "outputs": [
    {
     "data": {
      "text/plain": [
       "{'a': ['a', 'b', 'c']}"
      ]
     },
     "execution_count": 13,
     "metadata": {},
     "output_type": "execute_result"
    }
   ],
   "source": [
    "a['a'] = ['a', 'b', 'c']\n",
    "a"
   ]
  },
  {
   "cell_type": "code",
   "execution_count": 14,
   "metadata": {},
   "outputs": [
    {
     "data": {
      "text/plain": [
       "{'a': ['a', 'b', 'c', 'd']}"
      ]
     },
     "execution_count": 14,
     "metadata": {},
     "output_type": "execute_result"
    }
   ],
   "source": [
    "a['a'].append('d')\n",
    "a"
   ]
  },
  {
   "cell_type": "code",
   "execution_count": null,
   "metadata": {},
   "outputs": [],
   "source": []
  }
 ],
 "metadata": {
  "kernelspec": {
   "display_name": "Python 3",
   "language": "python",
   "name": "python3"
  },
  "language_info": {
   "codemirror_mode": {
    "name": "ipython",
    "version": 3
   },
   "file_extension": ".py",
   "mimetype": "text/x-python",
   "name": "python",
   "nbconvert_exporter": "python",
   "pygments_lexer": "ipython3",
   "version": "3.5.4"
  }
 },
 "nbformat": 4,
 "nbformat_minor": 2
}
