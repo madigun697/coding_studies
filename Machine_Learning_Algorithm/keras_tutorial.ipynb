{
 "cells": [
  {
   "cell_type": "code",
   "execution_count": 1,
   "metadata": {},
   "outputs": [
    {
     "name": "stderr",
     "output_type": "stream",
     "text": [
      "/Users/gracelee/.pyenv/versions/3.5.4/lib/python3.5/importlib/_bootstrap.py:222: RuntimeWarning: compiletime version 3.6 of module 'tensorflow.python.framework.fast_tensor_util' does not match runtime version 3.5\n",
      "  return f(*args, **kwds)\n"
     ]
    },
    {
     "name": "stdout",
     "output_type": "stream",
     "text": [
      "Python version :  3.5.4 (default, Sep 20 2018, 16:20:21) \n",
      "[GCC 4.2.1 Compatible Apple LLVM 9.0.0 (clang-900.0.39.2)]\n",
      "TensorFlow version :  1.5.0\n",
      "Keras version :  2.2.2\n"
     ]
    },
    {
     "name": "stderr",
     "output_type": "stream",
     "text": [
      "Using TensorFlow backend.\n"
     ]
    }
   ],
   "source": [
    "import warnings\n",
    "warnings.simplefilter(action='ignore', category=FutureWarning)\n",
    "\n",
    "import sys\n",
    "import tensorflow as tf\n",
    "import keras\n",
    "from keras.models import Sequential\n",
    "from keras.layers import Dense, Dropout, Flatten\n",
    "from keras.layers.convolutional import Conv2D, MaxPooling2D\n",
    "import numpy as np\n",
    "np.random.seed(7)\n",
    "\n",
    "print('Python version : ', sys.version)\n",
    "print('TensorFlow version : ', tf.__version__)\n",
    "print('Keras version : ', keras.__version__)"
   ]
  },
  {
   "cell_type": "code",
   "execution_count": 7,
   "metadata": {},
   "outputs": [
    {
     "name": "stdout",
     "output_type": "stream",
     "text": [
      "x_train shape: (60000, 28, 28, 1)\n",
      "60000 train samples\n",
      "10000 test samples\n"
     ]
    }
   ],
   "source": [
    "img_rows = 28\n",
    "img_cols = 28\n",
    "\n",
    "(x_train, y_train), (x_test, y_test) = keras.datasets.mnist.load_data()\n",
    "\n",
    "input_shape = (img_rows, img_cols, 1)\n",
    "x_train = x_train.reshape(x_train.shape[0], img_rows, img_cols, 1)\n",
    "x_test = x_test.reshape(x_test.shape[0], img_rows, img_cols, 1)\n",
    "\n",
    "x_train = x_train.astype('float32') / 255.\n",
    "x_test = x_test.astype('float32') / 255.\n",
    "\n",
    "print('x_train shape:', x_train.shape)\n",
    "print(x_train.shape[0], 'train samples')\n",
    "print(x_test.shape[0], 'test samples')\n",
    "\n",
    "batch_size = 128\n",
    "num_classes = 10\n",
    "# epochs = 12\n",
    "epochs = 5\n",
    "\n",
    "y_train = keras.utils.to_categorical(y_train, num_classes)\n",
    "y_test = keras.utils.to_categorical(y_test, num_classes)"
   ]
  },
  {
   "cell_type": "code",
   "execution_count": 8,
   "metadata": {},
   "outputs": [
    {
     "name": "stdout",
     "output_type": "stream",
     "text": [
      "_________________________________________________________________\n",
      "Layer (type)                 Output Shape              Param #   \n",
      "=================================================================\n",
      "conv2d_3 (Conv2D)            (None, 28, 28, 32)        832       \n",
      "_________________________________________________________________\n",
      "max_pooling2d_3 (MaxPooling2 (None, 14, 14, 32)        0         \n",
      "_________________________________________________________________\n",
      "conv2d_4 (Conv2D)            (None, 14, 14, 64)        8256      \n",
      "_________________________________________________________________\n",
      "max_pooling2d_4 (MaxPooling2 (None, 7, 7, 64)          0         \n",
      "_________________________________________________________________\n",
      "dropout_3 (Dropout)          (None, 7, 7, 64)          0         \n",
      "_________________________________________________________________\n",
      "flatten_2 (Flatten)          (None, 3136)              0         \n",
      "_________________________________________________________________\n",
      "dense_3 (Dense)              (None, 1000)              3137000   \n",
      "_________________________________________________________________\n",
      "dropout_4 (Dropout)          (None, 1000)              0         \n",
      "_________________________________________________________________\n",
      "dense_4 (Dense)              (None, 10)                10010     \n",
      "=================================================================\n",
      "Total params: 3,156,098\n",
      "Trainable params: 3,156,098\n",
      "Non-trainable params: 0\n",
      "_________________________________________________________________\n"
     ]
    }
   ],
   "source": [
    "model = Sequential()\n",
    "model.add(Conv2D(32, kernel_size=(5, 5), strides=(1, 1), padding='same',\n",
    "                 activation='relu',\n",
    "                 input_shape=input_shape))\n",
    "model.add(MaxPooling2D(pool_size=(2, 2), strides=(2, 2)))\n",
    "model.add(Conv2D(64, (2, 2), activation='relu', padding='same'))\n",
    "model.add(MaxPooling2D(pool_size=(2, 2)))\n",
    "model.add(Dropout(0.25))\n",
    "model.add(Flatten())\n",
    "model.add(Dense(1000, activation='relu'))\n",
    "model.add(Dropout(0.5))\n",
    "model.add(Dense(num_classes, activation='softmax'))\n",
    "model.summary()"
   ]
  },
  {
   "cell_type": "code",
   "execution_count": 9,
   "metadata": {},
   "outputs": [
    {
     "data": {
      "image/svg+xml": [
       "<svg height=\"774pt\" viewBox=\"0.00 0.00 393.93 774.00\" width=\"394pt\" xmlns=\"http://www.w3.org/2000/svg\" xmlns:xlink=\"http://www.w3.org/1999/xlink\">\n",
       "<g class=\"graph\" id=\"graph0\" transform=\"scale(1 1) rotate(0) translate(4 770)\">\n",
       "<title>G</title>\n",
       "<polygon fill=\"#ffffff\" points=\"-4,4 -4,-770 389.9277,-770 389.9277,4 -4,4\" stroke=\"transparent\"/>\n",
       "<!-- 5068400792 -->\n",
       "<g class=\"node\" id=\"node1\">\n",
       "<title>5068400792</title>\n",
       "<polygon fill=\"none\" points=\"42.7793,-648.5 42.7793,-692.5 343.1484,-692.5 343.1484,-648.5 42.7793,-648.5\" stroke=\"#000000\"/>\n",
       "<text fill=\"#000000\" font-family=\"Times,serif\" font-size=\"14.00\" text-anchor=\"middle\" x=\"105.8052\" y=\"-666.3\">conv2d_3: Conv2D</text>\n",
       "<polyline fill=\"none\" points=\"168.8311,-648.5 168.8311,-692.5 \" stroke=\"#000000\"/>\n",
       "<text fill=\"#000000\" font-family=\"Times,serif\" font-size=\"14.00\" text-anchor=\"middle\" x=\"196.6655\" y=\"-677.3\">input:</text>\n",
       "<polyline fill=\"none\" points=\"168.8311,-670.5 224.5,-670.5 \" stroke=\"#000000\"/>\n",
       "<text fill=\"#000000\" font-family=\"Times,serif\" font-size=\"14.00\" text-anchor=\"middle\" x=\"196.6655\" y=\"-655.3\">output:</text>\n",
       "<polyline fill=\"none\" points=\"224.5,-648.5 224.5,-692.5 \" stroke=\"#000000\"/>\n",
       "<text fill=\"#000000\" font-family=\"Times,serif\" font-size=\"14.00\" text-anchor=\"middle\" x=\"283.8242\" y=\"-677.3\">(None, 28, 28, 1)</text>\n",
       "<polyline fill=\"none\" points=\"224.5,-670.5 343.1484,-670.5 \" stroke=\"#000000\"/>\n",
       "<text fill=\"#000000\" font-family=\"Times,serif\" font-size=\"14.00\" text-anchor=\"middle\" x=\"283.8242\" y=\"-655.3\">(None, 28, 28, 32)</text>\n",
       "</g>\n",
       "<!-- 5068401464 -->\n",
       "<g class=\"node\" id=\"node2\">\n",
       "<title>5068401464</title>\n",
       "<polygon fill=\"none\" points=\"0,-567.5 0,-611.5 385.9277,-611.5 385.9277,-567.5 0,-567.5\" stroke=\"#000000\"/>\n",
       "<text fill=\"#000000\" font-family=\"Times,serif\" font-size=\"14.00\" text-anchor=\"middle\" x=\"105.8052\" y=\"-585.3\">max_pooling2d_3: MaxPooling2D</text>\n",
       "<polyline fill=\"none\" points=\"211.6104,-567.5 211.6104,-611.5 \" stroke=\"#000000\"/>\n",
       "<text fill=\"#000000\" font-family=\"Times,serif\" font-size=\"14.00\" text-anchor=\"middle\" x=\"239.4448\" y=\"-596.3\">input:</text>\n",
       "<polyline fill=\"none\" points=\"211.6104,-589.5 267.2793,-589.5 \" stroke=\"#000000\"/>\n",
       "<text fill=\"#000000\" font-family=\"Times,serif\" font-size=\"14.00\" text-anchor=\"middle\" x=\"239.4448\" y=\"-574.3\">output:</text>\n",
       "<polyline fill=\"none\" points=\"267.2793,-567.5 267.2793,-611.5 \" stroke=\"#000000\"/>\n",
       "<text fill=\"#000000\" font-family=\"Times,serif\" font-size=\"14.00\" text-anchor=\"middle\" x=\"326.6035\" y=\"-596.3\">(None, 28, 28, 32)</text>\n",
       "<polyline fill=\"none\" points=\"267.2793,-589.5 385.9277,-589.5 \" stroke=\"#000000\"/>\n",
       "<text fill=\"#000000\" font-family=\"Times,serif\" font-size=\"14.00\" text-anchor=\"middle\" x=\"326.6035\" y=\"-574.3\">(None, 14, 14, 32)</text>\n",
       "</g>\n",
       "<!-- 5068400792&#45;&gt;5068401464 -->\n",
       "<g class=\"edge\" id=\"edge2\">\n",
       "<title>5068400792-&gt;5068401464</title>\n",
       "<path d=\"M192.9639,-648.3664C192.9639,-640.1516 192.9639,-630.6579 192.9639,-621.7252\" fill=\"none\" stroke=\"#000000\"/>\n",
       "<polygon fill=\"#000000\" points=\"196.464,-621.6068 192.9639,-611.6068 189.464,-621.6069 196.464,-621.6068\" stroke=\"#000000\"/>\n",
       "</g>\n",
       "<!-- 5083655584 -->\n",
       "<g class=\"node\" id=\"node3\">\n",
       "<title>5083655584</title>\n",
       "<polygon fill=\"none\" points=\"42.7793,-486.5 42.7793,-530.5 343.1484,-530.5 343.1484,-486.5 42.7793,-486.5\" stroke=\"#000000\"/>\n",
       "<text fill=\"#000000\" font-family=\"Times,serif\" font-size=\"14.00\" text-anchor=\"middle\" x=\"105.8052\" y=\"-504.3\">conv2d_4: Conv2D</text>\n",
       "<polyline fill=\"none\" points=\"168.8311,-486.5 168.8311,-530.5 \" stroke=\"#000000\"/>\n",
       "<text fill=\"#000000\" font-family=\"Times,serif\" font-size=\"14.00\" text-anchor=\"middle\" x=\"196.6655\" y=\"-515.3\">input:</text>\n",
       "<polyline fill=\"none\" points=\"168.8311,-508.5 224.5,-508.5 \" stroke=\"#000000\"/>\n",
       "<text fill=\"#000000\" font-family=\"Times,serif\" font-size=\"14.00\" text-anchor=\"middle\" x=\"196.6655\" y=\"-493.3\">output:</text>\n",
       "<polyline fill=\"none\" points=\"224.5,-486.5 224.5,-530.5 \" stroke=\"#000000\"/>\n",
       "<text fill=\"#000000\" font-family=\"Times,serif\" font-size=\"14.00\" text-anchor=\"middle\" x=\"283.8242\" y=\"-515.3\">(None, 14, 14, 32)</text>\n",
       "<polyline fill=\"none\" points=\"224.5,-508.5 343.1484,-508.5 \" stroke=\"#000000\"/>\n",
       "<text fill=\"#000000\" font-family=\"Times,serif\" font-size=\"14.00\" text-anchor=\"middle\" x=\"283.8242\" y=\"-493.3\">(None, 14, 14, 64)</text>\n",
       "</g>\n",
       "<!-- 5068401464&#45;&gt;5083655584 -->\n",
       "<g class=\"edge\" id=\"edge3\">\n",
       "<title>5068401464-&gt;5083655584</title>\n",
       "<path d=\"M192.9639,-567.3664C192.9639,-559.1516 192.9639,-549.6579 192.9639,-540.7252\" fill=\"none\" stroke=\"#000000\"/>\n",
       "<polygon fill=\"#000000\" points=\"196.464,-540.6068 192.9639,-530.6068 189.464,-540.6069 196.464,-540.6068\" stroke=\"#000000\"/>\n",
       "</g>\n",
       "<!-- 5083656656 -->\n",
       "<g class=\"node\" id=\"node4\">\n",
       "<title>5083656656</title>\n",
       "<polygon fill=\"none\" points=\"0,-405.5 0,-449.5 385.9277,-449.5 385.9277,-405.5 0,-405.5\" stroke=\"#000000\"/>\n",
       "<text fill=\"#000000\" font-family=\"Times,serif\" font-size=\"14.00\" text-anchor=\"middle\" x=\"105.8052\" y=\"-423.3\">max_pooling2d_4: MaxPooling2D</text>\n",
       "<polyline fill=\"none\" points=\"211.6104,-405.5 211.6104,-449.5 \" stroke=\"#000000\"/>\n",
       "<text fill=\"#000000\" font-family=\"Times,serif\" font-size=\"14.00\" text-anchor=\"middle\" x=\"239.4448\" y=\"-434.3\">input:</text>\n",
       "<polyline fill=\"none\" points=\"211.6104,-427.5 267.2793,-427.5 \" stroke=\"#000000\"/>\n",
       "<text fill=\"#000000\" font-family=\"Times,serif\" font-size=\"14.00\" text-anchor=\"middle\" x=\"239.4448\" y=\"-412.3\">output:</text>\n",
       "<polyline fill=\"none\" points=\"267.2793,-405.5 267.2793,-449.5 \" stroke=\"#000000\"/>\n",
       "<text fill=\"#000000\" font-family=\"Times,serif\" font-size=\"14.00\" text-anchor=\"middle\" x=\"326.6035\" y=\"-434.3\">(None, 14, 14, 64)</text>\n",
       "<polyline fill=\"none\" points=\"267.2793,-427.5 385.9277,-427.5 \" stroke=\"#000000\"/>\n",
       "<text fill=\"#000000\" font-family=\"Times,serif\" font-size=\"14.00\" text-anchor=\"middle\" x=\"326.6035\" y=\"-412.3\">(None, 7, 7, 64)</text>\n",
       "</g>\n",
       "<!-- 5083655584&#45;&gt;5083656656 -->\n",
       "<g class=\"edge\" id=\"edge4\">\n",
       "<title>5083655584-&gt;5083656656</title>\n",
       "<path d=\"M192.9639,-486.3664C192.9639,-478.1516 192.9639,-468.6579 192.9639,-459.7252\" fill=\"none\" stroke=\"#000000\"/>\n",
       "<polygon fill=\"#000000\" points=\"196.464,-459.6068 192.9639,-449.6068 189.464,-459.6069 196.464,-459.6068\" stroke=\"#000000\"/>\n",
       "</g>\n",
       "<!-- 4435467792 -->\n",
       "<g class=\"node\" id=\"node5\">\n",
       "<title>4435467792</title>\n",
       "<polygon fill=\"none\" points=\"49.0034,-324.5 49.0034,-368.5 336.9243,-368.5 336.9243,-324.5 49.0034,-324.5\" stroke=\"#000000\"/>\n",
       "<text fill=\"#000000\" font-family=\"Times,serif\" font-size=\"14.00\" text-anchor=\"middle\" x=\"112.8052\" y=\"-342.3\">dropout_3: Dropout</text>\n",
       "<polyline fill=\"none\" points=\"176.6069,-324.5 176.6069,-368.5 \" stroke=\"#000000\"/>\n",
       "<text fill=\"#000000\" font-family=\"Times,serif\" font-size=\"14.00\" text-anchor=\"middle\" x=\"204.4414\" y=\"-353.3\">input:</text>\n",
       "<polyline fill=\"none\" points=\"176.6069,-346.5 232.2759,-346.5 \" stroke=\"#000000\"/>\n",
       "<text fill=\"#000000\" font-family=\"Times,serif\" font-size=\"14.00\" text-anchor=\"middle\" x=\"204.4414\" y=\"-331.3\">output:</text>\n",
       "<polyline fill=\"none\" points=\"232.2759,-324.5 232.2759,-368.5 \" stroke=\"#000000\"/>\n",
       "<text fill=\"#000000\" font-family=\"Times,serif\" font-size=\"14.00\" text-anchor=\"middle\" x=\"284.6001\" y=\"-353.3\">(None, 7, 7, 64)</text>\n",
       "<polyline fill=\"none\" points=\"232.2759,-346.5 336.9243,-346.5 \" stroke=\"#000000\"/>\n",
       "<text fill=\"#000000\" font-family=\"Times,serif\" font-size=\"14.00\" text-anchor=\"middle\" x=\"284.6001\" y=\"-331.3\">(None, 7, 7, 64)</text>\n",
       "</g>\n",
       "<!-- 5083656656&#45;&gt;4435467792 -->\n",
       "<g class=\"edge\" id=\"edge5\">\n",
       "<title>5083656656-&gt;4435467792</title>\n",
       "<path d=\"M192.9639,-405.3664C192.9639,-397.1516 192.9639,-387.6579 192.9639,-378.7252\" fill=\"none\" stroke=\"#000000\"/>\n",
       "<polygon fill=\"#000000\" points=\"196.464,-378.6068 192.9639,-368.6068 189.464,-378.6069 196.464,-378.6068\" stroke=\"#000000\"/>\n",
       "</g>\n",
       "<!-- 4435530024 -->\n",
       "<g class=\"node\" id=\"node6\">\n",
       "<title>4435530024</title>\n",
       "<polygon fill=\"none\" points=\"57.1724,-243.5 57.1724,-287.5 328.7554,-287.5 328.7554,-243.5 57.1724,-243.5\" stroke=\"#000000\"/>\n",
       "<text fill=\"#000000\" font-family=\"Times,serif\" font-size=\"14.00\" text-anchor=\"middle\" x=\"112.8052\" y=\"-261.3\">flatten_2: Flatten</text>\n",
       "<polyline fill=\"none\" points=\"168.438,-243.5 168.438,-287.5 \" stroke=\"#000000\"/>\n",
       "<text fill=\"#000000\" font-family=\"Times,serif\" font-size=\"14.00\" text-anchor=\"middle\" x=\"196.2725\" y=\"-272.3\">input:</text>\n",
       "<polyline fill=\"none\" points=\"168.438,-265.5 224.1069,-265.5 \" stroke=\"#000000\"/>\n",
       "<text fill=\"#000000\" font-family=\"Times,serif\" font-size=\"14.00\" text-anchor=\"middle\" x=\"196.2725\" y=\"-250.3\">output:</text>\n",
       "<polyline fill=\"none\" points=\"224.1069,-243.5 224.1069,-287.5 \" stroke=\"#000000\"/>\n",
       "<text fill=\"#000000\" font-family=\"Times,serif\" font-size=\"14.00\" text-anchor=\"middle\" x=\"276.4312\" y=\"-272.3\">(None, 7, 7, 64)</text>\n",
       "<polyline fill=\"none\" points=\"224.1069,-265.5 328.7554,-265.5 \" stroke=\"#000000\"/>\n",
       "<text fill=\"#000000\" font-family=\"Times,serif\" font-size=\"14.00\" text-anchor=\"middle\" x=\"276.4312\" y=\"-250.3\">(None, 3136)</text>\n",
       "</g>\n",
       "<!-- 4435467792&#45;&gt;4435530024 -->\n",
       "<g class=\"edge\" id=\"edge6\">\n",
       "<title>4435467792-&gt;4435530024</title>\n",
       "<path d=\"M192.9639,-324.3664C192.9639,-316.1516 192.9639,-306.6579 192.9639,-297.7252\" fill=\"none\" stroke=\"#000000\"/>\n",
       "<polygon fill=\"#000000\" points=\"196.464,-297.6068 192.9639,-287.6068 189.464,-297.6069 196.464,-297.6068\" stroke=\"#000000\"/>\n",
       "</g>\n",
       "<!-- 4435531200 -->\n",
       "<g class=\"node\" id=\"node7\">\n",
       "<title>4435531200</title>\n",
       "<polygon fill=\"none\" points=\"67.6792,-162.5 67.6792,-206.5 318.2485,-206.5 318.2485,-162.5 67.6792,-162.5\" stroke=\"#000000\"/>\n",
       "<text fill=\"#000000\" font-family=\"Times,serif\" font-size=\"14.00\" text-anchor=\"middle\" x=\"119.8052\" y=\"-180.3\">dense_3: Dense</text>\n",
       "<polyline fill=\"none\" points=\"171.9312,-162.5 171.9312,-206.5 \" stroke=\"#000000\"/>\n",
       "<text fill=\"#000000\" font-family=\"Times,serif\" font-size=\"14.00\" text-anchor=\"middle\" x=\"199.7656\" y=\"-191.3\">input:</text>\n",
       "<polyline fill=\"none\" points=\"171.9312,-184.5 227.6001,-184.5 \" stroke=\"#000000\"/>\n",
       "<text fill=\"#000000\" font-family=\"Times,serif\" font-size=\"14.00\" text-anchor=\"middle\" x=\"199.7656\" y=\"-169.3\">output:</text>\n",
       "<polyline fill=\"none\" points=\"227.6001,-162.5 227.6001,-206.5 \" stroke=\"#000000\"/>\n",
       "<text fill=\"#000000\" font-family=\"Times,serif\" font-size=\"14.00\" text-anchor=\"middle\" x=\"272.9243\" y=\"-191.3\">(None, 3136)</text>\n",
       "<polyline fill=\"none\" points=\"227.6001,-184.5 318.2485,-184.5 \" stroke=\"#000000\"/>\n",
       "<text fill=\"#000000\" font-family=\"Times,serif\" font-size=\"14.00\" text-anchor=\"middle\" x=\"272.9243\" y=\"-169.3\">(None, 1000)</text>\n",
       "</g>\n",
       "<!-- 4435530024&#45;&gt;4435531200 -->\n",
       "<g class=\"edge\" id=\"edge7\">\n",
       "<title>4435530024-&gt;4435531200</title>\n",
       "<path d=\"M192.9639,-243.3664C192.9639,-235.1516 192.9639,-225.6579 192.9639,-216.7252\" fill=\"none\" stroke=\"#000000\"/>\n",
       "<polygon fill=\"#000000\" points=\"196.464,-216.6068 192.9639,-206.6068 189.464,-216.6069 196.464,-216.6068\" stroke=\"#000000\"/>\n",
       "</g>\n",
       "<!-- 4435618280 -->\n",
       "<g class=\"node\" id=\"node8\">\n",
       "<title>4435618280</title>\n",
       "<polygon fill=\"none\" points=\"56.0034,-81.5 56.0034,-125.5 329.9243,-125.5 329.9243,-81.5 56.0034,-81.5\" stroke=\"#000000\"/>\n",
       "<text fill=\"#000000\" font-family=\"Times,serif\" font-size=\"14.00\" text-anchor=\"middle\" x=\"119.8052\" y=\"-99.3\">dropout_4: Dropout</text>\n",
       "<polyline fill=\"none\" points=\"183.6069,-81.5 183.6069,-125.5 \" stroke=\"#000000\"/>\n",
       "<text fill=\"#000000\" font-family=\"Times,serif\" font-size=\"14.00\" text-anchor=\"middle\" x=\"211.4414\" y=\"-110.3\">input:</text>\n",
       "<polyline fill=\"none\" points=\"183.6069,-103.5 239.2759,-103.5 \" stroke=\"#000000\"/>\n",
       "<text fill=\"#000000\" font-family=\"Times,serif\" font-size=\"14.00\" text-anchor=\"middle\" x=\"211.4414\" y=\"-88.3\">output:</text>\n",
       "<polyline fill=\"none\" points=\"239.2759,-81.5 239.2759,-125.5 \" stroke=\"#000000\"/>\n",
       "<text fill=\"#000000\" font-family=\"Times,serif\" font-size=\"14.00\" text-anchor=\"middle\" x=\"284.6001\" y=\"-110.3\">(None, 1000)</text>\n",
       "<polyline fill=\"none\" points=\"239.2759,-103.5 329.9243,-103.5 \" stroke=\"#000000\"/>\n",
       "<text fill=\"#000000\" font-family=\"Times,serif\" font-size=\"14.00\" text-anchor=\"middle\" x=\"284.6001\" y=\"-88.3\">(None, 1000)</text>\n",
       "</g>\n",
       "<!-- 4435531200&#45;&gt;4435618280 -->\n",
       "<g class=\"edge\" id=\"edge8\">\n",
       "<title>4435531200-&gt;4435618280</title>\n",
       "<path d=\"M192.9639,-162.3664C192.9639,-154.1516 192.9639,-144.6579 192.9639,-135.7252\" fill=\"none\" stroke=\"#000000\"/>\n",
       "<polygon fill=\"#000000\" points=\"196.464,-135.6068 192.9639,-125.6068 189.464,-135.6069 196.464,-135.6068\" stroke=\"#000000\"/>\n",
       "</g>\n",
       "<!-- 4859524824 -->\n",
       "<g class=\"node\" id=\"node9\">\n",
       "<title>4859524824</title>\n",
       "<polygon fill=\"none\" points=\"67.6792,-.5 67.6792,-44.5 318.2485,-44.5 318.2485,-.5 67.6792,-.5\" stroke=\"#000000\"/>\n",
       "<text fill=\"#000000\" font-family=\"Times,serif\" font-size=\"14.00\" text-anchor=\"middle\" x=\"119.8052\" y=\"-18.3\">dense_4: Dense</text>\n",
       "<polyline fill=\"none\" points=\"171.9312,-.5 171.9312,-44.5 \" stroke=\"#000000\"/>\n",
       "<text fill=\"#000000\" font-family=\"Times,serif\" font-size=\"14.00\" text-anchor=\"middle\" x=\"199.7656\" y=\"-29.3\">input:</text>\n",
       "<polyline fill=\"none\" points=\"171.9312,-22.5 227.6001,-22.5 \" stroke=\"#000000\"/>\n",
       "<text fill=\"#000000\" font-family=\"Times,serif\" font-size=\"14.00\" text-anchor=\"middle\" x=\"199.7656\" y=\"-7.3\">output:</text>\n",
       "<polyline fill=\"none\" points=\"227.6001,-.5 227.6001,-44.5 \" stroke=\"#000000\"/>\n",
       "<text fill=\"#000000\" font-family=\"Times,serif\" font-size=\"14.00\" text-anchor=\"middle\" x=\"272.9243\" y=\"-29.3\">(None, 1000)</text>\n",
       "<polyline fill=\"none\" points=\"227.6001,-22.5 318.2485,-22.5 \" stroke=\"#000000\"/>\n",
       "<text fill=\"#000000\" font-family=\"Times,serif\" font-size=\"14.00\" text-anchor=\"middle\" x=\"272.9243\" y=\"-7.3\">(None, 10)</text>\n",
       "</g>\n",
       "<!-- 4435618280&#45;&gt;4859524824 -->\n",
       "<g class=\"edge\" id=\"edge9\">\n",
       "<title>4435618280-&gt;4859524824</title>\n",
       "<path d=\"M192.9639,-81.3664C192.9639,-73.1516 192.9639,-63.6579 192.9639,-54.7252\" fill=\"none\" stroke=\"#000000\"/>\n",
       "<polygon fill=\"#000000\" points=\"196.464,-54.6068 192.9639,-44.6068 189.464,-54.6069 196.464,-54.6068\" stroke=\"#000000\"/>\n",
       "</g>\n",
       "<!-- 5083014032 -->\n",
       "<g class=\"node\" id=\"node10\">\n",
       "<title>5083014032</title>\n",
       "<polygon fill=\"none\" points=\"149.9639,-729.5 149.9639,-765.5 235.9639,-765.5 235.9639,-729.5 149.9639,-729.5\" stroke=\"#000000\"/>\n",
       "<text fill=\"#000000\" font-family=\"Times,serif\" font-size=\"14.00\" text-anchor=\"middle\" x=\"192.9639\" y=\"-743.3\">5083014032</text>\n",
       "</g>\n",
       "<!-- 5083014032&#45;&gt;5068400792 -->\n",
       "<g class=\"edge\" id=\"edge1\">\n",
       "<title>5083014032-&gt;5068400792</title>\n",
       "<path d=\"M192.9639,-729.2521C192.9639,-721.3888 192.9639,-711.9498 192.9639,-702.9612\" fill=\"none\" stroke=\"#000000\"/>\n",
       "<polygon fill=\"#000000\" points=\"196.464,-702.7376 192.9639,-692.7377 189.464,-702.7377 196.464,-702.7376\" stroke=\"#000000\"/>\n",
       "</g>\n",
       "</g>\n",
       "</svg>"
      ],
      "text/plain": [
       "<IPython.core.display.SVG object>"
      ]
     },
     "execution_count": 9,
     "metadata": {},
     "output_type": "execute_result"
    }
   ],
   "source": [
    "from IPython.display import SVG\n",
    "from keras.utils.vis_utils import model_to_dot\n",
    "%matplotlib inline\n",
    "\n",
    "SVG(model_to_dot(model, show_shapes=True).create(prog='dot', format='svg'))"
   ]
  },
  {
   "cell_type": "code",
   "execution_count": 10,
   "metadata": {},
   "outputs": [
    {
     "name": "stdout",
     "output_type": "stream",
     "text": [
      "Train on 60000 samples, validate on 10000 samples\n",
      "Epoch 1/5\n",
      "60000/60000 [==============================] - 278s 5ms/step - loss: 0.1889 - acc: 0.9403 - val_loss: 0.0452 - val_acc: 0.9867\n",
      "Epoch 2/5\n",
      "60000/60000 [==============================] - 275s 5ms/step - loss: 0.0602 - acc: 0.9813 - val_loss: 0.0407 - val_acc: 0.9862\n",
      "Epoch 3/5\n",
      "60000/60000 [==============================] - 274s 5ms/step - loss: 0.0438 - acc: 0.9865 - val_loss: 0.0296 - val_acc: 0.9901\n",
      "Epoch 4/5\n",
      "60000/60000 [==============================] - 273s 5ms/step - loss: 0.0367 - acc: 0.9883 - val_loss: 0.0267 - val_acc: 0.9911\n",
      "Epoch 5/5\n",
      "60000/60000 [==============================] - 274s 5ms/step - loss: 0.0321 - acc: 0.9894 - val_loss: 0.0281 - val_acc: 0.9912\n"
     ]
    }
   ],
   "source": [
    "model.compile(loss='categorical_crossentropy', optimizer='adam', metrics=['accuracy'])\n",
    "hist = model.fit(x_train, y_train,\n",
    "                 batch_size=batch_size,\n",
    "                 epochs=epochs,\n",
    "                 verbose=1, \n",
    "                 validation_data=(x_test, y_test))"
   ]
  },
  {
   "cell_type": "code",
   "execution_count": 36,
   "metadata": {},
   "outputs": [
    {
     "name": "stdout",
     "output_type": "stream",
     "text": [
      "Train on 60000 samples, validate on 10000 samples\n",
      "Epoch 1/5\n",
      "60000/60000 [==============================] - 274s 5ms/step - loss: 0.0273 - acc: 0.9914 - val_loss: 0.0247 - val_acc: 0.9922\n",
      "Epoch 2/5\n",
      "60000/60000 [==============================] - 274s 5ms/step - loss: 0.0216 - acc: 0.9931 - val_loss: 0.0237 - val_acc: 0.9929\n",
      "Epoch 3/5\n",
      "60000/60000 [==============================] - 273s 5ms/step - loss: 0.0218 - acc: 0.9930 - val_loss: 0.0238 - val_acc: 0.9919\n",
      "Epoch 4/5\n",
      "60000/60000 [==============================] - 273s 5ms/step - loss: 0.0189 - acc: 0.9935 - val_loss: 0.0241 - val_acc: 0.9931\n",
      "Epoch 5/5\n",
      "60000/60000 [==============================] - 273s 5ms/step - loss: 0.0172 - acc: 0.9947 - val_loss: 0.0195 - val_acc: 0.9944\n"
     ]
    }
   ],
   "source": [
    "hist = model.fit(x_train, y_train,\n",
    "                 batch_size=batch_size,\n",
    "                 epochs=epochs,\n",
    "                 verbose=1, \n",
    "                 validation_data=(x_test, y_test))"
   ]
  },
  {
   "cell_type": "code",
   "execution_count": 37,
   "metadata": {},
   "outputs": [
    {
     "name": "stdout",
     "output_type": "stream",
     "text": [
      "Test loss: 0.01945643838075339\n",
      "Test accuracy: 0.9944\n"
     ]
    }
   ],
   "source": [
    "score = model.evaluate(x_test, y_test, verbose=0)\n",
    "print('Test loss:', score[0])\n",
    "print('Test accuracy:', score[1])"
   ]
  },
  {
   "cell_type": "code",
   "execution_count": 38,
   "metadata": {},
   "outputs": [
    {
     "name": "stdout",
     "output_type": "stream",
     "text": [
      "## training loss and acc ##\n",
      "[0.027255514149243633, 0.021640333097955832, 0.02176636877891918, 0.01885105263412309, 0.017242827325562635]\n",
      "[0.9914333333333334, 0.9931333333333333, 0.9929999999682109, 0.9934666666666667, 0.9947]\n"
     ]
    }
   ],
   "source": [
    "print('## training loss and acc ##')\n",
    "print(hist.history['loss'])\n",
    "print(hist.history['acc'])"
   ]
  },
  {
   "cell_type": "code",
   "execution_count": 15,
   "metadata": {},
   "outputs": [],
   "source": [
    "import random\n",
    "import matplotlib.pyplot as plt\n",
    "\n",
    "plt.style.use('dark_background')\n",
    "\n",
    "plt.rcParams[\"figure.figsize\"] = (20,10)\n",
    "plt.rcParams['lines.linewidth'] = 2\n",
    "plt.rcParams['lines.color'] = 'r'\n",
    "plt.rcParams['axes.grid'] = True \n",
    "\n",
    "predicted_result = model.predict(x_test)\n",
    "predicted_labels = np.argmax(predicted_result, axis=1)\n",
    "\n",
    "test_labels = np.argmax(y_test, axis=1)"
   ]
  },
  {
   "cell_type": "code",
   "execution_count": 17,
   "metadata": {},
   "outputs": [
    {
     "data": {
      "image/png": "[encoded data removed]",
      "text/plain": [
       "<Figure size 864x576 with 16 Axes>"
      ]
     },
     "metadata": {},
     "output_type": "display_data"
    }
   ],
   "source": [
    "wrong_result = []\n",
    "\n",
    "for n in range(0, len(test_labels)):\n",
    "    if predicted_labels[n] != test_labels[n]:\n",
    "        wrong_result.append(n)\n",
    "\n",
    "count = 0\n",
    "nrows = ncols = 4\n",
    "\n",
    "plt.figure(figsize=(12,8))\n",
    "\n",
    "for n in wrong_result[:nrows*ncols]:\n",
    "    count += 1\n",
    "    plt.subplot(nrows, ncols, count)\n",
    "    plt.imshow(x_test[n].reshape(28, 28), cmap='Greys', interpolation='nearest')\n",
    "    tmp = \"Label:\" + str(test_labels[n]) + \", Prediction:\" + str(predicted_labels[n])\n",
    "    plt.title(tmp)\n",
    "\n",
    "plt.tight_layout()\n",
    "plt.show()"
   ]
  },
  {
   "cell_type": "code",
   "execution_count": 18,
   "metadata": {},
   "outputs": [
    {
     "data": {
      "text/plain": [
       "88"
      ]
     },
     "execution_count": 18,
     "metadata": {},
     "output_type": "execute_result"
    }
   ],
   "source": [
    "len(wrong_result)"
   ]
  },
  {
   "cell_type": "markdown",
   "metadata": {},
   "source": [
    "* https://pinkwink.kr/1121"
   ]
  },
  {
   "cell_type": "code",
   "execution_count": null,
   "metadata": {},
   "outputs": [],
   "source": []
  }
 ],
 "metadata": {
  "kernelspec": {
   "display_name": "Python 3",
   "language": "python",
   "name": "python3"
  },
  "language_info": {
   "codemirror_mode": {
    "name": "ipython",
    "version": 3
   },
   "file_extension": ".py",
   "mimetype": "text/x-python",
   "name": "python",
   "nbconvert_exporter": "python",
   "pygments_lexer": "ipython3",
   "version": "3.5.4"
  }
 },
 "nbformat": 4,
 "nbformat_minor": 2
}
