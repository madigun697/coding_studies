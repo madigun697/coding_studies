{
 "cells": [
  {
   "cell_type": "code",
   "execution_count": 1,
   "metadata": {},
   "outputs": [
    {
     "name": "stderr",
     "output_type": "stream",
     "text": [
      "/Users/gracelee/.pyenv/versions/3.5.4/lib/python3.5/importlib/_bootstrap.py:222: RuntimeWarning: compiletime version 3.6 of module 'tensorflow.python.framework.fast_tensor_util' does not match runtime version 3.5\n",
      "  return f(*args, **kwds)\n",
      "Using TensorFlow backend.\n"
     ]
    }
   ],
   "source": [
    "import numpy as np\n",
    "import time\n",
    "from tensorflow.examples.tutorials.mnist import input_data\n",
    "\n",
    "from keras.models import Sequential\n",
    "from keras.layers import Dense, Activation, Flatten, Reshape\n",
    "from keras.layers import Conv2D, Conv2DTranspose, UpSampling2D\n",
    "from keras.layers import LeakyReLU, Dropout\n",
    "from keras.layers import BatchNormalization\n",
    "from keras.optimizers import Adam, RMSprop\n",
    "\n",
    "import matplotlib.pyplot as plt"
   ]
  },
  {
   "cell_type": "code",
   "execution_count": 2,
   "metadata": {},
   "outputs": [],
   "source": [
    "class ElapsedTimer(object):\n",
    "    def __init__(self):\n",
    "        self.start_time = time.time()\n",
    "    def elapsed(self,sec):\n",
    "        if sec < 60:\n",
    "            return str(sec) + \" sec\"\n",
    "        elif sec < (60 * 60):\n",
    "            return str(sec / 60) + \" min\"\n",
    "        else:\n",
    "            return str(sec / (60 * 60)) + \" hr\"\n",
    "    def elapsed_time(self):\n",
    "        print(\"Elapsed: %s \" % self.elapsed(time.time() - self.start_time) )"
   ]
  },
  {
   "cell_type": "code",
   "execution_count": 3,
   "metadata": {},
   "outputs": [
    {
     "name": "stdout",
     "output_type": "stream",
     "text": [
      "Extracting mnist/train-images-idx3-ubyte.gz\n",
      "Extracting mnist/train-labels-idx1-ubyte.gz\n",
      "Extracting mnist/t10k-images-idx3-ubyte.gz\n",
      "Extracting mnist/t10k-labels-idx1-ubyte.gz\n"
     ]
    }
   ],
   "source": [
    "img_rows = 28\n",
    "img_cols = 28\n",
    "channel = 1\n",
    "\n",
    "x_train = input_data.read_data_sets(\"mnist\", one_hot=True).train.images\n",
    "x_train = x_train.reshape(-1, img_rows, img_cols, 1).astype(np.float32)\n",
    "\n",
    "D = None   \n",
    "G = None   # generator\n",
    "AM = None  # adversarial model\n",
    "DM = None  # discriminator model"
   ]
  },
  {
   "cell_type": "markdown",
   "metadata": {},
   "source": [
    "#### discriminator"
   ]
  },
  {
   "cell_type": "code",
   "execution_count": 4,
   "metadata": {},
   "outputs": [
    {
     "name": "stdout",
     "output_type": "stream",
     "text": [
      "_________________________________________________________________\n",
      "Layer (type)                 Output Shape              Param #   \n",
      "=================================================================\n",
      "conv2d_1 (Conv2D)            (None, 14, 14, 64)        1664      \n",
      "_________________________________________________________________\n",
      "leaky_re_lu_1 (LeakyReLU)    (None, 14, 14, 64)        0         \n",
      "_________________________________________________________________\n",
      "dropout_1 (Dropout)          (None, 14, 14, 64)        0         \n",
      "_________________________________________________________________\n",
      "conv2d_2 (Conv2D)            (None, 7, 7, 128)         204928    \n",
      "_________________________________________________________________\n",
      "leaky_re_lu_2 (LeakyReLU)    (None, 7, 7, 128)         0         \n",
      "_________________________________________________________________\n",
      "dropout_2 (Dropout)          (None, 7, 7, 128)         0         \n",
      "_________________________________________________________________\n",
      "conv2d_3 (Conv2D)            (None, 4, 4, 256)         819456    \n",
      "_________________________________________________________________\n",
      "leaky_re_lu_3 (LeakyReLU)    (None, 4, 4, 256)         0         \n",
      "_________________________________________________________________\n",
      "dropout_3 (Dropout)          (None, 4, 4, 256)         0         \n",
      "_________________________________________________________________\n",
      "conv2d_4 (Conv2D)            (None, 4, 4, 512)         3277312   \n",
      "_________________________________________________________________\n",
      "leaky_re_lu_4 (LeakyReLU)    (None, 4, 4, 512)         0         \n",
      "_________________________________________________________________\n",
      "dropout_4 (Dropout)          (None, 4, 4, 512)         0         \n",
      "_________________________________________________________________\n",
      "flatten_1 (Flatten)          (None, 8192)              0         \n",
      "_________________________________________________________________\n",
      "dense_1 (Dense)              (None, 1)                 8193      \n",
      "_________________________________________________________________\n",
      "activation_1 (Activation)    (None, 1)                 0         \n",
      "=================================================================\n",
      "Total params: 4,311,553\n",
      "Trainable params: 4,311,553\n",
      "Non-trainable params: 0\n",
      "_________________________________________________________________\n"
     ]
    }
   ],
   "source": [
    "D = Sequential()\n",
    "depth = 64\n",
    "dropout = 0.4\n",
    "# In: 28 x 28 x 1, depth = 1\n",
    "# Out: 14 x 14 x 1, depth=64\n",
    "input_shape = (img_rows, img_cols, channel)\n",
    "D.add(Conv2D(depth*1, 5, strides=2, input_shape=input_shape, padding='same'))\n",
    "D.add(LeakyReLU(alpha=0.2))\n",
    "D.add(Dropout(dropout))\n",
    "\n",
    "D.add(Conv2D(depth*2, 5, strides=2, padding='same'))\n",
    "D.add(LeakyReLU(alpha=0.2))\n",
    "D.add(Dropout(dropout))\n",
    "\n",
    "D.add(Conv2D(depth*4, 5, strides=2, padding='same'))\n",
    "D.add(LeakyReLU(alpha=0.2))\n",
    "D.add(Dropout(dropout))\n",
    "\n",
    "D.add(Conv2D(depth*8, 5, strides=1, padding='same'))\n",
    "D.add(LeakyReLU(alpha=0.2))\n",
    "D.add(Dropout(dropout))\n",
    "\n",
    "# Out: 1-dim probability\n",
    "D.add(Flatten())\n",
    "D.add(Dense(1))\n",
    "D.add(Activation('sigmoid'))\n",
    "D.summary()"
   ]
  },
  {
   "cell_type": "markdown",
   "metadata": {},
   "source": [
    "#### Generator"
   ]
  },
  {
   "cell_type": "code",
   "execution_count": 5,
   "metadata": {},
   "outputs": [
    {
     "name": "stdout",
     "output_type": "stream",
     "text": [
      "_________________________________________________________________\n",
      "Layer (type)                 Output Shape              Param #   \n",
      "=================================================================\n",
      "dense_2 (Dense)              (None, 12544)             1266944   \n",
      "_________________________________________________________________\n",
      "batch_normalization_1 (Batch (None, 12544)             50176     \n",
      "_________________________________________________________________\n",
      "activation_2 (Activation)    (None, 12544)             0         \n",
      "_________________________________________________________________\n",
      "reshape_1 (Reshape)          (None, 7, 7, 256)         0         \n",
      "_________________________________________________________________\n",
      "dropout_5 (Dropout)          (None, 7, 7, 256)         0         \n",
      "_________________________________________________________________\n",
      "up_sampling2d_1 (UpSampling2 (None, 14, 14, 256)       0         \n",
      "_________________________________________________________________\n",
      "conv2d_transpose_1 (Conv2DTr (None, 14, 14, 128)       819328    \n",
      "_________________________________________________________________\n",
      "batch_normalization_2 (Batch (None, 14, 14, 128)       512       \n",
      "_________________________________________________________________\n",
      "activation_3 (Activation)    (None, 14, 14, 128)       0         \n",
      "_________________________________________________________________\n",
      "up_sampling2d_2 (UpSampling2 (None, 28, 28, 128)       0         \n",
      "_________________________________________________________________\n",
      "conv2d_transpose_2 (Conv2DTr (None, 28, 28, 64)        204864    \n",
      "_________________________________________________________________\n",
      "batch_normalization_3 (Batch (None, 28, 28, 64)        256       \n",
      "_________________________________________________________________\n",
      "activation_4 (Activation)    (None, 28, 28, 64)        0         \n",
      "_________________________________________________________________\n",
      "conv2d_transpose_3 (Conv2DTr (None, 28, 28, 32)        51232     \n",
      "_________________________________________________________________\n",
      "batch_normalization_4 (Batch (None, 28, 28, 32)        128       \n",
      "_________________________________________________________________\n",
      "activation_5 (Activation)    (None, 28, 28, 32)        0         \n",
      "_________________________________________________________________\n",
      "conv2d_transpose_4 (Conv2DTr (None, 28, 28, 1)         801       \n",
      "_________________________________________________________________\n",
      "activation_6 (Activation)    (None, 28, 28, 1)         0         \n",
      "=================================================================\n",
      "Total params: 2,394,241\n",
      "Trainable params: 2,368,705\n",
      "Non-trainable params: 25,536\n",
      "_________________________________________________________________\n"
     ]
    }
   ],
   "source": [
    "G = Sequential()\n",
    "dropout = 0.4\n",
    "depth = 64+64+64+64\n",
    "dim = 7\n",
    "# In: 100\n",
    "# Out: dim x dim x depth\n",
    "G.add(Dense(dim*dim*depth, input_dim=100))\n",
    "G.add(BatchNormalization(momentum=0.9))\n",
    "G.add(Activation('relu'))\n",
    "G.add(Reshape((dim, dim, depth)))\n",
    "G.add(Dropout(dropout))\n",
    "\n",
    "# In: dim x dim x depth\n",
    "# Out: 2*dim x 2*dim x depth/2\n",
    "G.add(UpSampling2D())\n",
    "G.add(Conv2DTranspose(int(depth/2), 5, padding='same'))\n",
    "G.add(BatchNormalization(momentum=0.9))\n",
    "G.add(Activation('relu'))\n",
    "\n",
    "G.add(UpSampling2D())\n",
    "G.add(Conv2DTranspose(int(depth/4), 5, padding='same'))\n",
    "G.add(BatchNormalization(momentum=0.9))\n",
    "G.add(Activation('relu'))\n",
    "\n",
    "G.add(Conv2DTranspose(int(depth/8), 5, padding='same'))\n",
    "G.add(BatchNormalization(momentum=0.9))\n",
    "G.add(Activation('relu'))\n",
    "\n",
    "# Out: 28 x 28 x 1 grayscale image [0.0,1.0] per pix\n",
    "G.add(Conv2DTranspose(1, 5, padding='same'))\n",
    "G.add(Activation('sigmoid'))\n",
    "G.summary()"
   ]
  },
  {
   "cell_type": "code",
   "execution_count": 6,
   "metadata": {},
   "outputs": [],
   "source": [
    "optimizer = RMSprop(lr=0.0002, decay=6e-8)\n",
    "discriminator = Sequential()\n",
    "discriminator.add(D)\n",
    "discriminator.compile(loss='binary_crossentropy', optimizer=optimizer, metrics=['accuracy'])"
   ]
  },
  {
   "cell_type": "code",
   "execution_count": 7,
   "metadata": {},
   "outputs": [],
   "source": [
    "optimizer = RMSprop(lr=0.0001, decay=3e-8)\n",
    "adversarial = Sequential()\n",
    "adversarial.add(G)\n",
    "adversarial.add(D)\n",
    "adversarial.compile(loss='binary_crossentropy', optimizer=optimizer, metrics=['accuracy'])"
   ]
  },
  {
   "cell_type": "code",
   "execution_count": 8,
   "metadata": {},
   "outputs": [],
   "source": [
    "generator = G"
   ]
  },
  {
   "cell_type": "code",
   "execution_count": 9,
   "metadata": {},
   "outputs": [],
   "source": [
    "timer = ElapsedTimer()"
   ]
  },
  {
   "cell_type": "code",
   "execution_count": 14,
   "metadata": {},
   "outputs": [],
   "source": [
    "def plot_images(save2file=False, fake=True, samples=16, noise=None, step=0):\n",
    "    filename = 'mnist.png'\n",
    "    if fake:\n",
    "        if noise is None:\n",
    "            noise = np.random.uniform(-1.0, 1.0, size=[samples, 100])\n",
    "        else:\n",
    "            filename = \"mnist_%d.png\" % step\n",
    "        images = generator.predict(noise)\n",
    "    else:\n",
    "        i = np.random.randint(0, x_train.shape[0], samples)\n",
    "        images = x_train[i, :, :, :]\n",
    "\n",
    "    plt.figure(figsize=(10,10))\n",
    "    for i in range(images.shape[0]):\n",
    "        plt.subplot(4, 4, i+1)\n",
    "        image = images[i, :, :, :]\n",
    "        image = np.reshape(image, [img_rows, img_cols])\n",
    "        plt.imshow(image, cmap='gray')\n",
    "        plt.axis('off')\n",
    "    plt.tight_layout()\n",
    "    if save2file:\n",
    "        plt.savefig(filename)\n",
    "        plt.close('all')\n",
    "    else:\n",
    "        plt.show()"
   ]
  },
  {
   "cell_type": "code",
   "execution_count": 15,
   "metadata": {},
   "outputs": [
    {
     "name": "stdout",
     "output_type": "stream",
     "text": [
      "0: [D loss: 0.537067, acc: 0.644531]  [A loss: 1.506868, acc: 0.000000]\n",
      "1: [D loss: 0.553127, acc: 0.705078]  [A loss: 1.895182, acc: 0.000000]\n",
      "2: [D loss: 0.647039, acc: 0.552734]  [A loss: 2.206918, acc: 0.000000]\n",
      "3: [D loss: 0.694314, acc: 0.515625]  [A loss: 0.641875, acc: 0.703125]\n",
      "4: [D loss: 1.149755, acc: 0.498047]  [A loss: 3.512881, acc: 0.000000]\n",
      "5: [D loss: 0.856664, acc: 0.576172]  [A loss: 0.456190, acc: 0.992188]\n",
      "6: [D loss: 1.193781, acc: 0.500000]  [A loss: 1.366130, acc: 0.000000]\n",
      "7: [D loss: 0.644585, acc: 0.574219]  [A loss: 0.982397, acc: 0.003906]\n",
      "8: [D loss: 0.781972, acc: 0.490234]  [A loss: 2.315516, acc: 0.000000]\n",
      "9: [D loss: 0.633933, acc: 0.669922]  [A loss: 0.715021, acc: 0.441406]\n",
      "10: [D loss: 1.114964, acc: 0.500000]  [A loss: 4.147865, acc: 0.000000]\n",
      "11: [D loss: 0.920517, acc: 0.523438]  [A loss: 0.242687, acc: 1.000000]\n",
      "12: [D loss: 1.097394, acc: 0.500000]  [A loss: 0.793235, acc: 0.167969]\n",
      "13: [D loss: 0.763243, acc: 0.500000]  [A loss: 1.390475, acc: 0.000000]\n",
      "14: [D loss: 0.654435, acc: 0.507812]  [A loss: 1.191548, acc: 0.000000]\n",
      "15: [D loss: 0.768709, acc: 0.501953]  [A loss: 2.663691, acc: 0.000000]\n",
      "16: [D loss: 0.645153, acc: 0.673828]  [A loss: 0.369761, acc: 1.000000]\n",
      "17: [D loss: 1.300190, acc: 0.500000]  [A loss: 3.071177, acc: 0.000000]\n",
      "18: [D loss: 0.745200, acc: 0.603516]  [A loss: 0.194098, acc: 1.000000]\n",
      "19: [D loss: 1.010849, acc: 0.500000]  [A loss: 0.753843, acc: 0.289062]\n",
      "20: [D loss: 0.705211, acc: 0.501953]  [A loss: 1.266982, acc: 0.000000]\n",
      "21: [D loss: 0.641391, acc: 0.503906]  [A loss: 1.248571, acc: 0.000000]\n",
      "22: [D loss: 0.768586, acc: 0.498047]  [A loss: 2.616505, acc: 0.000000]\n",
      "23: [D loss: 0.607642, acc: 0.673828]  [A loss: 0.346841, acc: 1.000000]\n",
      "24: [D loss: 1.182985, acc: 0.500000]  [A loss: 3.354411, acc: 0.000000]\n",
      "25: [D loss: 0.696001, acc: 0.681641]  [A loss: 0.139549, acc: 1.000000]\n",
      "26: [D loss: 1.000744, acc: 0.500000]  [A loss: 0.693600, acc: 0.503906]\n",
      "27: [D loss: 0.761054, acc: 0.500000]  [A loss: 1.815970, acc: 0.000000]\n",
      "28: [D loss: 0.598587, acc: 0.544922]  [A loss: 0.957183, acc: 0.085938]\n",
      "29: [D loss: 0.913364, acc: 0.500000]  [A loss: 4.692917, acc: 0.000000]\n",
      "30: [D loss: 0.782802, acc: 0.589844]  [A loss: 0.058003, acc: 1.000000]\n",
      "31: [D loss: 1.251444, acc: 0.500000]  [A loss: 0.538673, acc: 0.890625]\n",
      "32: [D loss: 0.781778, acc: 0.500000]  [A loss: 1.569136, acc: 0.000000]\n",
      "33: [D loss: 0.611121, acc: 0.544922]  [A loss: 1.003765, acc: 0.058594]\n",
      "34: [D loss: 0.830628, acc: 0.500000]  [A loss: 3.635300, acc: 0.000000]\n",
      "35: [D loss: 0.621066, acc: 0.730469]  [A loss: 0.149687, acc: 1.000000]\n",
      "36: [D loss: 1.240085, acc: 0.500000]  [A loss: 2.299840, acc: 0.000000]\n",
      "37: [D loss: 0.578046, acc: 0.642578]  [A loss: 0.382090, acc: 0.980469]\n",
      "38: [D loss: 0.994543, acc: 0.500000]  [A loss: 3.222583, acc: 0.000000]\n",
      "39: [D loss: 0.604670, acc: 0.732422]  [A loss: 0.172798, acc: 1.000000]\n",
      "40: [D loss: 1.206243, acc: 0.500000]  [A loss: 2.443857, acc: 0.000000]\n",
      "41: [D loss: 0.560092, acc: 0.687500]  [A loss: 0.360037, acc: 0.996094]\n",
      "42: [D loss: 1.066082, acc: 0.500000]  [A loss: 3.590678, acc: 0.000000]\n",
      "43: [D loss: 0.597560, acc: 0.740234]  [A loss: 0.168182, acc: 1.000000]\n",
      "44: [D loss: 1.215451, acc: 0.500000]  [A loss: 2.404401, acc: 0.000000]\n",
      "45: [D loss: 0.560009, acc: 0.720703]  [A loss: 0.403603, acc: 0.957031]\n",
      "46: [D loss: 1.152663, acc: 0.500000]  [A loss: 4.885727, acc: 0.000000]\n",
      "47: [D loss: 0.794671, acc: 0.615234]  [A loss: 0.036226, acc: 1.000000]\n",
      "48: [D loss: 1.514784, acc: 0.500000]  [A loss: 0.533469, acc: 0.847656]\n",
      "49: [D loss: 0.817311, acc: 0.500000]  [A loss: 1.807045, acc: 0.000000]\n"
     ]
    }
   ],
   "source": [
    "# train_steps=10000\n",
    "# batch_size=256\n",
    "# save_interval=500\n",
    "\n",
    "train_steps = 50\n",
    "batch_size = 256\n",
    "save_interval = 5\n",
    "\n",
    "noise_input = None\n",
    "if save_interval > 0:\n",
    "    noise_input = np.random.uniform(-1.0, 1.0, size=[16, 100])\n",
    "    \n",
    "for i in range(train_steps):\n",
    "    images_train = x_train[np.random.randint(0, x_train.shape[0], size=batch_size), :, :, :]\n",
    "    noise = np.random.uniform(-1.0, 1.0, size=[batch_size, 100])\n",
    "    images_fake = generator.predict(noise)\n",
    "    x = np.concatenate((images_train, images_fake))\n",
    "    y = np.ones([2*batch_size, 1])\n",
    "    y[batch_size:, :] = 0\n",
    "    d_loss = discriminator.train_on_batch(x, y)\n",
    "\n",
    "    y = np.ones([batch_size, 1])\n",
    "    noise = np.random.uniform(-1.0, 1.0, size=[batch_size, 100])\n",
    "    a_loss = adversarial.train_on_batch(noise, y)\n",
    "    log_mesg = \"%d: [D loss: %f, acc: %f]\" % (i, d_loss[0], d_loss[1])\n",
    "    log_mesg = \"%s  [A loss: %f, acc: %f]\" % (log_mesg, a_loss[0], a_loss[1])\n",
    "    print(log_mesg)\n",
    "    if save_interval>0:\n",
    "        if (i+1)%save_interval==0:\n",
    "            plot_images(save2file=True, samples=noise_input.shape[0], noise=noise_input, step=(i+1))"
   ]
  },
  {
   "cell_type": "markdown",
   "metadata": {},
   "source": [
    "* https://brunch.co.kr/@rapaellee/18"
   ]
  },
  {
   "cell_type": "code",
   "execution_count": null,
   "metadata": {},
   "outputs": [],
   "source": []
  }
 ],
 "metadata": {
  "kernelspec": {
   "display_name": "Python 3",
   "language": "python",
   "name": "python3"
  },
  "language_info": {
   "codemirror_mode": {
    "name": "ipython",
    "version": 3
   },
   "file_extension": ".py",
   "mimetype": "text/x-python",
   "name": "python",
   "nbconvert_exporter": "python",
   "pygments_lexer": "ipython3",
   "version": "3.5.4"
  }
 },
 "nbformat": 4,
 "nbformat_minor": 2
}
