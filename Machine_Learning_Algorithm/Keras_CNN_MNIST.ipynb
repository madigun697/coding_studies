{
 "cells": [
  {
   "cell_type": "code",
   "execution_count": 3,
   "metadata": {},
   "outputs": [],
   "source": [
    "import numpy as np\n",
    "import keras\n",
    "from keras.models import Sequential\n",
    "from keras.layers import Dense\n",
    "from keras.layers import Flatten\n",
    "from keras.layers.convolutional import Conv2D\n",
    "from keras.layers.convolutional import MaxPooling2D\n",
    "from keras.preprocessing.image import ImageDataGenerator\n",
    "\n",
    "# 랜덤시드 고정시키기\n",
    "np.random.seed(3)"
   ]
  },
  {
   "cell_type": "code",
   "execution_count": 8,
   "metadata": {},
   "outputs": [],
   "source": [
    "(x_train, y_train), (x_test, y_test) = keras.datasets.mnist.load_data()\n",
    "\n",
    "x_train = x_train.reshape(x_train.shape[0], 28, 28, 1)\n",
    "x_test = x_test.reshape(x_test.shape[0], 28, 28, 1)\n",
    "\n",
    "x_train = x_train.astype('float32') / 255.\n",
    "x_test = x_test.astype('float32') / 255.\n",
    "\n",
    "y_train = keras.utils.to_categorical(y_train, 10)\n",
    "y_test = keras.utils.to_categorical(y_test, 10)"
   ]
  },
  {
   "cell_type": "code",
   "execution_count": 39,
   "metadata": {},
   "outputs": [
    {
     "name": "stdout",
     "output_type": "stream",
     "text": [
      "_________________________________________________________________\n",
      "Layer (type)                 Output Shape              Param #   \n",
      "=================================================================\n",
      "conv2d_31 (Conv2D)           (None, 28, 28, 32)        320       \n",
      "_________________________________________________________________\n",
      "conv2d_32 (Conv2D)           (None, 28, 28, 64)        8256      \n",
      "_________________________________________________________________\n",
      "max_pooling2d_16 (MaxPooling (None, 14, 14, 64)        0         \n",
      "_________________________________________________________________\n",
      "flatten_16 (Flatten)         (None, 12544)             0         \n",
      "_________________________________________________________________\n",
      "dense_31 (Dense)             (None, 128)               1605760   \n",
      "_________________________________________________________________\n",
      "dense_32 (Dense)             (None, 10)                1290      \n",
      "=================================================================\n",
      "Total params: 1,615,626\n",
      "Trainable params: 1,615,626\n",
      "Non-trainable params: 0\n",
      "_________________________________________________________________\n"
     ]
    }
   ],
   "source": [
    "model = Sequential()\n",
    "model.add(Conv2D(32, kernel_size=(3, 3),\n",
    "                 activation='relu',\n",
    "                 padding='same',\n",
    "                 input_shape=(28,28,1)))\n",
    "model.add(Conv2D(64, (2, 2), activation='relu', padding='same'))\n",
    "model.add(MaxPooling2D(pool_size=(2, 2)))\n",
    "model.add(Flatten())\n",
    "model.add(Dense(128, activation='relu'))\n",
    "model.add(Dense(10, activation='softmax'))\n",
    "model.summary()"
   ]
  },
  {
   "cell_type": "code",
   "execution_count": 40,
   "metadata": {},
   "outputs": [
    {
     "data": {
      "image/svg+xml": [
       "<svg height=\"531pt\" viewBox=\"0.00 0.00 400.93 531.00\" width=\"401pt\" xmlns=\"http://www.w3.org/2000/svg\" xmlns:xlink=\"http://www.w3.org/1999/xlink\">\n",
       "<g class=\"graph\" id=\"graph0\" transform=\"scale(1 1) rotate(0) translate(4 527)\">\n",
       "<title>G</title>\n",
       "<polygon fill=\"#ffffff\" points=\"-4,4 -4,-527 396.9277,-527 396.9277,4 -4,4\" stroke=\"transparent\"/>\n",
       "<!-- 5094213896 -->\n",
       "<g class=\"node\" id=\"node1\">\n",
       "<title>5094213896</title>\n",
       "<polygon fill=\"none\" points=\"42.7793,-405.5 42.7793,-449.5 350.1484,-449.5 350.1484,-405.5 42.7793,-405.5\" stroke=\"#000000\"/>\n",
       "<text fill=\"#000000\" font-family=\"Times,serif\" font-size=\"14.00\" text-anchor=\"middle\" x=\"109.3052\" y=\"-423.3\">conv2d_31: Conv2D</text>\n",
       "<polyline fill=\"none\" points=\"175.8311,-405.5 175.8311,-449.5 \" stroke=\"#000000\"/>\n",
       "<text fill=\"#000000\" font-family=\"Times,serif\" font-size=\"14.00\" text-anchor=\"middle\" x=\"203.6655\" y=\"-434.3\">input:</text>\n",
       "<polyline fill=\"none\" points=\"175.8311,-427.5 231.5,-427.5 \" stroke=\"#000000\"/>\n",
       "<text fill=\"#000000\" font-family=\"Times,serif\" font-size=\"14.00\" text-anchor=\"middle\" x=\"203.6655\" y=\"-412.3\">output:</text>\n",
       "<polyline fill=\"none\" points=\"231.5,-405.5 231.5,-449.5 \" stroke=\"#000000\"/>\n",
       "<text fill=\"#000000\" font-family=\"Times,serif\" font-size=\"14.00\" text-anchor=\"middle\" x=\"290.8242\" y=\"-434.3\">(None, 28, 28, 1)</text>\n",
       "<polyline fill=\"none\" points=\"231.5,-427.5 350.1484,-427.5 \" stroke=\"#000000\"/>\n",
       "<text fill=\"#000000\" font-family=\"Times,serif\" font-size=\"14.00\" text-anchor=\"middle\" x=\"290.8242\" y=\"-412.3\">(None, 28, 28, 32)</text>\n",
       "</g>\n",
       "<!-- 5094214120 -->\n",
       "<g class=\"node\" id=\"node2\">\n",
       "<title>5094214120</title>\n",
       "<polygon fill=\"none\" points=\"42.7793,-324.5 42.7793,-368.5 350.1484,-368.5 350.1484,-324.5 42.7793,-324.5\" stroke=\"#000000\"/>\n",
       "<text fill=\"#000000\" font-family=\"Times,serif\" font-size=\"14.00\" text-anchor=\"middle\" x=\"109.3052\" y=\"-342.3\">conv2d_32: Conv2D</text>\n",
       "<polyline fill=\"none\" points=\"175.8311,-324.5 175.8311,-368.5 \" stroke=\"#000000\"/>\n",
       "<text fill=\"#000000\" font-family=\"Times,serif\" font-size=\"14.00\" text-anchor=\"middle\" x=\"203.6655\" y=\"-353.3\">input:</text>\n",
       "<polyline fill=\"none\" points=\"175.8311,-346.5 231.5,-346.5 \" stroke=\"#000000\"/>\n",
       "<text fill=\"#000000\" font-family=\"Times,serif\" font-size=\"14.00\" text-anchor=\"middle\" x=\"203.6655\" y=\"-331.3\">output:</text>\n",
       "<polyline fill=\"none\" points=\"231.5,-324.5 231.5,-368.5 \" stroke=\"#000000\"/>\n",
       "<text fill=\"#000000\" font-family=\"Times,serif\" font-size=\"14.00\" text-anchor=\"middle\" x=\"290.8242\" y=\"-353.3\">(None, 28, 28, 32)</text>\n",
       "<polyline fill=\"none\" points=\"231.5,-346.5 350.1484,-346.5 \" stroke=\"#000000\"/>\n",
       "<text fill=\"#000000\" font-family=\"Times,serif\" font-size=\"14.00\" text-anchor=\"middle\" x=\"290.8242\" y=\"-331.3\">(None, 28, 28, 64)</text>\n",
       "</g>\n",
       "<!-- 5094213896&#45;&gt;5094214120 -->\n",
       "<g class=\"edge\" id=\"edge2\">\n",
       "<title>5094213896-&gt;5094214120</title>\n",
       "<path d=\"M196.4639,-405.3664C196.4639,-397.1516 196.4639,-387.6579 196.4639,-378.7252\" fill=\"none\" stroke=\"#000000\"/>\n",
       "<polygon fill=\"#000000\" points=\"199.964,-378.6068 196.4639,-368.6068 192.964,-378.6069 199.964,-378.6068\" stroke=\"#000000\"/>\n",
       "</g>\n",
       "<!-- 5094198688 -->\n",
       "<g class=\"node\" id=\"node3\">\n",
       "<title>5094198688</title>\n",
       "<polygon fill=\"none\" points=\"0,-243.5 0,-287.5 392.9277,-287.5 392.9277,-243.5 0,-243.5\" stroke=\"#000000\"/>\n",
       "<text fill=\"#000000\" font-family=\"Times,serif\" font-size=\"14.00\" text-anchor=\"middle\" x=\"109.3052\" y=\"-261.3\">max_pooling2d_16: MaxPooling2D</text>\n",
       "<polyline fill=\"none\" points=\"218.6104,-243.5 218.6104,-287.5 \" stroke=\"#000000\"/>\n",
       "<text fill=\"#000000\" font-family=\"Times,serif\" font-size=\"14.00\" text-anchor=\"middle\" x=\"246.4448\" y=\"-272.3\">input:</text>\n",
       "<polyline fill=\"none\" points=\"218.6104,-265.5 274.2793,-265.5 \" stroke=\"#000000\"/>\n",
       "<text fill=\"#000000\" font-family=\"Times,serif\" font-size=\"14.00\" text-anchor=\"middle\" x=\"246.4448\" y=\"-250.3\">output:</text>\n",
       "<polyline fill=\"none\" points=\"274.2793,-243.5 274.2793,-287.5 \" stroke=\"#000000\"/>\n",
       "<text fill=\"#000000\" font-family=\"Times,serif\" font-size=\"14.00\" text-anchor=\"middle\" x=\"333.6035\" y=\"-272.3\">(None, 28, 28, 64)</text>\n",
       "<polyline fill=\"none\" points=\"274.2793,-265.5 392.9277,-265.5 \" stroke=\"#000000\"/>\n",
       "<text fill=\"#000000\" font-family=\"Times,serif\" font-size=\"14.00\" text-anchor=\"middle\" x=\"333.6035\" y=\"-250.3\">(None, 14, 14, 64)</text>\n",
       "</g>\n",
       "<!-- 5094214120&#45;&gt;5094198688 -->\n",
       "<g class=\"edge\" id=\"edge3\">\n",
       "<title>5094214120-&gt;5094198688</title>\n",
       "<path d=\"M196.4639,-324.3664C196.4639,-316.1516 196.4639,-306.6579 196.4639,-297.7252\" fill=\"none\" stroke=\"#000000\"/>\n",
       "<polygon fill=\"#000000\" points=\"199.964,-297.6068 196.4639,-287.6068 192.964,-297.6069 199.964,-297.6068\" stroke=\"#000000\"/>\n",
       "</g>\n",
       "<!-- 5094197960 -->\n",
       "<g class=\"node\" id=\"node4\">\n",
       "<title>5094197960</title>\n",
       "<polygon fill=\"none\" points=\"50.1724,-162.5 50.1724,-206.5 342.7554,-206.5 342.7554,-162.5 50.1724,-162.5\" stroke=\"#000000\"/>\n",
       "<text fill=\"#000000\" font-family=\"Times,serif\" font-size=\"14.00\" text-anchor=\"middle\" x=\"109.3052\" y=\"-180.3\">flatten_16: Flatten</text>\n",
       "<polyline fill=\"none\" points=\"168.438,-162.5 168.438,-206.5 \" stroke=\"#000000\"/>\n",
       "<text fill=\"#000000\" font-family=\"Times,serif\" font-size=\"14.00\" text-anchor=\"middle\" x=\"196.2725\" y=\"-191.3\">input:</text>\n",
       "<polyline fill=\"none\" points=\"168.438,-184.5 224.1069,-184.5 \" stroke=\"#000000\"/>\n",
       "<text fill=\"#000000\" font-family=\"Times,serif\" font-size=\"14.00\" text-anchor=\"middle\" x=\"196.2725\" y=\"-169.3\">output:</text>\n",
       "<polyline fill=\"none\" points=\"224.1069,-162.5 224.1069,-206.5 \" stroke=\"#000000\"/>\n",
       "<text fill=\"#000000\" font-family=\"Times,serif\" font-size=\"14.00\" text-anchor=\"middle\" x=\"283.4312\" y=\"-191.3\">(None, 14, 14, 64)</text>\n",
       "<polyline fill=\"none\" points=\"224.1069,-184.5 342.7554,-184.5 \" stroke=\"#000000\"/>\n",
       "<text fill=\"#000000\" font-family=\"Times,serif\" font-size=\"14.00\" text-anchor=\"middle\" x=\"283.4312\" y=\"-169.3\">(None, 12544)</text>\n",
       "</g>\n",
       "<!-- 5094198688&#45;&gt;5094197960 -->\n",
       "<g class=\"edge\" id=\"edge4\">\n",
       "<title>5094198688-&gt;5094197960</title>\n",
       "<path d=\"M196.4639,-243.3664C196.4639,-235.1516 196.4639,-225.6579 196.4639,-216.7252\" fill=\"none\" stroke=\"#000000\"/>\n",
       "<polygon fill=\"#000000\" points=\"199.964,-216.6068 196.4639,-206.6068 192.964,-216.6069 199.964,-216.6068\" stroke=\"#000000\"/>\n",
       "</g>\n",
       "<!-- 5094189208 -->\n",
       "<g class=\"node\" id=\"node5\">\n",
       "<title>5094189208</title>\n",
       "<polygon fill=\"none\" points=\"64.1792,-81.5 64.1792,-125.5 328.7485,-125.5 328.7485,-81.5 64.1792,-81.5\" stroke=\"#000000\"/>\n",
       "<text fill=\"#000000\" font-family=\"Times,serif\" font-size=\"14.00\" text-anchor=\"middle\" x=\"119.8052\" y=\"-99.3\">dense_31: Dense</text>\n",
       "<polyline fill=\"none\" points=\"175.4312,-81.5 175.4312,-125.5 \" stroke=\"#000000\"/>\n",
       "<text fill=\"#000000\" font-family=\"Times,serif\" font-size=\"14.00\" text-anchor=\"middle\" x=\"203.2656\" y=\"-110.3\">input:</text>\n",
       "<polyline fill=\"none\" points=\"175.4312,-103.5 231.1001,-103.5 \" stroke=\"#000000\"/>\n",
       "<text fill=\"#000000\" font-family=\"Times,serif\" font-size=\"14.00\" text-anchor=\"middle\" x=\"203.2656\" y=\"-88.3\">output:</text>\n",
       "<polyline fill=\"none\" points=\"231.1001,-81.5 231.1001,-125.5 \" stroke=\"#000000\"/>\n",
       "<text fill=\"#000000\" font-family=\"Times,serif\" font-size=\"14.00\" text-anchor=\"middle\" x=\"279.9243\" y=\"-110.3\">(None, 12544)</text>\n",
       "<polyline fill=\"none\" points=\"231.1001,-103.5 328.7485,-103.5 \" stroke=\"#000000\"/>\n",
       "<text fill=\"#000000\" font-family=\"Times,serif\" font-size=\"14.00\" text-anchor=\"middle\" x=\"279.9243\" y=\"-88.3\">(None, 128)</text>\n",
       "</g>\n",
       "<!-- 5094197960&#45;&gt;5094189208 -->\n",
       "<g class=\"edge\" id=\"edge5\">\n",
       "<title>5094197960-&gt;5094189208</title>\n",
       "<path d=\"M196.4639,-162.3664C196.4639,-154.1516 196.4639,-144.6579 196.4639,-135.7252\" fill=\"none\" stroke=\"#000000\"/>\n",
       "<polygon fill=\"#000000\" points=\"199.964,-135.6068 196.4639,-125.6068 192.964,-135.6069 199.964,-135.6068\" stroke=\"#000000\"/>\n",
       "</g>\n",
       "<!-- 5080885008 -->\n",
       "<g class=\"node\" id=\"node6\">\n",
       "<title>5080885008</title>\n",
       "<polygon fill=\"none\" points=\"71.1792,-.5 71.1792,-44.5 321.7485,-44.5 321.7485,-.5 71.1792,-.5\" stroke=\"#000000\"/>\n",
       "<text fill=\"#000000\" font-family=\"Times,serif\" font-size=\"14.00\" text-anchor=\"middle\" x=\"126.8052\" y=\"-18.3\">dense_32: Dense</text>\n",
       "<polyline fill=\"none\" points=\"182.4312,-.5 182.4312,-44.5 \" stroke=\"#000000\"/>\n",
       "<text fill=\"#000000\" font-family=\"Times,serif\" font-size=\"14.00\" text-anchor=\"middle\" x=\"210.2656\" y=\"-29.3\">input:</text>\n",
       "<polyline fill=\"none\" points=\"182.4312,-22.5 238.1001,-22.5 \" stroke=\"#000000\"/>\n",
       "<text fill=\"#000000\" font-family=\"Times,serif\" font-size=\"14.00\" text-anchor=\"middle\" x=\"210.2656\" y=\"-7.3\">output:</text>\n",
       "<polyline fill=\"none\" points=\"238.1001,-.5 238.1001,-44.5 \" stroke=\"#000000\"/>\n",
       "<text fill=\"#000000\" font-family=\"Times,serif\" font-size=\"14.00\" text-anchor=\"middle\" x=\"279.9243\" y=\"-29.3\">(None, 128)</text>\n",
       "<polyline fill=\"none\" points=\"238.1001,-22.5 321.7485,-22.5 \" stroke=\"#000000\"/>\n",
       "<text fill=\"#000000\" font-family=\"Times,serif\" font-size=\"14.00\" text-anchor=\"middle\" x=\"279.9243\" y=\"-7.3\">(None, 10)</text>\n",
       "</g>\n",
       "<!-- 5094189208&#45;&gt;5080885008 -->\n",
       "<g class=\"edge\" id=\"edge6\">\n",
       "<title>5094189208-&gt;5080885008</title>\n",
       "<path d=\"M196.4639,-81.3664C196.4639,-73.1516 196.4639,-63.6579 196.4639,-54.7252\" fill=\"none\" stroke=\"#000000\"/>\n",
       "<polygon fill=\"#000000\" points=\"199.964,-54.6068 196.4639,-44.6068 192.964,-54.6069 199.964,-54.6068\" stroke=\"#000000\"/>\n",
       "</g>\n",
       "<!-- 5094212720 -->\n",
       "<g class=\"node\" id=\"node7\">\n",
       "<title>5094212720</title>\n",
       "<polygon fill=\"none\" points=\"153.4639,-486.5 153.4639,-522.5 239.4639,-522.5 239.4639,-486.5 153.4639,-486.5\" stroke=\"#000000\"/>\n",
       "<text fill=\"#000000\" font-family=\"Times,serif\" font-size=\"14.00\" text-anchor=\"middle\" x=\"196.4639\" y=\"-500.3\">5094212720</text>\n",
       "</g>\n",
       "<!-- 5094212720&#45;&gt;5094213896 -->\n",
       "<g class=\"edge\" id=\"edge1\">\n",
       "<title>5094212720-&gt;5094213896</title>\n",
       "<path d=\"M196.4639,-486.2521C196.4639,-478.3888 196.4639,-468.9498 196.4639,-459.9612\" fill=\"none\" stroke=\"#000000\"/>\n",
       "<polygon fill=\"#000000\" points=\"199.964,-459.7376 196.4639,-449.7377 192.964,-459.7377 199.964,-459.7376\" stroke=\"#000000\"/>\n",
       "</g>\n",
       "</g>\n",
       "</svg>"
      ],
      "text/plain": [
       "<IPython.core.display.SVG object>"
      ]
     },
     "execution_count": 40,
     "metadata": {},
     "output_type": "execute_result"
    }
   ],
   "source": [
    "from IPython.display import SVG\n",
    "from keras.utils.vis_utils import model_to_dot\n",
    "\n",
    "%matplotlib inline\n",
    "\n",
    "SVG(model_to_dot(model, show_shapes=True).create(prog='dot', format='svg'))"
   ]
  },
  {
   "cell_type": "code",
   "execution_count": 41,
   "metadata": {},
   "outputs": [],
   "source": [
    "model.compile(loss='categorical_crossentropy', optimizer='adam', metrics=['accuracy'])"
   ]
  },
  {
   "cell_type": "code",
   "execution_count": 43,
   "metadata": {},
   "outputs": [
    {
     "name": "stdout",
     "output_type": "stream",
     "text": [
      "Epoch 1/5\n",
      "60000/60000 [==============================] - 361s 6ms/step - loss: 0.1254 - acc: 0.9636\n",
      "Epoch 2/5\n",
      "60000/60000 [==============================] - 351s 6ms/step - loss: 0.0634 - acc: 0.9809\n",
      "Epoch 3/5\n",
      "60000/60000 [==============================] - 350s 6ms/step - loss: 0.0435 - acc: 0.9872\n",
      "Epoch 4/5\n",
      "60000/60000 [==============================] - 351s 6ms/step - loss: 0.0333 - acc: 0.9898\n",
      "Epoch 5/5\n",
      "60000/60000 [==============================] - 350s 6ms/step - loss: 0.0262 - acc: 0.9922\n"
     ]
    }
   ],
   "source": [
    "hist = model.fit(x_train, y_train, batch_size=256, epochs=5, verbose=1)"
   ]
  },
  {
   "cell_type": "code",
   "execution_count": 44,
   "metadata": {},
   "outputs": [
    {
     "name": "stdout",
     "output_type": "stream",
     "text": [
      "Test loss: 0.03888282934107119\n",
      "Test accuracy: 0.9867\n"
     ]
    }
   ],
   "source": [
    "score = model.evaluate(x_test, y_test, verbose=0)\n",
    "print('Test loss:', score[0])\n",
    "print('Test accuracy:', score[1])"
   ]
  },
  {
   "cell_type": "code",
   "execution_count": 45,
   "metadata": {},
   "outputs": [],
   "source": [
    "import random\n",
    "import matplotlib.pyplot as plt\n",
    "\n",
    "plt.style.use('dark_background')\n",
    "\n",
    "plt.rcParams[\"figure.figsize\"] = (20,10)\n",
    "plt.rcParams['lines.linewidth'] = 2\n",
    "plt.rcParams['lines.color'] = 'r'\n",
    "plt.rcParams['axes.grid'] = True \n",
    "\n",
    "predicted_result = model.predict(x_test)\n",
    "predicted_labels = np.argmax(predicted_result, axis=1)\n",
    "\n",
    "test_labels = np.argmax(y_test, axis=1)"
   ]
  },
  {
   "cell_type": "code",
   "execution_count": 46,
   "metadata": {},
   "outputs": [
    {
     "data": {
      "image/png": "[encoded data removed]",
      "text/plain": [
       "<Figure size 864x576 with 16 Axes>"
      ]
     },
     "metadata": {},
     "output_type": "display_data"
    }
   ],
   "source": [
    "wrong_result = []\n",
    "\n",
    "for n in range(0, len(test_labels)):\n",
    "    if predicted_labels[n] != test_labels[n]:\n",
    "        wrong_result.append(n)\n",
    "\n",
    "count = 0\n",
    "nrows = ncols = 4\n",
    "\n",
    "plt.figure(figsize=(12,8))\n",
    "\n",
    "for n in wrong_result[:nrows*ncols]:\n",
    "    count += 1\n",
    "    plt.subplot(nrows, ncols, count)\n",
    "    plt.imshow(x_test[n].reshape(28, 28), cmap='Greys', interpolation='nearest')\n",
    "    tmp = \"Label:\" + str(test_labels[n]) + \", Prediction:\" + str(predicted_labels[n])\n",
    "    plt.title(tmp)\n",
    "\n",
    "plt.tight_layout()\n",
    "plt.show()"
   ]
  },
  {
   "cell_type": "code",
   "execution_count": null,
   "metadata": {},
   "outputs": [],
   "source": []
  }
 ],
 "metadata": {
  "kernelspec": {
   "display_name": "Python 3",
   "language": "python",
   "name": "python3"
  },
  "language_info": {
   "codemirror_mode": {
    "name": "ipython",
    "version": 3
   },
   "file_extension": ".py",
   "mimetype": "text/x-python",
   "name": "python",
   "nbconvert_exporter": "python",
   "pygments_lexer": "ipython3",
   "version": "3.5.4"
  }
 },
 "nbformat": 4,
 "nbformat_minor": 2
}
