{
 "cells": [
  {
   "cell_type": "code",
   "execution_count": 7,
   "metadata": {},
   "outputs": [],
   "source": [
    "import pandas as pd\n",
    "import numpy as np\n",
    "import copy\n",
    "import collections\n",
    "import matplotlib.pyplot  as plt\n",
    "from IPython.display import display\n",
    "import math\n",
    "\n",
    "plt.style.use('dark_background')\n",
    "\n",
    "plt.rcParams[\"figure.figsize\"] = (20,10)\n",
    "plt.rcParams['lines.linewidth'] = 2\n",
    "plt.rcParams['lines.color'] = 'r'\n",
    "plt.rcParams['axes.grid'] = True \n",
    "\n",
    "pd.set_option('display.max_rows', 500)\n",
    "pd.set_option('display.max_columns', 500)"
   ]
  },
  {
   "cell_type": "code",
   "execution_count": 8,
   "metadata": {},
   "outputs": [],
   "source": [
    "raw_data = pd.read_csv('data.csv', sep='\\t', index_col=0).reset_index(drop=True)"
   ]
  },
  {
   "cell_type": "code",
   "execution_count": 9,
   "metadata": {},
   "outputs": [
    {
     "data": {
      "text/html": [
       "<div>\n",
       "<style scoped>\n",
       "    .dataframe tbody tr th:only-of-type {\n",
       "        vertical-align: middle;\n",
       "    }\n",
       "\n",
       "    .dataframe tbody tr th {\n",
       "        vertical-align: top;\n",
       "    }\n",
       "\n",
       "    .dataframe thead th {\n",
       "        text-align: right;\n",
       "    }\n",
       "</style>\n",
       "<table border=\"1\" class=\"dataframe\">\n",
       "  <thead>\n",
       "    <tr style=\"text-align: right;\">\n",
       "      <th></th>\n",
       "      <th>C1</th>\n",
       "      <th>C2</th>\n",
       "    </tr>\n",
       "  </thead>\n",
       "  <tbody>\n",
       "    <tr>\n",
       "      <th>0</th>\n",
       "      <td>1.388261</td>\n",
       "      <td>2.076096</td>\n",
       "    </tr>\n",
       "    <tr>\n",
       "      <th>1</th>\n",
       "      <td>2.177247</td>\n",
       "      <td>3.102304</td>\n",
       "    </tr>\n",
       "    <tr>\n",
       "      <th>2</th>\n",
       "      <td>0.378645</td>\n",
       "      <td>5.307610</td>\n",
       "    </tr>\n",
       "    <tr>\n",
       "      <th>3</th>\n",
       "      <td>3.681732</td>\n",
       "      <td>1.622681</td>\n",
       "    </tr>\n",
       "    <tr>\n",
       "      <th>4</th>\n",
       "      <td>2.462861</td>\n",
       "      <td>2.777897</td>\n",
       "    </tr>\n",
       "  </tbody>\n",
       "</table>\n",
       "</div>"
      ],
      "text/plain": [
       "         C1        C2\n",
       "0  1.388261  2.076096\n",
       "1  2.177247  3.102304\n",
       "2  0.378645  5.307610\n",
       "3  3.681732  1.622681\n",
       "4  2.462861  2.777897"
      ]
     },
     "execution_count": 9,
     "metadata": {},
     "output_type": "execute_result"
    }
   ],
   "source": [
    "raw_data.head()"
   ]
  },
  {
   "cell_type": "code",
   "execution_count": 10,
   "metadata": {},
   "outputs": [],
   "source": [
    "def get_dist(target, centers):\n",
    "    dists = []\n",
    "    for center in centers:\n",
    "        dists.append(math.sqrt((target.C1 - center[0]) ** 2 + (target.C2 - center[1]) ** 2))\n",
    "    return [idx for idx, t in enumerate(dists) if t == min(dists)][0]"
   ]
  },
  {
   "cell_type": "code",
   "execution_count": 11,
   "metadata": {},
   "outputs": [],
   "source": [
    "def squared_error(target, center):\n",
    "    return (target.C1 - center[0]) ** 2 + (target.C2 - center[1]) ** 2"
   ]
  },
  {
   "cell_type": "code",
   "execution_count": 12,
   "metadata": {},
   "outputs": [],
   "source": [
    "def kmeans_cluster(raw_data, k = 2):\n",
    "    target = copy.deepcopy(raw_data)\n",
    "    center_x = np.random.uniform(target['C1'].min(), target['C1'].max(), [1,k])\n",
    "    center_y = np.random.uniform(target['C2'].min(), target['C2'].max(), [1,k])\n",
    "    init_centers = list(zip(center_x.tolist()[0], center_y.tolist()[0]))\n",
    "    iter_cnt = 0\n",
    "    centers = copy.deepcopy(init_centers)\n",
    "    new_centers = copy.deepcopy(init_centers)\n",
    "    break_flag = False\n",
    "    while True:\n",
    "        iter_cnt += 1\n",
    "        target['cluster'] = target.apply(lambda x: get_dist(x, centers), axis=1)\n",
    "        target['error'] = target.apply(lambda x: squared_error(x, centers[int(x.cluster)]), axis=1)\n",
    "        sse = target.error.sum()\n",
    "        print('loop %s\\'s sse: %s' % (iter_cnt, sse))\n",
    "\n",
    "        for i in range(k):\n",
    "            new_centers[i] = (target[target.cluster == i].C1.mean(), target[target.cluster == i].C2.mean())\n",
    "            if round(new_centers[i][0], 2) == round(centers[i][0], 2) and round(new_centers[i][1], 2) == round(centers[i][1], 2):\n",
    "                break_flag = True\n",
    "            else:\n",
    "                break_flag = False\n",
    "\n",
    "        if break_flag:\n",
    "            break\n",
    "        else:\n",
    "            centers = copy.deepcopy(new_centers)\n",
    "\n",
    "    result = copy.deepcopy(target)        \n",
    "    print('Final sse(%s iterations) is %s' % (iter_cnt, sse))\n",
    "    return sse"
   ]
  },
  {
   "cell_type": "code",
   "execution_count": 13,
   "metadata": {},
   "outputs": [
    {
     "name": "stdout",
     "output_type": "stream",
     "text": [
      "Run k-mean(k = 2)\n",
      "loop 1's sse: 19537.920000830643\n",
      "loop 2's sse: 17241.661253421316\n",
      "loop 3's sse: 15117.673008168837\n",
      "loop 4's sse: 13603.030695938553\n",
      "loop 5's sse: 12831.011623907369\n",
      "loop 6's sse: 12497.862929939385\n",
      "loop 7's sse: 12305.409363265582\n",
      "loop 8's sse: 12192.596747618129\n",
      "loop 9's sse: 12094.165997808215\n",
      "loop 10's sse: 11997.954394718858\n",
      "loop 11's sse: 11928.486928774757\n",
      "loop 12's sse: 11875.550052654904\n",
      "loop 13's sse: 11828.848085919915\n",
      "loop 14's sse: 11799.56286720069\n",
      "loop 15's sse: 11783.683014713704\n",
      "loop 16's sse: 11779.794378099086\n",
      "loop 17's sse: 11777.504722698555\n",
      "loop 18's sse: 11775.60980363058\n",
      "loop 19's sse: 11775.083639074051\n",
      "Final sse(19 iterations) is 11775.083639074051\n",
      "Run k-mean(k = 3)\n",
      "loop 1's sse: 34673.183517120175\n",
      "loop 2's sse: 12686.199739416234\n",
      "loop 3's sse: 9509.508784806256\n",
      "loop 4's sse: 7609.570597028192\n",
      "loop 5's sse: 7195.636476391681\n",
      "loop 6's sse: 7144.484715344903\n",
      "loop 7's sse: 7127.218646397587\n",
      "loop 8's sse: 7120.189571747745\n",
      "loop 9's sse: 7117.309823242896\n",
      "Final sse(9 iterations) is 7117.309823242896\n",
      "Run k-mean(k = 4)\n",
      "loop 1's sse: 19408.239611414538\n",
      "loop 2's sse: 8406.037532642158\n",
      "loop 3's sse: 6153.032784898534\n",
      "loop 4's sse: 5817.806772635629\n",
      "loop 5's sse: 5715.487450659568\n",
      "loop 6's sse: 5669.728933476608\n",
      "loop 7's sse: 5646.301775086042\n",
      "loop 8's sse: 5639.924472972295\n",
      "loop 9's sse: 5638.153004613752\n",
      "loop 10's sse: 5637.809515890347\n",
      "loop 11's sse: 5637.389955458304\n",
      "loop 12's sse: 5637.139982107263\n",
      "Final sse(12 iterations) is 5637.139982107263\n",
      "Run k-mean(k = 5)\n",
      "loop 1's sse: 11242.899690262595\n",
      "loop 2's sse: 6797.8055665748725\n",
      "loop 3's sse: 5932.566371402847\n",
      "loop 4's sse: 5649.097358998123\n",
      "loop 5's sse: 5463.470354532792\n",
      "loop 6's sse: 5335.524963020585\n",
      "loop 7's sse: 5254.767055654759\n",
      "loop 8's sse: 5204.861462341089\n",
      "loop 9's sse: 5180.3296921347555\n",
      "loop 10's sse: 5171.752870945675\n",
      "Final sse(10 iterations) is 5171.752870945675\n"
     ]
    }
   ],
   "source": [
    "elbow_values = []\n",
    "ks = range(2, 6)\n",
    "\n",
    "for k in ks:\n",
    "    print('Run k-mean(k = %s)' % k)\n",
    "    elbow_values.append(kmeans_cluster(raw_data, k))"
   ]
  },
  {
   "cell_type": "code",
   "execution_count": 14,
   "metadata": {},
   "outputs": [
    {
     "data": {
      "text/plain": [
       "[11775.083639074051, 7117.309823242896, 5637.139982107263, 5171.752870945675]"
      ]
     },
     "execution_count": 14,
     "metadata": {},
     "output_type": "execute_result"
    }
   ],
   "source": [
    "elbow_values"
   ]
  },
  {
   "cell_type": "code",
   "execution_count": 15,
   "metadata": {},
   "outputs": [
    {
     "data": {
      "text/plain": [
       "[<matplotlib.lines.Line2D at 0x10d8cd0b8>]"
      ]
     },
     "execution_count": 15,
     "metadata": {},
     "output_type": "execute_result"
    },
    {
     "data": {
      "image/png": "[encoded data removed]",
      "text/plain": [
       "<Figure size 432x288 with 1 Axes>"
      ]
     },
     "metadata": {
      "needs_background": "dark"
     },
     "output_type": "display_data"
    }
   ],
   "source": [
    "plt.ylim(0, max(elbow_values)+1000) \n",
    "plt.xlabel('number of clusters, k')\n",
    "plt.ylabel('elbow_value')\n",
    "plt.xticks(ks)\n",
    "plt.plot(ks, elbow_values, '-o')"
   ]
  },
  {
   "cell_type": "code",
   "execution_count": null,
   "metadata": {},
   "outputs": [],
   "source": []
  }
 ],
 "metadata": {
  "kernelspec": {
   "display_name": "Python 3",
   "language": "python",
   "name": "python3"
  },
  "language_info": {
   "codemirror_mode": {
    "name": "ipython",
    "version": 3
   },
   "file_extension": ".py",
   "mimetype": "text/x-python",
   "name": "python",
   "nbconvert_exporter": "python",
   "pygments_lexer": "ipython3",
   "version": "3.5.4"
  }
 },
 "nbformat": 4,
 "nbformat_minor": 2
}
