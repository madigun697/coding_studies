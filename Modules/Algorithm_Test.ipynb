{
 "cells": [
  {
   "cell_type": "code",
   "execution_count": 1,
   "metadata": {},
   "outputs": [],
   "source": [
    "import pmat"
   ]
  },
  {
   "cell_type": "code",
   "execution_count": 2,
   "metadata": {},
   "outputs": [],
   "source": [
    "text = 'ABCDABCDABEE'\n",
    "pattern = 'ABCDABE'\n",
    "kmp = pmat.KMP(pattern, text)"
   ]
  },
  {
   "cell_type": "code",
   "execution_count": 3,
   "metadata": {},
   "outputs": [
    {
     "data": {
      "text/plain": [
       "[4]"
      ]
     },
     "execution_count": 3,
     "metadata": {},
     "output_type": "execute_result"
    }
   ],
   "source": [
    "kmp.result()"
   ]
  },
  {
   "cell_type": "code",
   "execution_count": 4,
   "metadata": {},
   "outputs": [
    {
     "data": {
      "text/plain": [
       "True"
      ]
     },
     "execution_count": 4,
     "metadata": {},
     "output_type": "execute_result"
    }
   ],
   "source": [
    "kmp.exist()"
   ]
  },
  {
   "cell_type": "code",
   "execution_count": 5,
   "metadata": {},
   "outputs": [],
   "source": [
    "text = \"'CNDLC-KRPUS','CNTXG-MYPGU','THLCH-USLGB','JPTYO-CNTAO','DEBRV-RUSPP','PAMIT-TTPTS','MYTPP-IDJKT','USLAX-KRPUS','NLRTM-RUSPP','CNTXG-JPTYO','BEANR-RULED','CNTAO-KRINC','CNWEI-KRINC','TRAMR-UAILK','JPUKB-CNWEI','JPYOK-MXLZC','CNTAO-CNSHK','SGSIN-CNTAO','CNTXG-TWKHH','SGSIN-PKKHI','JPSHS-CNTAG','CNTAG-CAVAN','SGSIN-OMSOH','MYTPP-KEMBA','JPHKT-KRPUS','HKHKG-PHMNS','CNLYG-KRPUS','MXZLO-CAVAN','LBBEY-TRMER','CNSHK-AUSYD','TWKEL-HKHKG','HKHKG-VNHPH','EGPSE-AEJEA','KRPUS-CNTAO','KRPTK-CNRZH','KRTSN-JPTYO','TWKHH-CNTXG','KRPTK-CNLYG','PHMNL-KRPUS','SGSIN-INKAT','MXLZC-PECLL','PAONX-HTLFF','CNWGQ-USSEA','MXZLO-USOAK','KRKAN-CNNGB','CNLYG-KRPTK','EGALY-EGPSE','IDJKT-VNCLI','MYPKG-CNTAO','CNWGQ-JPMIZ','THLCH-CNWGQ','PHMNL-CNTAO','EGPSD-PKKHI','KRPUS-CNHUA','MXZLO-NICIO','JPYOK-HKHKG','CNWGQ-VNHPH','PLGDY-NLRTM','EGPSE-OMSLL','MXZLO-SVAQJ','CNTAO-RUVYP','MYPKG-LKCMB','EGSOK-JOAQJ','LKCMB-BDCGP','VNHPH-TWKHH','CNYTN-TWKEL','SGSIN-MTMLA','CNYTN-USTIW','VNSGN-THBKK','MXLZC-CLSAI','MXZLO-CLVAP','JPUKB-CNNGB','KRKAN-CNDLC','KRTSN-CNNGB','MYPKG-INNSA','THBKK-VNSGN','KRPUS-GTPRQ','CNNGB-AEJEA','CNTXG-PECLL','AEJEA-KWSAA','KRPUS-VNCLI','CNTAO-CAVAN','VNSGN-IDJKT','SGSIN-BHKBS','COCTG-BRMAO','VNSGN-PHMNL','CNSHA-RUVYP','INMAA-BDCGP','CNWGQ-INMAA','JPNGO-MYPKG','USLAX-GTPRQ','MYPKG-VNHPH','MYTPP-INMUN','CNYTN-PHMNN','TWTPE-CNTXG','CNSHK-NZAKL','IDJKT-CNWGQ','CNNGB-MXZLO','CNSZX-INMAA','KRPUS-MYPKG','MYTPP-AUFRE','TRIST-INMAA','CNTAO-VNSGN','CNTXG-THLCH','MYPEN-VNSGN','CNNGB-MYPKG','MYPKG-TWKHH','MXATM-TTPOS','MYPKG-THLCH','MXATM-VEPBL','CNTXG-IDJKT','CNSHA-IDSRG','TWKHH-PHMNS','VNHPH-CNSHK','INMAA-THLCH','CNYTN-INMAA','JPOSA-VNHPH','CNWGQ-INPAV','EGALY-TNBIZ','CNSHA-THLKR','KRKAN-THLCH','CNYTN-SGSIN','SGSIN-IRBND','TWKEL-CNTXG','VNHPH-CNXMN','CNYTN-IDJKT','CNDLC-VNSGN','CNSHK-INMAA','LKCMB-INHAL','KRBNP-GBFXT','IDJKT-TWKHH','KRKAN-CNYTN','MYPKG-SGSIN','CNWGQ-KRPUS','JPSHS-KRPUS','NLRTM-SEGOT','JPYOK-CNYAN','CNJMN-THLCH','KRPUS-CNWUS','THBKK-HKHKG','MYTPP-BDCGP','CNWGQ-SGSIN','AEJEA-IQUQR','CNSHA-JPUKB','KRTSN-CNSHA','CNSHK-KRPUS','AEJEA-IRBND','KRPTK-CNTXG','CNWGQ-TWTYN','HKHKG-MYPKG','MYTPP-KRPUS','DEHAM-RULED','MYTPP-INMAA','CNSHK-IDJKT','CNWEI-KRPUS','EGPSE-TRMER','KRTSN-CNROQ','IDJKT-MYPKG','EGPSD-EGDAM','SGSIN-MUPLU','CNYAN-PAMIT','CNYAN-PHMNL','CNSHK-VNSGN','PHMNN-KRPUS','MXESE-MXZLO','CNSHA-PACFZ','CNSZX-USLGB','THLCH-KRPTK','THLCH-JPTYO','IDJKT-HKHKG','CNSHA-IDJKT','KRPUS-AUSYD','CNWGQ-AUSYD','INPAV-LKCMB','VNSGN-KRPTK','CNPVG-MYPKG','HKHKG-PAMIT','CNSZX-PAMIT','CNTAG-MYPKG','SGSIN-ESALG','JPYOK-CNTXG','SGSIN-GRPIR','CNYTN-NLRTM','CNSHA-NLRTM','CNSHA-MXZLO','SGSIN-USLAX','CNNGB-NLRTM','CNSHA-BEANR','KRKAN-IDJKT','HKHKG-CAVAN','TWKHH-PAMIT','MYTPP-GBFXT','CNSHA-IDSUB','KRPUS-IDSUB','MYPKG-ILPTQ','CNWGQ-NLTLB','CNWGQ-BDCGP','JPOSA-MYPKG','CNNGB-EGAIS','VNSGN-CNWUS','MYPKG-GRPIR','HKHKG-INMAA','CNTAG-IRBND','CNSZX-AEJEA','HKHKG-INNSA','KRKAN-VNHPH','BEANR-KRPUS','MXVER-USSAV','HKHKG-PECLL','SGSIN-GHTEM','KRPUS-PECLL','HKHKG-USTIW','JPYOK-MYPKG','VNHPH-KRKAN','SGSIN-TRAMB','SGSIN-PLGDN','CNSHA-ZADUR','CNSHA-USTIW','CNTAO-EGSOK','CNSZX-GBFXT','KRTSN-VNHPH','JPYOK-VNHPH','SGSIN-HRRJK','MYPKG-NLRTM','IDJKT-CAVAN','KRKAN-COBUN','CNTAG-MXZLO','CNSHK-ZADUR','MYPKG-GBSOU','CNYAN-EGPSE','SGSIN-TRMER','JPHKT-MYPKG','THBKK-INMAA','CNTXG-NLRTM','CNYAN-UYMVD','CNSHA-INNSA','MXVER-USMIA','NLRTM-USLAX','USNYC-HKHKG','CNSHA-CLVAP','CNTAG-CLVAP','CNYTN-FRLEH','CNSHA-COBUN','KRPUS-NICIO','SGSIN-USORF','CNTAO-MXLZC','VNSGN-CNTXG','CNDCB-ILPTQ','CNTXG-MUPLU','CNTXG-USLGB','MYTPP-DEWVN','CNSZX-INPAV','CNSHA-INIRU','CNWGQ-LKCMB','PLGDN-MYTPP','CNNGB-GBFXT','DEHAM-THLCH','PAMIT-SRPBM','CNTAO-AEJEA','CNWGQ-GBFXT','MYPKG-FRLEH','CNSHK-TRIZT','TWKHH-DEHAM','CNSHA-ARBUE','CNNGB-USLGB','JPYOK-CNWGQ','JPTYO-KRPUS'\"\n",
    "pattern = 'KRPUS-GTPRQ'\n",
    "kmp = pmat.KMP(pattern, text)"
   ]
  },
  {
   "cell_type": "code",
   "execution_count": 6,
   "metadata": {},
   "outputs": [
    {
     "data": {
      "text/plain": [
       "([1065], 3737)"
      ]
     },
     "execution_count": 6,
     "metadata": {},
     "output_type": "execute_result"
    }
   ],
   "source": [
    "kmp.result(), len(text)"
   ]
  },
  {
   "cell_type": "code",
   "execution_count": 7,
   "metadata": {},
   "outputs": [],
   "source": [
    "arr = ['their', 'there', 'answer', 'any', 'bye']\n",
    "text = 'isthereanyanswerokgoodbye'\n",
    "aho = pmat.Aho_Corasick(arr, text)"
   ]
  },
  {
   "cell_type": "code",
   "execution_count": 8,
   "metadata": {},
   "outputs": [
    {
     "data": {
      "text/plain": [
       "4"
      ]
     },
     "execution_count": 8,
     "metadata": {},
     "output_type": "execute_result"
    }
   ],
   "source": [
    "aho.exist()"
   ]
  },
  {
   "cell_type": "code",
   "execution_count": 9,
   "metadata": {},
   "outputs": [
    {
     "data": {
      "text/plain": [
       "'there,answer,any,bye'"
      ]
     },
     "execution_count": 9,
     "metadata": {},
     "output_type": "execute_result"
    }
   ],
   "source": [
    "aho.existPatterns()"
   ]
  },
  {
   "cell_type": "code",
   "execution_count": 10,
   "metadata": {},
   "outputs": [
    {
     "name": "stdout",
     "output_type": "stream",
     "text": [
      "their: []\n",
      "there: [2]\n",
      "answer: [10]\n",
      "any: [7]\n",
      "bye: [22]\n"
     ]
    }
   ],
   "source": [
    "for p in arr:\n",
    "    print(p + ': ' + str(aho.result(p)))"
   ]
  },
  {
   "cell_type": "code",
   "execution_count": 11,
   "metadata": {},
   "outputs": [],
   "source": [
    "t = [['b', 'b', 'a', 'b', 'b', 'a', 'b'],\n",
    "['a', 'a', 'c', 'a', 'c', 'b', 'a'],\n",
    "['b', 'b', 'b', 'a', 'c', 'a', 'c'],\n",
    "['a', 'c', 'a', 'b', 'b', 'a', 'b'],\n",
    "['c', 'a', 'a', 'c', 'a', 'b', 'a'],\n",
    "['b', 'b', 'b', 'b', 'a', 'c', 'c'],\n",
    "['a', 'c', 'c', 'a', 'b', 'a', 'b']]\n",
    "\n",
    "p = [['a', 'c', 'a'],\n",
    "['b', 'b', 'a'],\n",
    "['c', 'a', 'b']]\n",
    "\n",
    "baker = pmat.Baker_Bird(p, t)"
   ]
  },
  {
   "cell_type": "code",
   "execution_count": 12,
   "metadata": {},
   "outputs": [
    {
     "data": {
      "text/plain": [
       "[[1, 1], [2, 3], [4, 2]]"
      ]
     },
     "execution_count": 12,
     "metadata": {},
     "output_type": "execute_result"
    }
   ],
   "source": [
    "baker.result()"
   ]
  },
  {
   "cell_type": "code",
   "execution_count": 13,
   "metadata": {},
   "outputs": [
    {
     "data": {
      "text/plain": [
       "True"
      ]
     },
     "execution_count": 13,
     "metadata": {},
     "output_type": "execute_result"
    }
   ],
   "source": [
    "baker.exist()"
   ]
  },
  {
   "cell_type": "code",
   "execution_count": null,
   "metadata": {},
   "outputs": [],
   "source": []
  }
 ],
 "metadata": {
  "kernelspec": {
   "display_name": "Python 3",
   "language": "python",
   "name": "python3"
  },
  "language_info": {
   "codemirror_mode": {
    "name": "ipython",
    "version": 3
   },
   "file_extension": ".py",
   "mimetype": "text/x-python",
   "name": "python",
   "nbconvert_exporter": "python",
   "pygments_lexer": "ipython3",
   "version": "3.5.4"
  }
 },
 "nbformat": 4,
 "nbformat_minor": 2
}
