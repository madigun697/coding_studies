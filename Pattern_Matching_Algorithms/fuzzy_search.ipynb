{
 "cells": [
  {
   "cell_type": "code",
   "execution_count": 106,
   "metadata": {},
   "outputs": [],
   "source": [
    "import pandas as pd\n",
    "from IPython.display import display"
   ]
  },
  {
   "cell_type": "code",
   "execution_count": 94,
   "metadata": {},
   "outputs": [],
   "source": [
    "def calcEditDistance(a, b):\n",
    "\n",
    "    edMat = [[i if j == 0 else j if i == 0 else -1 for i in range(len(a)+1)] for j in range(len(b)+1)]\n",
    "\n",
    "    for i, row in enumerate(edMat):\n",
    "        for j, dist in enumerate(row):\n",
    "            if dist < 0 and a[j-1] != b[i-1]:\n",
    "                edMat[i][j] = min(edMat[i-1][j], edMat[i][j-1], edMat[i-1][j-1]) + 1\n",
    "            elif dist < 0:\n",
    "                edMat[i][j] = edMat[i-1][j-1]\n",
    "\n",
    "    return edMat\n",
    "\n",
    "def getLevenshteinDistance(a, b):\n",
    "    return calcEditDistance(a, b)[-1][-1]\n",
    "\n",
    "def approximateStringMatch(t, p, threshold):\n",
    "    calcEditDistance(t, p)[-1]\n",
    "    \n",
    "def fuzzySearch(a, b):\n",
    "    edMat = [[i if j == 0 else j if i == 0 else -1 for i in range(len(a)+1)] for j in range(len(b)+1)]\n",
    "    \n",
    "    for i, row in enumerate(edMat):\n",
    "        for j, dist in enumerate(row):\n",
    "            if dist < 0 and a[j-1] != b[i-1]:\n",
    "                edMat[i][j] = min(edMat[i-1][j], edMat[i][j-1], edMat[i-1][j-1]) + 1\n",
    "            elif dist < 0:\n",
    "                edMat[i][j] = edMat[i-1][j-1]\n",
    "                \n",
    "            if edMat[i][j] + i + j == max(len(a), len(b)):\n",
    "                break\n",
    "        "
   ]
  },
  {
   "cell_type": "code",
   "execution_count": 110,
   "metadata": {},
   "outputs": [
    {
     "data": {
      "text/html": [
       "<div>\n",
       "<style scoped>\n",
       "    .dataframe tbody tr th:only-of-type {\n",
       "        vertical-align: middle;\n",
       "    }\n",
       "\n",
       "    .dataframe tbody tr th {\n",
       "        vertical-align: top;\n",
       "    }\n",
       "\n",
       "    .dataframe thead th {\n",
       "        text-align: right;\n",
       "    }\n",
       "</style>\n",
       "<table border=\"1\" class=\"dataframe\">\n",
       "  <thead>\n",
       "    <tr style=\"text-align: right;\">\n",
       "      <th></th>\n",
       "      <th>0</th>\n",
       "      <th>1</th>\n",
       "      <th>2</th>\n",
       "      <th>3</th>\n",
       "      <th>4</th>\n",
       "      <th>5</th>\n",
       "      <th>6</th>\n",
       "      <th>7</th>\n",
       "      <th>8</th>\n",
       "      <th>9</th>\n",
       "    </tr>\n",
       "  </thead>\n",
       "  <tbody>\n",
       "    <tr>\n",
       "      <th>0</th>\n",
       "      <td>0</td>\n",
       "      <td>1</td>\n",
       "      <td>2</td>\n",
       "      <td>3</td>\n",
       "      <td>4</td>\n",
       "      <td>5</td>\n",
       "      <td>6</td>\n",
       "      <td>7</td>\n",
       "      <td>8</td>\n",
       "      <td>9</td>\n",
       "    </tr>\n",
       "    <tr>\n",
       "      <th>1</th>\n",
       "      <td>1</td>\n",
       "      <td>1</td>\n",
       "      <td>2</td>\n",
       "      <td>3</td>\n",
       "      <td>4</td>\n",
       "      <td>5</td>\n",
       "      <td>6</td>\n",
       "      <td>7</td>\n",
       "      <td>8</td>\n",
       "      <td>9</td>\n",
       "    </tr>\n",
       "    <tr>\n",
       "      <th>2</th>\n",
       "      <td>2</td>\n",
       "      <td>2</td>\n",
       "      <td>2</td>\n",
       "      <td>2</td>\n",
       "      <td>3</td>\n",
       "      <td>4</td>\n",
       "      <td>5</td>\n",
       "      <td>6</td>\n",
       "      <td>7</td>\n",
       "      <td>8</td>\n",
       "    </tr>\n",
       "    <tr>\n",
       "      <th>3</th>\n",
       "      <td>3</td>\n",
       "      <td>3</td>\n",
       "      <td>3</td>\n",
       "      <td>3</td>\n",
       "      <td>3</td>\n",
       "      <td>4</td>\n",
       "      <td>4</td>\n",
       "      <td>5</td>\n",
       "      <td>6</td>\n",
       "      <td>7</td>\n",
       "    </tr>\n",
       "    <tr>\n",
       "      <th>4</th>\n",
       "      <td>4</td>\n",
       "      <td>4</td>\n",
       "      <td>4</td>\n",
       "      <td>4</td>\n",
       "      <td>4</td>\n",
       "      <td>3</td>\n",
       "      <td>4</td>\n",
       "      <td>4</td>\n",
       "      <td>5</td>\n",
       "      <td>6</td>\n",
       "    </tr>\n",
       "    <tr>\n",
       "      <th>5</th>\n",
       "      <td>5</td>\n",
       "      <td>5</td>\n",
       "      <td>5</td>\n",
       "      <td>5</td>\n",
       "      <td>5</td>\n",
       "      <td>4</td>\n",
       "      <td>4</td>\n",
       "      <td>5</td>\n",
       "      <td>4</td>\n",
       "      <td>5</td>\n",
       "    </tr>\n",
       "    <tr>\n",
       "      <th>6</th>\n",
       "      <td>6</td>\n",
       "      <td>6</td>\n",
       "      <td>6</td>\n",
       "      <td>6</td>\n",
       "      <td>6</td>\n",
       "      <td>5</td>\n",
       "      <td>5</td>\n",
       "      <td>5</td>\n",
       "      <td>5</td>\n",
       "      <td>4</td>\n",
       "    </tr>\n",
       "  </tbody>\n",
       "</table>\n",
       "</div>"
      ],
      "text/plain": [
       "   0  1  2  3  4  5  6  7  8  9\n",
       "0  0  1  2  3  4  5  6  7  8  9\n",
       "1  1  1  2  3  4  5  6  7  8  9\n",
       "2  2  2  2  2  3  4  5  6  7  8\n",
       "3  3  3  3  3  3  4  4  5  6  7\n",
       "4  4  4  4  4  4  3  4  4  5  6\n",
       "5  5  5  5  5  5  4  4  5  4  5\n",
       "6  6  6  6  6  6  5  5  5  5  4"
      ]
     },
     "execution_count": 110,
     "metadata": {},
     "output_type": "execute_result"
    }
   ],
   "source": [
    "a = 'MICROSOFT'\n",
    "b = 'NCSOFT'\n",
    "pd.DataFrame(calcEditDistance(a, b))"
   ]
  },
  {
   "cell_type": "code",
   "execution_count": 108,
   "metadata": {},
   "outputs": [
    {
     "data": {
      "text/plain": [
       "[[0, 1, 2, 3, 4, 5, 6, 7, 8, 9, 10],\n",
       " [1, 1, 1, 2, 3, 4, 5, 6, 7, 8, 9],\n",
       " [2, 2, 2, 1, 2, 3, 4, 5, 6, 7, 8],\n",
       " [3, 3, 2, 2, 1, 2, 3, 4, 5, 6, 7],\n",
       " [4, 3, 3, 3, 2, 1, 2, 3, 4, 5, 6],\n",
       " [5, 4, 3, 4, 3, 2, 2, 3, 3, 4, 5],\n",
       " [6, 5, 4, 4, 4, 3, 3, 3, 4, 3, 4]]"
      ]
     },
     "execution_count": 108,
     "metadata": {},
     "output_type": "execute_result"
    }
   ],
   "source": [
    "a = 'minimanimo'\n",
    "b = 'inimim'\n",
    "calcEditDistance(a, b)"
   ]
  },
  {
   "cell_type": "code",
   "execution_count": 103,
   "metadata": {},
   "outputs": [
    {
     "data": {
      "text/plain": [
       "[[0, 1, 2, 3, 4, 5, 6, 7, 8],\n",
       " [1, 1, 2, 3, 4, 5, 6, 7, 8],\n",
       " [2, 2, 2, 3, 4, 5, 6, 7, 8],\n",
       " [3, 3, 3, 3, 4, 5, 6, 7, 8],\n",
       " [4, 4, 4, 4, 4, 5, 6, 7, 8],\n",
       " [5, 4, 5, 5, 5, 5, 6, 7, 8],\n",
       " [6, 5, 4, 5, 6, 6, 6, 7, 8],\n",
       " [7, 6, 5, 4, 5, 6, 7, 7, 8],\n",
       " [8, 7, 6, 5, 4, 5, 6, 7, 8],\n",
       " [9, 8, 7, 6, 5, 4, 5, 6, 7],\n",
       " [10, 9, 8, 7, 6, 5, 4, 5, 6],\n",
       " [11, 10, 9, 8, 7, 6, 5, 4, 5],\n",
       " [12, 11, 10, 9, 8, 7, 6, 5, 4]]"
      ]
     },
     "execution_count": 103,
     "metadata": {},
     "output_type": "execute_result"
    }
   ],
   "source": [
    "a = 'asdf1234'\n",
    "b = 'qwerasdf1234'\n",
    "calcEditDistance(a, b)"
   ]
  },
  {
   "cell_type": "code",
   "execution_count": 105,
   "metadata": {},
   "outputs": [
    {
     "data": {
      "text/plain": [
       "[[0, 1, 2, 3, 4, 5, 6, 7, 8, 9, 10, 11],\n",
       " [1, 1, 2, 3, 3, 4, 5, 6, 7, 8, 9, 10],\n",
       " [2, 2, 1, 2, 3, 3, 4, 5, 6, 7, 8, 9],\n",
       " [3, 3, 2, 2, 3, 4, 4, 5, 6, 7, 8, 9],\n",
       " [4, 4, 3, 3, 3, 3, 4, 5, 6, 6, 7, 8],\n",
       " [5, 5, 4, 4, 4, 4, 3, 4, 5, 6, 7, 7],\n",
       " [6, 6, 5, 5, 5, 5, 4, 3, 4, 5, 6, 7],\n",
       " [7, 7, 6, 6, 6, 6, 5, 4, 4, 5, 6, 7],\n",
       " [8, 8, 7, 7, 7, 7, 6, 5, 4, 5, 6, 7],\n",
       " [9, 9, 8, 8, 8, 7, 7, 6, 5, 4, 5, 6],\n",
       " [10, 10, 9, 8, 9, 8, 8, 7, 6, 5, 4, 5],\n",
       " [11, 11, 10, 9, 9, 9, 8, 8, 7, 6, 5, 4]]"
      ]
     },
     "execution_count": 105,
     "metadata": {},
     "output_type": "execute_result"
    }
   ],
   "source": [
    "a = 'meilenstein'\n",
    "b = 'levenshtein'\n",
    "calcEditDistance(a, b)"
   ]
  },
  {
   "cell_type": "code",
   "execution_count": 109,
   "metadata": {},
   "outputs": [
    {
     "data": {
      "text/html": [
       "<div>\n",
       "<style scoped>\n",
       "    .dataframe tbody tr th:only-of-type {\n",
       "        vertical-align: middle;\n",
       "    }\n",
       "\n",
       "    .dataframe tbody tr th {\n",
       "        vertical-align: top;\n",
       "    }\n",
       "\n",
       "    .dataframe thead th {\n",
       "        text-align: right;\n",
       "    }\n",
       "</style>\n",
       "<table border=\"1\" class=\"dataframe\">\n",
       "  <thead>\n",
       "    <tr style=\"text-align: right;\">\n",
       "      <th></th>\n",
       "      <th>0</th>\n",
       "      <th>1</th>\n",
       "      <th>2</th>\n",
       "      <th>3</th>\n",
       "      <th>4</th>\n",
       "      <th>5</th>\n",
       "    </tr>\n",
       "  </thead>\n",
       "  <tbody>\n",
       "    <tr>\n",
       "      <th>0</th>\n",
       "      <td>0</td>\n",
       "      <td>1</td>\n",
       "      <td>2</td>\n",
       "      <td>3</td>\n",
       "      <td>4</td>\n",
       "      <td>5</td>\n",
       "    </tr>\n",
       "    <tr>\n",
       "      <th>1</th>\n",
       "      <td>1</td>\n",
       "      <td>0</td>\n",
       "      <td>1</td>\n",
       "      <td>2</td>\n",
       "      <td>3</td>\n",
       "      <td>4</td>\n",
       "    </tr>\n",
       "    <tr>\n",
       "      <th>2</th>\n",
       "      <td>2</td>\n",
       "      <td>1</td>\n",
       "      <td>0</td>\n",
       "      <td>1</td>\n",
       "      <td>2</td>\n",
       "      <td>3</td>\n",
       "    </tr>\n",
       "    <tr>\n",
       "      <th>3</th>\n",
       "      <td>3</td>\n",
       "      <td>2</td>\n",
       "      <td>1</td>\n",
       "      <td>0</td>\n",
       "      <td>1</td>\n",
       "      <td>2</td>\n",
       "    </tr>\n",
       "    <tr>\n",
       "      <th>4</th>\n",
       "      <td>4</td>\n",
       "      <td>3</td>\n",
       "      <td>2</td>\n",
       "      <td>1</td>\n",
       "      <td>1</td>\n",
       "      <td>1</td>\n",
       "    </tr>\n",
       "    <tr>\n",
       "      <th>5</th>\n",
       "      <td>5</td>\n",
       "      <td>4</td>\n",
       "      <td>3</td>\n",
       "      <td>2</td>\n",
       "      <td>2</td>\n",
       "      <td>2</td>\n",
       "    </tr>\n",
       "  </tbody>\n",
       "</table>\n",
       "</div>"
      ],
      "text/plain": [
       "   0  1  2  3  4  5\n",
       "0  0  1  2  3  4  5\n",
       "1  1  0  1  2  3  4\n",
       "2  2  1  0  1  2  3\n",
       "3  3  2  1  0  1  2\n",
       "4  4  3  2  1  1  1\n",
       "5  5  4  3  2  2  2"
      ]
     },
     "execution_count": 109,
     "metadata": {},
     "output_type": "execute_result"
    }
   ],
   "source": [
    "a = 'peter'\n",
    "b = 'petra'\n",
    "pd.DataFrame(calcEditDistance(a, b))"
   ]
  },
  {
   "cell_type": "markdown",
   "metadata": {},
   "source": [
    "* http://hsp1116.tistory.com/41\n",
    "* http://www.levenshtein.net\n",
    "* http://www.biotec.tu-dresden.de/fileadmin/groups/schroeder/teaching/Applied_Bioinformatics/slides/AB_08_BLAST.pdf"
   ]
  },
  {
   "cell_type": "code",
   "execution_count": 1,
   "metadata": {},
   "outputs": [],
   "source": [
    "piplist = !python3 -m pip list"
   ]
  },
  {
   "cell_type": "code",
   "execution_count": 11,
   "metadata": {},
   "outputs": [],
   "source": [
    "text = ' '.join([library.split(\" \")[0] for library in piplist[1:]])\n",
    "pattern = 'smplejson, pkgutil, timeit, diango, djago, dajngo, djanga, easyinstall, libpeshka, pyconaufuntimes, mybiubiubiu, colourama'.split(', ')"
   ]
  },
  {
   "cell_type": "code",
   "execution_count": 13,
   "metadata": {},
   "outputs": [],
   "source": [
    "import pmat"
   ]
  },
  {
   "cell_type": "code",
   "execution_count": 14,
   "metadata": {},
   "outputs": [],
   "source": [
    "wm = pmat.Wu_Manber(pattern, text)"
   ]
  },
  {
   "cell_type": "code",
   "execution_count": 15,
   "metadata": {},
   "outputs": [
    {
     "data": {
      "text/plain": [
       "''"
      ]
     },
     "execution_count": 15,
     "metadata": {},
     "output_type": "execute_result"
    }
   ],
   "source": [
    "wm.existPatterns()"
   ]
  },
  {
   "cell_type": "code",
   "execution_count": null,
   "metadata": {},
   "outputs": [],
   "source": []
  }
 ],
 "metadata": {
  "kernelspec": {
   "display_name": "Python 3",
   "language": "python",
   "name": "python3"
  },
  "language_info": {
   "codemirror_mode": {
    "name": "ipython",
    "version": 3
   },
   "file_extension": ".py",
   "mimetype": "text/x-python",
   "name": "python",
   "nbconvert_exporter": "python",
   "pygments_lexer": "ipython3",
   "version": "3.5.4"
  }
 },
 "nbformat": 4,
 "nbformat_minor": 2
}
