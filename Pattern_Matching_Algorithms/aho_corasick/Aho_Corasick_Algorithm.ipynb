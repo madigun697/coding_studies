{
 "cells": [
  {
   "cell_type": "code",
   "execution_count": 2,
   "metadata": {},
   "outputs": [],
   "source": [
    "import pmat_aho_corasick"
   ]
  },
  {
   "cell_type": "code",
   "execution_count": 3,
   "metadata": {
    "scrolled": true
   },
   "outputs": [
    {
     "name": "stdout",
     "output_type": "stream",
     "text": [
      "{'answer': [15], 'their': [], 'any': [9], 'bye': [24], 'there': [6]}\n",
      "------\n",
      "{'he': [5], 'she': [5], 'his': [3], 'hers': [7]}\n"
     ]
    }
   ],
   "source": [
    "arr = ['their', 'there', 'answer', 'any', 'bye']\n",
    "k = len(arr)\n",
    "text = 'isthereanyanswerokgoodbye'\n",
    "\n",
    "result, _ = pmat_aho_corasick.patternSearch(arr, k, text)\n",
    "print(result)\n",
    "\n",
    "print('------')\n",
    "\n",
    "arr = ['he', 'she', 'hers', 'his']\n",
    "k = len(arr)\n",
    "text = 'ahishers'\n",
    "\n",
    "result, _ = pmat_aho_corasick.patternSearch(arr, k, text)\n",
    "print(result)"
   ]
  },
  {
   "cell_type": "code",
   "execution_count": 4,
   "metadata": {},
   "outputs": [
    {
     "name": "stdout",
     "output_type": "stream",
     "text": [
      "[1, 2, 3, 4, 5, 6]\n"
     ]
    }
   ],
   "source": [
    "arr = ['cacbaa', 'acb', 'aba', 'acbab', 'ccbab']\n",
    "k = len(arr)\n",
    "text = 'cacbaa'\n",
    "\n",
    "r, o = pmat_aho_corasick.patternSearch(arr, k, text)\n",
    "print(o)"
   ]
  },
  {
   "cell_type": "code",
   "execution_count": null,
   "metadata": {},
   "outputs": [],
   "source": []
  }
 ],
 "metadata": {
  "kernelspec": {
   "display_name": "Python 3",
   "language": "python",
   "name": "python3"
  },
  "language_info": {
   "codemirror_mode": {
    "name": "ipython",
    "version": 3
   },
   "file_extension": ".py",
   "mimetype": "text/x-python",
   "name": "python",
   "nbconvert_exporter": "python",
   "pygments_lexer": "ipython3",
   "version": "3.5.4"
  }
 },
 "nbformat": 4,
 "nbformat_minor": 2
}
