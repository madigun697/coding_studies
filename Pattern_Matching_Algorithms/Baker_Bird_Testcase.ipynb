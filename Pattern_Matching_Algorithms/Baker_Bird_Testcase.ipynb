{
 "cells": [
  {
   "cell_type": "code",
   "execution_count": 3,
   "metadata": {},
   "outputs": [],
   "source": [
    "import pmat"
   ]
  },
  {
   "cell_type": "code",
   "execution_count": 10,
   "metadata": {},
   "outputs": [],
   "source": [
    "def test(i):\n",
    "    f = open('./testcases/bb_in%d.txt' % i, 'r')\n",
    "    lines = f.readlines()\n",
    "    f.close()\n",
    "\n",
    "    lines = [l.replace('\\n', '') for l in lines]\n",
    "    args = lines[0].split(' ')\n",
    "    pattern = lines[1:1+int(args[0])]\n",
    "    text = lines[1+(int(args[0])):]\n",
    "\n",
    "    baker = pmat.Baker_Bird_Interleave(pattern, text)\n",
    "    result = baker.result()\n",
    "\n",
    "    f = open('./testcases/bb_out%d.txt' % i, 'r')\n",
    "    lines = f.readlines()\n",
    "    f.close()\n",
    "\n",
    "    answer = [tuple(map(int, l.replace('\\n', '').split(' '))) for l in lines]\n",
    "\n",
    "    print('Test case %d: %s' % (i, result == answer))\n",
    "    return result, answer"
   ]
  },
  {
   "cell_type": "code",
   "execution_count": 11,
   "metadata": {},
   "outputs": [
    {
     "name": "stdout",
     "output_type": "stream",
     "text": [
      "Test case 1: True\n",
      "Test case 2: True\n",
      "Test case 3: True\n",
      "Test case 4: True\n",
      "Test case 5: True\n",
      "Test case 6: False\n",
      "Test case 7: True\n",
      "Test case 8: True\n",
      "Test case 9: True\n",
      "Test case 10: True\n",
      "Test case 11: True\n",
      "Test case 12: True\n",
      "Test case 13: True\n",
      "Test case 14: True\n",
      "Test case 15: True\n",
      "Test case 16: True\n",
      "Test case 17: False\n",
      "Test case 18: True\n",
      "Test case 19: False\n",
      "Test case 20: False\n"
     ]
    }
   ],
   "source": [
    "outputs = []\n",
    "for i in range(20):\n",
    "    outputs.append(test(i+1))"
   ]
  },
  {
   "cell_type": "code",
   "execution_count": 12,
   "metadata": {},
   "outputs": [
    {
     "data": {
      "text/plain": [
       "(4, 4)"
      ]
     },
     "execution_count": 12,
     "metadata": {},
     "output_type": "execute_result"
    }
   ],
   "source": [
    "answers[5][0]"
   ]
  },
  {
   "cell_type": "code",
   "execution_count": null,
   "metadata": {},
   "outputs": [],
   "source": []
  }
 ],
 "metadata": {
  "kernelspec": {
   "display_name": "Python 3",
   "language": "python",
   "name": "python3"
  },
  "language_info": {
   "codemirror_mode": {
    "name": "ipython",
    "version": 3
   },
   "file_extension": ".py",
   "mimetype": "text/x-python",
   "name": "python",
   "nbconvert_exporter": "python",
   "pygments_lexer": "ipython3",
   "version": "3.5.4"
  }
 },
 "nbformat": 4,
 "nbformat_minor": 2
}
