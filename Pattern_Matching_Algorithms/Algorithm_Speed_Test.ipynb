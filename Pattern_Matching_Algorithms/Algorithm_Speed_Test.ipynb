{
 "cells": [
  {
   "cell_type": "code",
   "execution_count": 1,
   "metadata": {},
   "outputs": [],
   "source": [
    "import pmat\n",
    "import random\n",
    "import operator"
   ]
  },
  {
   "cell_type": "markdown",
   "metadata": {},
   "source": [
    "# Compare Single Pattern Matching Algorithm\n",
    "## KMP vs. Boyer Moore vs. Aho-Corasick vs. Wu-Manber"
   ]
  },
  {
   "cell_type": "markdown",
   "metadata": {},
   "source": [
    "### Case 1\n",
    "* Text Length: 5665\n",
    "* Word Cound: 1152"
   ]
  },
  {
   "cell_type": "code",
   "execution_count": 2,
   "metadata": {},
   "outputs": [],
   "source": [
    "text = \"She saw a secret little clearing and a secret little hot made of rustic poles And she had never been here before She realized it was the quiet place where the growing pheasants were reared the keeper in his shirtsleeves was kneeling hammering The dog trotted forward with a short sharp bark and the keeper lifted his face suddenly and saw her He had a startled look in his eyes He straightened himself and saluted watching her in silence as she came forward with weakening limbs He resented the intrusion he cherished his solitude as his only and last freedom in life I wondered what the hammering was she said feeling weak and breathless and a little afraid of him as he looked so straight at her Ahm gettin th coops ready for th young bods he said in broad vernacular She did not know what to say and she felt weak I should like to sit down a bit she said Come and sit ere i th ut he said going in front of her to the hut pushing aside some timber and stuff and drawing out a rustic chair made of hazel sticks Am Ah t light yer a little fire he asked with the curious of the dialect Oh dont bother she replied But he looked at her hands they were rather blue So he quickly took some larch twigs to the little brick fire place in the corner and in a moment the yellow flame was running up the chimney He made a place by the brick hearth Sit ere then a bit and warm yer he said A wet brown dog came running and did not bark lifting a wet feather of a tail The man followed in a wet black oilskin jacket like a chauffeur and face flushed a little She felt him recoil in his quick walk when he saw her She stood up in the handbreadth of dryness under the rustic porch He saluted without speaking coming slowly near She began to withdraw Im just going she said Was yer waitin to get in he asked looking at the hut not at her No I only sat a few minutes in the shelter she said with quiet dignity He looked at her She looked cold Sir Clifford adnt got no other key then he asked No but it doesnt matter I can sit perfectly dry under this porch Good afternoon She hated the excess of vernacular in his speech He watched her closely as she was moving away Then he hitched up his jacket and put his hand in his breeches pocket taking out the key of the hut Appen yerd better ave this key an Ah min fend for t bods some other road She looked at him What do you mean she asked I mean as appen Ah can find anuther pleece asll du for rearin th pheasants If yer want ter be ere yoll non want me messin abaht a th time She looked at him getting his meaning through the fog of the dialect Why dont you speak ordinary English she said coldly Me Ah thowt it wor ordinary She was silent for a few moments in anger So if yer want t key yerd better tacit Or appen Ahd better gie t yer termorrer an clear all t stuff aht fust Would that du for yer She became more angry I didnt want your key she said I dont want you to clear anything out at all I dont in the least want to turn you out of your hut thank you I only wanted to be able to sit here sometimes like today But I can sit perfectly well under the porch so please say no more about it He looked at her again with his wicked blue eyes Why he began in the broad slow dialect Your Ladyships as welcome as Christmas ter th hut an th key an iverythink as is Ony this time O th year thers bods ter set an Ahve got ter be potterin abaht a good bit seein after em an a Winter time Ah ned ardly come nigh th pleece But what wi spring an Sir Clifford wantin ter start th pheasants  An your Ladyshipd non want me tinkerin around an about when she was ere all the time She listened with a dim kind of amazement Why should I mind your being here she asked He looked at her curiously Tnuisance on me he said briefly but significantly She flushed Very well she said finally I wont trouble you But I dont think I should have minded at all sitting and seeing you look after the birds I should have liked it But since you think it interferes with you I wont disturb you dont be afraid You are Sir Cliffords keeper not mine The phrase sounded queer she didnt know why But she let it pass Nay your Ladyship Its your Ladyships own ut Its as your Ladyship likes an pleases every time Yer can turn me off at a wiks notice It wor only   Only what she asked baffled He pushed back his hat in an odd comic way Ony as appen yod like the place ter yersen when yer did come an not me messin abaht But why she said angry Arent you a civilized human being Do you think I ought to be afraid of you Why should I take any notice of you and your being here or not Why is it important He looked at her all his face glimmering with wicked laughter Its not your Ladyship Not in the very least he said Well why then she asked Shall I get your Ladyship another key then No thank you I dont want it Ahll get it anyhow Wed best ave two keys ter th place And I consider you are insolent said Connie with her colour up panting a little Nay nay he said quickly Dunna yer say that Nay nay I niver meant nuthink Ah ony thought as if yo come ere Ah sd ave ter clear out an itd mean a lot of work settin up somewheres else But if your Ladyship isnt going ter take no notice O me then  its Sir Cliffords ut an everythink is as your Ladyship likes everythink is as your Ladyship likes an pleases barrin yer take no notice O me doin th bits of jobs as Ahve got ter do Connie went away completely bewildered She was not sure whether she had been insulted and mortally of fended or not Perhaps the man really only meant what he said that he thought she would expect him to keep away As if she would dream of it And as if he could possibly be so important he and his stupid presence\"\n",
    "word_dict = {}\n",
    "for c in set([c for c in text.lower().split(\" \")]):\n",
    "    word_dict[c] = len([w for w in text.lower().split(\" \") if w == c])\n",
    "    \n",
    "word_dict = sorted(word_dict.items(), key=operator.itemgetter(1), reverse=True)\n",
    "patterns = [pair for pair in word_dict if len(pair[0]) >= 4][:5]"
   ]
  },
  {
   "cell_type": "markdown",
   "metadata": {},
   "source": [
    "#### 1. KMP"
   ]
  },
  {
   "cell_type": "code",
   "execution_count": 3,
   "metadata": {},
   "outputs": [
    {
     "name": "stdout",
     "output_type": "stream",
     "text": [
      "19.9 ms ± 45.2 µs per loop (mean ± std. dev. of 7 runs, 100 loops each)\n"
     ]
    }
   ],
   "source": [
    "%%timeit\n",
    "for p in patterns:\n",
    "    kmp = pmat.KMP(p[0], text.lower())"
   ]
  },
  {
   "cell_type": "markdown",
   "metadata": {},
   "source": [
    "#### 2.Boyer Moore"
   ]
  },
  {
   "cell_type": "code",
   "execution_count": 4,
   "metadata": {},
   "outputs": [
    {
     "name": "stdout",
     "output_type": "stream",
     "text": [
      "19.9 ms ± 29.5 µs per loop (mean ± std. dev. of 7 runs, 100 loops each)\n"
     ]
    }
   ],
   "source": [
    "%%timeit\n",
    "for p in patterns:\n",
    "    bm = pmat.Boyer_Moore(p[0], text.lower())"
   ]
  },
  {
   "cell_type": "markdown",
   "metadata": {},
   "source": [
    "#### 3. Aho Corasick"
   ]
  },
  {
   "cell_type": "code",
   "execution_count": 5,
   "metadata": {},
   "outputs": [
    {
     "name": "stdout",
     "output_type": "stream",
     "text": [
      "15.1 ms ± 43.4 µs per loop (mean ± std. dev. of 7 runs, 100 loops each)\n"
     ]
    }
   ],
   "source": [
    "%%timeit\n",
    "aho = pmat.Aho_Corasick([p[0] for p in patterns], text.lower())"
   ]
  },
  {
   "cell_type": "markdown",
   "metadata": {},
   "source": [
    "#### 4. Wu Manber"
   ]
  },
  {
   "cell_type": "code",
   "execution_count": 6,
   "metadata": {},
   "outputs": [
    {
     "name": "stdout",
     "output_type": "stream",
     "text": [
      "4.25 ms ± 18.8 µs per loop (mean ± std. dev. of 7 runs, 100 loops each)\n"
     ]
    }
   ],
   "source": [
    "%%timeit\n",
    "wm = pmat.Wu_Manber([p[0] for p in patterns], text.lower())"
   ]
  },
  {
   "cell_type": "markdown",
   "metadata": {},
   "source": [
    "#### 5. Results"
   ]
  },
  {
   "cell_type": "code",
   "execution_count": 7,
   "metadata": {},
   "outputs": [
    {
     "name": "stdout",
     "output_type": "stream",
     "text": [
      "[2453, 2478, 2710, 2861, 2891, 2949, 2999, 3482, 3535, 4791]\n",
      "[2453, 2478, 2710, 2861, 2891, 2949, 2999, 3482, 3535, 4791]\n",
      "[2453, 2478, 2710, 2861, 2891, 2949, 2999, 3482, 3535, 4791]\n",
      "[2454, 2479, 2711, 2862, 2892, 2950, 3000, 3483, 3536, 4792]\n"
     ]
    }
   ],
   "source": [
    "kmp = pmat.KMP(patterns[-1][0], text.lower())\n",
    "print(kmp.result())\n",
    "bm = pmat.Boyer_Moore(patterns[-1][0], text.lower())\n",
    "print(bm.result())\n",
    "aho = pmat.Aho_Corasick([p[0] for p in patterns], text.lower())\n",
    "print(aho.result(patterns[-1][0]))\n",
    "wm = pmat.Wu_Manber([p[0] for p in patterns], text.lower())\n",
    "print(wm.result(patterns[-1][0]))"
   ]
  },
  {
   "cell_type": "markdown",
   "metadata": {},
   "source": [
    "### Case 2\n",
    "* Text Length: 12680\n",
    "* Word Cound: 2224"
   ]
  },
  {
   "cell_type": "code",
   "execution_count": 8,
   "metadata": {},
   "outputs": [],
   "source": [
    "text = \"Once there was a gentleman who married for hissecond wife the proudest and most haughty woman thatwas ever seen She had by a former husband twodaughters of her own humor who were indeed exactlylike her in all things He had likewise by another wifea young daughter but of unparalleled goodness andsweetness of temper which she took from her mother who wasthe best creature in the worldNo sooner were the ceremonies of the wedding over butthe mother in law began to show herself in her true colorsShe could not bear the good qualities of this pretty girland the less because they made her own daughters appearthe more odious She employed her in the meanestwork of the house she scoured the dishes tables etcand scrubbed madams chamber and those of misses herdaughters she lay up in a sorry garret upon a wretchedstraw bed while her sisters lay in fine rooms with floorsall inlaid upon beds of the very newest fashion andwhere they had looking glasses so large that they mightsee themselves at their full length from head to footThe poor girl bore all patiently and dared not tell herfather who would have rattled her off for his wifegoverned him entirely When she had done her work sheused to go into the chimney corner and sit down amongcinders and ashes which made her commonly be calledCinderwench but the youngest who was not so rude anduncivil as the eldest called her Cinderella HoweverCinderella notwithstanding her mean apparel was ahundred times handsomer than her sisters though theywere always dressed very richlyIt happened that the Kings son gave a ball and invitedall persons of fashion to it Our young misses were alsoinvited for they cut a very grand figure among the qualityThey were mightily delighted at this invitation andwonderfully busy in choosing out such gowns petticoatsand head clothes as might become them This was a newtrouble to Cinderella for it was she who ironed hersisters linen and plaited their ruffles they talked all daylong of nothing but how they should be dressedFor my part said the eldest I will wear my redvelvet suit with French trimmingAnd I said the youngest shall have my usualpetticoat but then to make amends for that I will put on mygold flowered manteau and my diamond stomacherwhich is far from being the most ordinary one in theworldThey sent for the best tire woman they could get tomake up their head dresses and adjust their double pinnersand they had their red brushes and patches fromMademoiselle de la PocheCinderella was likewise called up to them to beconsulted in all these matters for she had excellent notionsand advised them always for the best nay and offeredher services to dress their heads which they were verywilling she should do As she was doing this they said toherCinderella would you not be glad to go to the ballAlas said she you only jeer me it is not for suchas I am to go thitherThou art in the right of it replied they it wouldmake the people laugh to see a Cinderwench at a ballAnyone but Cinderella would have dressed their headsawry but she was very good and dressed them perfectlywell They were almost two days without eating somuch were they transported with joy They broke abovea dozen laces in trying to be laced up close that theymight have a fine slender shape and they were continuallyat their looking glass At last the happy day came theywent to Court and Cinderella followed them with hereyes as long as she could and when she had lost sight ofthem she fell a cryingHer godmother who saw her all in tears asked herwhat was the matterI wish I could  I wish I could   she was not ableto speak the rest being interrupted by her tears andsobbingThis godmother of hers who was a fairy said to herThou wishest thou couldst go to the ball is it not soY  es cried Cinderella with a great sighWell said her godmother be but a good girl andI will contrive that thou shalt go Then she took her intoher chamber and said to her Run into the garden andbring me a pumpkinCinderella went immediately to gather the finest shecould get and brought it to her godmother not being ableto imagine how this pumpkin could make her go to theball Her godmother scooped out all the inside of ithaving left nothing but the rind which done she struck itwith her wand and the pumpkin was instantly turnedinto a fine coach gilded all over with goldShe then went to look into her mouse trap where shefound six mice all alive and ordered Cinderella to liftup a little the trapdoor when giving each mouse as itwent out a little tap with her wand the mouse was thatmoment turned into a fine horse which altogether madea very fine set of six horses of a beautiful mouse coloreddapple gray Being at a loss for a coachmanI will go and see says Cinderella if there is nevera rat in the rat trap  we may make a coachman of himThou art in the right replied her godmother goand lookCinderella brought the trap to her and in it there werethree huge rats The fairy made choice of one of thethree which had the largest beard and having touchedhim with her wand he was turned into a fat jollycoachman who had the smartest whiskers eyes ever beheldAfter that she said to herGo again into the garden and you will find six lizardsbehind the watering pot bring them to meShe had no sooner done so but her godmother turnedthem into six footmen who skipped up immediately behindthe coach with their liveries all bedaubed with goldand silver and clung as close behind each other as if theyhad done nothing else their whole lives The Fairy thensaid to CinderellaWell you see here an equipage fit to go to the ballwith are you not pleased with itOh yes cried she but must I go thither as I amin these nasty ragsHer godmother only just touched her with her wandand at the same instant her clothes were turned intocloth of gold and silver all beset with jewels This doneshe gave her a pair of glass slippers the prettiest in thewhole world Being thus decked out she got up into hercoach but her godmother above all things commandedher not to stay till after midnight telling her at the sametime that if she stayed one moment longer the coachwould be a pumpkin again her horses mice her coachmana rat her footmen lizards and her clothes becomejust as they were beforeShe promised her godmother she would not fail ofleaving the ball before midnight and then away she drivesscarce able to contain herself for joy The Kings sonwho was told that a great princess whom nobody knewwas come ran out to receive her he gave her his hand asshe alighted out of the coach and led her into the ballamong all the company There was immediately a profoundsilence they left off dancing and the violins ceasedto play so attentive was everyone to contemplate thesingular beauties of the unknown new comer Nothingwas then heard but a confused noise ofHa how handsome she is Ha how handsome she isThe King himself old as he was could not help watchingher and telling the Queen softly that it was a longtime since he had seen so beautiful and lovely a creatureAll the ladies were busied in considering her clothes andheaddress that they might have some made next dayafter the same pattern provided they could meet withsuch fine material and as able hands to make themThe Kings son conducted her to the most honorableseat and afterward took her out to dance with him shedanced so very gracefully that they all more and moreadmired her A fine collation was served up whereof theyoung prince ate not a morsel so intently was he busiedin gazing on herShe went and sat down by her sisters showing them athousand civilities giving them part of the oranges andcitrons which the Prince had presented her with whichvery much surprised them for they did not know herWhile Cinderella was thus amusing her sisters she heardthe clock strike eleven and three quarters whereupon sheimmediately made a courtesy to the company and hastedaway as fast as she couldWhen she got home she ran to seek out her godmotherand after having thanked her she said she could not butheartily wish she might go next day to the ball becausethe Kings son had desired herAs she was eagerly telling her godmother whatever hadpassed at the ball her two sisters knocked at the doorwhich Cinderella ran and openedHow long you have stayed cried she gaping rubbingher eyes and stretching herself as if she had been justwaked out of her sleep she had not however any mannerof inclination to sleep since they went from homeIf thou hadst been at the ball said one of her sistersthou wouldst not have been tired with it There camethither the finest princess the most beautiful ever wasseen with mortal eyes she showed us a thousand civilitiesand gave us oranges and citronsCinderella seemed very indifferent in the matterindeed she asked them the name of that princess but theytold her they did not know it and that the Kings son wasvery uneasy on her account and would give all the worldto know who she was At this Cinderella smilingrepliedShe must then be very beautiful indeed how happyyou have been Could not I see her Ah dear MissCharlotte do lend me your yellow suit of clothes whichyou wear every dayAy to be sure cried Miss Charlotte lend myclothes to such a dirty Cinderwench as thou art Ishould be a foolCinderella indeed expected well such answer and wasvery glad of the refusal for she would have been sadlyput to it if her sister had lent her what she asked forjestinglyThe next day the two sisters were at the ball and so wasCinderella but dressed more magnificently than beforeThe Kings son was always by her and never ceased hiscompliments and kind speeches to her to whom all thiswas so far from being tiresome that she quite forgot whather godmother had recommended to her so that she atlast counted the clock striking twelve when she took itto be no more than eleven she then rose up and fled asnimble as a deer The Prince followed but could notovertake her She left behind one of her glass slipperswhich the Prince took up most carefully She got homebut quite out of breath and in her nasty old clotheshaving nothing left her of all her finery but one of thelittle slippers fellow to that she dropped The guards atthe palace gate were askedIf they had not seen a princess go outWho said They had seen nobody go out but a younggirl very meanly dressed and who had more the air of apoor country wench than a gentlewomanWhen the two sisters returned from the ball Cinderellaasked them If they had been well diverted and if thefine lady had been thereThey told her Yes but that she hurried awayimmediately when it struck twelve and with so much hastethat she dropped one of her little glass slippers theprettiest in the world which the Kings son had takenup that he had done nothing but look at her all the timeat the ball and that most certainly he was very much inlove with the beautiful person who owned the glassslipperWhat they said was very true for a few days after theKings son caused it to be proclaimed by sound of trumpetthat he would marry her whose foot the slipper wouldjust fit They whom he employed began to try it uponthe princesses then the duchesses and all the Court butin vain it was brought to the two sisters who did all theypossibly could to thrust their foot into the slipper butthey could not effect it Cinderella who saw all this andknew her slipper said to them laughingLet me see if it will not fit meHer sisters burst out a laughing and began to banterher The gentleman who was sent to try the slipper lookedearnestly at Cinderella and finding her very handsomesaidIt was but just that she should try and that he hadorders to let everyone make trialHe obliged Cinderella to sit down and putting theslipper to her foot he found it went on very easily andfitted her as if it had been made of wax The astonishmenther two sisters were in was excessively great butstill abundantly greater when Cinderella pulled out of herpocket the other slipper and put it on her foot Thereuponin came her godmother who having touched withher wand Cinderellas clothes made them richer andmore magnificent than any of those she had beforeAnd now her two sisters found her to be that finebeautiful lady whom they had seen at the ball Theythrew themselves at her feet to beg pardon for all theill treatment they had made her undergo Cinderella tookthem up and as she embraced them criedThat she forgave them with all her heart and desiredthem always to love herShe was conducted to the young prince dressed as shewas he thought her more charming than ever and a fewdays after married her Cinderella who was no less goodthan beautiful gave her two sisters lodgings in the palaceand that very same day matched them with two greatlords of the CourtIf you like this story please tell your friends\"\n",
    "word_dict = {}\n",
    "for c in set([c for c in text.lower().split(\" \")]):\n",
    "    word_dict[c] = len([w for w in text.lower().split(\" \") if w == c])\n",
    "    \n",
    "word_dict = sorted(word_dict.items(), key=operator.itemgetter(1), reverse=True)\n",
    "patterns = [pair for pair in word_dict if len(pair[0]) >= 4][:5]"
   ]
  },
  {
   "cell_type": "markdown",
   "metadata": {},
   "source": [
    "#### 1. KMP"
   ]
  },
  {
   "cell_type": "code",
   "execution_count": 9,
   "metadata": {},
   "outputs": [
    {
     "name": "stdout",
     "output_type": "stream",
     "text": [
      "47.9 ms ± 408 µs per loop (mean ± std. dev. of 7 runs, 10 loops each)\n"
     ]
    }
   ],
   "source": [
    "%%timeit\n",
    "for p in patterns:\n",
    "    kmp = pmat.KMP(p[0], text.lower())"
   ]
  },
  {
   "cell_type": "markdown",
   "metadata": {},
   "source": [
    "#### 2.Boyer Moore"
   ]
  },
  {
   "cell_type": "code",
   "execution_count": 10,
   "metadata": {},
   "outputs": [
    {
     "name": "stdout",
     "output_type": "stream",
     "text": [
      "47.6 ms ± 171 µs per loop (mean ± std. dev. of 7 runs, 10 loops each)\n"
     ]
    }
   ],
   "source": [
    "%%timeit\n",
    "for p in patterns:\n",
    "    bm = pmat.Boyer_Moore(p[0], text.lower())"
   ]
  },
  {
   "cell_type": "markdown",
   "metadata": {},
   "source": [
    "#### 3. Aho Corasick"
   ]
  },
  {
   "cell_type": "code",
   "execution_count": 11,
   "metadata": {},
   "outputs": [
    {
     "name": "stdout",
     "output_type": "stream",
     "text": [
      "32.6 ms ± 174 µs per loop (mean ± std. dev. of 7 runs, 10 loops each)\n"
     ]
    }
   ],
   "source": [
    "%%timeit\n",
    "aho = pmat.Aho_Corasick([p[0] for p in patterns], text.lower())"
   ]
  },
  {
   "cell_type": "markdown",
   "metadata": {},
   "source": [
    "#### 4. Wu Manber"
   ]
  },
  {
   "cell_type": "code",
   "execution_count": 12,
   "metadata": {},
   "outputs": [
    {
     "name": "stdout",
     "output_type": "stream",
     "text": [
      "10.5 ms ± 39.8 µs per loop (mean ± std. dev. of 7 runs, 100 loops each)\n"
     ]
    }
   ],
   "source": [
    "%%timeit\n",
    "wm = pmat.Wu_Manber([p[0] for p in patterns], text.lower())"
   ]
  },
  {
   "cell_type": "markdown",
   "metadata": {},
   "source": [
    "#### 5. Results"
   ]
  },
  {
   "cell_type": "code",
   "execution_count": 13,
   "metadata": {},
   "outputs": [
    {
     "name": "stdout",
     "output_type": "stream",
     "text": [
      "[1381, 1399, 1866, 2474, 2746, 2978, 3355, 3756, 3956, 4405, 4706, 4840, 5498, 7682, 8168, 8647, 8890, 9188, 9413, 10355, 11219, 11441, 11580, 11809, 11948, 12230, 12485]\n",
      "[1381, 1399, 1866, 2474, 2746, 2978, 3355, 3756, 3956, 4405, 4706, 4840, 5498, 7682, 8168, 8647, 8890, 9188, 9413, 10355, 11219, 11441, 11580, 11809, 11948, 12230, 12485]\n",
      "[1381, 1399, 1866, 2474, 2746, 2978, 3355, 3756, 3956, 4405, 4706, 4840, 5498, 7682, 8168, 8647, 8890, 9188, 9413, 10355, 11219, 11441, 11580, 11809, 11948, 12230, 12485]\n",
      "[1382, 1400, 1867, 2475, 2747, 2979, 3356, 3757, 3957, 4406, 4707, 4841, 5499, 7683, 8169, 8648, 8891, 9189, 9414, 10356, 11220, 11442, 11581, 11810, 11949, 12231, 12486]\n"
     ]
    }
   ],
   "source": [
    "kmp = pmat.KMP(patterns[-1][0], text.lower())\n",
    "print(kmp.result())\n",
    "bm = pmat.Boyer_Moore(patterns[-1][0], text.lower())\n",
    "print(bm.result())\n",
    "aho = pmat.Aho_Corasick([p[0] for p in patterns], text.lower())\n",
    "print(aho.result(patterns[-1][0]))\n",
    "wm = pmat.Wu_Manber([p[0] for p in patterns], text.lower())\n",
    "print(wm.result(patterns[-1][0]))"
   ]
  },
  {
   "cell_type": "markdown",
   "metadata": {},
   "source": [
    "-------------"
   ]
  },
  {
   "cell_type": "markdown",
   "metadata": {},
   "source": [
    "# Compare Multi-Pattern Matching Algorithm\n",
    "## Aho-Corasick vs. Wu-Manber"
   ]
  },
  {
   "cell_type": "markdown",
   "metadata": {},
   "source": [
    "### Case 1\n",
    "* Text Length: 5665\n",
    "* Word Cound: 1152"
   ]
  },
  {
   "cell_type": "code",
   "execution_count": 14,
   "metadata": {},
   "outputs": [],
   "source": [
    "text = \"She saw a secret little clearing and a secret little hot made of rustic poles And she had never been here before She realized it was the quiet place where the growing pheasants were reared the keeper in his shirtsleeves was kneeling hammering The dog trotted forward with a short sharp bark and the keeper lifted his face suddenly and saw her He had a startled look in his eyes He straightened himself and saluted watching her in silence as she came forward with weakening limbs He resented the intrusion he cherished his solitude as his only and last freedom in life I wondered what the hammering was she said feeling weak and breathless and a little afraid of him as he looked so straight at her Ahm gettin th coops ready for th young bods he said in broad vernacular She did not know what to say and she felt weak I should like to sit down a bit she said Come and sit ere i th ut he said going in front of her to the hut pushing aside some timber and stuff and drawing out a rustic chair made of hazel sticks Am Ah t light yer a little fire he asked with the curious of the dialect Oh dont bother she replied But he looked at her hands they were rather blue So he quickly took some larch twigs to the little brick fire place in the corner and in a moment the yellow flame was running up the chimney He made a place by the brick hearth Sit ere then a bit and warm yer he said A wet brown dog came running and did not bark lifting a wet feather of a tail The man followed in a wet black oilskin jacket like a chauffeur and face flushed a little She felt him recoil in his quick walk when he saw her She stood up in the handbreadth of dryness under the rustic porch He saluted without speaking coming slowly near She began to withdraw Im just going she said Was yer waitin to get in he asked looking at the hut not at her No I only sat a few minutes in the shelter she said with quiet dignity He looked at her She looked cold Sir Clifford adnt got no other key then he asked No but it doesnt matter I can sit perfectly dry under this porch Good afternoon She hated the excess of vernacular in his speech He watched her closely as she was moving away Then he hitched up his jacket and put his hand in his breeches pocket taking out the key of the hut Appen yerd better ave this key an Ah min fend for t bods some other road She looked at him What do you mean she asked I mean as appen Ah can find anuther pleece asll du for rearin th pheasants If yer want ter be ere yoll non want me messin abaht a th time She looked at him getting his meaning through the fog of the dialect Why dont you speak ordinary English she said coldly Me Ah thowt it wor ordinary She was silent for a few moments in anger So if yer want t key yerd better tacit Or appen Ahd better gie t yer termorrer an clear all t stuff aht fust Would that du for yer She became more angry I didnt want your key she said I dont want you to clear anything out at all I dont in the least want to turn you out of your hut thank you I only wanted to be able to sit here sometimes like today But I can sit perfectly well under the porch so please say no more about it He looked at her again with his wicked blue eyes Why he began in the broad slow dialect Your Ladyships as welcome as Christmas ter th hut an th key an iverythink as is Ony this time O th year thers bods ter set an Ahve got ter be potterin abaht a good bit seein after em an a Winter time Ah ned ardly come nigh th pleece But what wi spring an Sir Clifford wantin ter start th pheasants  An your Ladyshipd non want me tinkerin around an about when she was ere all the time She listened with a dim kind of amazement Why should I mind your being here she asked He looked at her curiously Tnuisance on me he said briefly but significantly She flushed Very well she said finally I wont trouble you But I dont think I should have minded at all sitting and seeing you look after the birds I should have liked it But since you think it interferes with you I wont disturb you dont be afraid You are Sir Cliffords keeper not mine The phrase sounded queer she didnt know why But she let it pass Nay your Ladyship Its your Ladyships own ut Its as your Ladyship likes an pleases every time Yer can turn me off at a wiks notice It wor only   Only what she asked baffled He pushed back his hat in an odd comic way Ony as appen yod like the place ter yersen when yer did come an not me messin abaht But why she said angry Arent you a civilized human being Do you think I ought to be afraid of you Why should I take any notice of you and your being here or not Why is it important He looked at her all his face glimmering with wicked laughter Its not your Ladyship Not in the very least he said Well why then she asked Shall I get your Ladyship another key then No thank you I dont want it Ahll get it anyhow Wed best ave two keys ter th place And I consider you are insolent said Connie with her colour up panting a little Nay nay he said quickly Dunna yer say that Nay nay I niver meant nuthink Ah ony thought as if yo come ere Ah sd ave ter clear out an itd mean a lot of work settin up somewheres else But if your Ladyship isnt going ter take no notice O me then  its Sir Cliffords ut an everythink is as your Ladyship likes everythink is as your Ladyship likes an pleases barrin yer take no notice O me doin th bits of jobs as Ahve got ter do Connie went away completely bewildered She was not sure whether she had been insulted and mortally of fended or not Perhaps the man really only meant what he said that he thought she would expect him to keep away As if she would dream of it And as if he could possibly be so important he and his stupid presence\"\n",
    "patterns = [random.choice([t.lower() for t in text.split(\" \") if len(t) > 3]) for i in range(50)]"
   ]
  },
  {
   "cell_type": "markdown",
   "metadata": {},
   "source": [
    "#### 1. Aho-corasick"
   ]
  },
  {
   "cell_type": "code",
   "execution_count": 15,
   "metadata": {},
   "outputs": [
    {
     "name": "stdout",
     "output_type": "stream",
     "text": [
      "28.6 ms ± 193 µs per loop (mean ± std. dev. of 7 runs, 10 loops each)\n"
     ]
    }
   ],
   "source": [
    "%%timeit\n",
    "\n",
    "aho = pmat.Aho_Corasick(patterns, text.lower())"
   ]
  },
  {
   "cell_type": "markdown",
   "metadata": {},
   "source": [
    "#### 2. Wu-Manber"
   ]
  },
  {
   "cell_type": "code",
   "execution_count": 16,
   "metadata": {},
   "outputs": [
    {
     "name": "stdout",
     "output_type": "stream",
     "text": [
      "8.55 ms ± 24.4 µs per loop (mean ± std. dev. of 7 runs, 100 loops each)\n"
     ]
    }
   ],
   "source": [
    "%%timeit\n",
    "\n",
    "wm = pmat.Wu_Manber(patterns, text.lower())"
   ]
  },
  {
   "cell_type": "markdown",
   "metadata": {},
   "source": [
    "#### 3. Results"
   ]
  },
  {
   "cell_type": "code",
   "execution_count": 17,
   "metadata": {},
   "outputs": [
    {
     "name": "stdout",
     "output_type": "stream",
     "text": [
      "looked [677, 677, 1124, 1124, 1901, 1901, 1919, 1919, 2332, 2332, 2515, 2515, 3131, 3131, 3689, 3689, 4595, 4595]\n",
      "should [824, 3646, 3840, 3912, 4513]\n",
      "angry [2848, 2848, 4427, 4427]\n",
      "hated [2063]\n",
      "your [2866, 2973, 3214, 3516, 3658, 4114, 4132, 4161, 4547, 4660, 4740, 5122, 5218, 5255]\n"
     ]
    }
   ],
   "source": [
    "aho = pmat.Aho_Corasick(patterns, text.lower())\n",
    "for p in patterns[:5]:\n",
    "    print(p, aho.result(p))"
   ]
  },
  {
   "cell_type": "code",
   "execution_count": 18,
   "metadata": {},
   "outputs": [
    {
     "name": "stdout",
     "output_type": "stream",
     "text": [
      "looked [678, 678, 1125, 1125, 1902, 1902, 1920, 1920, 2333, 2333, 2516, 2516, 3132, 3132, 3690, 3690, 4596, 4596]\n",
      "should [825, 3647, 3841, 3913, 4514]\n",
      "angry [2849, 2849, 4428, 4428]\n",
      "hated [2064]\n",
      "your [2867, 2974, 3215, 3517, 3659, 4115, 4133, 4162, 4548, 4661, 4741, 5123, 5219, 5256]\n"
     ]
    }
   ],
   "source": [
    "wm = pmat.Wu_Manber(patterns, text.lower())\n",
    "for p in patterns[:5]:\n",
    "    print(p, wm.result(p))"
   ]
  },
  {
   "cell_type": "markdown",
   "metadata": {},
   "source": [
    "### Case 2\n",
    "* Text Length: 12680\n",
    "* Word Cound: 2224"
   ]
  },
  {
   "cell_type": "code",
   "execution_count": 19,
   "metadata": {},
   "outputs": [],
   "source": [
    "text = \"Once there was a gentleman who married for hissecond wife the proudest and most haughty woman thatwas ever seen She had by a former husband twodaughters of her own humor who were indeed exactlylike her in all things He had likewise by another wifea young daughter but of unparalleled goodness andsweetness of temper which she took from her mother who wasthe best creature in the worldNo sooner were the ceremonies of the wedding over butthe mother in law began to show herself in her true colorsShe could not bear the good qualities of this pretty girland the less because they made her own daughters appearthe more odious She employed her in the meanestwork of the house she scoured the dishes tables etcand scrubbed madams chamber and those of misses herdaughters she lay up in a sorry garret upon a wretchedstraw bed while her sisters lay in fine rooms with floorsall inlaid upon beds of the very newest fashion andwhere they had looking glasses so large that they mightsee themselves at their full length from head to footThe poor girl bore all patiently and dared not tell herfather who would have rattled her off for his wifegoverned him entirely When she had done her work sheused to go into the chimney corner and sit down amongcinders and ashes which made her commonly be calledCinderwench but the youngest who was not so rude anduncivil as the eldest called her Cinderella HoweverCinderella notwithstanding her mean apparel was ahundred times handsomer than her sisters though theywere always dressed very richlyIt happened that the Kings son gave a ball and invitedall persons of fashion to it Our young misses were alsoinvited for they cut a very grand figure among the qualityThey were mightily delighted at this invitation andwonderfully busy in choosing out such gowns petticoatsand head clothes as might become them This was a newtrouble to Cinderella for it was she who ironed hersisters linen and plaited their ruffles they talked all daylong of nothing but how they should be dressedFor my part said the eldest I will wear my redvelvet suit with French trimmingAnd I said the youngest shall have my usualpetticoat but then to make amends for that I will put on mygold flowered manteau and my diamond stomacherwhich is far from being the most ordinary one in theworldThey sent for the best tire woman they could get tomake up their head dresses and adjust their double pinnersand they had their red brushes and patches fromMademoiselle de la PocheCinderella was likewise called up to them to beconsulted in all these matters for she had excellent notionsand advised them always for the best nay and offeredher services to dress their heads which they were verywilling she should do As she was doing this they said toherCinderella would you not be glad to go to the ballAlas said she you only jeer me it is not for suchas I am to go thitherThou art in the right of it replied they it wouldmake the people laugh to see a Cinderwench at a ballAnyone but Cinderella would have dressed their headsawry but she was very good and dressed them perfectlywell They were almost two days without eating somuch were they transported with joy They broke abovea dozen laces in trying to be laced up close that theymight have a fine slender shape and they were continuallyat their looking glass At last the happy day came theywent to Court and Cinderella followed them with hereyes as long as she could and when she had lost sight ofthem she fell a cryingHer godmother who saw her all in tears asked herwhat was the matterI wish I could  I wish I could   she was not ableto speak the rest being interrupted by her tears andsobbingThis godmother of hers who was a fairy said to herThou wishest thou couldst go to the ball is it not soY  es cried Cinderella with a great sighWell said her godmother be but a good girl andI will contrive that thou shalt go Then she took her intoher chamber and said to her Run into the garden andbring me a pumpkinCinderella went immediately to gather the finest shecould get and brought it to her godmother not being ableto imagine how this pumpkin could make her go to theball Her godmother scooped out all the inside of ithaving left nothing but the rind which done she struck itwith her wand and the pumpkin was instantly turnedinto a fine coach gilded all over with goldShe then went to look into her mouse trap where shefound six mice all alive and ordered Cinderella to liftup a little the trapdoor when giving each mouse as itwent out a little tap with her wand the mouse was thatmoment turned into a fine horse which altogether madea very fine set of six horses of a beautiful mouse coloreddapple gray Being at a loss for a coachmanI will go and see says Cinderella if there is nevera rat in the rat trap  we may make a coachman of himThou art in the right replied her godmother goand lookCinderella brought the trap to her and in it there werethree huge rats The fairy made choice of one of thethree which had the largest beard and having touchedhim with her wand he was turned into a fat jollycoachman who had the smartest whiskers eyes ever beheldAfter that she said to herGo again into the garden and you will find six lizardsbehind the watering pot bring them to meShe had no sooner done so but her godmother turnedthem into six footmen who skipped up immediately behindthe coach with their liveries all bedaubed with goldand silver and clung as close behind each other as if theyhad done nothing else their whole lives The Fairy thensaid to CinderellaWell you see here an equipage fit to go to the ballwith are you not pleased with itOh yes cried she but must I go thither as I amin these nasty ragsHer godmother only just touched her with her wandand at the same instant her clothes were turned intocloth of gold and silver all beset with jewels This doneshe gave her a pair of glass slippers the prettiest in thewhole world Being thus decked out she got up into hercoach but her godmother above all things commandedher not to stay till after midnight telling her at the sametime that if she stayed one moment longer the coachwould be a pumpkin again her horses mice her coachmana rat her footmen lizards and her clothes becomejust as they were beforeShe promised her godmother she would not fail ofleaving the ball before midnight and then away she drivesscarce able to contain herself for joy The Kings sonwho was told that a great princess whom nobody knewwas come ran out to receive her he gave her his hand asshe alighted out of the coach and led her into the ballamong all the company There was immediately a profoundsilence they left off dancing and the violins ceasedto play so attentive was everyone to contemplate thesingular beauties of the unknown new comer Nothingwas then heard but a confused noise ofHa how handsome she is Ha how handsome she isThe King himself old as he was could not help watchingher and telling the Queen softly that it was a longtime since he had seen so beautiful and lovely a creatureAll the ladies were busied in considering her clothes andheaddress that they might have some made next dayafter the same pattern provided they could meet withsuch fine material and as able hands to make themThe Kings son conducted her to the most honorableseat and afterward took her out to dance with him shedanced so very gracefully that they all more and moreadmired her A fine collation was served up whereof theyoung prince ate not a morsel so intently was he busiedin gazing on herShe went and sat down by her sisters showing them athousand civilities giving them part of the oranges andcitrons which the Prince had presented her with whichvery much surprised them for they did not know herWhile Cinderella was thus amusing her sisters she heardthe clock strike eleven and three quarters whereupon sheimmediately made a courtesy to the company and hastedaway as fast as she couldWhen she got home she ran to seek out her godmotherand after having thanked her she said she could not butheartily wish she might go next day to the ball becausethe Kings son had desired herAs she was eagerly telling her godmother whatever hadpassed at the ball her two sisters knocked at the doorwhich Cinderella ran and openedHow long you have stayed cried she gaping rubbingher eyes and stretching herself as if she had been justwaked out of her sleep she had not however any mannerof inclination to sleep since they went from homeIf thou hadst been at the ball said one of her sistersthou wouldst not have been tired with it There camethither the finest princess the most beautiful ever wasseen with mortal eyes she showed us a thousand civilitiesand gave us oranges and citronsCinderella seemed very indifferent in the matterindeed she asked them the name of that princess but theytold her they did not know it and that the Kings son wasvery uneasy on her account and would give all the worldto know who she was At this Cinderella smilingrepliedShe must then be very beautiful indeed how happyyou have been Could not I see her Ah dear MissCharlotte do lend me your yellow suit of clothes whichyou wear every dayAy to be sure cried Miss Charlotte lend myclothes to such a dirty Cinderwench as thou art Ishould be a foolCinderella indeed expected well such answer and wasvery glad of the refusal for she would have been sadlyput to it if her sister had lent her what she asked forjestinglyThe next day the two sisters were at the ball and so wasCinderella but dressed more magnificently than beforeThe Kings son was always by her and never ceased hiscompliments and kind speeches to her to whom all thiswas so far from being tiresome that she quite forgot whather godmother had recommended to her so that she atlast counted the clock striking twelve when she took itto be no more than eleven she then rose up and fled asnimble as a deer The Prince followed but could notovertake her She left behind one of her glass slipperswhich the Prince took up most carefully She got homebut quite out of breath and in her nasty old clotheshaving nothing left her of all her finery but one of thelittle slippers fellow to that she dropped The guards atthe palace gate were askedIf they had not seen a princess go outWho said They had seen nobody go out but a younggirl very meanly dressed and who had more the air of apoor country wench than a gentlewomanWhen the two sisters returned from the ball Cinderellaasked them If they had been well diverted and if thefine lady had been thereThey told her Yes but that she hurried awayimmediately when it struck twelve and with so much hastethat she dropped one of her little glass slippers theprettiest in the world which the Kings son had takenup that he had done nothing but look at her all the timeat the ball and that most certainly he was very much inlove with the beautiful person who owned the glassslipperWhat they said was very true for a few days after theKings son caused it to be proclaimed by sound of trumpetthat he would marry her whose foot the slipper wouldjust fit They whom he employed began to try it uponthe princesses then the duchesses and all the Court butin vain it was brought to the two sisters who did all theypossibly could to thrust their foot into the slipper butthey could not effect it Cinderella who saw all this andknew her slipper said to them laughingLet me see if it will not fit meHer sisters burst out a laughing and began to banterher The gentleman who was sent to try the slipper lookedearnestly at Cinderella and finding her very handsomesaidIt was but just that she should try and that he hadorders to let everyone make trialHe obliged Cinderella to sit down and putting theslipper to her foot he found it went on very easily andfitted her as if it had been made of wax The astonishmenther two sisters were in was excessively great butstill abundantly greater when Cinderella pulled out of herpocket the other slipper and put it on her foot Thereuponin came her godmother who having touched withher wand Cinderellas clothes made them richer andmore magnificent than any of those she had beforeAnd now her two sisters found her to be that finebeautiful lady whom they had seen at the ball Theythrew themselves at her feet to beg pardon for all theill treatment they had made her undergo Cinderella tookthem up and as she embraced them criedThat she forgave them with all her heart and desiredthem always to love herShe was conducted to the young prince dressed as shewas he thought her more charming than ever and a fewdays after married her Cinderella who was no less goodthan beautiful gave her two sisters lodgings in the palaceand that very same day matched them with two greatlords of the CourtIf you like this story please tell your friends\"\n",
    "patterns = [random.choice([t.lower() for t in text.split(\" \") if len(t) > 3]) for i in range(50)]"
   ]
  },
  {
   "cell_type": "markdown",
   "metadata": {},
   "source": [
    "#### 1. Aho-corasick"
   ]
  },
  {
   "cell_type": "code",
   "execution_count": 20,
   "metadata": {},
   "outputs": [
    {
     "name": "stdout",
     "output_type": "stream",
     "text": [
      "49.1 ms ± 261 µs per loop (mean ± std. dev. of 7 runs, 10 loops each)\n"
     ]
    }
   ],
   "source": [
    "%%timeit\n",
    "\n",
    "aho = pmat.Aho_Corasick(patterns, text.lower())"
   ]
  },
  {
   "cell_type": "markdown",
   "metadata": {},
   "source": [
    "#### 2. Wu-Manber"
   ]
  },
  {
   "cell_type": "code",
   "execution_count": 21,
   "metadata": {},
   "outputs": [
    {
     "name": "stdout",
     "output_type": "stream",
     "text": [
      "25.9 ms ± 100 µs per loop (mean ± std. dev. of 7 runs, 10 loops each)\n"
     ]
    }
   ],
   "source": [
    "%%timeit\n",
    "\n",
    "wm = pmat.Wu_Manber(patterns, text.lower())"
   ]
  },
  {
   "cell_type": "markdown",
   "metadata": {},
   "source": [
    "#### 3. Results"
   ]
  },
  {
   "cell_type": "code",
   "execution_count": 22,
   "metadata": {},
   "outputs": [
    {
     "name": "stdout",
     "output_type": "stream",
     "text": [
      "eldest [1359, 2028]\n",
      "them [980, 1830, 2505, 2587, 3052, 3369, 3438, 5205, 5265, 7177, 7506, 7539, 7640, 8706, 10365, 11269, 11967, 12136, 12239, 12267, 12294, 12329, 12599]\n",
      "wifea [247]\n",
      "interrupted [3607]\n",
      "meher [11313]\n"
     ]
    }
   ],
   "source": [
    "aho = pmat.Aho_Corasick(patterns, text.lower())\n",
    "for p in patterns[:5]:\n",
    "    print(p, aho.result(p))"
   ]
  },
  {
   "cell_type": "code",
   "execution_count": 23,
   "metadata": {},
   "outputs": [
    {
     "name": "stdout",
     "output_type": "stream",
     "text": [
      "eldest [1360, 2029]\n",
      "them [981, 1831, 2506, 2588, 3053, 3370, 3439, 5206, 5266, 7178, 7507, 7540, 7641, 8707, 10366, 11270, 11968, 12137, 12240, 12268, 12295, 12330, 12600]\n",
      "wifea [248]\n",
      "interrupted [3608]\n",
      "meher [11314]\n"
     ]
    }
   ],
   "source": [
    "wm = pmat.Wu_Manber(patterns, text.lower())\n",
    "for p in patterns[:5]:\n",
    "    print(p, wm.result(p))"
   ]
  },
  {
   "cell_type": "markdown",
   "metadata": {},
   "source": [
    "-----------------------------"
   ]
  },
  {
   "cell_type": "markdown",
   "metadata": {},
   "source": [
    "* http://genkienglish.net/cinderella.htm"
   ]
  },
  {
   "cell_type": "code",
   "execution_count": null,
   "metadata": {},
   "outputs": [],
   "source": []
  }
 ],
 "metadata": {
  "kernelspec": {
   "display_name": "Python 3",
   "language": "python",
   "name": "python3"
  },
  "language_info": {
   "codemirror_mode": {
    "name": "ipython",
    "version": 3
   },
   "file_extension": ".py",
   "mimetype": "text/x-python",
   "name": "python",
   "nbconvert_exporter": "python",
   "pygments_lexer": "ipython3",
   "version": "3.5.4"
  }
 },
 "nbformat": 4,
 "nbformat_minor": 2
}
