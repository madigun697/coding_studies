{
 "cells": [
  {
   "cell_type": "code",
   "execution_count": 56,
   "metadata": {},
   "outputs": [],
   "source": [
    "import sys\n",
    "\n",
    "def ukkonen(a, b, threshold = sys.maxsize):\n",
    "    if a == b:\n",
    "        return 0\n",
    "    \n",
    "    if len(a) > len(b):\n",
    "        temp = a\n",
    "        a = b\n",
    "        b = temp\n",
    "    \n",
    "    aLen = len(a)\n",
    "    bLen = len(b)\n",
    "\n",
    "    while aLen > 0 and ord(a[aLen - 1]) == ord(b[bLen -1]):\n",
    "        aLen -= 1\n",
    "        bLen -= 1\n",
    "\n",
    "    if aLen == 0:\n",
    "        return bLen if bLen < threshold else threshold\n",
    "\n",
    "    tStart = 0\n",
    "    while tStart < aLen and ord(a[tStart]) == ord(b[tStart]):\n",
    "        tStart += 1\n",
    "\n",
    "    aLen -= tStart\n",
    "    bLen -= tStart\n",
    "\n",
    "    if aLen == 0:\n",
    "        return bLen if bLen < threshold else threshold\n",
    "\n",
    "    threshold = bLen if bLen < threshold else threshold\n",
    "\n",
    "    dLen = bLen - aLen\n",
    "\n",
    "    if threshold < dLen:\n",
    "        return threshold\n",
    "\n",
    "    ZERO_K = ((aLen if aLen < threshold else threshold) >> 1) + 2\n",
    "\n",
    "    arrayLength = dLen + ZERO_K * 2 + 2\n",
    "    currentRow = [-1] * arrayLength\n",
    "    nextRow = [-1] * arrayLength\n",
    "\n",
    "    aCharCode = []\n",
    "    bCharCode = []\n",
    "\n",
    "    for i in range(aLen):\n",
    "        t = tStart + i\n",
    "        aCharCode.append(ord(a[t]))\n",
    "        bCharCode.append(ord(b[t]))\n",
    "\n",
    "    while i < bLen:\n",
    "        bCharCode.append(ord(b[t]))\n",
    "        i += 1\n",
    "        t += 1\n",
    "\n",
    "\n",
    "    i = 0\n",
    "    conditionRow = dLen + ZERO_K\n",
    "    endMax = conditionRow << 1\n",
    "\n",
    "    while True:\n",
    "        i += 1\n",
    "        tmp = currentRow\n",
    "        currentRow = nextRow\n",
    "        nextRow = tmp\n",
    "\n",
    "        start = 0\n",
    "        previousCell = 0\n",
    "        currentCell = -1\n",
    "        nextCell = 0\n",
    "\n",
    "        if i <= ZERO_K:\n",
    "            start = -i + 1\n",
    "            nextCell = i - 2\n",
    "        else:\n",
    "            start = i - (ZERO_K << 1) + 1\n",
    "            nextCell = currentRow[ZERO_K + start]\n",
    "\n",
    "        end = 0\n",
    "\n",
    "        if i <= conditionRow:\n",
    "            end = i\n",
    "            nextRow[ZERO_K + i] = -1\n",
    "        else:\n",
    "            end = endMax - i\n",
    "\n",
    "        rowIndex = start + ZERO_K\n",
    "        for k in range(start, end):\n",
    "            previousCell = currentCell\n",
    "            currentCell = nextCell\n",
    "            nextCell = currentRow[rowIndex + 1]\n",
    "\n",
    "            t = currentCell + 1\n",
    "            t = previousCell if t < previousCell else t\n",
    "            t = nextCell + 1 if t < nextCell + 1 else t\n",
    "\n",
    "            while t < aLen and t + k < bLen and aCharCode[t] == bCharCode[t + k]:\n",
    "                t += 1\n",
    "\n",
    "            nextRow[rowIndex] = t\n",
    "            rowIndex += 1\n",
    "        \n",
    "        if not (nextRow[conditionRow] < aLen and i <= threshold):\n",
    "            break\n",
    "\n",
    "    return i - 1"
   ]
  },
  {
   "cell_type": "code",
   "execution_count": 57,
   "metadata": {},
   "outputs": [
    {
     "data": {
      "text/plain": [
       "8"
      ]
     },
     "execution_count": 57,
     "metadata": {},
     "output_type": "execute_result"
    }
   ],
   "source": [
    "ukkonen('Ukkonen', 'Levenshtein')"
   ]
  },
  {
   "cell_type": "code",
   "execution_count": 58,
   "metadata": {},
   "outputs": [
    {
     "data": {
      "text/plain": [
       "6"
      ]
     },
     "execution_count": 58,
     "metadata": {},
     "output_type": "execute_result"
    }
   ],
   "source": [
    "ukkonen('Ukkonen', 'Levenshtein', 6)"
   ]
  },
  {
   "cell_type": "code",
   "execution_count": 59,
   "metadata": {},
   "outputs": [
    {
     "data": {
      "text/plain": [
       "8"
      ]
     },
     "execution_count": 59,
     "metadata": {},
     "output_type": "execute_result"
    }
   ],
   "source": [
    "ukkonen('Ukkonen', 'Levenshtein', 10)"
   ]
  },
  {
   "cell_type": "code",
   "execution_count": 88,
   "metadata": {},
   "outputs": [
    {
     "data": {
      "text/html": [
       "<div>\n",
       "<style scoped>\n",
       "    .dataframe tbody tr th:only-of-type {\n",
       "        vertical-align: middle;\n",
       "    }\n",
       "\n",
       "    .dataframe tbody tr th {\n",
       "        vertical-align: top;\n",
       "    }\n",
       "\n",
       "    .dataframe thead th {\n",
       "        text-align: right;\n",
       "    }\n",
       "</style>\n",
       "<table border=\"1\" class=\"dataframe\">\n",
       "  <thead>\n",
       "    <tr style=\"text-align: right;\">\n",
       "      <th></th>\n",
       "    </tr>\n",
       "  </thead>\n",
       "  <tbody>\n",
       "  </tbody>\n",
       "</table>\n",
       "</div>"
      ],
      "text/plain": [
       "Empty DataFrame\n",
       "Columns: []\n",
       "Index: []"
      ]
     },
     "execution_count": 88,
     "metadata": {},
     "output_type": "execute_result"
    }
   ],
   "source": [
    "import pandas as pd\n",
    "\n",
    "k = 4\n",
    "cmat = []\n",
    "for _ in range(5):\n",
    "    cmat.append([None] * 9)\n",
    "\n",
    "# cdf = pd.DataFrame(cmat)        \n",
    "# cdf.index = [-1, 0, 1, 2, 3]\n",
    "# cdf.columns = range(-4, 5)\n",
    "cdf = pd.DataFrame()\n",
    "cdf"
   ]
  },
  {
   "cell_type": "code",
   "execution_count": 124,
   "metadata": {},
   "outputs": [],
   "source": [
    "def ukkonen(x, y):\n",
    "    for d in range(k+1):\n",
    "        print(d)\n",
    "        cdf.loc[d-1, d] = (d-1)\n",
    "        cdf.loc[d-2, d] = -999\n",
    "    \n",
    "    for d in range(-k,0):\n",
    "        print(d)\n",
    "        cdf.loc[abs(d)-1, d] = -1\n",
    "        cdf.loc[abs(d)-2, d] = -999\n",
    "        \n",
    "#     cdf = cdf.sort_index()[cdf.columns.sort_values()]\n",
    "       \n",
    "    for e in range(k):\n",
    "        for d in range(-e, e):\n",
    "            col = int(max(cdf.fillna(-999).loc[e-1, d-1]+1, \n",
    "                          cdf.fillna(-999).loc[e-1,d]+1, \n",
    "                          cdf.fillna(-999).loc[e-1,d+1]))\n",
    "            if col > -9:\n",
    "                while x[col+1-d] == y[col+1]:\n",
    "                    print(col)\n",
    "                    col += 1\n",
    "\n",
    "                cdf.loc[e,d] = col"
   ]
  },
  {
   "cell_type": "code",
   "execution_count": 125,
   "metadata": {},
   "outputs": [
    {
     "name": "stdout",
     "output_type": "stream",
     "text": [
      "0\n",
      "1\n",
      "2\n",
      "3\n",
      "4\n",
      "-4\n",
      "-3\n",
      "-2\n",
      "-1\n",
      "0\n",
      "2\n",
      "1\n",
      "2\n",
      "3\n",
      "4\n"
     ]
    },
    {
     "ename": "IndexError",
     "evalue": "string index out of range",
     "output_type": "error",
     "traceback": [
      "\u001b[0;31m---------------------------------------------------------------------------\u001b[0m",
      "\u001b[0;31mIndexError\u001b[0m                                Traceback (most recent call last)",
      "\u001b[0;32m<ipython-input-125-c4fa656e3b26>\u001b[0m in \u001b[0;36m<module>\u001b[0;34m\u001b[0m\n\u001b[0;32m----> 1\u001b[0;31m \u001b[0mukkonen\u001b[0m\u001b[0;34m(\u001b[0m\u001b[0;34m'microsoft'\u001b[0m\u001b[0;34m,\u001b[0m \u001b[0;34m'ncsoft'\u001b[0m\u001b[0;34m)\u001b[0m\u001b[0;34m\u001b[0m\u001b[0m\n\u001b[0m",
      "\u001b[0;32m<ipython-input-124-f050f4a9523e>\u001b[0m in \u001b[0;36mukkonen\u001b[0;34m(x, y)\u001b[0m\n\u001b[1;32m     18\u001b[0m                           cdf.fillna(-999).loc[e-1,d+1]))\n\u001b[1;32m     19\u001b[0m             \u001b[0;32mif\u001b[0m \u001b[0mcol\u001b[0m \u001b[0;34m>\u001b[0m \u001b[0;34m-\u001b[0m\u001b[0;36m9\u001b[0m\u001b[0;34m:\u001b[0m\u001b[0;34m\u001b[0m\u001b[0m\n\u001b[0;32m---> 20\u001b[0;31m                 \u001b[0;32mwhile\u001b[0m \u001b[0mx\u001b[0m\u001b[0;34m[\u001b[0m\u001b[0mcol\u001b[0m\u001b[0;34m+\u001b[0m\u001b[0;36m1\u001b[0m\u001b[0;34m-\u001b[0m\u001b[0md\u001b[0m\u001b[0;34m]\u001b[0m \u001b[0;34m==\u001b[0m \u001b[0my\u001b[0m\u001b[0;34m[\u001b[0m\u001b[0mcol\u001b[0m\u001b[0;34m+\u001b[0m\u001b[0;36m1\u001b[0m\u001b[0;34m]\u001b[0m\u001b[0;34m:\u001b[0m\u001b[0;34m\u001b[0m\u001b[0m\n\u001b[0m\u001b[1;32m     21\u001b[0m                     \u001b[0mprint\u001b[0m\u001b[0;34m(\u001b[0m\u001b[0mcol\u001b[0m\u001b[0;34m)\u001b[0m\u001b[0;34m\u001b[0m\u001b[0m\n\u001b[1;32m     22\u001b[0m                     \u001b[0mcol\u001b[0m \u001b[0;34m+=\u001b[0m \u001b[0;36m1\u001b[0m\u001b[0;34m\u001b[0m\u001b[0m\n",
      "\u001b[0;31mIndexError\u001b[0m: string index out of range"
     ]
    }
   ],
   "source": [
    "ukkonen('microsoft', 'ncsoft')"
   ]
  },
  {
   "cell_type": "code",
   "execution_count": 98,
   "metadata": {},
   "outputs": [
    {
     "data": {
      "text/html": [
       "<div>\n",
       "<style scoped>\n",
       "    .dataframe tbody tr th:only-of-type {\n",
       "        vertical-align: middle;\n",
       "    }\n",
       "\n",
       "    .dataframe tbody tr th {\n",
       "        vertical-align: top;\n",
       "    }\n",
       "\n",
       "    .dataframe thead th {\n",
       "        text-align: right;\n",
       "    }\n",
       "</style>\n",
       "<table border=\"1\" class=\"dataframe\">\n",
       "  <thead>\n",
       "    <tr style=\"text-align: right;\">\n",
       "      <th></th>\n",
       "      <th>-4</th>\n",
       "      <th>-3</th>\n",
       "      <th>-2</th>\n",
       "      <th>-1</th>\n",
       "      <th>0</th>\n",
       "      <th>1</th>\n",
       "      <th>2</th>\n",
       "      <th>3</th>\n",
       "      <th>4</th>\n",
       "    </tr>\n",
       "  </thead>\n",
       "  <tbody>\n",
       "    <tr>\n",
       "      <th>-2</th>\n",
       "      <td>NaN</td>\n",
       "      <td>NaN</td>\n",
       "      <td>NaN</td>\n",
       "      <td>NaN</td>\n",
       "      <td>-999.0</td>\n",
       "      <td>NaN</td>\n",
       "      <td>NaN</td>\n",
       "      <td>NaN</td>\n",
       "      <td>NaN</td>\n",
       "    </tr>\n",
       "    <tr>\n",
       "      <th>-1</th>\n",
       "      <td>NaN</td>\n",
       "      <td>NaN</td>\n",
       "      <td>NaN</td>\n",
       "      <td>-999.0</td>\n",
       "      <td>-1.0</td>\n",
       "      <td>-999.0</td>\n",
       "      <td>NaN</td>\n",
       "      <td>NaN</td>\n",
       "      <td>NaN</td>\n",
       "    </tr>\n",
       "    <tr>\n",
       "      <th>0</th>\n",
       "      <td>NaN</td>\n",
       "      <td>NaN</td>\n",
       "      <td>-999.0</td>\n",
       "      <td>-1.0</td>\n",
       "      <td>NaN</td>\n",
       "      <td>0.0</td>\n",
       "      <td>-999.0</td>\n",
       "      <td>NaN</td>\n",
       "      <td>NaN</td>\n",
       "    </tr>\n",
       "    <tr>\n",
       "      <th>1</th>\n",
       "      <td>NaN</td>\n",
       "      <td>-999.0</td>\n",
       "      <td>-1.0</td>\n",
       "      <td>NaN</td>\n",
       "      <td>NaN</td>\n",
       "      <td>NaN</td>\n",
       "      <td>1.0</td>\n",
       "      <td>-999.0</td>\n",
       "      <td>NaN</td>\n",
       "    </tr>\n",
       "    <tr>\n",
       "      <th>2</th>\n",
       "      <td>-999.0</td>\n",
       "      <td>-1.0</td>\n",
       "      <td>NaN</td>\n",
       "      <td>NaN</td>\n",
       "      <td>NaN</td>\n",
       "      <td>NaN</td>\n",
       "      <td>NaN</td>\n",
       "      <td>2.0</td>\n",
       "      <td>-999.0</td>\n",
       "    </tr>\n",
       "    <tr>\n",
       "      <th>3</th>\n",
       "      <td>-1.0</td>\n",
       "      <td>NaN</td>\n",
       "      <td>NaN</td>\n",
       "      <td>NaN</td>\n",
       "      <td>NaN</td>\n",
       "      <td>NaN</td>\n",
       "      <td>NaN</td>\n",
       "      <td>NaN</td>\n",
       "      <td>3.0</td>\n",
       "    </tr>\n",
       "  </tbody>\n",
       "</table>\n",
       "</div>"
      ],
      "text/plain": [
       "       -4     -3     -2     -1      0      1      2      3      4\n",
       "-2    NaN    NaN    NaN    NaN -999.0    NaN    NaN    NaN    NaN\n",
       "-1    NaN    NaN    NaN -999.0   -1.0 -999.0    NaN    NaN    NaN\n",
       " 0    NaN    NaN -999.0   -1.0    NaN    0.0 -999.0    NaN    NaN\n",
       " 1    NaN -999.0   -1.0    NaN    NaN    NaN    1.0 -999.0    NaN\n",
       " 2 -999.0   -1.0    NaN    NaN    NaN    NaN    NaN    2.0 -999.0\n",
       " 3   -1.0    NaN    NaN    NaN    NaN    NaN    NaN    NaN    3.0"
      ]
     },
     "execution_count": 98,
     "metadata": {},
     "output_type": "execute_result"
    }
   ],
   "source": []
  },
  {
   "cell_type": "markdown",
   "metadata": {},
   "source": [
    "* http://ocw.snu.ac.kr/sites/default/files/NOTE/4048.pdf"
   ]
  },
  {
   "cell_type": "code",
   "execution_count": null,
   "metadata": {},
   "outputs": [],
   "source": []
  }
 ],
 "metadata": {
  "kernelspec": {
   "display_name": "Python 3",
   "language": "python",
   "name": "python3"
  },
  "language_info": {
   "codemirror_mode": {
    "name": "ipython",
    "version": 3
   },
   "file_extension": ".py",
   "mimetype": "text/x-python",
   "name": "python",
   "nbconvert_exporter": "python",
   "pygments_lexer": "ipython3",
   "version": "3.5.4"
  }
 },
 "nbformat": 4,
 "nbformat_minor": 2
}
