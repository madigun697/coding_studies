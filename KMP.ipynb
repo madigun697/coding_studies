{
 "cells": [
  {
   "cell_type": "code",
   "execution_count": 192,
   "metadata": {},
   "outputs": [],
   "source": [
    "def getPi(pattern):\n",
    "    pi = [0]\n",
    "    for i in range(int(len(pattern)) - 1):\n",
    "        subp = pattern[:i+2]\n",
    "        l = round(len(subp)/2-0.499)\n",
    "        while subp[:l] != subp[(l*-1):] or l == 0:\n",
    "            l -= 1\n",
    "        pi.append(l if l >= 0 else 0)\n",
    "    \n",
    "    return pi\n",
    "\n",
    "def kmp(text, pattern):\n",
    "    pi = getPi(pattern)\n",
    "    n = len(text)\n",
    "    m = len(pattern)\n",
    "    \n",
    "    result = []\n",
    "    j = 0\n",
    "    for i in range(n):\n",
    "        while j > 0 and text[i] != pattern[j]:\n",
    "            j = pi[j-1]\n",
    "\n",
    "        if text[i] == pattern[j]:\n",
    "            if j == m-1:\n",
    "                result.append(i - m + 1)\n",
    "                j = pi[j]\n",
    "            else:\n",
    "                j += 1\n",
    "\n",
    "    return result"
   ]
  },
  {
   "cell_type": "code",
   "execution_count": 194,
   "metadata": {},
   "outputs": [
    {
     "data": {
      "text/plain": [
       "[4]"
      ]
     },
     "execution_count": 194,
     "metadata": {},
     "output_type": "execute_result"
    }
   ],
   "source": [
    "text = 'ABCDABCDABEE'\n",
    "pattern = 'ABCDABE'\n",
    "kmp(text, pattern)"
   ]
  },
  {
   "cell_type": "code",
   "execution_count": 195,
   "metadata": {},
   "outputs": [
    {
     "data": {
      "text/plain": [
       "[9]"
      ]
     },
     "execution_count": 195,
     "metadata": {},
     "output_type": "execute_result"
    }
   ],
   "source": [
    "text = 'ABABABABBABABABABC'\n",
    "pattern = 'ABABABABC'\n",
    "kmp(text, pattern)"
   ]
  },
  {
   "cell_type": "code",
   "execution_count": 196,
   "metadata": {},
   "outputs": [
    {
     "data": {
      "text/plain": [
       "[0, 2, 4, 6, 9, 11, 13, 15]"
      ]
     },
     "execution_count": 196,
     "metadata": {},
     "output_type": "execute_result"
    }
   ],
   "source": [
    "text = 'ABABABABBABABABABC'\n",
    "pattern = 'AB'\n",
    "kmp(text, pattern)"
   ]
  },
  {
   "cell_type": "code",
   "execution_count": null,
   "metadata": {},
   "outputs": [],
   "source": []
  }
 ],
 "metadata": {
  "kernelspec": {
   "display_name": "Python 3",
   "language": "python",
   "name": "python3"
  },
  "language_info": {
   "codemirror_mode": {
    "name": "ipython",
    "version": 3
   },
   "file_extension": ".py",
   "mimetype": "text/x-python",
   "name": "python",
   "nbconvert_exporter": "python",
   "pygments_lexer": "ipython3",
   "version": "3.5.4"
  }
 },
 "nbformat": 4,
 "nbformat_minor": 2
}
